{
 "cells": [
  {
   "cell_type": "code",
   "execution_count": 27,
   "id": "61ca6aed",
   "metadata": {},
   "outputs": [
    {
     "name": "stdout",
     "output_type": "stream",
     "text": [
      "The autoreload extension is already loaded. To reload it, use:\n",
      "  %reload_ext autoreload\n"
     ]
    }
   ],
   "source": [
    "%load_ext autoreload\n",
    "%autoreload 2"
   ]
  },
  {
   "cell_type": "code",
   "execution_count": 28,
   "id": "20b1cd49",
   "metadata": {},
   "outputs": [],
   "source": [
    "from package.databases.initialize import initialize_memories\n",
    "initialize_memories()"
   ]
  },
  {
   "cell_type": "code",
   "execution_count": 29,
   "id": "9280462e",
   "metadata": {},
   "outputs": [
    {
     "name": "stdout",
     "output_type": "stream",
     "text": [
      "🔍 Loading model from: BAAI/bge-m3\n"
     ]
    }
   ],
   "source": [
    "from package.utils.data_loder import PDFLoader\n",
    "from package.interface import SourceOptions\n",
    "from package.flows.offline import OfflineFlow\n",
    "from package.databases.management.longterm import LongTermManagement\n",
    "from package.databases.management.user import UserManagement\n",
    "from package.databases.management.document import DocumentManagement\n",
    "from package.databases.management.project import ProjectManagement\n",
    "# from package.databases.management.jargon import JargonManagement\n",
    "from package.databases.session import Session, get_session, Depends\n",
    "from package.databases.models.user import User\n",
    "from package.databases.models.document import Document\n",
    "from package.databases.models.project import Project\n",
    "# from package.databases.models.jargon import Jargon\n",
    "from package.databases.models.longterm import LongTerm\n",
    "from package.embedding.baai import BAAIEmbedding\n",
    "from package.databases.management.term import TermManagement\n",
    "\n",
    "embedder = BAAIEmbedding()\n",
    "ltm = LongTermManagement()\n",
    "dm = DocumentManagement()\n",
    "# jm = JargonManagement()\n",
    "um = UserManagement()\n",
    "pm = ProjectManagement()\n",
    "tm = TermManagement()"
   ]
  },
  {
   "cell_type": "code",
   "execution_count": 30,
   "id": "896fa865",
   "metadata": {},
   "outputs": [],
   "source": [
    "user = User(\n",
    "    username=\"bank\",\n",
    "    password=\"555\",\n",
    "    email=\"bank@bank.com\"\n",
    ")\n",
    "\n",
    "um = UserManagement()\n",
    "user = um.create_user(user, session=Depends(get_session))"
   ]
  },
  {
   "cell_type": "code",
   "execution_count": 31,
   "id": "deb4fb1b",
   "metadata": {},
   "outputs": [
    {
     "data": {
      "text/plain": [
       "'9f9d04af-4ff7-41b4-bd42-cf5aada7361e'"
      ]
     },
     "execution_count": 31,
     "metadata": {},
     "output_type": "execute_result"
    }
   ],
   "source": [
    "user.id"
   ]
  },
  {
   "cell_type": "code",
   "execution_count": 32,
   "id": "d193b91e",
   "metadata": {},
   "outputs": [],
   "source": [
    "# document1 = Document(source=\"./sources/storm.pdf\", type=\"pdf\")\n",
    "\n",
    "# dm = DocumentManagement()\n",
    "# document1 = dm.create_document(document1, session=Depends(get_session)) "
   ]
  },
  {
   "cell_type": "code",
   "execution_count": 33,
   "id": "3f7cfd91",
   "metadata": {},
   "outputs": [],
   "source": [
    "# document1.id"
   ]
  },
  {
   "cell_type": "code",
   "execution_count": 34,
   "id": "ec989c41",
   "metadata": {},
   "outputs": [],
   "source": [
    "# dm.read_document_longterms(document_id=document1.id, session=Depends(get_session))"
   ]
  },
  {
   "cell_type": "code",
   "execution_count": 35,
   "id": "d9d0ab56",
   "metadata": {},
   "outputs": [],
   "source": [
    "# from glob import glob\n",
    "# sources = glob(\"./sources/*\")\n",
    "# sources"
   ]
  },
  {
   "cell_type": "code",
   "execution_count": 36,
   "id": "4bb16dd8",
   "metadata": {},
   "outputs": [],
   "source": [
    "import boto3\n",
    "import json\n",
    "import uuid\n",
    "import os\n",
    "import time\n",
    "from dotenv import load_dotenv\n",
    "load_dotenv()\n",
    "STATE_MACHINE_ARN = os.getenv(\"STATE_MACHINE_ARN\")\n",
    "\n",
    "def run_stepfunctions(stateMachineArn, document_chunks):\n",
    "\n",
    "    # Replace this with your actual Step Function ARN\n",
    "\n",
    "    # Create a unique name for this execution\n",
    "    execution_name = f\"test-execution-{uuid.uuid4()}\"\n",
    "\n",
    "    # Input payload\n",
    "    input_payload = {\n",
    "        \"document_chunks\": document_chunks\n",
    "    }\n",
    "\n",
    "    # Create Step Functions client\n",
    "    sfn = boto3.client(\"stepfunctions\", region_name=\"ap-southeast-1\")\n",
    "\n",
    "    # Start execution\n",
    "    response = sfn.start_execution(\n",
    "        stateMachineArn=stateMachineArn,\n",
    "        name=execution_name,\n",
    "        input=json.dumps(input_payload)\n",
    "    )\n",
    "    return response\n",
    "\n",
    "def check_stepfunctions_job(executionArn):\n",
    "    sfn = boto3.client(\"stepfunctions\", region_name=\"ap-southeast-1\")\n",
    "    while True:\n",
    "        desc = sfn.describe_execution(executionArn=executionArn)\n",
    "        status = desc[\"status\"]\n",
    "        print(f\"Execution status: {status}\")\n",
    "        if status in (\"SUCCEEDED\", \"FAILED\", \"TIMED_OUT\", \"ABORTED\"):\n",
    "            break\n",
    "        time.sleep(2)\n",
    "\n",
    "    if status == \"SUCCEEDED\":\n",
    "        output = desc.get(\"output\")\n",
    "        print(\"Execution output:\", output)\n",
    "    else:\n",
    "        print(f\"Execution ended with status: {status}\")    "
   ]
  },
  {
   "cell_type": "code",
   "execution_count": 37,
   "id": "3b3dfa58",
   "metadata": {},
   "outputs": [],
   "source": [
    "from package.databases.utils import now_utc\n",
    "def embed(longterms, embedder, session: Session = Depends(get_session)):\n",
    "    updated_at = now_utc()\n",
    "    raws = [longterm.raw for longterm in longterms]\n",
    "    raw_vectors = embedder.run(sentences=raws)\n",
    "    enrichs = [longterm.enrich for longterm in longterms]\n",
    "    enrich_vectors = embedder.run(sentences=enrichs)\n",
    "    combos = [longterm.combo for longterm in longterms]\n",
    "    combo_vectors = embedder.run(sentences=combos)\n",
    "    for longterm, vector in zip(longterms, raw_vectors):\n",
    "        longterm.raw_embedding = vector\n",
    "    for longterm, vector in zip(longterms, enrich_vectors):\n",
    "        longterm.enrich_embedding = vector\n",
    "    for longterm, vector in zip(longterms, combo_vectors):\n",
    "        longterm.combo_embedding = vector\n",
    "        longterm.updated_at = updated_at\n",
    "    ltm.update_longterms(longterms=longterms, session=session)"
   ]
  },
  {
   "cell_type": "code",
   "execution_count": null,
   "id": "3e91cbe9",
   "metadata": {},
   "outputs": [
    {
     "name": "stderr",
     "output_type": "stream",
     "text": [
      "0it [00:00, ?it/s]"
     ]
    },
    {
     "name": "stdout",
     "output_type": "stream",
     "text": [
      "Assisting in Writing Wikipedia-like Articles From Scratch with Large Language Models.pdf\n"
     ]
    },
    {
     "name": "stderr",
     "output_type": "stream",
     "text": [
      "d:\\broai-arai\\backend\\package\\utils\\data_loder.py:22: UserWarning: [EXPERIMENT] You're using an experimental module, which is subject to change in future.: split_markdown\n",
      "  chunks = split_markdown(text)\n",
      "d:\\broai-arai\\backend\\package\\utils\\data_loder.py:23: UserWarning: [EXPERIMENT] You're using an experimental module, which is subject to change in future.: consolidate_markdown\n",
      "  consolidated_chunks = consolidate_markdown(chunks)\n",
      "d:\\broai-arai\\backend\\package\\utils\\data_loder.py:24: UserWarning: [EXPERIMENT] You're using an experimental module, which is subject to change in future.: get_markdown_sections\n",
      "  sections = get_markdown_sections(consolidated_chunks)\n",
      "d:\\broai-arai\\backend\\package\\utils\\data_loder.py:30: UserWarning: [EXPERIMENT] You're using an experimental module, which is subject to change in future.: split_overlap\n",
      "  new_contexts = split_overlap(contexts, max_tokens=max_tokens, overlap=overlap)\n"
     ]
    },
    {
     "name": "stdout",
     "output_type": "stream",
     "text": [
      "Markdown headings: max(2)\n",
      "Execution status: RUNNING\n",
      "Execution status: RUNNING\n",
      "Execution status: RUNNING\n",
      "Execution status: RUNNING\n",
      "Execution status: RUNNING\n",
      "Execution status: RUNNING\n",
      "Execution status: RUNNING\n",
      "Execution status: RUNNING\n",
      "Execution status: RUNNING\n",
      "Execution status: SUCCEEDED\n",
      "Execution output: {\"status\":\"success\",\"results\":[{\"Payload\":{\"processed\":\"dce6dadb-ee48-496d-9504-c650384088ad\",\"document_id\":\"a57cc0be-4da7-4d4f-ba98-5619fe05dd5c\"}},{\"Payload\":{\"processed\":\"1dd848ad-3e31-4a48-bbd9-bc180cd9e2b8\",\"document_id\":\"a57cc0be-4da7-4d4f-ba98-5619fe05dd5c\"}},{\"Payload\":{\"processed\":\"ae0ee5ef-b27d-4341-9aa4-b2a97e4e388f\",\"document_id\":\"a57cc0be-4da7-4d4f-ba98-5619fe05dd5c\"}},{\"Payload\":{\"processed\":\"ffa21f8a-4fa3-4893-a6d4-51a2a84fa638\",\"document_id\":\"a57cc0be-4da7-4d4f-ba98-5619fe05dd5c\"}},{\"Payload\":{\"processed\":\"d0b9d61c-64a0-494c-9df9-4137304d6738\",\"document_id\":\"a57cc0be-4da7-4d4f-ba98-5619fe05dd5c\"}},{\"Payload\":{\"processed\":\"58545a6e-e598-4450-b0aa-cfff6de6ec02\",\"document_id\":\"a57cc0be-4da7-4d4f-ba98-5619fe05dd5c\"}},{\"Payload\":{\"processed\":\"66880f64-cab1-4da1-ab30-33b3e69d715e\",\"document_id\":\"a57cc0be-4da7-4d4f-ba98-5619fe05dd5c\"}},{\"Payload\":{\"processed\":\"cf910aec-bac2-445b-ace8-e6378552d3f9\",\"document_id\":\"a57cc0be-4da7-4d4f-ba98-5619fe05dd5c\"}},{\"Payload\":{\"processed\":\"a31ba3e6-1fc6-4275-8a0b-f1ea4d1988bf\",\"document_id\":\"a57cc0be-4da7-4d4f-ba98-5619fe05dd5c\"}},{\"Payload\":{\"processed\":\"72d2248f-399a-4bdb-b165-f776e5a94012\",\"document_id\":\"a57cc0be-4da7-4d4f-ba98-5619fe05dd5c\"}},{\"Payload\":{\"processed\":\"154990ad-49cd-458c-9d18-c2f70ceac1e4\",\"document_id\":\"a57cc0be-4da7-4d4f-ba98-5619fe05dd5c\"}},{\"Payload\":{\"processed\":\"d28c2383-ffad-45c3-b235-fe78c4e40970\",\"document_id\":\"a57cc0be-4da7-4d4f-ba98-5619fe05dd5c\"}},{\"Payload\":{\"processed\":\"19446135-7397-45ed-9f6e-91435835831e\",\"document_id\":\"a57cc0be-4da7-4d4f-ba98-5619fe05dd5c\"}},{\"Payload\":{\"processed\":\"076e89c7-4d8c-40e9-a2c5-14b528a86d09\",\"document_id\":\"a57cc0be-4da7-4d4f-ba98-5619fe05dd5c\"}},{\"Payload\":{\"processed\":\"2f463df1-6d9f-486f-9409-93ec23a0ba1d\",\"document_id\":\"a57cc0be-4da7-4d4f-ba98-5619fe05dd5c\"}},{\"Payload\":{\"processed\":\"07ab9bb9-13d2-47c1-9b0e-8a977dfb326b\",\"document_id\":\"a57cc0be-4da7-4d4f-ba98-5619fe05dd5c\"}},{\"Payload\":{\"processed\":\"8ce56734-1c9a-4693-98d3-157e4b10b6f9\",\"document_id\":\"a57cc0be-4da7-4d4f-ba98-5619fe05dd5c\"}},{\"Payload\":{\"processed\":\"2a753c26-f46c-434e-a696-ef365873d2ab\",\"document_id\":\"a57cc0be-4da7-4d4f-ba98-5619fe05dd5c\"}},{\"Payload\":{\"processed\":\"bcc96cd8-22dc-45b3-bec1-2dd91bb44f69\",\"document_id\":\"a57cc0be-4da7-4d4f-ba98-5619fe05dd5c\"}},{\"Payload\":{\"processed\":\"d87fce64-c470-4b40-93f6-26f3ae0c135a\",\"document_id\":\"a57cc0be-4da7-4d4f-ba98-5619fe05dd5c\"}},{\"Payload\":{\"processed\":\"bb19e9ae-a47e-40f7-af46-04e977c651d5\",\"document_id\":\"a57cc0be-4da7-4d4f-ba98-5619fe05dd5c\"}},{\"Payload\":{\"processed\":\"f88f391c-768c-429c-881a-e666d8b97b27\",\"document_id\":\"a57cc0be-4da7-4d4f-ba98-5619fe05dd5c\"}},{\"Payload\":{\"processed\":\"15241615-cec9-488e-ae20-e0526ed71ffc\",\"document_id\":\"a57cc0be-4da7-4d4f-ba98-5619fe05dd5c\"}},{\"Payload\":{\"processed\":\"37364a80-519f-42be-a4b5-d328a47ec846\",\"document_id\":\"a57cc0be-4da7-4d4f-ba98-5619fe05dd5c\"}},{\"Payload\":{\"processed\":\"b8a190c1-8309-418b-836f-bb69bbb4af84\",\"document_id\":\"a57cc0be-4da7-4d4f-ba98-5619fe05dd5c\"}},{\"Payload\":{\"processed\":\"d8e1d17a-f0cb-400b-b825-2c4890662c5b\",\"document_id\":\"a57cc0be-4da7-4d4f-ba98-5619fe05dd5c\"}},{\"Payload\":{\"processed\":\"a046a268-fb96-40a9-88c8-ca4e9c30055a\",\"document_id\":\"a57cc0be-4da7-4d4f-ba98-5619fe05dd5c\"}},{\"Payload\":{\"processed\":\"9d358305-e8de-4e54-b731-67d37862a89d\",\"document_id\":\"a57cc0be-4da7-4d4f-ba98-5619fe05dd5c\"}},{\"Payload\":{\"processed\":\"41a6536c-aa01-4396-9f48-311d8a384d26\",\"document_id\":\"a57cc0be-4da7-4d4f-ba98-5619fe05dd5c\"}},{\"Payload\":{\"processed\":\"70471f44-6a4b-4156-ac57-6e6e2793a6ff\",\"document_id\":\"a57cc0be-4da7-4d4f-ba98-5619fe05dd5c\"}},{\"Payload\":{\"processed\":\"01bb8ae0-cac7-4a87-b76e-2274eab7a98d\",\"document_id\":\"a57cc0be-4da7-4d4f-ba98-5619fe05dd5c\"}},{\"Payload\":{\"processed\":\"57424d3a-e3f2-4ef9-be10-6805590d1ab2\",\"document_id\":\"a57cc0be-4da7-4d4f-ba98-5619fe05dd5c\"}},{\"Payload\":{\"processed\":\"7840d3b7-dddc-490a-8842-70e5e6a232e4\",\"document_id\":\"a57cc0be-4da7-4d4f-ba98-5619fe05dd5c\"}},{\"Payload\":{\"processed\":\"500de966-33b0-4487-a049-22fb2a5e5355\",\"document_id\":\"a57cc0be-4da7-4d4f-ba98-5619fe05dd5c\"}},{\"Payload\":{\"processed\":\"83e6a091-a6a2-4369-a469-c0c088251110\",\"document_id\":\"a57cc0be-4da7-4d4f-ba98-5619fe05dd5c\"}},{\"Payload\":{\"processed\":\"5ef1ffc0-825d-44fc-b5c8-69e871e5a5c1\",\"document_id\":\"a57cc0be-4da7-4d4f-ba98-5619fe05dd5c\"}},{\"Payload\":{\"processed\":\"d531c121-9dba-465c-8855-218f26d2630d\",\"document_id\":\"a57cc0be-4da7-4d4f-ba98-5619fe05dd5c\"}},{\"Payload\":{\"processed\":\"b44de3fa-6cee-4cae-8416-caf4af508644\",\"document_id\":\"a57cc0be-4da7-4d4f-ba98-5619fe05dd5c\"}},{\"Payload\":{\"processed\":\"48d7125a-6c39-45ac-b954-bc1cc6f59fa9\",\"document_id\":\"a57cc0be-4da7-4d4f-ba98-5619fe05dd5c\"}},{\"Payload\":{\"processed\":\"f538a592-fd91-4404-adbb-5671314e41b8\",\"document_id\":\"a57cc0be-4da7-4d4f-ba98-5619fe05dd5c\"}},{\"Payload\":{\"processed\":\"5724f371-67ef-4345-9816-f2c8c29d2b40\",\"document_id\":\"a57cc0be-4da7-4d4f-ba98-5619fe05dd5c\"}},{\"Payload\":{\"processed\":\"72080668-7939-4ec4-b3eb-dca863fea9b6\",\"document_id\":\"a57cc0be-4da7-4d4f-ba98-5619fe05dd5c\"}},{\"Payload\":{\"processed\":\"59457538-3c32-4072-a596-cbdd4ecfbc52\",\"document_id\":\"a57cc0be-4da7-4d4f-ba98-5619fe05dd5c\"}},{\"Payload\":{\"processed\":\"1dd7ae8c-608c-4fb7-b9b6-e23a0804f1cd\",\"document_id\":\"a57cc0be-4da7-4d4f-ba98-5619fe05dd5c\"}},{\"Payload\":{\"processed\":\"d188fe96-8e51-4036-b280-a255e068eb9b\",\"document_id\":\"a57cc0be-4da7-4d4f-ba98-5619fe05dd5c\"}},{\"Payload\":{\"processed\":\"c05a012e-6c43-4757-adc7-5968c7e714d5\",\"document_id\":\"a57cc0be-4da7-4d4f-ba98-5619fe05dd5c\"}},{\"Payload\":{\"processed\":\"af11f38a-77f4-40fc-8150-d0b321eaac18\",\"document_id\":\"a57cc0be-4da7-4d4f-ba98-5619fe05dd5c\"}},{\"Payload\":{\"processed\":\"6b7b4592-10f3-4c0e-9b09-a3ac5f1280ef\",\"document_id\":\"a57cc0be-4da7-4d4f-ba98-5619fe05dd5c\"}},{\"Payload\":{\"processed\":\"5f2733b3-b994-472d-ae69-ab4527bbc546\",\"document_id\":\"a57cc0be-4da7-4d4f-ba98-5619fe05dd5c\"}},{\"Payload\":{\"processed\":\"93959ee8-10aa-4981-90ac-acd24dcc8959\",\"document_id\":\"a57cc0be-4da7-4d4f-ba98-5619fe05dd5c\"}},{\"Payload\":{\"processed\":\"994d5b8d-4229-42f3-a330-60056b2e3e64\",\"document_id\":\"a57cc0be-4da7-4d4f-ba98-5619fe05dd5c\"}},{\"Payload\":{\"processed\":\"b6bb0806-91df-404e-93f0-b90688277ebb\",\"document_id\":\"a57cc0be-4da7-4d4f-ba98-5619fe05dd5c\"}},{\"Payload\":{\"processed\":\"5d300079-dcc8-414d-acb5-4291dc7e48cf\",\"document_id\":\"a57cc0be-4da7-4d4f-ba98-5619fe05dd5c\"}},{\"Payload\":{\"processed\":\"9f313320-4c87-4344-b8e9-e373bc952325\",\"document_id\":\"a57cc0be-4da7-4d4f-ba98-5619fe05dd5c\"}},{\"Payload\":{\"processed\":\"d4c7be20-0f41-4fbe-9974-11f4e6e1b3d8\",\"document_id\":\"a57cc0be-4da7-4d4f-ba98-5619fe05dd5c\"}},{\"Payload\":{\"processed\":\"fa56e6ca-0a64-4079-8584-89005a9e11ab\",\"document_id\":\"a57cc0be-4da7-4d4f-ba98-5619fe05dd5c\"}},{\"Payload\":{\"processed\":\"0dd8b481-ea82-4f86-a645-4abe21041009\",\"document_id\":\"a57cc0be-4da7-4d4f-ba98-5619fe05dd5c\"}},{\"Payload\":{\"processed\":\"b1ed9b27-fb64-44c0-99f2-12c696ead334\",\"document_id\":\"a57cc0be-4da7-4d4f-ba98-5619fe05dd5c\"}},{\"Payload\":{\"processed\":\"ac86b44e-7a2f-4ba0-9963-0d696aeefc54\",\"document_id\":\"a57cc0be-4da7-4d4f-ba98-5619fe05dd5c\"}},{\"Payload\":{\"processed\":\"7bbbfb20-c538-484e-9070-1e332dd0696f\",\"document_id\":\"a57cc0be-4da7-4d4f-ba98-5619fe05dd5c\"}},{\"Payload\":{\"processed\":\"0f7862c2-3dfb-4c69-8e42-6e36aba8129e\",\"document_id\":\"a57cc0be-4da7-4d4f-ba98-5619fe05dd5c\"}},{\"Payload\":{\"processed\":\"2d5337ea-a487-43c6-aa50-cdc0bc5af02c\",\"document_id\":\"a57cc0be-4da7-4d4f-ba98-5619fe05dd5c\"}},{\"Payload\":{\"processed\":\"6e8a11a7-2989-401b-bccb-ba6d1cbc8708\",\"document_id\":\"a57cc0be-4da7-4d4f-ba98-5619fe05dd5c\"}},{\"Payload\":{\"processed\":\"a17e70ca-90c6-4317-95b1-8a070e505df2\",\"document_id\":\"a57cc0be-4da7-4d4f-ba98-5619fe05dd5c\"}},{\"Payload\":{\"processed\":\"9dba8152-1723-4397-8317-6ae1653cda2e\",\"document_id\":\"a57cc0be-4da7-4d4f-ba98-5619fe05dd5c\"}},{\"Payload\":{\"processed\":\"49c47907-f42d-4d22-919a-d73dd0c4b49d\",\"document_id\":\"a57cc0be-4da7-4d4f-ba98-5619fe05dd5c\"}},{\"Payload\":{\"processed\":\"4b948a45-8ad9-425a-bc80-5097f7e1bff6\",\"document_id\":\"a57cc0be-4da7-4d4f-ba98-5619fe05dd5c\"}},{\"Payload\":{\"processed\":\"050f024f-643e-4926-8061-5b6150b38a2d\",\"document_id\":\"a57cc0be-4da7-4d4f-ba98-5619fe05dd5c\"}},{\"Payload\":{\"processed\":\"2dbc8077-570b-45c9-94a2-4e8cdee8c9bd\",\"document_id\":\"a57cc0be-4da7-4d4f-ba98-5619fe05dd5c\"}},{\"Payload\":{\"processed\":\"2c4d992e-9042-4804-a10e-457c49f1794c\",\"document_id\":\"a57cc0be-4da7-4d4f-ba98-5619fe05dd5c\"}},{\"Payload\":{\"processed\":\"228f859f-f52b-4964-9053-1958696c7c26\",\"document_id\":\"a57cc0be-4da7-4d4f-ba98-5619fe05dd5c\"}},{\"Payload\":{\"processed\":\"e9469cd9-91a5-40b8-b382-9f3364cf04a0\",\"document_id\":\"a57cc0be-4da7-4d4f-ba98-5619fe05dd5c\"}},{\"Payload\":{\"processed\":\"621399eb-ec53-4b8b-b628-9a25eca869b9\",\"document_id\":\"a57cc0be-4da7-4d4f-ba98-5619fe05dd5c\"}},{\"Payload\":{\"processed\":\"f79a7446-30a0-48d0-b8df-9aadeb9117db\",\"document_id\":\"a57cc0be-4da7-4d4f-ba98-5619fe05dd5c\"}},{\"Payload\":{\"processed\":\"362e42b0-142a-46f6-adb9-4ed1d78cca9a\",\"document_id\":\"a57cc0be-4da7-4d4f-ba98-5619fe05dd5c\"}},{\"Payload\":{\"processed\":\"9b277f1d-3ac7-458a-96ae-e3a349d014f2\",\"document_id\":\"a57cc0be-4da7-4d4f-ba98-5619fe05dd5c\"}},{\"Payload\":{\"processed\":\"01a92c04-89f0-4ab3-a79c-acf2fcef7c1a\",\"document_id\":\"a57cc0be-4da7-4d4f-ba98-5619fe05dd5c\"}},{\"Payload\":{\"processed\":\"546c753b-9fb6-4bcb-880a-905a859e0692\",\"document_id\":\"a57cc0be-4da7-4d4f-ba98-5619fe05dd5c\"}},{\"Payload\":{\"processed\":\"e3c7d353-3621-4fd6-ac99-a40353ffce5e\",\"document_id\":\"a57cc0be-4da7-4d4f-ba98-5619fe05dd5c\"}},{\"Payload\":{\"processed\":\"276bbdea-ef72-41e5-8ccb-19809543647d\",\"document_id\":\"a57cc0be-4da7-4d4f-ba98-5619fe05dd5c\"}},{\"Payload\":{\"processed\":\"a7ebd094-bea3-4081-8019-6a418461dcfd\",\"document_id\":\"a57cc0be-4da7-4d4f-ba98-5619fe05dd5c\"}},{\"Payload\":{\"processed\":\"f9e44652-3e3e-44c3-ae0b-cf7fb8c5e412\",\"document_id\":\"a57cc0be-4da7-4d4f-ba98-5619fe05dd5c\"}},{\"Payload\":{\"processed\":\"06260911-e030-4c0f-bd1e-e056a644d09d\",\"document_id\":\"a57cc0be-4da7-4d4f-ba98-5619fe05dd5c\"}},{\"Payload\":{\"processed\":\"8fae5ae5-e733-4a3e-8932-213b697b5f24\",\"document_id\":\"a57cc0be-4da7-4d4f-ba98-5619fe05dd5c\"}},{\"Payload\":{\"processed\":\"fa4bdf2f-51f9-4444-a130-06db3ef10c0e\",\"document_id\":\"a57cc0be-4da7-4d4f-ba98-5619fe05dd5c\"}},{\"Payload\":{\"processed\":\"2fb39241-5cea-41a4-b8d7-3a70fe557744\",\"document_id\":\"a57cc0be-4da7-4d4f-ba98-5619fe05dd5c\"}},{\"Payload\":{\"processed\":\"1ab8b5fd-e2ac-4681-b37e-9f30aac2d22a\",\"document_id\":\"a57cc0be-4da7-4d4f-ba98-5619fe05dd5c\"}}]}\n"
     ]
    },
    {
     "name": "stderr",
     "output_type": "stream",
     "text": [
      "2it [00:42, 21.34s/it]"
     ]
    },
    {
     "name": "stdout",
     "output_type": "stream",
     "text": [
      "ClueAnchor Clue-Anchored Knowledge Reasoning Exploration and Optimization for Retrieval-Augmented Generation.pdf\n"
     ]
    },
    {
     "name": "stderr",
     "output_type": "stream",
     "text": [
      "d:\\broai-arai\\backend\\package\\utils\\data_loder.py:22: UserWarning: [EXPERIMENT] You're using an experimental module, which is subject to change in future.: split_markdown\n",
      "  chunks = split_markdown(text)\n",
      "d:\\broai-arai\\backend\\package\\utils\\data_loder.py:23: UserWarning: [EXPERIMENT] You're using an experimental module, which is subject to change in future.: consolidate_markdown\n",
      "  consolidated_chunks = consolidate_markdown(chunks)\n",
      "d:\\broai-arai\\backend\\package\\utils\\data_loder.py:24: UserWarning: [EXPERIMENT] You're using an experimental module, which is subject to change in future.: get_markdown_sections\n",
      "  sections = get_markdown_sections(consolidated_chunks)\n",
      "d:\\broai-arai\\backend\\package\\utils\\data_loder.py:30: UserWarning: [EXPERIMENT] You're using an experimental module, which is subject to change in future.: split_overlap\n",
      "  new_contexts = split_overlap(contexts, max_tokens=max_tokens, overlap=overlap)\n"
     ]
    },
    {
     "name": "stdout",
     "output_type": "stream",
     "text": [
      "Markdown headings: max(2)\n",
      "Execution status: RUNNING\n",
      "Execution status: RUNNING\n",
      "Execution status: RUNNING\n",
      "Execution status: RUNNING\n",
      "Execution status: RUNNING\n",
      "Execution status: RUNNING\n",
      "Execution status: RUNNING\n",
      "Execution status: RUNNING\n",
      "Execution status: RUNNING\n",
      "Execution status: RUNNING\n",
      "Execution status: RUNNING\n",
      "Execution status: RUNNING\n",
      "Execution status: RUNNING\n",
      "Execution status: RUNNING\n",
      "Execution status: RUNNING\n",
      "Execution status: RUNNING\n",
      "Execution status: SUCCEEDED\n",
      "Execution output: {\"status\":\"success\",\"results\":[{\"Payload\":{\"processed\":\"8a9a5151-f615-4208-8d9e-f054d070499a\",\"document_id\":\"0ab7ef49-011d-4409-ac69-254d6b88eba1\"}},{\"Payload\":{\"processed\":\"eb99ff44-11fc-40e8-a350-2789e87d0702\",\"document_id\":\"0ab7ef49-011d-4409-ac69-254d6b88eba1\"}},{\"Payload\":{\"processed\":\"3fed9c8b-2d31-448a-baac-3b18078432f7\",\"document_id\":\"0ab7ef49-011d-4409-ac69-254d6b88eba1\"}},{\"Payload\":{\"processed\":\"dd15cac4-604e-47bc-ae55-1d468a4ea33c\",\"document_id\":\"0ab7ef49-011d-4409-ac69-254d6b88eba1\"}},{\"Payload\":{\"processed\":\"8eaa448c-10ca-4abd-9f69-809ce7884e65\",\"document_id\":\"0ab7ef49-011d-4409-ac69-254d6b88eba1\"}},{\"Payload\":{\"processed\":\"7cc45348-fb97-49f1-b242-1824ea99f344\",\"document_id\":\"0ab7ef49-011d-4409-ac69-254d6b88eba1\"}},{\"Payload\":{\"processed\":\"4c66cebb-5ac9-4c1f-a322-910935e963cc\",\"document_id\":\"0ab7ef49-011d-4409-ac69-254d6b88eba1\"}},{\"Payload\":{\"processed\":\"27a8d953-50d2-4533-be3e-07f6e80b98ef\",\"document_id\":\"0ab7ef49-011d-4409-ac69-254d6b88eba1\"}},{\"Payload\":{\"processed\":\"9817f95d-4ea7-458e-b441-de427df0f731\",\"document_id\":\"0ab7ef49-011d-4409-ac69-254d6b88eba1\"}},{\"Payload\":{\"processed\":\"083bf641-4e96-427f-8560-ea3d4f69b072\",\"document_id\":\"0ab7ef49-011d-4409-ac69-254d6b88eba1\"}},{\"Payload\":{\"processed\":\"2ccd38bf-bb38-45da-a5a0-7ee41cb6e3ee\",\"document_id\":\"0ab7ef49-011d-4409-ac69-254d6b88eba1\"}},{\"Payload\":{\"processed\":\"ed410d8e-d745-4a35-98ae-9f8b48e44d92\",\"document_id\":\"0ab7ef49-011d-4409-ac69-254d6b88eba1\"}},{\"Payload\":{\"processed\":\"ef65c29e-8063-45c1-9da8-87ad64f35398\",\"document_id\":\"0ab7ef49-011d-4409-ac69-254d6b88eba1\"}},{\"Payload\":{\"processed\":\"5e0af391-4b8e-4666-b8b0-f7a25a44b1dd\",\"document_id\":\"0ab7ef49-011d-4409-ac69-254d6b88eba1\"}},{\"Payload\":{\"processed\":\"707e53e4-36c3-432b-aab4-685e096a98be\",\"document_id\":\"0ab7ef49-011d-4409-ac69-254d6b88eba1\"}},{\"Payload\":{\"processed\":\"0333270e-c8c3-408a-9b07-77a547ac003f\",\"document_id\":\"0ab7ef49-011d-4409-ac69-254d6b88eba1\"}},{\"Payload\":{\"processed\":\"b85bb8ab-d0da-4c1f-ba64-b56416d75a33\",\"document_id\":\"0ab7ef49-011d-4409-ac69-254d6b88eba1\"}},{\"Payload\":{\"processed\":\"63095631-29d2-4355-86ae-5311d26d9e9a\",\"document_id\":\"0ab7ef49-011d-4409-ac69-254d6b88eba1\"}},{\"Payload\":{\"processed\":\"079c2231-596a-488f-ab4a-534978c17fec\",\"document_id\":\"0ab7ef49-011d-4409-ac69-254d6b88eba1\"}},{\"Payload\":{\"processed\":\"048d8d60-f5ae-499c-8eac-4024cf514d65\",\"document_id\":\"0ab7ef49-011d-4409-ac69-254d6b88eba1\"}},{\"Payload\":{\"processed\":\"f70293ef-1f5d-42be-9a3f-c396dc63f2c1\",\"document_id\":\"0ab7ef49-011d-4409-ac69-254d6b88eba1\"}},{\"Payload\":{\"processed\":\"0fe5c2fb-e2fa-4746-829a-94ad4da87cf4\",\"document_id\":\"0ab7ef49-011d-4409-ac69-254d6b88eba1\"}},{\"Payload\":{\"processed\":\"608673a5-f822-4d4c-8e7e-6b2068ac21e0\",\"document_id\":\"0ab7ef49-011d-4409-ac69-254d6b88eba1\"}},{\"Payload\":{\"processed\":\"63040d96-7375-4c6e-9094-606431942f18\",\"document_id\":\"0ab7ef49-011d-4409-ac69-254d6b88eba1\"}},{\"Payload\":{\"processed\":\"4f900131-0507-44ab-b5d0-c937773b0d00\",\"document_id\":\"0ab7ef49-011d-4409-ac69-254d6b88eba1\"}},{\"Payload\":{\"processed\":\"5537f549-f595-4146-b434-bf90bb79ed89\",\"document_id\":\"0ab7ef49-011d-4409-ac69-254d6b88eba1\"}},{\"Payload\":{\"processed\":\"78be6a71-df8a-4010-b37f-11e4f55138f0\",\"document_id\":\"0ab7ef49-011d-4409-ac69-254d6b88eba1\"}},{\"Payload\":{\"processed\":\"bc895348-2add-4e58-b34d-395aa171de13\",\"document_id\":\"0ab7ef49-011d-4409-ac69-254d6b88eba1\"}},{\"Payload\":{\"processed\":\"a6f272a1-7191-4b84-9c33-d4cbcb20cf06\",\"document_id\":\"0ab7ef49-011d-4409-ac69-254d6b88eba1\"}},{\"Payload\":{\"processed\":\"f68b005a-edcb-4622-8ba7-48702b02cde5\",\"document_id\":\"0ab7ef49-011d-4409-ac69-254d6b88eba1\"}},{\"Payload\":{\"processed\":\"64600c14-59d5-4875-8124-52ba6149d5f8\",\"document_id\":\"0ab7ef49-011d-4409-ac69-254d6b88eba1\"}},{\"Payload\":{\"processed\":\"cb5dfb1f-3ade-484a-95c7-095a3f6322c7\",\"document_id\":\"0ab7ef49-011d-4409-ac69-254d6b88eba1\"}},{\"Payload\":{\"processed\":\"0fabb1e7-045a-4586-9260-3454a972ee68\",\"document_id\":\"0ab7ef49-011d-4409-ac69-254d6b88eba1\"}},{\"Payload\":{\"processed\":\"633b9fdc-1ef8-49c1-865d-a69e6ce0d542\",\"document_id\":\"0ab7ef49-011d-4409-ac69-254d6b88eba1\"}},{\"Payload\":{\"processed\":\"d9de71ea-2115-42e8-a3cf-4897c07b61b7\",\"document_id\":\"0ab7ef49-011d-4409-ac69-254d6b88eba1\"}},{\"Payload\":{\"processed\":\"f4203cff-2c07-44e2-bef3-7f5540d08ce5\",\"document_id\":\"0ab7ef49-011d-4409-ac69-254d6b88eba1\"}},{\"Payload\":{\"processed\":\"5eb23d16-6ea2-48f9-a8e0-4c6ff5b17748\",\"document_id\":\"0ab7ef49-011d-4409-ac69-254d6b88eba1\"}},{\"Payload\":{\"processed\":\"2c1540e3-1e14-4d31-8af9-20f8a4b579ce\",\"document_id\":\"0ab7ef49-011d-4409-ac69-254d6b88eba1\"}},{\"Payload\":{\"processed\":\"86f6daae-3273-457c-81a1-18b9f45706c0\",\"document_id\":\"0ab7ef49-011d-4409-ac69-254d6b88eba1\"}},{\"Payload\":{\"processed\":\"1d62be0c-a9e1-4c59-91f1-6fd5df3a89bc\",\"document_id\":\"0ab7ef49-011d-4409-ac69-254d6b88eba1\"}},{\"Payload\":{\"processed\":\"4a819b92-5253-40ae-9389-f703057ac88d\",\"document_id\":\"0ab7ef49-011d-4409-ac69-254d6b88eba1\"}},{\"Payload\":{\"processed\":\"5765999b-8b40-47d4-afa5-d6e0fcdaa555\",\"document_id\":\"0ab7ef49-011d-4409-ac69-254d6b88eba1\"}},{\"Payload\":{\"processed\":\"ac28d08a-2678-4919-9301-857a4c6f72e6\",\"document_id\":\"0ab7ef49-011d-4409-ac69-254d6b88eba1\"}},{\"Payload\":{\"processed\":\"95ab041f-da6c-42e6-b6de-9302fc77befa\",\"document_id\":\"0ab7ef49-011d-4409-ac69-254d6b88eba1\"}},{\"Payload\":{\"processed\":\"084a9191-1c39-47d1-86b7-59c1cbcfcfab\",\"document_id\":\"0ab7ef49-011d-4409-ac69-254d6b88eba1\"}},{\"Payload\":{\"processed\":\"e82fa061-c0bf-4c2f-9cb6-21ffb6e9d6a5\",\"document_id\":\"0ab7ef49-011d-4409-ac69-254d6b88eba1\"}},{\"Payload\":{\"processed\":\"b81b971c-a071-4618-b3c5-d6f339d8f83b\",\"document_id\":\"0ab7ef49-011d-4409-ac69-254d6b88eba1\"}},{\"Payload\":{\"processed\":\"7c87a5f4-8467-401c-a3d9-4ebcb2ccff9a\",\"document_id\":\"0ab7ef49-011d-4409-ac69-254d6b88eba1\"}},{\"Payload\":{\"processed\":\"443b0f9d-658a-4223-94c3-72b7a208f7ef\",\"document_id\":\"0ab7ef49-011d-4409-ac69-254d6b88eba1\"}},{\"Payload\":{\"processed\":\"1495f272-0050-4412-94be-4819a2c43efc\",\"document_id\":\"0ab7ef49-011d-4409-ac69-254d6b88eba1\"}},{\"Payload\":{\"processed\":\"b5302650-5fb2-405a-b934-a99e6ab905d6\",\"document_id\":\"0ab7ef49-011d-4409-ac69-254d6b88eba1\"}},{\"Payload\":{\"processed\":\"a559e9de-0393-4de0-aca6-6e9c872afd9c\",\"document_id\":\"0ab7ef49-011d-4409-ac69-254d6b88eba1\"}},{\"Payload\":{\"processed\":\"ed2da699-035f-475e-afbc-c8cee9f0c2d9\",\"document_id\":\"0ab7ef49-011d-4409-ac69-254d6b88eba1\"}},{\"Payload\":{\"processed\":\"8f26934c-4a18-47b3-b330-909b1c831d82\",\"document_id\":\"0ab7ef49-011d-4409-ac69-254d6b88eba1\"}},{\"Payload\":{\"processed\":\"06ea314f-051d-4724-8ab0-a8dc3398921d\",\"document_id\":\"0ab7ef49-011d-4409-ac69-254d6b88eba1\"}},{\"Payload\":{\"processed\":\"13dffc57-f5ff-4fe8-abff-ebd70b9a0f9f\",\"document_id\":\"0ab7ef49-011d-4409-ac69-254d6b88eba1\"}},{\"Payload\":{\"processed\":\"5c73ef43-d0a7-4e5d-8f14-77ac9e4056a6\",\"document_id\":\"0ab7ef49-011d-4409-ac69-254d6b88eba1\"}},{\"Payload\":{\"processed\":\"64dae4a6-cec5-4a47-8298-c9f4bf7a8a3c\",\"document_id\":\"0ab7ef49-011d-4409-ac69-254d6b88eba1\"}},{\"Payload\":{\"processed\":\"cd26df3b-9f91-4efa-8768-cb970e488337\",\"document_id\":\"0ab7ef49-011d-4409-ac69-254d6b88eba1\"}},{\"Payload\":{\"processed\":\"7b266102-2f12-4623-9659-85a5f555e9c2\",\"document_id\":\"0ab7ef49-011d-4409-ac69-254d6b88eba1\"}},{\"Payload\":{\"processed\":\"89fe58f5-224e-4ec9-a49d-98138f80d97d\",\"document_id\":\"0ab7ef49-011d-4409-ac69-254d6b88eba1\"}},{\"Payload\":{\"processed\":\"2debc010-b81d-4565-9b34-77d3bfe0dde0\",\"document_id\":\"0ab7ef49-011d-4409-ac69-254d6b88eba1\"}},{\"Payload\":{\"processed\":\"58d664c6-e71f-4774-b6ef-9e6c42c6e4f0\",\"document_id\":\"0ab7ef49-011d-4409-ac69-254d6b88eba1\"}},{\"Payload\":{\"processed\":\"91996e02-5be1-4940-a3eb-af53fb751ea3\",\"document_id\":\"0ab7ef49-011d-4409-ac69-254d6b88eba1\"}},{\"Payload\":{\"processed\":\"5bf14f89-332c-48e8-883a-24944c0c0261\",\"document_id\":\"0ab7ef49-011d-4409-ac69-254d6b88eba1\"}},{\"Payload\":{\"processed\":\"48006494-1169-4260-a80f-e7cb7cc2d672\",\"document_id\":\"0ab7ef49-011d-4409-ac69-254d6b88eba1\"}},{\"Payload\":{\"processed\":\"63e9a04a-7762-4067-9f5b-f9510a1258a8\",\"document_id\":\"0ab7ef49-011d-4409-ac69-254d6b88eba1\"}},{\"Payload\":{\"processed\":\"21d3ffcb-9ce6-4398-85cc-0eb5eb872f6d\",\"document_id\":\"0ab7ef49-011d-4409-ac69-254d6b88eba1\"}},{\"Payload\":{\"processed\":\"8ec5cc5d-bf52-436f-b327-2cb2f6ee5a24\",\"document_id\":\"0ab7ef49-011d-4409-ac69-254d6b88eba1\"}},{\"Payload\":{\"processed\":\"55fa586c-7167-4c55-bfb4-9908ca569085\",\"document_id\":\"0ab7ef49-011d-4409-ac69-254d6b88eba1\"}},{\"Payload\":{\"processed\":\"3d310ae3-d5a1-453a-86a4-b377477fd9da\",\"document_id\":\"0ab7ef49-011d-4409-ac69-254d6b88eba1\"}},{\"Payload\":{\"processed\":\"45ba3ddf-d18d-48b7-8388-26e5825e49ee\",\"document_id\":\"0ab7ef49-011d-4409-ac69-254d6b88eba1\"}},{\"Payload\":{\"processed\":\"1df43676-f423-40fd-966b-dbe671e89fba\",\"document_id\":\"0ab7ef49-011d-4409-ac69-254d6b88eba1\"}},{\"Payload\":{\"processed\":\"fe6fc568-0ab1-47bc-85ef-f4478faa803c\",\"document_id\":\"0ab7ef49-011d-4409-ac69-254d6b88eba1\"}},{\"Payload\":{\"processed\":\"dfd25ed3-fea5-4dd1-beb8-5ef16edf38f8\",\"document_id\":\"0ab7ef49-011d-4409-ac69-254d6b88eba1\"}},{\"Payload\":{\"processed\":\"be51be50-3e1f-4d8c-a431-d50cc4db7a5b\",\"document_id\":\"0ab7ef49-011d-4409-ac69-254d6b88eba1\"}},{\"Payload\":{\"processed\":\"093adaa6-65cf-480b-9bd9-c26538446ff5\",\"document_id\":\"0ab7ef49-011d-4409-ac69-254d6b88eba1\"}},{\"Payload\":{\"processed\":\"cd18dc7a-aef3-4757-9ba1-1e807d4a5c86\",\"document_id\":\"0ab7ef49-011d-4409-ac69-254d6b88eba1\"}},{\"Payload\":{\"processed\":\"bbd4760b-3dd7-4f46-8adf-d02760a71175\",\"document_id\":\"0ab7ef49-011d-4409-ac69-254d6b88eba1\"}},{\"Payload\":{\"processed\":\"79ffbafa-6c81-4cc8-b005-0eaba886ace4\",\"document_id\":\"0ab7ef49-011d-4409-ac69-254d6b88eba1\"}},{\"Payload\":{\"processed\":\"28220af5-9c3c-4e12-a607-acca17579591\",\"document_id\":\"0ab7ef49-011d-4409-ac69-254d6b88eba1\"}},{\"Payload\":{\"processed\":\"2f8863e8-53b6-4cdf-8e66-13a5965e8e11\",\"document_id\":\"0ab7ef49-011d-4409-ac69-254d6b88eba1\"}},{\"Payload\":{\"processed\":\"9497962e-ff5d-4697-939d-17adf9aa2f4c\",\"document_id\":\"0ab7ef49-011d-4409-ac69-254d6b88eba1\"}},{\"Payload\":{\"processed\":\"be7a4f70-b5bf-4d43-a119-72cb303ccea6\",\"document_id\":\"0ab7ef49-011d-4409-ac69-254d6b88eba1\"}},{\"Payload\":{\"processed\":\"a1aab113-20d6-45e3-8aa9-d8970ecf2880\",\"document_id\":\"0ab7ef49-011d-4409-ac69-254d6b88eba1\"}},{\"Payload\":{\"processed\":\"fd74f38b-af11-4f7b-adc2-e413a67b025f\",\"document_id\":\"0ab7ef49-011d-4409-ac69-254d6b88eba1\"}},{\"Payload\":{\"processed\":\"94cf905b-5834-4673-a727-7325ca49cffc\",\"document_id\":\"0ab7ef49-011d-4409-ac69-254d6b88eba1\"}},{\"Payload\":{\"processed\":\"61eca6dd-f742-4fc3-9fb1-46abaed8ee99\",\"document_id\":\"0ab7ef49-011d-4409-ac69-254d6b88eba1\"}},{\"Payload\":{\"processed\":\"a97b1647-68bd-4343-9eea-8bebfc435e95\",\"document_id\":\"0ab7ef49-011d-4409-ac69-254d6b88eba1\"}},{\"Payload\":{\"processed\":\"116ff1b7-63e1-43c9-a089-84bdfc3ceacc\",\"document_id\":\"0ab7ef49-011d-4409-ac69-254d6b88eba1\"}},{\"Payload\":{\"processed\":\"257602ed-d3fd-425f-a8c2-66cddc8ec3c8\",\"document_id\":\"0ab7ef49-011d-4409-ac69-254d6b88eba1\"}},{\"Payload\":{\"processed\":\"4940e7b9-4da6-4e95-969c-27a167f6569e\",\"document_id\":\"0ab7ef49-011d-4409-ac69-254d6b88eba1\"}},{\"Payload\":{\"processed\":\"46b05a75-dccc-4997-8745-e73c0eb820a4\",\"document_id\":\"0ab7ef49-011d-4409-ac69-254d6b88eba1\"}},{\"Payload\":{\"processed\":\"b4a92148-9ca4-4fed-971f-6a81dbe7bb6b\",\"document_id\":\"0ab7ef49-011d-4409-ac69-254d6b88eba1\"}},{\"Payload\":{\"processed\":\"dcd13418-13e0-4396-8d6b-66dc76512e3b\",\"document_id\":\"0ab7ef49-011d-4409-ac69-254d6b88eba1\"}},{\"Payload\":{\"processed\":\"ed5f2b36-9577-41fd-bbc7-815b0d4841e3\",\"document_id\":\"0ab7ef49-011d-4409-ac69-254d6b88eba1\"}},{\"Payload\":{\"processed\":\"e3ef0bd9-afe6-4c01-bb72-799204009344\",\"document_id\":\"0ab7ef49-011d-4409-ac69-254d6b88eba1\"}},{\"Payload\":{\"processed\":\"e76d9ee0-5761-4804-80f2-258aa68a4287\",\"document_id\":\"0ab7ef49-011d-4409-ac69-254d6b88eba1\"}},{\"Payload\":{\"processed\":\"9edcfebb-af8b-4983-813e-e57fdcfbb7cf\",\"document_id\":\"0ab7ef49-011d-4409-ac69-254d6b88eba1\"}},{\"Payload\":{\"processed\":\"86e1234c-57cb-41be-9ea3-e76395688eb6\",\"document_id\":\"0ab7ef49-011d-4409-ac69-254d6b88eba1\"}},{\"Payload\":{\"processed\":\"57b6cf3b-e146-44b7-b95a-9bae9433846c\",\"document_id\":\"0ab7ef49-011d-4409-ac69-254d6b88eba1\"}},{\"Payload\":{\"processed\":\"8946be48-a68c-4d54-9384-eb13cd4d58a3\",\"document_id\":\"0ab7ef49-011d-4409-ac69-254d6b88eba1\"}},{\"Payload\":{\"processed\":\"dc509ba3-1ca0-415b-b5ec-e9735c81bbde\",\"document_id\":\"0ab7ef49-011d-4409-ac69-254d6b88eba1\"}},{\"Payload\":{\"processed\":\"7343af37-318e-4987-9778-0a5e2817837c\",\"document_id\":\"0ab7ef49-011d-4409-ac69-254d6b88eba1\"}},{\"Payload\":{\"processed\":\"b72b1f0c-f64a-45cb-8ba5-d34f6893a301\",\"document_id\":\"0ab7ef49-011d-4409-ac69-254d6b88eba1\"}},{\"Payload\":{\"processed\":\"83e509ec-6153-4dbe-bbd0-5151659e56f2\",\"document_id\":\"0ab7ef49-011d-4409-ac69-254d6b88eba1\"}},{\"Payload\":{\"processed\":\"84458562-e3e3-46f4-bed6-ce17e5e71c99\",\"document_id\":\"0ab7ef49-011d-4409-ac69-254d6b88eba1\"}},{\"Payload\":{\"processed\":\"243681bd-e776-4437-b151-3b9cdc65c9ef\",\"document_id\":\"0ab7ef49-011d-4409-ac69-254d6b88eba1\"}},{\"Payload\":{\"processed\":\"ef27f05d-b340-4453-902e-aec5d153fb38\",\"document_id\":\"0ab7ef49-011d-4409-ac69-254d6b88eba1\"}},{\"Payload\":{\"processed\":\"d32dc786-cf3a-4efc-a015-5a9430243eea\",\"document_id\":\"0ab7ef49-011d-4409-ac69-254d6b88eba1\"}},{\"Payload\":{\"processed\":\"c7060847-e86c-40cf-a6a4-23a4bd1803b6\",\"document_id\":\"0ab7ef49-011d-4409-ac69-254d6b88eba1\"}},{\"Payload\":{\"processed\":\"419b72ed-9060-4c47-94f5-d29adbbd9fe6\",\"document_id\":\"0ab7ef49-011d-4409-ac69-254d6b88eba1\"}},{\"Payload\":{\"processed\":\"c8314a3c-37c9-4282-a861-0356ea4279a1\",\"document_id\":\"0ab7ef49-011d-4409-ac69-254d6b88eba1\"}},{\"Payload\":{\"processed\":\"be779a5a-04d6-4c33-a366-4f21e944e4cd\",\"document_id\":\"0ab7ef49-011d-4409-ac69-254d6b88eba1\"}},{\"Payload\":{\"processed\":\"33c3c0c9-8987-45e3-abd2-a18d97e1cb6d\",\"document_id\":\"0ab7ef49-011d-4409-ac69-254d6b88eba1\"}},{\"Payload\":{\"processed\":\"97abd4cd-866b-414f-b33a-b384677e5419\",\"document_id\":\"0ab7ef49-011d-4409-ac69-254d6b88eba1\"}},{\"Payload\":{\"processed\":\"75492f7a-0df9-4c46-8964-53c6725cfda3\",\"document_id\":\"0ab7ef49-011d-4409-ac69-254d6b88eba1\"}},{\"Payload\":{\"processed\":\"ba2d0b05-b5d6-4067-891a-7762961aafc1\",\"document_id\":\"0ab7ef49-011d-4409-ac69-254d6b88eba1\"}},{\"Payload\":{\"processed\":\"e10747fc-7f44-44b6-9010-ad99ad8e0b27\",\"document_id\":\"0ab7ef49-011d-4409-ac69-254d6b88eba1\"}},{\"Payload\":{\"processed\":\"f6e00266-70ed-450e-aec0-848fe86c5e4a\",\"document_id\":\"0ab7ef49-011d-4409-ac69-254d6b88eba1\"}},{\"Payload\":{\"processed\":\"830f1a36-92bb-4921-b4da-71f1ce503efb\",\"document_id\":\"0ab7ef49-011d-4409-ac69-254d6b88eba1\"}},{\"Payload\":{\"processed\":\"07d63f13-a210-49b9-a651-7fc8014925f8\",\"document_id\":\"0ab7ef49-011d-4409-ac69-254d6b88eba1\"}},{\"Payload\":{\"processed\":\"da6d18b4-1544-484e-ac5b-d47b35aa9dcf\",\"document_id\":\"0ab7ef49-011d-4409-ac69-254d6b88eba1\"}},{\"Payload\":{\"processed\":\"8d66d905-8ee9-4f1f-9aa2-f163c072c1a4\",\"document_id\":\"0ab7ef49-011d-4409-ac69-254d6b88eba1\"}},{\"Payload\":{\"processed\":\"030b9a76-5369-4030-8133-275e195c2976\",\"document_id\":\"0ab7ef49-011d-4409-ac69-254d6b88eba1\"}},{\"Payload\":{\"processed\":\"49b1eaf4-f8e0-40fc-b14e-fe9320116007\",\"document_id\":\"0ab7ef49-011d-4409-ac69-254d6b88eba1\"}},{\"Payload\":{\"processed\":\"f33fbb34-8f5c-4e9a-889c-be8ef15eb165\",\"document_id\":\"0ab7ef49-011d-4409-ac69-254d6b88eba1\"}},{\"Payload\":{\"processed\":\"0d26020c-21cd-4020-a0e4-571a5af227dd\",\"document_id\":\"0ab7ef49-011d-4409-ac69-254d6b88eba1\"}},{\"Payload\":{\"processed\":\"0402f9db-75a2-46f3-a86a-9f7d94260049\",\"document_id\":\"0ab7ef49-011d-4409-ac69-254d6b88eba1\"}},{\"Payload\":{\"processed\":\"dd35e9de-5e0d-4732-b81d-5fc35e597069\",\"document_id\":\"0ab7ef49-011d-4409-ac69-254d6b88eba1\"}},{\"Payload\":{\"processed\":\"3d842aac-e240-447e-94d4-4058ed406189\",\"document_id\":\"0ab7ef49-011d-4409-ac69-254d6b88eba1\"}},{\"Payload\":{\"processed\":\"d2aac762-ce7e-4c75-b665-d2a45b1a39fa\",\"document_id\":\"0ab7ef49-011d-4409-ac69-254d6b88eba1\"}},{\"Payload\":{\"processed\":\"4a33aeec-3d0d-40dd-89c6-2fd317c5d792\",\"document_id\":\"0ab7ef49-011d-4409-ac69-254d6b88eba1\"}},{\"Payload\":{\"processed\":\"e158be31-fba3-469a-be49-43af88b8228e\",\"document_id\":\"0ab7ef49-011d-4409-ac69-254d6b88eba1\"}},{\"Payload\":{\"processed\":\"eb26f6f4-023e-4fba-8c02-aca75af8323b\",\"document_id\":\"0ab7ef49-011d-4409-ac69-254d6b88eba1\"}},{\"Payload\":{\"processed\":\"926f77e1-507a-4b8c-83ab-f609827cb3be\",\"document_id\":\"0ab7ef49-011d-4409-ac69-254d6b88eba1\"}},{\"Payload\":{\"processed\":\"29b63846-9c8e-4756-bdc2-239ae0a5250c\",\"document_id\":\"0ab7ef49-011d-4409-ac69-254d6b88eba1\"}},{\"Payload\":{\"processed\":\"fe9a5237-d1e6-4740-9a20-841cc0dc12fa\",\"document_id\":\"0ab7ef49-011d-4409-ac69-254d6b88eba1\"}},{\"Payload\":{\"processed\":\"001cbf80-e102-4906-8cf3-d3fb1fc36025\",\"document_id\":\"0ab7ef49-011d-4409-ac69-254d6b88eba1\"}},{\"Payload\":{\"processed\":\"86ab0c90-3634-466d-a4b7-7a3e916d0b94\",\"document_id\":\"0ab7ef49-011d-4409-ac69-254d6b88eba1\"}},{\"Payload\":{\"processed\":\"3ad48f31-15fd-4605-bc76-1b5dc594eb83\",\"document_id\":\"0ab7ef49-011d-4409-ac69-254d6b88eba1\"}},{\"Payload\":{\"processed\":\"05f10914-f9ce-4b6c-811d-2d7e62c2176e\",\"document_id\":\"0ab7ef49-011d-4409-ac69-254d6b88eba1\"}},{\"Payload\":{\"processed\":\"179aa05c-1828-4936-97a7-9ebb4bc0f717\",\"document_id\":\"0ab7ef49-011d-4409-ac69-254d6b88eba1\"}},{\"Payload\":{\"processed\":\"73f44040-9063-4b16-a730-1d418c61b021\",\"document_id\":\"0ab7ef49-011d-4409-ac69-254d6b88eba1\"}},{\"Payload\":{\"processed\":\"c58a3b64-98d4-42be-8b42-7b226ca7862f\",\"document_id\":\"0ab7ef49-011d-4409-ac69-254d6b88eba1\"}},{\"Payload\":{\"processed\":\"b6a03421-1b6a-46fd-9be1-fdf6ac28fa8a\",\"document_id\":\"0ab7ef49-011d-4409-ac69-254d6b88eba1\"}},{\"Payload\":{\"processed\":\"df1d96f5-2877-4773-9707-3d400e5d9d7c\",\"document_id\":\"0ab7ef49-011d-4409-ac69-254d6b88eba1\"}},{\"Payload\":{\"processed\":\"5be99ac8-8cc5-4468-a8ea-2a6b92148a01\",\"document_id\":\"0ab7ef49-011d-4409-ac69-254d6b88eba1\"}},{\"Payload\":{\"processed\":\"ee47b4a5-c15d-4c0f-bfb7-9c9913c02630\",\"document_id\":\"0ab7ef49-011d-4409-ac69-254d6b88eba1\"}},{\"Payload\":{\"processed\":\"d8f375ac-3e48-4d85-b661-e1dccfc5a61a\",\"document_id\":\"0ab7ef49-011d-4409-ac69-254d6b88eba1\"}},{\"Payload\":{\"processed\":\"142ba1ef-3fb4-45ca-9cce-5f485be71680\",\"document_id\":\"0ab7ef49-011d-4409-ac69-254d6b88eba1\"}},{\"Payload\":{\"processed\":\"ace1e699-8691-49fe-b47c-35e3cb567aa3\",\"document_id\":\"0ab7ef49-011d-4409-ac69-254d6b88eba1\"}},{\"Payload\":{\"processed\":\"8ebd3bb9-64e9-4fb8-9276-a651dd613dcf\",\"document_id\":\"0ab7ef49-011d-4409-ac69-254d6b88eba1\"}},{\"Payload\":{\"processed\":\"b2276638-ab97-4579-9fb3-e47b364970b1\",\"document_id\":\"0ab7ef49-011d-4409-ac69-254d6b88eba1\"}},{\"Payload\":{\"processed\":\"913eb12b-dcf4-4a67-8ec7-f0ac3a9bc19a\",\"document_id\":\"0ab7ef49-011d-4409-ac69-254d6b88eba1\"}},{\"Payload\":{\"processed\":\"c5aac9f4-15d1-490e-9ba4-7cabe465b6c4\",\"document_id\":\"0ab7ef49-011d-4409-ac69-254d6b88eba1\"}},{\"Payload\":{\"processed\":\"6536cdf2-c44d-470c-a31a-ff154e1befe1\",\"document_id\":\"0ab7ef49-011d-4409-ac69-254d6b88eba1\"}},{\"Payload\":{\"processed\":\"1ee8c6a0-469e-447f-b84b-181b92d4e637\",\"document_id\":\"0ab7ef49-011d-4409-ac69-254d6b88eba1\"}},{\"Payload\":{\"processed\":\"b8aa408e-b7cf-4474-b1d7-998e4a15748b\",\"document_id\":\"0ab7ef49-011d-4409-ac69-254d6b88eba1\"}},{\"Payload\":{\"processed\":\"55282e2c-06e8-44a5-84d2-adb92851461f\",\"document_id\":\"0ab7ef49-011d-4409-ac69-254d6b88eba1\"}},{\"Payload\":{\"processed\":\"6f2f0210-4a4b-4e50-a34f-daa9d70b2085\",\"document_id\":\"0ab7ef49-011d-4409-ac69-254d6b88eba1\"}},{\"Payload\":{\"processed\":\"f10a5291-be80-4edf-91a6-10a4d3c3aaf4\",\"document_id\":\"0ab7ef49-011d-4409-ac69-254d6b88eba1\"}},{\"Payload\":{\"processed\":\"ac62d76f-6d08-41fe-9bbc-54686a243055\",\"document_id\":\"0ab7ef49-011d-4409-ac69-254d6b88eba1\"}},{\"Payload\":{\"processed\":\"ebf4a984-2b8d-46a3-891f-6b9e60626b08\",\"document_id\":\"0ab7ef49-011d-4409-ac69-254d6b88eba1\"}},{\"Payload\":{\"processed\":\"8e7d5cb8-7f02-40c7-99c8-efa2eca29726\",\"document_id\":\"0ab7ef49-011d-4409-ac69-254d6b88eba1\"}},{\"Payload\":{\"processed\":\"5636e6fe-2383-4a4d-a66d-3975d3d44565\",\"document_id\":\"0ab7ef49-011d-4409-ac69-254d6b88eba1\"}},{\"Payload\":{\"processed\":\"92279252-b1e9-4cf1-b58f-41935da593b7\",\"document_id\":\"0ab7ef49-011d-4409-ac69-254d6b88eba1\"}},{\"Payload\":{\"processed\":\"62d90f4f-a0be-4d9e-957e-dd6ebaf0af50\",\"document_id\":\"0ab7ef49-011d-4409-ac69-254d6b88eba1\"}},{\"Payload\":{\"processed\":\"4532fe55-89c5-4e02-b118-9c5567e1c911\",\"document_id\":\"0ab7ef49-011d-4409-ac69-254d6b88eba1\"}},{\"Payload\":{\"processed\":\"ffdd8b44-2ca0-434b-8383-bd6e6e592cbd\",\"document_id\":\"0ab7ef49-011d-4409-ac69-254d6b88eba1\"}},{\"Payload\":{\"processed\":\"25b8cc31-96c7-4977-a477-336f24a5a8d4\",\"document_id\":\"0ab7ef49-011d-4409-ac69-254d6b88eba1\"}},{\"Payload\":{\"processed\":\"020b0044-058e-4459-86b7-873a20d6b04e\",\"document_id\":\"0ab7ef49-011d-4409-ac69-254d6b88eba1\"}},{\"Payload\":{\"processed\":\"4bd50480-517a-49cd-ae17-87a10df3567d\",\"document_id\":\"0ab7ef49-011d-4409-ac69-254d6b88eba1\"}},{\"Payload\":{\"processed\":\"f5e1d993-8a65-4be2-b968-83a5dce47f64\",\"document_id\":\"0ab7ef49-011d-4409-ac69-254d6b88eba1\"}},{\"Payload\":{\"processed\":\"c7b90c4d-4912-468b-afb5-dc8e26ba2464\",\"document_id\":\"0ab7ef49-011d-4409-ac69-254d6b88eba1\"}},{\"Payload\":{\"processed\":\"e055195c-8a63-4b7b-91b7-5608ee63b8ff\",\"document_id\":\"0ab7ef49-011d-4409-ac69-254d6b88eba1\"}},{\"Payload\":{\"processed\":\"36817b52-19f7-4160-a838-d92f66e116fc\",\"document_id\":\"0ab7ef49-011d-4409-ac69-254d6b88eba1\"}},{\"Payload\":{\"processed\":\"d13d0dc5-8741-42c5-933b-09e78b96c84f\",\"document_id\":\"0ab7ef49-011d-4409-ac69-254d6b88eba1\"}},{\"Payload\":{\"processed\":\"c3dda0a5-8e9b-4fec-bbbd-0d836941e834\",\"document_id\":\"0ab7ef49-011d-4409-ac69-254d6b88eba1\"}},{\"Payload\":{\"processed\":\"05a84623-948c-4443-81eb-25eed4c60c12\",\"document_id\":\"0ab7ef49-011d-4409-ac69-254d6b88eba1\"}},{\"Payload\":{\"processed\":\"070d2097-5456-4c1e-b788-96f9d357c222\",\"document_id\":\"0ab7ef49-011d-4409-ac69-254d6b88eba1\"}},{\"Payload\":{\"processed\":\"b6eb168b-e208-4df4-aaae-5a7f9cd2bc8d\",\"document_id\":\"0ab7ef49-011d-4409-ac69-254d6b88eba1\"}},{\"Payload\":{\"processed\":\"28416afb-0948-4dfc-a67c-e61fc3e8cc17\",\"document_id\":\"0ab7ef49-011d-4409-ac69-254d6b88eba1\"}},{\"Payload\":{\"processed\":\"1db96324-fc38-4bbe-870e-59a6f61b70de\",\"document_id\":\"0ab7ef49-011d-4409-ac69-254d6b88eba1\"}},{\"Payload\":{\"processed\":\"a4e355c0-810a-4dbe-b241-75ecc46932c6\",\"document_id\":\"0ab7ef49-011d-4409-ac69-254d6b88eba1\"}},{\"Payload\":{\"processed\":\"8887e1e1-7788-4f3f-ac84-0af82cc5faf7\",\"document_id\":\"0ab7ef49-011d-4409-ac69-254d6b88eba1\"}},{\"Payload\":{\"processed\":\"fa81d309-1b27-490c-bd1e-fd64652da9f2\",\"document_id\":\"0ab7ef49-011d-4409-ac69-254d6b88eba1\"}},{\"Payload\":{\"processed\":\"b5d8f2f2-25dc-4c72-9283-68da62f71012\",\"document_id\":\"0ab7ef49-011d-4409-ac69-254d6b88eba1\"}},{\"Payload\":{\"processed\":\"fc43a3f7-9697-4823-b725-f110ce2e29ce\",\"document_id\":\"0ab7ef49-011d-4409-ac69-254d6b88eba1\"}},{\"Payload\":{\"processed\":\"32fc4811-5294-4054-a44d-bc1dedfd6ee1\",\"document_id\":\"0ab7ef49-011d-4409-ac69-254d6b88eba1\"}},{\"Payload\":{\"processed\":\"3c61b5c2-31a2-4756-a0b9-539887aa8653\",\"document_id\":\"0ab7ef49-011d-4409-ac69-254d6b88eba1\"}},{\"Payload\":{\"processed\":\"67bf413c-ea28-46c9-a945-996fc4f1adf4\",\"document_id\":\"0ab7ef49-011d-4409-ac69-254d6b88eba1\"}},{\"Payload\":{\"processed\":\"b94256e8-c2dd-4c8d-8e4a-b9ef80f70916\",\"document_id\":\"0ab7ef49-011d-4409-ac69-254d6b88eba1\"}},{\"Payload\":{\"processed\":\"44793d92-a336-4110-99f4-c3d326a74b0f\",\"document_id\":\"0ab7ef49-011d-4409-ac69-254d6b88eba1\"}},{\"Payload\":{\"processed\":\"4da93961-301e-4499-bf67-e7d401d11d13\",\"document_id\":\"0ab7ef49-011d-4409-ac69-254d6b88eba1\"}},{\"Payload\":{\"processed\":\"ad17ff3a-f29d-42a6-82cb-a73a8c5d175a\",\"document_id\":\"0ab7ef49-011d-4409-ac69-254d6b88eba1\"}},{\"Payload\":{\"processed\":\"7594854f-6e25-4c80-87f8-92acdf9389a7\",\"document_id\":\"0ab7ef49-011d-4409-ac69-254d6b88eba1\"}},{\"Payload\":{\"processed\":\"edc31272-0042-4ab5-ad94-70d8970e06d8\",\"document_id\":\"0ab7ef49-011d-4409-ac69-254d6b88eba1\"}},{\"Payload\":{\"processed\":\"9291b57c-3274-4926-acce-e51952280446\",\"document_id\":\"0ab7ef49-011d-4409-ac69-254d6b88eba1\"}},{\"Payload\":{\"processed\":\"79686862-30b6-469d-b793-7a33a83facd2\",\"document_id\":\"0ab7ef49-011d-4409-ac69-254d6b88eba1\"}},{\"Payload\":{\"processed\":\"da3b1ee1-2fb8-4494-bfc5-e6b0ea75e1da\",\"document_id\":\"0ab7ef49-011d-4409-ac69-254d6b88eba1\"}},{\"Payload\":{\"processed\":\"ab008516-702b-472a-82f8-6374373011a9\",\"document_id\":\"0ab7ef49-011d-4409-ac69-254d6b88eba1\"}},{\"Payload\":{\"processed\":\"d05c792d-fb05-4cec-94ef-d550b4464291\",\"document_id\":\"0ab7ef49-011d-4409-ac69-254d6b88eba1\"}},{\"Payload\":{\"processed\":\"300feda5-f197-4a32-91eb-38efa07d8388\",\"document_id\":\"0ab7ef49-011d-4409-ac69-254d6b88eba1\"}},{\"Payload\":{\"processed\":\"bb4683d9-af1a-4ee7-aba1-ff2d6309cf0f\",\"document_id\":\"0ab7ef49-011d-4409-ac69-254d6b88eba1\"}},{\"Payload\":{\"processed\":\"7e1a3ab9-cbff-4ade-a162-320f86a1c37a\",\"document_id\":\"0ab7ef49-011d-4409-ac69-254d6b88eba1\"}},{\"Payload\":{\"processed\":\"29bf1a37-ad46-489a-b894-29ffbdf8a668\",\"document_id\":\"0ab7ef49-011d-4409-ac69-254d6b88eba1\"}},{\"Payload\":{\"processed\":\"f2ee3522-def0-4e21-89c6-41171c97b70f\",\"document_id\":\"0ab7ef49-011d-4409-ac69-254d6b88eba1\"}},{\"Payload\":{\"processed\":\"93bebf99-23e7-4bfe-b05d-ec11cfc68e9a\",\"document_id\":\"0ab7ef49-011d-4409-ac69-254d6b88eba1\"}},{\"Payload\":{\"processed\":\"fc71904d-7388-49e4-a190-665beb034339\",\"document_id\":\"0ab7ef49-011d-4409-ac69-254d6b88eba1\"}},{\"Payload\":{\"processed\":\"308e5a76-f962-452b-a79b-427602d27309\",\"document_id\":\"0ab7ef49-011d-4409-ac69-254d6b88eba1\"}},{\"Payload\":{\"processed\":\"4d75c7e5-18f1-44cc-9a9c-9772fbf50594\",\"document_id\":\"0ab7ef49-011d-4409-ac69-254d6b88eba1\"}},{\"Payload\":{\"processed\":\"00fae219-6059-472c-9cc9-372fb8736ab1\",\"document_id\":\"0ab7ef49-011d-4409-ac69-254d6b88eba1\"}},{\"Payload\":{\"processed\":\"fecc9f7f-0548-47ad-a4e6-e6e82804b57f\",\"document_id\":\"0ab7ef49-011d-4409-ac69-254d6b88eba1\"}},{\"Payload\":{\"processed\":\"b7694a44-d57a-4dda-b443-1aa1028878d4\",\"document_id\":\"0ab7ef49-011d-4409-ac69-254d6b88eba1\"}},{\"Payload\":{\"processed\":\"2b59812a-dac7-4ab3-b31a-305ddcffc504\",\"document_id\":\"0ab7ef49-011d-4409-ac69-254d6b88eba1\"}},{\"Payload\":{\"processed\":\"495b70ed-58bb-4f99-975c-3c664941c979\",\"document_id\":\"0ab7ef49-011d-4409-ac69-254d6b88eba1\"}},{\"Payload\":{\"processed\":\"3d49a2b3-ebd0-4835-9732-38baa55f6c95\",\"document_id\":\"0ab7ef49-011d-4409-ac69-254d6b88eba1\"}},{\"Payload\":{\"processed\":\"38009bdc-ab8a-4b1c-b87e-6c65183ef0d7\",\"document_id\":\"0ab7ef49-011d-4409-ac69-254d6b88eba1\"}},{\"Payload\":{\"processed\":\"dcd0c74d-854e-47c3-8415-574a7adfe759\",\"document_id\":\"0ab7ef49-011d-4409-ac69-254d6b88eba1\"}},{\"Payload\":{\"processed\":\"4ed74b7f-733b-411e-9efb-ad3841a2dca7\",\"document_id\":\"0ab7ef49-011d-4409-ac69-254d6b88eba1\"}},{\"Payload\":{\"processed\":\"ffedd925-0588-409f-9f5b-25709adfca2b\",\"document_id\":\"0ab7ef49-011d-4409-ac69-254d6b88eba1\"}},{\"Payload\":{\"processed\":\"3a42d3e6-b7d6-4310-ba6e-6792524e90e0\",\"document_id\":\"0ab7ef49-011d-4409-ac69-254d6b88eba1\"}},{\"Payload\":{\"processed\":\"6076a757-8e74-4f5a-82f7-9be4615dd347\",\"document_id\":\"0ab7ef49-011d-4409-ac69-254d6b88eba1\"}},{\"Payload\":{\"processed\":\"145fdf69-98f9-44b4-a3ee-4fbc17fdc760\",\"document_id\":\"0ab7ef49-011d-4409-ac69-254d6b88eba1\"}},{\"Payload\":{\"processed\":\"efb8f17f-89f2-4eb2-8938-d174454048ba\",\"document_id\":\"0ab7ef49-011d-4409-ac69-254d6b88eba1\"}},{\"Payload\":{\"processed\":\"54051e9a-f675-40a4-aba1-7d73b935077b\",\"document_id\":\"0ab7ef49-011d-4409-ac69-254d6b88eba1\"}},{\"Payload\":{\"processed\":\"760d1508-69f5-4b38-a41b-de00e9bff529\",\"document_id\":\"0ab7ef49-011d-4409-ac69-254d6b88eba1\"}},{\"Payload\":{\"processed\":\"6dd08f01-1c56-4242-ae6f-7f876e21d605\",\"document_id\":\"0ab7ef49-011d-4409-ac69-254d6b88eba1\"}}]}\n"
     ]
    },
    {
     "name": "stderr",
     "output_type": "stream",
     "text": [
      "3it [01:56, 43.02s/it]"
     ]
    },
    {
     "name": "stdout",
     "output_type": "stream",
     "text": [
      "DiscoVLA Discrepancy Reduction in Vision, Language, and Alignment for Parameter-Efficient Video-Text Retrieval.pdf\n"
     ]
    },
    {
     "name": "stderr",
     "output_type": "stream",
     "text": [
      "d:\\broai-arai\\backend\\package\\utils\\data_loder.py:22: UserWarning: [EXPERIMENT] You're using an experimental module, which is subject to change in future.: split_markdown\n",
      "  chunks = split_markdown(text)\n",
      "d:\\broai-arai\\backend\\package\\utils\\data_loder.py:23: UserWarning: [EXPERIMENT] You're using an experimental module, which is subject to change in future.: consolidate_markdown\n",
      "  consolidated_chunks = consolidate_markdown(chunks)\n",
      "d:\\broai-arai\\backend\\package\\utils\\data_loder.py:24: UserWarning: [EXPERIMENT] You're using an experimental module, which is subject to change in future.: get_markdown_sections\n",
      "  sections = get_markdown_sections(consolidated_chunks)\n",
      "d:\\broai-arai\\backend\\package\\utils\\data_loder.py:30: UserWarning: [EXPERIMENT] You're using an experimental module, which is subject to change in future.: split_overlap\n",
      "  new_contexts = split_overlap(contexts, max_tokens=max_tokens, overlap=overlap)\n"
     ]
    },
    {
     "name": "stdout",
     "output_type": "stream",
     "text": [
      "Markdown headings: max(2)\n",
      "Execution status: RUNNING\n",
      "Execution status: RUNNING\n",
      "Execution status: RUNNING\n",
      "Execution status: RUNNING\n",
      "Execution status: RUNNING\n",
      "Execution status: RUNNING\n",
      "Execution status: RUNNING\n",
      "Execution status: SUCCEEDED\n",
      "Execution output: {\"status\":\"success\",\"results\":[{\"Payload\":{\"processed\":\"0641fa23-9e7d-418b-b51f-1d06f2f7f58b\",\"document_id\":\"16514705-ab87-4115-883c-8ebf8ed58f9d\"}},{\"Payload\":{\"processed\":\"cf52305d-178d-45f1-85d4-134fb8ef537f\",\"document_id\":\"16514705-ab87-4115-883c-8ebf8ed58f9d\"}},{\"Payload\":{\"processed\":\"d0a93a16-d0ce-47a1-8e2f-a154eda19040\",\"document_id\":\"16514705-ab87-4115-883c-8ebf8ed58f9d\"}},{\"Payload\":{\"processed\":\"4e20e90c-8dd9-4afb-a2c1-a9f942ffc470\",\"document_id\":\"16514705-ab87-4115-883c-8ebf8ed58f9d\"}},{\"Payload\":{\"processed\":\"a7370980-f81d-4910-8b80-480405ef5bb2\",\"document_id\":\"16514705-ab87-4115-883c-8ebf8ed58f9d\"}},{\"Payload\":{\"processed\":\"9679a211-9458-422b-93db-af8828630bf8\",\"document_id\":\"16514705-ab87-4115-883c-8ebf8ed58f9d\"}},{\"Payload\":{\"processed\":\"63965a8d-4c95-47ac-9319-dcdd797fb392\",\"document_id\":\"16514705-ab87-4115-883c-8ebf8ed58f9d\"}},{\"Payload\":{\"processed\":\"21ffbf39-004f-4429-9d86-d1c51bae2bea\",\"document_id\":\"16514705-ab87-4115-883c-8ebf8ed58f9d\"}},{\"Payload\":{\"processed\":\"c69a31d6-5c4a-489a-bfec-9a98edda5d3d\",\"document_id\":\"16514705-ab87-4115-883c-8ebf8ed58f9d\"}},{\"Payload\":{\"processed\":\"6a5067a9-7870-4d1d-b975-ba9eb4952276\",\"document_id\":\"16514705-ab87-4115-883c-8ebf8ed58f9d\"}},{\"Payload\":{\"processed\":\"edffc69e-70fd-4a95-9afb-38e881bce75f\",\"document_id\":\"16514705-ab87-4115-883c-8ebf8ed58f9d\"}},{\"Payload\":{\"processed\":\"91308e2a-1b83-4b38-8829-5bce21a8309a\",\"document_id\":\"16514705-ab87-4115-883c-8ebf8ed58f9d\"}},{\"Payload\":{\"processed\":\"de66e12e-e625-4708-be3a-d0d34db98883\",\"document_id\":\"16514705-ab87-4115-883c-8ebf8ed58f9d\"}},{\"Payload\":{\"processed\":\"661507dd-e0de-4576-a69b-05fa7b0541b5\",\"document_id\":\"16514705-ab87-4115-883c-8ebf8ed58f9d\"}},{\"Payload\":{\"processed\":\"3af97ea2-d28a-4408-b760-c68e755e8ae3\",\"document_id\":\"16514705-ab87-4115-883c-8ebf8ed58f9d\"}},{\"Payload\":{\"processed\":\"fe39b746-fa1e-45fb-9cf8-d03d1936c989\",\"document_id\":\"16514705-ab87-4115-883c-8ebf8ed58f9d\"}},{\"Payload\":{\"processed\":\"3e3b80f1-9d49-490b-a9c1-f4ae4aeb9771\",\"document_id\":\"16514705-ab87-4115-883c-8ebf8ed58f9d\"}},{\"Payload\":{\"processed\":\"387e3c21-a7bd-4e41-b971-f3d7a5a479ed\",\"document_id\":\"16514705-ab87-4115-883c-8ebf8ed58f9d\"}},{\"Payload\":{\"processed\":\"64848b6d-1dee-4822-84f5-99a74d398a87\",\"document_id\":\"16514705-ab87-4115-883c-8ebf8ed58f9d\"}},{\"Payload\":{\"processed\":\"320339d6-0654-4c53-bb3b-bc73a96d8589\",\"document_id\":\"16514705-ab87-4115-883c-8ebf8ed58f9d\"}},{\"Payload\":{\"processed\":\"dbe56ef1-a9e9-424f-a136-c622ed5dd446\",\"document_id\":\"16514705-ab87-4115-883c-8ebf8ed58f9d\"}},{\"Payload\":{\"processed\":\"79a9bc07-9590-4feb-90fa-36063a8798c5\",\"document_id\":\"16514705-ab87-4115-883c-8ebf8ed58f9d\"}},{\"Payload\":{\"processed\":\"0fdb3bf0-a1b5-4c2f-9793-88c99ce92b91\",\"document_id\":\"16514705-ab87-4115-883c-8ebf8ed58f9d\"}},{\"Payload\":{\"processed\":\"70bf4e85-e3cd-49f0-ac85-0dec8380d793\",\"document_id\":\"16514705-ab87-4115-883c-8ebf8ed58f9d\"}},{\"Payload\":{\"processed\":\"127f3410-0fe2-4fd0-bf50-31dc2f5f50b5\",\"document_id\":\"16514705-ab87-4115-883c-8ebf8ed58f9d\"}},{\"Payload\":{\"processed\":\"3c5d96d7-504a-4178-bebf-000ce8cfc887\",\"document_id\":\"16514705-ab87-4115-883c-8ebf8ed58f9d\"}},{\"Payload\":{\"processed\":\"70c5b5c3-a3b7-476d-857d-be40abb377bd\",\"document_id\":\"16514705-ab87-4115-883c-8ebf8ed58f9d\"}},{\"Payload\":{\"processed\":\"e9f41951-d12a-47e2-9d70-1b0dcf230661\",\"document_id\":\"16514705-ab87-4115-883c-8ebf8ed58f9d\"}},{\"Payload\":{\"processed\":\"28a78ff0-cadc-4f22-8fdf-1e2276f90b48\",\"document_id\":\"16514705-ab87-4115-883c-8ebf8ed58f9d\"}},{\"Payload\":{\"processed\":\"c221e0ed-34d2-4ba3-9274-9c03edd59ea7\",\"document_id\":\"16514705-ab87-4115-883c-8ebf8ed58f9d\"}},{\"Payload\":{\"processed\":\"e77e30b5-0965-4101-a1ed-55d448941cbf\",\"document_id\":\"16514705-ab87-4115-883c-8ebf8ed58f9d\"}},{\"Payload\":{\"processed\":\"4f1fe5b1-4409-416d-9a07-1336ce781016\",\"document_id\":\"16514705-ab87-4115-883c-8ebf8ed58f9d\"}},{\"Payload\":{\"processed\":\"bd0e3a1e-3758-4a34-9772-89dd913f47bd\",\"document_id\":\"16514705-ab87-4115-883c-8ebf8ed58f9d\"}},{\"Payload\":{\"processed\":\"c99ed2de-19b4-4aaa-989e-fb7761059360\",\"document_id\":\"16514705-ab87-4115-883c-8ebf8ed58f9d\"}},{\"Payload\":{\"processed\":\"6c37b2de-25cb-48bf-b2ef-dee7d5287481\",\"document_id\":\"16514705-ab87-4115-883c-8ebf8ed58f9d\"}},{\"Payload\":{\"processed\":\"fa2c60e0-afbb-455c-a3b3-86f994f9612d\",\"document_id\":\"16514705-ab87-4115-883c-8ebf8ed58f9d\"}},{\"Payload\":{\"processed\":\"b2dfdfd1-4a61-48a4-9811-8f23f59857e9\",\"document_id\":\"16514705-ab87-4115-883c-8ebf8ed58f9d\"}},{\"Payload\":{\"processed\":\"80569b0e-7cf6-4a57-90af-2de3d7219a8e\",\"document_id\":\"16514705-ab87-4115-883c-8ebf8ed58f9d\"}},{\"Payload\":{\"processed\":\"8559e2e6-500f-4ff4-87c2-b435027a6990\",\"document_id\":\"16514705-ab87-4115-883c-8ebf8ed58f9d\"}},{\"Payload\":{\"processed\":\"955f80eb-9427-4e76-992a-dee11f19d5da\",\"document_id\":\"16514705-ab87-4115-883c-8ebf8ed58f9d\"}},{\"Payload\":{\"processed\":\"7c628067-6b4f-466e-9e44-f954df264c23\",\"document_id\":\"16514705-ab87-4115-883c-8ebf8ed58f9d\"}},{\"Payload\":{\"processed\":\"871c0003-42d4-4d64-b475-4e7efaa1b37b\",\"document_id\":\"16514705-ab87-4115-883c-8ebf8ed58f9d\"}},{\"Payload\":{\"processed\":\"8550b553-99cc-4717-a46a-0827802029be\",\"document_id\":\"16514705-ab87-4115-883c-8ebf8ed58f9d\"}},{\"Payload\":{\"processed\":\"b07a4fc4-524e-4c6b-aaa6-339aa724a204\",\"document_id\":\"16514705-ab87-4115-883c-8ebf8ed58f9d\"}},{\"Payload\":{\"processed\":\"60554e31-bda2-4dbc-b2be-01f3550dd5ff\",\"document_id\":\"16514705-ab87-4115-883c-8ebf8ed58f9d\"}},{\"Payload\":{\"processed\":\"c7b4321e-4edc-4741-aac8-b6755ce85bb1\",\"document_id\":\"16514705-ab87-4115-883c-8ebf8ed58f9d\"}},{\"Payload\":{\"processed\":\"56e1e727-3be7-42cd-b5cb-6087bd914d02\",\"document_id\":\"16514705-ab87-4115-883c-8ebf8ed58f9d\"}},{\"Payload\":{\"processed\":\"e6b5f9f9-cadc-4c58-a68e-4f7c157fc829\",\"document_id\":\"16514705-ab87-4115-883c-8ebf8ed58f9d\"}},{\"Payload\":{\"processed\":\"f4ce0a97-fee6-49fb-81f0-82750d796191\",\"document_id\":\"16514705-ab87-4115-883c-8ebf8ed58f9d\"}},{\"Payload\":{\"processed\":\"f741b91d-b94f-443a-bc41-51d1593990af\",\"document_id\":\"16514705-ab87-4115-883c-8ebf8ed58f9d\"}},{\"Payload\":{\"processed\":\"5190d826-65dd-424a-bd7b-2222247ce5e3\",\"document_id\":\"16514705-ab87-4115-883c-8ebf8ed58f9d\"}},{\"Payload\":{\"processed\":\"23fe3fb6-3e14-424d-9d49-585c59a167bd\",\"document_id\":\"16514705-ab87-4115-883c-8ebf8ed58f9d\"}},{\"Payload\":{\"processed\":\"88720217-dd29-4d3a-8e4e-03a97da0893b\",\"document_id\":\"16514705-ab87-4115-883c-8ebf8ed58f9d\"}}]}\n"
     ]
    },
    {
     "name": "stderr",
     "output_type": "stream",
     "text": [
      "4it [02:37, 42.53s/it]"
     ]
    },
    {
     "name": "stdout",
     "output_type": "stream",
     "text": [
      "EXP4FUSE A RANK FUSION FRAMEWORK FOR ENHANCED SPARSE RETRIEVAL USING LARGE LANGUAGE MODEL-BASED QUERY EXPANSION.pdf\n"
     ]
    },
    {
     "name": "stderr",
     "output_type": "stream",
     "text": [
      "d:\\broai-arai\\backend\\package\\utils\\data_loder.py:22: UserWarning: [EXPERIMENT] You're using an experimental module, which is subject to change in future.: split_markdown\n",
      "  chunks = split_markdown(text)\n",
      "d:\\broai-arai\\backend\\package\\utils\\data_loder.py:23: UserWarning: [EXPERIMENT] You're using an experimental module, which is subject to change in future.: consolidate_markdown\n",
      "  consolidated_chunks = consolidate_markdown(chunks)\n",
      "d:\\broai-arai\\backend\\package\\utils\\data_loder.py:24: UserWarning: [EXPERIMENT] You're using an experimental module, which is subject to change in future.: get_markdown_sections\n",
      "  sections = get_markdown_sections(consolidated_chunks)\n",
      "d:\\broai-arai\\backend\\package\\utils\\data_loder.py:30: UserWarning: [EXPERIMENT] You're using an experimental module, which is subject to change in future.: split_overlap\n",
      "  new_contexts = split_overlap(contexts, max_tokens=max_tokens, overlap=overlap)\n"
     ]
    },
    {
     "name": "stdout",
     "output_type": "stream",
     "text": [
      "Markdown headings: max(2)\n",
      "Execution status: RUNNING\n",
      "Execution status: RUNNING\n",
      "Execution status: RUNNING\n",
      "Execution status: RUNNING\n",
      "Execution status: RUNNING\n",
      "Execution status: RUNNING\n",
      "Execution status: RUNNING\n",
      "Execution status: RUNNING\n",
      "Execution status: RUNNING\n",
      "Execution status: RUNNING\n",
      "Execution status: SUCCEEDED\n",
      "Execution output: {\"status\":\"success\",\"results\":[{\"Payload\":{\"processed\":\"8c2c2c47-6b32-4e87-8fd6-6a8a80014bff\",\"document_id\":\"c73c3a63-4d4a-438e-877c-54a7e6067d2d\"}},{\"Payload\":{\"processed\":\"1cec6952-c79d-46a3-b2f2-59ba2f5d6bb9\",\"document_id\":\"c73c3a63-4d4a-438e-877c-54a7e6067d2d\"}},{\"Payload\":{\"processed\":\"c0978d4b-8ce4-4786-aa7b-11abe458e16d\",\"document_id\":\"c73c3a63-4d4a-438e-877c-54a7e6067d2d\"}},{\"Payload\":{\"processed\":\"34b47d4c-b1a0-42b9-aae1-2b04f2e28351\",\"document_id\":\"c73c3a63-4d4a-438e-877c-54a7e6067d2d\"}},{\"Payload\":{\"processed\":\"024947ed-f9ff-496a-a352-a7f5b7f18405\",\"document_id\":\"c73c3a63-4d4a-438e-877c-54a7e6067d2d\"}},{\"Payload\":{\"processed\":\"5d392769-9403-492c-be24-94b9aa3cb92d\",\"document_id\":\"c73c3a63-4d4a-438e-877c-54a7e6067d2d\"}},{\"Payload\":{\"processed\":\"5bd2164a-7ce6-4f46-9ed9-129a29db8f55\",\"document_id\":\"c73c3a63-4d4a-438e-877c-54a7e6067d2d\"}},{\"Payload\":{\"processed\":\"92fabc1c-a0da-4460-a49a-ceae8949efc1\",\"document_id\":\"c73c3a63-4d4a-438e-877c-54a7e6067d2d\"}},{\"Payload\":{\"processed\":\"d426b8fd-3625-4ff7-910e-545b9374da77\",\"document_id\":\"c73c3a63-4d4a-438e-877c-54a7e6067d2d\"}},{\"Payload\":{\"processed\":\"ef6dd7fb-b7cf-4e8d-8031-61070220520b\",\"document_id\":\"c73c3a63-4d4a-438e-877c-54a7e6067d2d\"}},{\"Payload\":{\"processed\":\"fcac36f4-67e7-4bc2-be16-a687b2355799\",\"document_id\":\"c73c3a63-4d4a-438e-877c-54a7e6067d2d\"}},{\"Payload\":{\"processed\":\"2cc25774-8cde-40b8-a49b-a46b0d53b5fc\",\"document_id\":\"c73c3a63-4d4a-438e-877c-54a7e6067d2d\"}},{\"Payload\":{\"processed\":\"2c345d1a-8004-43b3-bd8e-71a9bf45d3ed\",\"document_id\":\"c73c3a63-4d4a-438e-877c-54a7e6067d2d\"}},{\"Payload\":{\"processed\":\"87cd23d0-acb3-4cb9-8f10-8a9a3f96fa95\",\"document_id\":\"c73c3a63-4d4a-438e-877c-54a7e6067d2d\"}},{\"Payload\":{\"processed\":\"77f8fd43-c9f3-4146-9d40-95346c28f993\",\"document_id\":\"c73c3a63-4d4a-438e-877c-54a7e6067d2d\"}},{\"Payload\":{\"processed\":\"fdf6374f-1273-462a-8364-75685a0788ff\",\"document_id\":\"c73c3a63-4d4a-438e-877c-54a7e6067d2d\"}},{\"Payload\":{\"processed\":\"67b4419f-e9dc-40bc-aa8b-07b025829ae2\",\"document_id\":\"c73c3a63-4d4a-438e-877c-54a7e6067d2d\"}},{\"Payload\":{\"processed\":\"929cb46e-555e-4c65-99a6-220b7ae5e214\",\"document_id\":\"c73c3a63-4d4a-438e-877c-54a7e6067d2d\"}},{\"Payload\":{\"processed\":\"9d9c5d57-e09d-4faa-82cc-5eee4d8bd9a7\",\"document_id\":\"c73c3a63-4d4a-438e-877c-54a7e6067d2d\"}},{\"Payload\":{\"processed\":\"40ee7486-1bac-4816-a302-8deeee687405\",\"document_id\":\"c73c3a63-4d4a-438e-877c-54a7e6067d2d\"}},{\"Payload\":{\"processed\":\"65c25d3f-1530-4984-957f-b18280b9695c\",\"document_id\":\"c73c3a63-4d4a-438e-877c-54a7e6067d2d\"}},{\"Payload\":{\"processed\":\"7d8a2245-0972-4256-a289-ab2858916754\",\"document_id\":\"c73c3a63-4d4a-438e-877c-54a7e6067d2d\"}},{\"Payload\":{\"processed\":\"31e4bc20-1143-4beb-a39a-c01764ce680f\",\"document_id\":\"c73c3a63-4d4a-438e-877c-54a7e6067d2d\"}},{\"Payload\":{\"processed\":\"29586899-ed6b-4e39-8914-71d266c4bcc3\",\"document_id\":\"c73c3a63-4d4a-438e-877c-54a7e6067d2d\"}},{\"Payload\":{\"processed\":\"fcda9ca4-c55c-4a29-ab5e-81cad0cf89b8\",\"document_id\":\"c73c3a63-4d4a-438e-877c-54a7e6067d2d\"}},{\"Payload\":{\"processed\":\"4cd73ac8-11d9-4646-b133-ee8f9176a497\",\"document_id\":\"c73c3a63-4d4a-438e-877c-54a7e6067d2d\"}},{\"Payload\":{\"processed\":\"2e69d450-e383-41fa-aad9-caad61dc62fc\",\"document_id\":\"c73c3a63-4d4a-438e-877c-54a7e6067d2d\"}},{\"Payload\":{\"processed\":\"c59abe0e-61c4-401a-a7e5-d4c203a7d4a1\",\"document_id\":\"c73c3a63-4d4a-438e-877c-54a7e6067d2d\"}},{\"Payload\":{\"processed\":\"2d97953d-2c35-4d44-9a37-263ef4e7590f\",\"document_id\":\"c73c3a63-4d4a-438e-877c-54a7e6067d2d\"}},{\"Payload\":{\"processed\":\"0aaf6f20-f79a-4274-9101-3e341840d714\",\"document_id\":\"c73c3a63-4d4a-438e-877c-54a7e6067d2d\"}},{\"Payload\":{\"processed\":\"88905242-3256-4311-b38a-48ac2f8f76d6\",\"document_id\":\"c73c3a63-4d4a-438e-877c-54a7e6067d2d\"}},{\"Payload\":{\"processed\":\"ed817d9f-db5e-47b9-9d5f-04829689b498\",\"document_id\":\"c73c3a63-4d4a-438e-877c-54a7e6067d2d\"}},{\"Payload\":{\"processed\":\"cd23e553-9999-48cd-8ce4-fc89fcfecfc5\",\"document_id\":\"c73c3a63-4d4a-438e-877c-54a7e6067d2d\"}},{\"Payload\":{\"processed\":\"9a073442-e80e-4612-baee-78128baaf1f7\",\"document_id\":\"c73c3a63-4d4a-438e-877c-54a7e6067d2d\"}},{\"Payload\":{\"processed\":\"c10868ed-71c1-4623-9f1d-a0d8bb021c11\",\"document_id\":\"c73c3a63-4d4a-438e-877c-54a7e6067d2d\"}},{\"Payload\":{\"processed\":\"a808de0f-0a34-4118-9a51-21e177fd48c8\",\"document_id\":\"c73c3a63-4d4a-438e-877c-54a7e6067d2d\"}},{\"Payload\":{\"processed\":\"806e14f9-bf2d-49d5-ba03-c7439aa1f485\",\"document_id\":\"c73c3a63-4d4a-438e-877c-54a7e6067d2d\"}},{\"Payload\":{\"processed\":\"e49b0975-a33e-4efa-9c8c-beed770a1d08\",\"document_id\":\"c73c3a63-4d4a-438e-877c-54a7e6067d2d\"}},{\"Payload\":{\"processed\":\"2ddd53be-7a0e-44ec-a680-2e7f36ce6f7f\",\"document_id\":\"c73c3a63-4d4a-438e-877c-54a7e6067d2d\"}},{\"Payload\":{\"processed\":\"7da62d37-272f-47ef-8ce8-0cb68d2ab4d0\",\"document_id\":\"c73c3a63-4d4a-438e-877c-54a7e6067d2d\"}},{\"Payload\":{\"processed\":\"98429947-47b5-4a62-b418-d94ed9ffe8f4\",\"document_id\":\"c73c3a63-4d4a-438e-877c-54a7e6067d2d\"}},{\"Payload\":{\"processed\":\"b7ff5134-f7f9-4ec6-9ff1-d203a582a6d1\",\"document_id\":\"c73c3a63-4d4a-438e-877c-54a7e6067d2d\"}},{\"Payload\":{\"processed\":\"e8256f34-961e-4f44-b6a1-a6f084f9d02b\",\"document_id\":\"c73c3a63-4d4a-438e-877c-54a7e6067d2d\"}},{\"Payload\":{\"processed\":\"eab34117-9d33-4f0e-aad1-0a49f0cc0d1d\",\"document_id\":\"c73c3a63-4d4a-438e-877c-54a7e6067d2d\"}},{\"Payload\":{\"processed\":\"a727b25c-8227-410e-b0ad-c0a73e8411f0\",\"document_id\":\"c73c3a63-4d4a-438e-877c-54a7e6067d2d\"}},{\"Payload\":{\"processed\":\"b1563126-a707-4149-a021-2c2e0903efa8\",\"document_id\":\"c73c3a63-4d4a-438e-877c-54a7e6067d2d\"}},{\"Payload\":{\"processed\":\"d9ecc81f-bad5-43bc-b8f9-f9c01a03972b\",\"document_id\":\"c73c3a63-4d4a-438e-877c-54a7e6067d2d\"}},{\"Payload\":{\"processed\":\"72d2fffa-49c6-4d65-81d6-2187bae61734\",\"document_id\":\"c73c3a63-4d4a-438e-877c-54a7e6067d2d\"}},{\"Payload\":{\"processed\":\"de6c2427-09ac-49c0-8994-438dd0978428\",\"document_id\":\"c73c3a63-4d4a-438e-877c-54a7e6067d2d\"}},{\"Payload\":{\"processed\":\"fa3dcbbc-21d9-4c78-b988-a4a2e537c8ab\",\"document_id\":\"c73c3a63-4d4a-438e-877c-54a7e6067d2d\"}},{\"Payload\":{\"processed\":\"ddc5e13c-d49d-456c-95a7-1a74d60f8f72\",\"document_id\":\"c73c3a63-4d4a-438e-877c-54a7e6067d2d\"}},{\"Payload\":{\"processed\":\"466471a6-4bd8-460c-82de-351c459c24df\",\"document_id\":\"c73c3a63-4d4a-438e-877c-54a7e6067d2d\"}},{\"Payload\":{\"processed\":\"3d498c68-4a15-459b-9d8b-a054daa0d340\",\"document_id\":\"c73c3a63-4d4a-438e-877c-54a7e6067d2d\"}},{\"Payload\":{\"processed\":\"a89d17e8-2022-4bc1-90a0-8e8ad8bd9e93\",\"document_id\":\"c73c3a63-4d4a-438e-877c-54a7e6067d2d\"}},{\"Payload\":{\"processed\":\"2f435d05-ae53-47dd-b5d2-1ec088ab7e2f\",\"document_id\":\"c73c3a63-4d4a-438e-877c-54a7e6067d2d\"}},{\"Payload\":{\"processed\":\"2db7b26e-3b42-4c3b-b989-26fe1ccbad26\",\"document_id\":\"c73c3a63-4d4a-438e-877c-54a7e6067d2d\"}},{\"Payload\":{\"processed\":\"1df7abef-28e8-4261-b610-14e657f03ea9\",\"document_id\":\"c73c3a63-4d4a-438e-877c-54a7e6067d2d\"}},{\"Payload\":{\"processed\":\"87abb3ff-024c-4e20-87f1-db0f3e8b1f51\",\"document_id\":\"c73c3a63-4d4a-438e-877c-54a7e6067d2d\"}},{\"Payload\":{\"processed\":\"9f88f450-9f68-4e2e-87f2-f0669204b6ee\",\"document_id\":\"c73c3a63-4d4a-438e-877c-54a7e6067d2d\"}},{\"Payload\":{\"processed\":\"a6481caf-bb99-412e-9f58-53e490aa8664\",\"document_id\":\"c73c3a63-4d4a-438e-877c-54a7e6067d2d\"}},{\"Payload\":{\"processed\":\"0bcfad5e-d33f-49bb-bcea-e1e948588808\",\"document_id\":\"c73c3a63-4d4a-438e-877c-54a7e6067d2d\"}},{\"Payload\":{\"processed\":\"e669e207-72bf-4c66-89a0-aaac114de08e\",\"document_id\":\"c73c3a63-4d4a-438e-877c-54a7e6067d2d\"}},{\"Payload\":{\"processed\":\"15ac94ce-d132-4a63-9bf6-62a15d08e0ef\",\"document_id\":\"c73c3a63-4d4a-438e-877c-54a7e6067d2d\"}},{\"Payload\":{\"processed\":\"5e0e444f-b45e-4d65-9605-e822454b89de\",\"document_id\":\"c73c3a63-4d4a-438e-877c-54a7e6067d2d\"}},{\"Payload\":{\"processed\":\"effc4b9e-98d1-4dc5-ab67-5235f33f9b76\",\"document_id\":\"c73c3a63-4d4a-438e-877c-54a7e6067d2d\"}},{\"Payload\":{\"processed\":\"a3bac243-ca93-41a1-9357-c4e566d62632\",\"document_id\":\"c73c3a63-4d4a-438e-877c-54a7e6067d2d\"}},{\"Payload\":{\"processed\":\"ac607c56-9590-4a29-a0de-6c270378cf5e\",\"document_id\":\"c73c3a63-4d4a-438e-877c-54a7e6067d2d\"}},{\"Payload\":{\"processed\":\"d4d16307-7b6b-44c7-a6bf-fee406e681b1\",\"document_id\":\"c73c3a63-4d4a-438e-877c-54a7e6067d2d\"}},{\"Payload\":{\"processed\":\"b95e21e8-0193-4c04-a60f-5e6ade0d72a9\",\"document_id\":\"c73c3a63-4d4a-438e-877c-54a7e6067d2d\"}},{\"Payload\":{\"processed\":\"1fad0c7d-f796-46ee-988e-9e9d917517b8\",\"document_id\":\"c73c3a63-4d4a-438e-877c-54a7e6067d2d\"}},{\"Payload\":{\"processed\":\"b36044c7-f02a-439b-996f-f55571a14feb\",\"document_id\":\"c73c3a63-4d4a-438e-877c-54a7e6067d2d\"}},{\"Payload\":{\"processed\":\"76455e40-4e54-4599-820e-169b2da224f0\",\"document_id\":\"c73c3a63-4d4a-438e-877c-54a7e6067d2d\"}},{\"Payload\":{\"processed\":\"1b8306a9-edfd-431c-b5e2-af44fb0dcb49\",\"document_id\":\"c73c3a63-4d4a-438e-877c-54a7e6067d2d\"}},{\"Payload\":{\"processed\":\"6bdab00e-8b1b-4efe-83b7-abbbb3c33035\",\"document_id\":\"c73c3a63-4d4a-438e-877c-54a7e6067d2d\"}},{\"Payload\":{\"processed\":\"dc02f9f5-5950-4cfd-95b0-bd70f4783df9\",\"document_id\":\"c73c3a63-4d4a-438e-877c-54a7e6067d2d\"}},{\"Payload\":{\"processed\":\"535b2732-693b-4440-93d2-8678687072c2\",\"document_id\":\"c73c3a63-4d4a-438e-877c-54a7e6067d2d\"}},{\"Payload\":{\"processed\":\"a446a20a-c13c-4eda-8e4b-4db4217f00dc\",\"document_id\":\"c73c3a63-4d4a-438e-877c-54a7e6067d2d\"}},{\"Payload\":{\"processed\":\"79a3f5c0-100a-4aca-9bf9-9d3544ed9549\",\"document_id\":\"c73c3a63-4d4a-438e-877c-54a7e6067d2d\"}},{\"Payload\":{\"processed\":\"2f261dfa-e542-423b-ad53-9b10e636cc1c\",\"document_id\":\"c73c3a63-4d4a-438e-877c-54a7e6067d2d\"}},{\"Payload\":{\"processed\":\"438ddaab-061c-4d0d-b0ae-307eef5fdb7f\",\"document_id\":\"c73c3a63-4d4a-438e-877c-54a7e6067d2d\"}},{\"Payload\":{\"processed\":\"29dfd82e-bf25-4ac5-81d4-789e389e7beb\",\"document_id\":\"c73c3a63-4d4a-438e-877c-54a7e6067d2d\"}},{\"Payload\":{\"processed\":\"22618918-2808-431a-80d5-929b85f8eb4a\",\"document_id\":\"c73c3a63-4d4a-438e-877c-54a7e6067d2d\"}},{\"Payload\":{\"processed\":\"e547d2d7-668a-4b72-a871-8109fe5572b9\",\"document_id\":\"c73c3a63-4d4a-438e-877c-54a7e6067d2d\"}},{\"Payload\":{\"processed\":\"39ecc73b-3605-4efd-9418-7edccb7d7fe5\",\"document_id\":\"c73c3a63-4d4a-438e-877c-54a7e6067d2d\"}},{\"Payload\":{\"processed\":\"b82bf4b7-2a12-4ec5-aa26-69c430f44fd0\",\"document_id\":\"c73c3a63-4d4a-438e-877c-54a7e6067d2d\"}},{\"Payload\":{\"processed\":\"7f065530-c95e-45e2-b30a-3ce9f93c7e64\",\"document_id\":\"c73c3a63-4d4a-438e-877c-54a7e6067d2d\"}},{\"Payload\":{\"processed\":\"625af86f-ecd3-4372-a1b1-eb2f1d69e091\",\"document_id\":\"c73c3a63-4d4a-438e-877c-54a7e6067d2d\"}},{\"Payload\":{\"processed\":\"dbe8d227-f657-4df6-8f56-a5a944156121\",\"document_id\":\"c73c3a63-4d4a-438e-877c-54a7e6067d2d\"}},{\"Payload\":{\"processed\":\"932eab1f-60aa-4708-b19b-8edae9590f01\",\"document_id\":\"c73c3a63-4d4a-438e-877c-54a7e6067d2d\"}},{\"Payload\":{\"processed\":\"c7fb601c-dbd5-40ca-ae9d-0f3931828ec6\",\"document_id\":\"c73c3a63-4d4a-438e-877c-54a7e6067d2d\"}},{\"Payload\":{\"processed\":\"a5ad0272-d1c8-4f6e-90de-5b7e939f4228\",\"document_id\":\"c73c3a63-4d4a-438e-877c-54a7e6067d2d\"}},{\"Payload\":{\"processed\":\"9c22549f-bf4b-4ce4-b2be-33bdc2379c0e\",\"document_id\":\"c73c3a63-4d4a-438e-877c-54a7e6067d2d\"}},{\"Payload\":{\"processed\":\"6d3bf88d-ee67-4878-a217-584b63ad9723\",\"document_id\":\"c73c3a63-4d4a-438e-877c-54a7e6067d2d\"}},{\"Payload\":{\"processed\":\"ab622512-2f10-4e7f-8d51-e039c010c6fc\",\"document_id\":\"c73c3a63-4d4a-438e-877c-54a7e6067d2d\"}},{\"Payload\":{\"processed\":\"298ec0d6-a4f5-4518-87a1-4478619c8fe1\",\"document_id\":\"c73c3a63-4d4a-438e-877c-54a7e6067d2d\"}},{\"Payload\":{\"processed\":\"21cc8c3c-7efb-4da6-8827-4d9333a6d527\",\"document_id\":\"c73c3a63-4d4a-438e-877c-54a7e6067d2d\"}},{\"Payload\":{\"processed\":\"f3495705-9d5d-4823-a893-2a43fc07908a\",\"document_id\":\"c73c3a63-4d4a-438e-877c-54a7e6067d2d\"}},{\"Payload\":{\"processed\":\"3d683990-204a-4165-91ee-b0e4b37a352b\",\"document_id\":\"c73c3a63-4d4a-438e-877c-54a7e6067d2d\"}},{\"Payload\":{\"processed\":\"71403382-2d00-4e2b-a8e9-c388be01183f\",\"document_id\":\"c73c3a63-4d4a-438e-877c-54a7e6067d2d\"}},{\"Payload\":{\"processed\":\"be6d3bc8-9e98-4d4e-9c00-cd0988f58ad4\",\"document_id\":\"c73c3a63-4d4a-438e-877c-54a7e6067d2d\"}},{\"Payload\":{\"processed\":\"9a385fd7-ec0c-42b4-9f57-e4e2edc013c4\",\"document_id\":\"c73c3a63-4d4a-438e-877c-54a7e6067d2d\"}},{\"Payload\":{\"processed\":\"b9ed9650-02b7-4549-8264-91fe41ac7e38\",\"document_id\":\"c73c3a63-4d4a-438e-877c-54a7e6067d2d\"}},{\"Payload\":{\"processed\":\"7d090dcf-e355-4895-a3cb-5f81d3832e93\",\"document_id\":\"c73c3a63-4d4a-438e-877c-54a7e6067d2d\"}},{\"Payload\":{\"processed\":\"c9adb075-324d-4c9a-9931-b4d14166baf8\",\"document_id\":\"c73c3a63-4d4a-438e-877c-54a7e6067d2d\"}},{\"Payload\":{\"processed\":\"cf934b87-8917-4810-b646-15b00f0b4f0b\",\"document_id\":\"c73c3a63-4d4a-438e-877c-54a7e6067d2d\"}}]}\n"
     ]
    },
    {
     "name": "stderr",
     "output_type": "stream",
     "text": [
      "5it [03:17, 41.66s/it]"
     ]
    },
    {
     "name": "stdout",
     "output_type": "stream",
     "text": [
      "GainRAG Preference Alignment in Retrieval-Augmented Generation through Gain Signal Synthesis.pdf\n"
     ]
    },
    {
     "name": "stderr",
     "output_type": "stream",
     "text": [
      "d:\\broai-arai\\backend\\package\\utils\\data_loder.py:22: UserWarning: [EXPERIMENT] You're using an experimental module, which is subject to change in future.: split_markdown\n",
      "  chunks = split_markdown(text)\n",
      "d:\\broai-arai\\backend\\package\\utils\\data_loder.py:23: UserWarning: [EXPERIMENT] You're using an experimental module, which is subject to change in future.: consolidate_markdown\n",
      "  consolidated_chunks = consolidate_markdown(chunks)\n",
      "d:\\broai-arai\\backend\\package\\utils\\data_loder.py:24: UserWarning: [EXPERIMENT] You're using an experimental module, which is subject to change in future.: get_markdown_sections\n",
      "  sections = get_markdown_sections(consolidated_chunks)\n",
      "d:\\broai-arai\\backend\\package\\utils\\data_loder.py:30: UserWarning: [EXPERIMENT] You're using an experimental module, which is subject to change in future.: split_overlap\n",
      "  new_contexts = split_overlap(contexts, max_tokens=max_tokens, overlap=overlap)\n"
     ]
    },
    {
     "name": "stdout",
     "output_type": "stream",
     "text": [
      "Markdown headings: max(2)\n",
      "Execution status: RUNNING\n",
      "Execution status: RUNNING\n",
      "Execution status: RUNNING\n",
      "Execution status: RUNNING\n",
      "Execution status: RUNNING\n",
      "Execution status: RUNNING\n",
      "Execution status: SUCCEEDED\n",
      "Execution output: {\"status\":\"success\",\"results\":[{\"Payload\":{\"processed\":\"5bff8a90-0d88-4ea7-afc4-2d17bc349f48\",\"document_id\":\"21a9b572-b1be-43e7-a143-b391ab52e966\"}},{\"Payload\":{\"processed\":\"e6afef03-75cd-4cc7-ba27-ea4381174816\",\"document_id\":\"21a9b572-b1be-43e7-a143-b391ab52e966\"}},{\"Payload\":{\"processed\":\"b20dc8f7-9b65-4053-8415-c09a922d4454\",\"document_id\":\"21a9b572-b1be-43e7-a143-b391ab52e966\"}},{\"Payload\":{\"processed\":\"07c53a93-2c06-46b3-9876-c1450cdb4866\",\"document_id\":\"21a9b572-b1be-43e7-a143-b391ab52e966\"}},{\"Payload\":{\"processed\":\"06c2def9-914d-458f-8b29-115d4d1add50\",\"document_id\":\"21a9b572-b1be-43e7-a143-b391ab52e966\"}},{\"Payload\":{\"processed\":\"383f25aa-41dd-41f9-abfc-50a54ea0341a\",\"document_id\":\"21a9b572-b1be-43e7-a143-b391ab52e966\"}},{\"Payload\":{\"processed\":\"78fdf576-4e56-4f3d-a39a-5dc3de287470\",\"document_id\":\"21a9b572-b1be-43e7-a143-b391ab52e966\"}},{\"Payload\":{\"processed\":\"57d1e125-f010-4a1b-bf4e-3beba7778924\",\"document_id\":\"21a9b572-b1be-43e7-a143-b391ab52e966\"}},{\"Payload\":{\"processed\":\"16a06892-77fd-4c68-bbbf-1602cb3f4280\",\"document_id\":\"21a9b572-b1be-43e7-a143-b391ab52e966\"}},{\"Payload\":{\"processed\":\"30169764-c21b-4adf-abb9-750127ae572c\",\"document_id\":\"21a9b572-b1be-43e7-a143-b391ab52e966\"}},{\"Payload\":{\"processed\":\"60eea074-13cd-485d-ad4f-3a65dfab32aa\",\"document_id\":\"21a9b572-b1be-43e7-a143-b391ab52e966\"}},{\"Payload\":{\"processed\":\"836a7a7a-7ff7-44b3-af88-4a8aa6699cb9\",\"document_id\":\"21a9b572-b1be-43e7-a143-b391ab52e966\"}},{\"Payload\":{\"processed\":\"11f831a7-5524-4f00-a13f-fb4f1770913a\",\"document_id\":\"21a9b572-b1be-43e7-a143-b391ab52e966\"}},{\"Payload\":{\"processed\":\"17ae9388-f918-4eeb-8d23-6d8a74c3f6a9\",\"document_id\":\"21a9b572-b1be-43e7-a143-b391ab52e966\"}},{\"Payload\":{\"processed\":\"e5168dc6-784f-455b-9ab0-3d34123b94c7\",\"document_id\":\"21a9b572-b1be-43e7-a143-b391ab52e966\"}},{\"Payload\":{\"processed\":\"81ed115a-6569-4ec3-91c1-600b350104c6\",\"document_id\":\"21a9b572-b1be-43e7-a143-b391ab52e966\"}},{\"Payload\":{\"processed\":\"6cff784e-6a23-4334-8912-2713dc6f95f9\",\"document_id\":\"21a9b572-b1be-43e7-a143-b391ab52e966\"}},{\"Payload\":{\"processed\":\"8dc4f07f-3c8a-4d1e-bed2-8cf034b4b4cc\",\"document_id\":\"21a9b572-b1be-43e7-a143-b391ab52e966\"}},{\"Payload\":{\"processed\":\"613b2e20-213e-419c-8339-e61b0b6b7885\",\"document_id\":\"21a9b572-b1be-43e7-a143-b391ab52e966\"}},{\"Payload\":{\"processed\":\"a286a65b-fd4f-44f8-b6f8-e035d1e50081\",\"document_id\":\"21a9b572-b1be-43e7-a143-b391ab52e966\"}},{\"Payload\":{\"processed\":\"7d58261d-cab3-4b37-9b9a-5a10a99b5766\",\"document_id\":\"21a9b572-b1be-43e7-a143-b391ab52e966\"}},{\"Payload\":{\"processed\":\"c7e08e37-9dcb-4a35-9bdb-c8edb80c1e29\",\"document_id\":\"21a9b572-b1be-43e7-a143-b391ab52e966\"}},{\"Payload\":{\"processed\":\"d3d6fd30-3439-4179-bcbe-52e467b5d2e3\",\"document_id\":\"21a9b572-b1be-43e7-a143-b391ab52e966\"}},{\"Payload\":{\"processed\":\"8f5271a5-2155-4ddb-b37b-29d2b48c4dcb\",\"document_id\":\"21a9b572-b1be-43e7-a143-b391ab52e966\"}},{\"Payload\":{\"processed\":\"c3ed7841-5b12-4475-a4cc-30127b3f49aa\",\"document_id\":\"21a9b572-b1be-43e7-a143-b391ab52e966\"}},{\"Payload\":{\"processed\":\"f613e16d-3a35-44e8-a738-780091409c41\",\"document_id\":\"21a9b572-b1be-43e7-a143-b391ab52e966\"}},{\"Payload\":{\"processed\":\"b71f0f15-8dd6-45be-a80d-013bb84e5328\",\"document_id\":\"21a9b572-b1be-43e7-a143-b391ab52e966\"}},{\"Payload\":{\"processed\":\"9bfde52c-29a5-40ea-acc2-d5943b827f0f\",\"document_id\":\"21a9b572-b1be-43e7-a143-b391ab52e966\"}},{\"Payload\":{\"processed\":\"7bca3a37-0ac6-46fd-b482-ea7fb3241e54\",\"document_id\":\"21a9b572-b1be-43e7-a143-b391ab52e966\"}},{\"Payload\":{\"processed\":\"ed6a052e-c6d9-498f-8cae-294b01385f8b\",\"document_id\":\"21a9b572-b1be-43e7-a143-b391ab52e966\"}},{\"Payload\":{\"processed\":\"4c4aab2b-8b70-4c81-b19d-48b194328241\",\"document_id\":\"21a9b572-b1be-43e7-a143-b391ab52e966\"}},{\"Payload\":{\"processed\":\"032330a5-67bf-4ea5-a0a3-a1ccb3299bae\",\"document_id\":\"21a9b572-b1be-43e7-a143-b391ab52e966\"}},{\"Payload\":{\"processed\":\"9fbc82de-eda7-4504-b186-b1223741612e\",\"document_id\":\"21a9b572-b1be-43e7-a143-b391ab52e966\"}},{\"Payload\":{\"processed\":\"7b995823-9fd7-4b4f-8709-a67bc0753469\",\"document_id\":\"21a9b572-b1be-43e7-a143-b391ab52e966\"}},{\"Payload\":{\"processed\":\"a4c24287-d6e8-4eeb-96da-a8dab089e440\",\"document_id\":\"21a9b572-b1be-43e7-a143-b391ab52e966\"}},{\"Payload\":{\"processed\":\"2bf9521c-0047-4c66-bc8f-a4d326e9c96e\",\"document_id\":\"21a9b572-b1be-43e7-a143-b391ab52e966\"}},{\"Payload\":{\"processed\":\"24d02cbe-6d60-4ba3-a65b-4cf64c69aea8\",\"document_id\":\"21a9b572-b1be-43e7-a143-b391ab52e966\"}},{\"Payload\":{\"processed\":\"d0ac6137-de31-48a2-b4c0-b8d8a28d7fba\",\"document_id\":\"21a9b572-b1be-43e7-a143-b391ab52e966\"}},{\"Payload\":{\"processed\":\"db803493-5547-4527-b3de-6f5c9aac426c\",\"document_id\":\"21a9b572-b1be-43e7-a143-b391ab52e966\"}},{\"Payload\":{\"processed\":\"5e8c62d6-a751-4c1e-a6d5-2ee3fc6802fd\",\"document_id\":\"21a9b572-b1be-43e7-a143-b391ab52e966\"}},{\"Payload\":{\"processed\":\"dfa6c1dd-b8b9-4158-8069-1d276448f491\",\"document_id\":\"21a9b572-b1be-43e7-a143-b391ab52e966\"}},{\"Payload\":{\"processed\":\"ecc88e7f-2eb2-4589-9c8a-bc2deff8ffcf\",\"document_id\":\"21a9b572-b1be-43e7-a143-b391ab52e966\"}},{\"Payload\":{\"processed\":\"96fe609a-5460-488c-81c4-c1067811af2f\",\"document_id\":\"21a9b572-b1be-43e7-a143-b391ab52e966\"}},{\"Payload\":{\"processed\":\"551be579-9d4a-4fb2-9723-e93a78654e37\",\"document_id\":\"21a9b572-b1be-43e7-a143-b391ab52e966\"}}]}\n"
     ]
    },
    {
     "name": "stderr",
     "output_type": "stream",
     "text": [
      "6it [03:45, 36.99s/it]"
     ]
    },
    {
     "name": "stdout",
     "output_type": "stream",
     "text": [
      "GenKI Enhancing Open-Domain Question Answering with Knowledge Integration and Controllable Generation in Large Language Models.pdf\n"
     ]
    },
    {
     "name": "stderr",
     "output_type": "stream",
     "text": [
      "d:\\broai-arai\\backend\\package\\utils\\data_loder.py:22: UserWarning: [EXPERIMENT] You're using an experimental module, which is subject to change in future.: split_markdown\n",
      "  chunks = split_markdown(text)\n",
      "d:\\broai-arai\\backend\\package\\utils\\data_loder.py:23: UserWarning: [EXPERIMENT] You're using an experimental module, which is subject to change in future.: consolidate_markdown\n",
      "  consolidated_chunks = consolidate_markdown(chunks)\n",
      "d:\\broai-arai\\backend\\package\\utils\\data_loder.py:24: UserWarning: [EXPERIMENT] You're using an experimental module, which is subject to change in future.: get_markdown_sections\n",
      "  sections = get_markdown_sections(consolidated_chunks)\n",
      "d:\\broai-arai\\backend\\package\\utils\\data_loder.py:30: UserWarning: [EXPERIMENT] You're using an experimental module, which is subject to change in future.: split_overlap\n",
      "  new_contexts = split_overlap(contexts, max_tokens=max_tokens, overlap=overlap)\n"
     ]
    },
    {
     "name": "stdout",
     "output_type": "stream",
     "text": [
      "Markdown headings: max(2)\n",
      "Execution status: RUNNING\n",
      "Execution status: RUNNING\n",
      "Execution status: RUNNING\n",
      "Execution status: RUNNING\n",
      "Execution status: RUNNING\n",
      "Execution status: RUNNING\n",
      "Execution status: RUNNING\n",
      "Execution status: RUNNING\n",
      "Execution status: RUNNING\n",
      "Execution status: SUCCEEDED\n",
      "Execution output: {\"status\":\"success\",\"results\":[{\"Payload\":{\"processed\":\"f3447d9f-3909-414c-ac26-8a86296fe3eb\",\"document_id\":\"93c2444d-f2c3-4609-8bd9-badaa0930ac2\"}},{\"Payload\":{\"processed\":\"c9e58683-8f2c-4298-bf1f-e79f135e5e10\",\"document_id\":\"93c2444d-f2c3-4609-8bd9-badaa0930ac2\"}},{\"Payload\":{\"processed\":\"afaee9ce-fb09-4fa7-8ccd-956d3051c3ce\",\"document_id\":\"93c2444d-f2c3-4609-8bd9-badaa0930ac2\"}},{\"Payload\":{\"processed\":\"409a12b0-2fab-45f3-ab62-75e5913c4795\",\"document_id\":\"93c2444d-f2c3-4609-8bd9-badaa0930ac2\"}},{\"Payload\":{\"processed\":\"4eeff545-efcc-4e26-8dd1-686265144920\",\"document_id\":\"93c2444d-f2c3-4609-8bd9-badaa0930ac2\"}},{\"Payload\":{\"processed\":\"d0414251-25ee-4c6b-b4a0-59ec7787ae0e\",\"document_id\":\"93c2444d-f2c3-4609-8bd9-badaa0930ac2\"}},{\"Payload\":{\"processed\":\"b5a391d1-fd6d-4f72-a314-e19f6be5bd79\",\"document_id\":\"93c2444d-f2c3-4609-8bd9-badaa0930ac2\"}},{\"Payload\":{\"processed\":\"dc453f15-ffd2-4f63-b655-9ba25b54c490\",\"document_id\":\"93c2444d-f2c3-4609-8bd9-badaa0930ac2\"}},{\"Payload\":{\"processed\":\"8b2c367d-d324-4c5f-b7b2-88d745bad30e\",\"document_id\":\"93c2444d-f2c3-4609-8bd9-badaa0930ac2\"}},{\"Payload\":{\"processed\":\"953f85af-8866-4af7-baec-e48228ce3939\",\"document_id\":\"93c2444d-f2c3-4609-8bd9-badaa0930ac2\"}},{\"Payload\":{\"processed\":\"72c1319e-7b74-4bd2-837a-9335101000f4\",\"document_id\":\"93c2444d-f2c3-4609-8bd9-badaa0930ac2\"}},{\"Payload\":{\"processed\":\"a4765d67-6d81-4440-8ab1-f750e996896b\",\"document_id\":\"93c2444d-f2c3-4609-8bd9-badaa0930ac2\"}},{\"Payload\":{\"processed\":\"692be8dc-32da-465d-acac-43e98d29fbc8\",\"document_id\":\"93c2444d-f2c3-4609-8bd9-badaa0930ac2\"}},{\"Payload\":{\"processed\":\"127602a4-ed1e-486c-91c3-ef0e0094d603\",\"document_id\":\"93c2444d-f2c3-4609-8bd9-badaa0930ac2\"}},{\"Payload\":{\"processed\":\"20a032dc-b729-40f3-a06c-e585d16e1db2\",\"document_id\":\"93c2444d-f2c3-4609-8bd9-badaa0930ac2\"}},{\"Payload\":{\"processed\":\"a4e20871-d42a-413f-b0ea-3bb94f9b1030\",\"document_id\":\"93c2444d-f2c3-4609-8bd9-badaa0930ac2\"}},{\"Payload\":{\"processed\":\"bd756d6b-0f20-413f-a9d9-b46b49862a17\",\"document_id\":\"93c2444d-f2c3-4609-8bd9-badaa0930ac2\"}},{\"Payload\":{\"processed\":\"f78b2779-a2de-4001-a122-7596c58d21c9\",\"document_id\":\"93c2444d-f2c3-4609-8bd9-badaa0930ac2\"}},{\"Payload\":{\"processed\":\"55feb7f6-f950-41e2-91bb-7ec4ecb5bf13\",\"document_id\":\"93c2444d-f2c3-4609-8bd9-badaa0930ac2\"}},{\"Payload\":{\"processed\":\"0fcd3b69-8695-4bcb-afe5-8a0f14091c56\",\"document_id\":\"93c2444d-f2c3-4609-8bd9-badaa0930ac2\"}},{\"Payload\":{\"processed\":\"f4d5ad86-106b-4b26-858b-3053757fd5cf\",\"document_id\":\"93c2444d-f2c3-4609-8bd9-badaa0930ac2\"}},{\"Payload\":{\"processed\":\"6039bc77-4b27-4131-bfd7-d4a5fb512ab3\",\"document_id\":\"93c2444d-f2c3-4609-8bd9-badaa0930ac2\"}},{\"Payload\":{\"processed\":\"1845abfe-6eee-40b8-8f79-cfee858a9f6a\",\"document_id\":\"93c2444d-f2c3-4609-8bd9-badaa0930ac2\"}},{\"Payload\":{\"processed\":\"793121b7-6e2a-484f-94d5-0acf26c07cfc\",\"document_id\":\"93c2444d-f2c3-4609-8bd9-badaa0930ac2\"}},{\"Payload\":{\"processed\":\"a5992627-8745-46f4-afef-1f59fc8d41be\",\"document_id\":\"93c2444d-f2c3-4609-8bd9-badaa0930ac2\"}},{\"Payload\":{\"processed\":\"186b9924-97a7-4b2b-9408-d316a41a407e\",\"document_id\":\"93c2444d-f2c3-4609-8bd9-badaa0930ac2\"}},{\"Payload\":{\"processed\":\"3c5dfe21-15ac-4223-bf44-779cf90f24d2\",\"document_id\":\"93c2444d-f2c3-4609-8bd9-badaa0930ac2\"}},{\"Payload\":{\"processed\":\"6e2b1bdc-0dd1-42e8-93eb-917daebb1f4f\",\"document_id\":\"93c2444d-f2c3-4609-8bd9-badaa0930ac2\"}},{\"Payload\":{\"processed\":\"733fd214-f2f7-4e16-b63f-47ccc0c13ec7\",\"document_id\":\"93c2444d-f2c3-4609-8bd9-badaa0930ac2\"}},{\"Payload\":{\"processed\":\"2361aa55-3c9f-4ed4-86ed-ca9d50f75c76\",\"document_id\":\"93c2444d-f2c3-4609-8bd9-badaa0930ac2\"}},{\"Payload\":{\"processed\":\"a5b8fe30-ca13-490d-be73-33a17efdb815\",\"document_id\":\"93c2444d-f2c3-4609-8bd9-badaa0930ac2\"}},{\"Payload\":{\"processed\":\"fba10bef-edb6-47e1-bd11-16cea4daa098\",\"document_id\":\"93c2444d-f2c3-4609-8bd9-badaa0930ac2\"}},{\"Payload\":{\"processed\":\"0608cdde-0b8a-4ef0-bba2-e841841da090\",\"document_id\":\"93c2444d-f2c3-4609-8bd9-badaa0930ac2\"}},{\"Payload\":{\"processed\":\"3a9a9d73-b6bd-4279-a1e0-2df8386a11f4\",\"document_id\":\"93c2444d-f2c3-4609-8bd9-badaa0930ac2\"}},{\"Payload\":{\"processed\":\"df28a9a6-25db-47fa-981d-514c0d84f900\",\"document_id\":\"93c2444d-f2c3-4609-8bd9-badaa0930ac2\"}},{\"Payload\":{\"processed\":\"a9b8f0ef-d941-450b-87c7-cdbb21f0fb2d\",\"document_id\":\"93c2444d-f2c3-4609-8bd9-badaa0930ac2\"}},{\"Payload\":{\"processed\":\"6ed5ddfd-cab9-42ba-9a6c-f5249720ed48\",\"document_id\":\"93c2444d-f2c3-4609-8bd9-badaa0930ac2\"}},{\"Payload\":{\"processed\":\"74921169-49e6-4844-b8c6-c161e7ae6f59\",\"document_id\":\"93c2444d-f2c3-4609-8bd9-badaa0930ac2\"}},{\"Payload\":{\"processed\":\"53b2c8d4-6c2f-400e-b0e3-bd27790393bd\",\"document_id\":\"93c2444d-f2c3-4609-8bd9-badaa0930ac2\"}},{\"Payload\":{\"processed\":\"475c7bce-d46d-40a4-bdbe-b82ae96a86b1\",\"document_id\":\"93c2444d-f2c3-4609-8bd9-badaa0930ac2\"}},{\"Payload\":{\"processed\":\"854a6c23-f2e2-4d90-b3bc-e3a92519d2b6\",\"document_id\":\"93c2444d-f2c3-4609-8bd9-badaa0930ac2\"}},{\"Payload\":{\"processed\":\"bceb6e5f-ea95-4243-a601-6fe7e9ce1231\",\"document_id\":\"93c2444d-f2c3-4609-8bd9-badaa0930ac2\"}},{\"Payload\":{\"processed\":\"89bfb47a-b6b1-4ddd-9803-df9c34caf50e\",\"document_id\":\"93c2444d-f2c3-4609-8bd9-badaa0930ac2\"}},{\"Payload\":{\"processed\":\"5345f36a-a02e-40e5-b7bd-c1d7a489b270\",\"document_id\":\"93c2444d-f2c3-4609-8bd9-badaa0930ac2\"}},{\"Payload\":{\"processed\":\"3d523ba6-614e-48d6-aaf8-e1181b7d70ef\",\"document_id\":\"93c2444d-f2c3-4609-8bd9-badaa0930ac2\"}},{\"Payload\":{\"processed\":\"146bf238-a649-44f7-9b5e-ce24e41681b2\",\"document_id\":\"93c2444d-f2c3-4609-8bd9-badaa0930ac2\"}},{\"Payload\":{\"processed\":\"9fff7920-4020-40f8-9681-1d942cceb1ed\",\"document_id\":\"93c2444d-f2c3-4609-8bd9-badaa0930ac2\"}},{\"Payload\":{\"processed\":\"bdd84b5a-4083-44bf-9667-6129d9a7cc6c\",\"document_id\":\"93c2444d-f2c3-4609-8bd9-badaa0930ac2\"}},{\"Payload\":{\"processed\":\"ad836170-0dd6-4a54-825a-a0bd80d2e6e2\",\"document_id\":\"93c2444d-f2c3-4609-8bd9-badaa0930ac2\"}},{\"Payload\":{\"processed\":\"0b55b7ca-be11-44f7-a954-4af6be211a84\",\"document_id\":\"93c2444d-f2c3-4609-8bd9-badaa0930ac2\"}},{\"Payload\":{\"processed\":\"2d2f5e5e-1e1a-46a7-a341-1dbc870fd908\",\"document_id\":\"93c2444d-f2c3-4609-8bd9-badaa0930ac2\"}},{\"Payload\":{\"processed\":\"dadbd3f6-aa0f-42ad-b13b-c0f388735ad9\",\"document_id\":\"93c2444d-f2c3-4609-8bd9-badaa0930ac2\"}},{\"Payload\":{\"processed\":\"d2f6e8a7-cca4-45e9-9164-d65e95241a39\",\"document_id\":\"93c2444d-f2c3-4609-8bd9-badaa0930ac2\"}},{\"Payload\":{\"processed\":\"30da11d0-7c82-4760-b4be-59b1743a73db\",\"document_id\":\"93c2444d-f2c3-4609-8bd9-badaa0930ac2\"}},{\"Payload\":{\"processed\":\"8c7aafc5-c7f8-4245-9781-c98476912155\",\"document_id\":\"93c2444d-f2c3-4609-8bd9-badaa0930ac2\"}},{\"Payload\":{\"processed\":\"f503ce9a-ec0b-46d2-8504-77895bd32d5d\",\"document_id\":\"93c2444d-f2c3-4609-8bd9-badaa0930ac2\"}},{\"Payload\":{\"processed\":\"2b66aefc-ab18-4741-ac68-ce183f1593b7\",\"document_id\":\"93c2444d-f2c3-4609-8bd9-badaa0930ac2\"}},{\"Payload\":{\"processed\":\"e4e573fa-dcf9-4235-9497-b79c79b05662\",\"document_id\":\"93c2444d-f2c3-4609-8bd9-badaa0930ac2\"}},{\"Payload\":{\"processed\":\"9215baee-2c34-46b9-a584-9631a17c372c\",\"document_id\":\"93c2444d-f2c3-4609-8bd9-badaa0930ac2\"}},{\"Payload\":{\"processed\":\"c65feb38-8de9-405e-b478-4c89b051f9c8\",\"document_id\":\"93c2444d-f2c3-4609-8bd9-badaa0930ac2\"}},{\"Payload\":{\"processed\":\"11b34a5c-8245-4ac3-a204-30538ae9a0ae\",\"document_id\":\"93c2444d-f2c3-4609-8bd9-badaa0930ac2\"}},{\"Payload\":{\"processed\":\"1686c93e-7e3e-42b1-8507-e222cd852c8f\",\"document_id\":\"93c2444d-f2c3-4609-8bd9-badaa0930ac2\"}},{\"Payload\":{\"processed\":\"bdbe276d-a6c8-41a0-88d1-12cb947ef0e6\",\"document_id\":\"93c2444d-f2c3-4609-8bd9-badaa0930ac2\"}},{\"Payload\":{\"processed\":\"c8f6060e-5431-4d38-b65a-57bc8455715c\",\"document_id\":\"93c2444d-f2c3-4609-8bd9-badaa0930ac2\"}},{\"Payload\":{\"processed\":\"d281f17e-4678-4bab-8a09-42f70f165a19\",\"document_id\":\"93c2444d-f2c3-4609-8bd9-badaa0930ac2\"}},{\"Payload\":{\"processed\":\"fa02b60b-dd5d-4649-9646-8939bf48e24e\",\"document_id\":\"93c2444d-f2c3-4609-8bd9-badaa0930ac2\"}},{\"Payload\":{\"processed\":\"c68a20fc-1b5b-4727-8ea0-d7d27b2242d8\",\"document_id\":\"93c2444d-f2c3-4609-8bd9-badaa0930ac2\"}},{\"Payload\":{\"processed\":\"9a2dd895-d115-499e-a0bf-b1d31311491c\",\"document_id\":\"93c2444d-f2c3-4609-8bd9-badaa0930ac2\"}},{\"Payload\":{\"processed\":\"d6e6666b-3074-4047-8b5d-9aeb612118da\",\"document_id\":\"93c2444d-f2c3-4609-8bd9-badaa0930ac2\"}},{\"Payload\":{\"processed\":\"7e8e2ea6-3587-46ca-b5ed-8231ef13739a\",\"document_id\":\"93c2444d-f2c3-4609-8bd9-badaa0930ac2\"}},{\"Payload\":{\"processed\":\"05121046-2631-429f-9814-c575540c407c\",\"document_id\":\"93c2444d-f2c3-4609-8bd9-badaa0930ac2\"}},{\"Payload\":{\"processed\":\"0431cd6a-32a4-4850-9eba-cd0e80f4d067\",\"document_id\":\"93c2444d-f2c3-4609-8bd9-badaa0930ac2\"}},{\"Payload\":{\"processed\":\"b34ca2a5-bd1a-410d-ae07-a3d0d6272e0c\",\"document_id\":\"93c2444d-f2c3-4609-8bd9-badaa0930ac2\"}},{\"Payload\":{\"processed\":\"b7fa951d-5108-4f31-a18d-7a1b649f264d\",\"document_id\":\"93c2444d-f2c3-4609-8bd9-badaa0930ac2\"}},{\"Payload\":{\"processed\":\"69ac87bb-6c27-4598-ab50-84c821a283fd\",\"document_id\":\"93c2444d-f2c3-4609-8bd9-badaa0930ac2\"}},{\"Payload\":{\"processed\":\"da659370-9d14-424b-a73e-3e3fd1f4fda2\",\"document_id\":\"93c2444d-f2c3-4609-8bd9-badaa0930ac2\"}},{\"Payload\":{\"processed\":\"ef3fb8e1-f054-45de-a09e-8d1f4c6ecef9\",\"document_id\":\"93c2444d-f2c3-4609-8bd9-badaa0930ac2\"}},{\"Payload\":{\"processed\":\"d4a12d0f-8776-44f9-be35-30b63c713d66\",\"document_id\":\"93c2444d-f2c3-4609-8bd9-badaa0930ac2\"}},{\"Payload\":{\"processed\":\"357c801a-41e0-4a87-96b1-2a9d878e7f72\",\"document_id\":\"93c2444d-f2c3-4609-8bd9-badaa0930ac2\"}},{\"Payload\":{\"processed\":\"5d4b6f0f-90d9-4824-a4d8-eb9851a49837\",\"document_id\":\"93c2444d-f2c3-4609-8bd9-badaa0930ac2\"}},{\"Payload\":{\"processed\":\"c3384926-be0e-45c1-bb12-eba2c283e514\",\"document_id\":\"93c2444d-f2c3-4609-8bd9-badaa0930ac2\"}},{\"Payload\":{\"processed\":\"72285983-0309-42cf-b0d2-53a1a7cc7e1d\",\"document_id\":\"93c2444d-f2c3-4609-8bd9-badaa0930ac2\"}},{\"Payload\":{\"processed\":\"15e9d5bc-31b6-4f1a-a9be-ddb9d65e246c\",\"document_id\":\"93c2444d-f2c3-4609-8bd9-badaa0930ac2\"}},{\"Payload\":{\"processed\":\"a30b7a91-817b-45d2-a78e-61c37625ab84\",\"document_id\":\"93c2444d-f2c3-4609-8bd9-badaa0930ac2\"}},{\"Payload\":{\"processed\":\"6171b1b2-4572-4744-96e6-e29238b20b9c\",\"document_id\":\"93c2444d-f2c3-4609-8bd9-badaa0930ac2\"}},{\"Payload\":{\"processed\":\"5f92d173-9280-465c-ae6f-731ffdc8a05e\",\"document_id\":\"93c2444d-f2c3-4609-8bd9-badaa0930ac2\"}},{\"Payload\":{\"processed\":\"96dece81-be1d-405e-9e17-5f570ec895d1\",\"document_id\":\"93c2444d-f2c3-4609-8bd9-badaa0930ac2\"}},{\"Payload\":{\"processed\":\"9374aeb5-6060-42b7-95c3-6de20230affe\",\"document_id\":\"93c2444d-f2c3-4609-8bd9-badaa0930ac2\"}},{\"Payload\":{\"processed\":\"1cfdd75a-6f95-40b9-af1c-c356f163b5eb\",\"document_id\":\"93c2444d-f2c3-4609-8bd9-badaa0930ac2\"}}]}\n"
     ]
    },
    {
     "name": "stderr",
     "output_type": "stream",
     "text": [
      "7it [04:25, 38.12s/it]"
     ]
    },
    {
     "name": "stdout",
     "output_type": "stream",
     "text": [
      "HippoRAG Neurobiologically Inspired Long-Term Memory for Large Language Models.pdf\n"
     ]
    },
    {
     "name": "stderr",
     "output_type": "stream",
     "text": [
      "d:\\broai-arai\\backend\\package\\utils\\data_loder.py:22: UserWarning: [EXPERIMENT] You're using an experimental module, which is subject to change in future.: split_markdown\n",
      "  chunks = split_markdown(text)\n",
      "d:\\broai-arai\\backend\\package\\utils\\data_loder.py:23: UserWarning: [EXPERIMENT] You're using an experimental module, which is subject to change in future.: consolidate_markdown\n",
      "  consolidated_chunks = consolidate_markdown(chunks)\n",
      "d:\\broai-arai\\backend\\package\\utils\\data_loder.py:24: UserWarning: [EXPERIMENT] You're using an experimental module, which is subject to change in future.: get_markdown_sections\n",
      "  sections = get_markdown_sections(consolidated_chunks)\n",
      "d:\\broai-arai\\backend\\package\\utils\\data_loder.py:30: UserWarning: [EXPERIMENT] You're using an experimental module, which is subject to change in future.: split_overlap\n",
      "  new_contexts = split_overlap(contexts, max_tokens=max_tokens, overlap=overlap)\n"
     ]
    },
    {
     "name": "stdout",
     "output_type": "stream",
     "text": [
      "Markdown headings: max(2)\n",
      "Execution status: RUNNING\n",
      "Execution status: RUNNING\n",
      "Execution status: RUNNING\n",
      "Execution status: RUNNING\n",
      "Execution status: RUNNING\n",
      "Execution status: RUNNING\n",
      "Execution status: RUNNING\n",
      "Execution status: RUNNING\n",
      "Execution status: RUNNING\n",
      "Execution status: RUNNING\n",
      "Execution status: RUNNING\n",
      "Execution status: RUNNING\n",
      "Execution status: RUNNING\n",
      "Execution status: RUNNING\n",
      "Execution status: SUCCEEDED\n",
      "Execution output: {\"status\":\"success\",\"results\":[{\"Payload\":{\"processed\":\"d91bb241-2766-4e8c-8ad1-1ae8b3dca7be\",\"document_id\":\"d62d0f7b-ea37-42f7-8402-cf68a4541717\"}},{\"Payload\":{\"processed\":\"d424dcdd-a14f-407d-b1a0-ba69071645f8\",\"document_id\":\"d62d0f7b-ea37-42f7-8402-cf68a4541717\"}},{\"Payload\":{\"processed\":\"b44a491b-23a2-4424-86c8-9195583ec95f\",\"document_id\":\"d62d0f7b-ea37-42f7-8402-cf68a4541717\"}},{\"Payload\":{\"processed\":\"b232c452-814e-4dcf-9293-5734e9426822\",\"document_id\":\"d62d0f7b-ea37-42f7-8402-cf68a4541717\"}},{\"Payload\":{\"processed\":\"cde5d5b8-11f6-4b31-87d7-f52c9ae06367\",\"document_id\":\"d62d0f7b-ea37-42f7-8402-cf68a4541717\"}},{\"Payload\":{\"processed\":\"d638c6b0-6161-4927-8db8-683c75dc33ba\",\"document_id\":\"d62d0f7b-ea37-42f7-8402-cf68a4541717\"}},{\"Payload\":{\"processed\":\"fce463b6-e663-4ae2-afc4-a943e055dc52\",\"document_id\":\"d62d0f7b-ea37-42f7-8402-cf68a4541717\"}},{\"Payload\":{\"processed\":\"8c891ef8-b379-4e91-aa8f-cbb8e99c7fc6\",\"document_id\":\"d62d0f7b-ea37-42f7-8402-cf68a4541717\"}},{\"Payload\":{\"processed\":\"641c6c6e-f406-4627-9f41-c6151aeb1768\",\"document_id\":\"d62d0f7b-ea37-42f7-8402-cf68a4541717\"}},{\"Payload\":{\"processed\":\"204b77c2-1a5a-4899-8ddd-bf945129c32a\",\"document_id\":\"d62d0f7b-ea37-42f7-8402-cf68a4541717\"}},{\"Payload\":{\"processed\":\"0caa60ac-0c3a-4bc2-802e-a2797c54276c\",\"document_id\":\"d62d0f7b-ea37-42f7-8402-cf68a4541717\"}},{\"Payload\":{\"processed\":\"7e364cf6-52a5-498a-b506-c3e28a4ca992\",\"document_id\":\"d62d0f7b-ea37-42f7-8402-cf68a4541717\"}},{\"Payload\":{\"processed\":\"1a0242fc-7629-4448-8841-b900e2aec5ce\",\"document_id\":\"d62d0f7b-ea37-42f7-8402-cf68a4541717\"}},{\"Payload\":{\"processed\":\"fb133997-4d18-404d-bfe7-597832e60751\",\"document_id\":\"d62d0f7b-ea37-42f7-8402-cf68a4541717\"}},{\"Payload\":{\"processed\":\"cd8577fa-a211-4c02-aff2-36ff56f26f41\",\"document_id\":\"d62d0f7b-ea37-42f7-8402-cf68a4541717\"}},{\"Payload\":{\"processed\":\"69197fb9-7629-40c5-a028-33ef96ddbf7b\",\"document_id\":\"d62d0f7b-ea37-42f7-8402-cf68a4541717\"}},{\"Payload\":{\"processed\":\"9d1c21d0-9a91-4f5e-a666-33a11fce3416\",\"document_id\":\"d62d0f7b-ea37-42f7-8402-cf68a4541717\"}},{\"Payload\":{\"processed\":\"491702fc-3f76-4c61-a319-f0ef3f57cb89\",\"document_id\":\"d62d0f7b-ea37-42f7-8402-cf68a4541717\"}},{\"Payload\":{\"processed\":\"7638b034-2882-45e8-9f58-6d7f4c4fb0fb\",\"document_id\":\"d62d0f7b-ea37-42f7-8402-cf68a4541717\"}},{\"Payload\":{\"processed\":\"3373ef4f-7d90-4bd4-90ab-a692e0ee7ef5\",\"document_id\":\"d62d0f7b-ea37-42f7-8402-cf68a4541717\"}},{\"Payload\":{\"processed\":\"32277d90-0a71-4d3f-bf38-9c46f0760cda\",\"document_id\":\"d62d0f7b-ea37-42f7-8402-cf68a4541717\"}},{\"Payload\":{\"processed\":\"73d9aae2-7acd-4eeb-99f5-1e6cd9b890ac\",\"document_id\":\"d62d0f7b-ea37-42f7-8402-cf68a4541717\"}},{\"Payload\":{\"processed\":\"d9316d56-e40f-4a6c-b119-2d38f5c9bf7a\",\"document_id\":\"d62d0f7b-ea37-42f7-8402-cf68a4541717\"}},{\"Payload\":{\"processed\":\"58898e9c-bd2a-4a01-a894-f955ecb1fbf7\",\"document_id\":\"d62d0f7b-ea37-42f7-8402-cf68a4541717\"}},{\"Payload\":{\"processed\":\"70064547-57dd-4973-abe0-a6ee4fc08f28\",\"document_id\":\"d62d0f7b-ea37-42f7-8402-cf68a4541717\"}},{\"Payload\":{\"processed\":\"75e5a703-5ed4-4f6b-87c5-31f21b2ebcb6\",\"document_id\":\"d62d0f7b-ea37-42f7-8402-cf68a4541717\"}},{\"Payload\":{\"processed\":\"a97c16ab-9ad9-4c3d-8d9e-c96916c50b1b\",\"document_id\":\"d62d0f7b-ea37-42f7-8402-cf68a4541717\"}},{\"Payload\":{\"processed\":\"a92e3b93-2372-430f-be03-791403877e1b\",\"document_id\":\"d62d0f7b-ea37-42f7-8402-cf68a4541717\"}},{\"Payload\":{\"processed\":\"accec40a-657d-460a-aa51-b2d67030abb0\",\"document_id\":\"d62d0f7b-ea37-42f7-8402-cf68a4541717\"}},{\"Payload\":{\"processed\":\"d4c72710-d595-40d9-9d8b-c4d22397d6bc\",\"document_id\":\"d62d0f7b-ea37-42f7-8402-cf68a4541717\"}},{\"Payload\":{\"processed\":\"71d04cbc-98cc-44cf-9f57-9b815d464309\",\"document_id\":\"d62d0f7b-ea37-42f7-8402-cf68a4541717\"}},{\"Payload\":{\"processed\":\"74bad32a-6bd9-4a38-8d3f-a07e12cc5b7a\",\"document_id\":\"d62d0f7b-ea37-42f7-8402-cf68a4541717\"}},{\"Payload\":{\"processed\":\"f86f513b-dea1-4548-84bb-7e17988d9043\",\"document_id\":\"d62d0f7b-ea37-42f7-8402-cf68a4541717\"}},{\"Payload\":{\"processed\":\"8721a339-89c3-4193-aa82-cd57f049de75\",\"document_id\":\"d62d0f7b-ea37-42f7-8402-cf68a4541717\"}},{\"Payload\":{\"processed\":\"1df68170-c8b1-4047-b522-5b82556b7883\",\"document_id\":\"d62d0f7b-ea37-42f7-8402-cf68a4541717\"}},{\"Payload\":{\"processed\":\"1121f19a-daf6-40e2-8904-8d427ba812c5\",\"document_id\":\"d62d0f7b-ea37-42f7-8402-cf68a4541717\"}},{\"Payload\":{\"processed\":\"fe0500f6-6194-4c32-a721-0f10f15e6a58\",\"document_id\":\"d62d0f7b-ea37-42f7-8402-cf68a4541717\"}},{\"Payload\":{\"processed\":\"52cfa201-3c59-4061-9d7b-49f25f5d3794\",\"document_id\":\"d62d0f7b-ea37-42f7-8402-cf68a4541717\"}},{\"Payload\":{\"processed\":\"d4b9ffc4-7a44-4817-afab-4a0ef2009aff\",\"document_id\":\"d62d0f7b-ea37-42f7-8402-cf68a4541717\"}},{\"Payload\":{\"processed\":\"2a86306e-b187-4076-a3c3-e2ac5d99753b\",\"document_id\":\"d62d0f7b-ea37-42f7-8402-cf68a4541717\"}},{\"Payload\":{\"processed\":\"8973a707-601f-4253-9071-0173f977acdb\",\"document_id\":\"d62d0f7b-ea37-42f7-8402-cf68a4541717\"}},{\"Payload\":{\"processed\":\"63568c71-8447-442f-8b97-ca156d8d7390\",\"document_id\":\"d62d0f7b-ea37-42f7-8402-cf68a4541717\"}},{\"Payload\":{\"processed\":\"fbffd6ee-4b90-4557-b46c-5da4e7de0dfe\",\"document_id\":\"d62d0f7b-ea37-42f7-8402-cf68a4541717\"}},{\"Payload\":{\"processed\":\"ab97c3aa-5003-4e4d-be83-3d9f07311275\",\"document_id\":\"d62d0f7b-ea37-42f7-8402-cf68a4541717\"}},{\"Payload\":{\"processed\":\"7e2a9a2b-1b55-42a6-9fea-cb71024e0d66\",\"document_id\":\"d62d0f7b-ea37-42f7-8402-cf68a4541717\"}},{\"Payload\":{\"processed\":\"ada21bb2-3924-4b7a-af38-05428dce9640\",\"document_id\":\"d62d0f7b-ea37-42f7-8402-cf68a4541717\"}},{\"Payload\":{\"processed\":\"9f2120a9-7387-4996-839e-ba8e335051aa\",\"document_id\":\"d62d0f7b-ea37-42f7-8402-cf68a4541717\"}},{\"Payload\":{\"processed\":\"72b356f9-4e28-427f-bbb4-05a29b13bfab\",\"document_id\":\"d62d0f7b-ea37-42f7-8402-cf68a4541717\"}},{\"Payload\":{\"processed\":\"76bfd723-b0e9-4e6e-b11b-1a64c0424437\",\"document_id\":\"d62d0f7b-ea37-42f7-8402-cf68a4541717\"}},{\"Payload\":{\"processed\":\"53e67b18-0e8b-4d89-83ba-52a87e0a2104\",\"document_id\":\"d62d0f7b-ea37-42f7-8402-cf68a4541717\"}},{\"Payload\":{\"processed\":\"56c81d58-3e2c-4ca6-9c7e-eebc8fc2a8e2\",\"document_id\":\"d62d0f7b-ea37-42f7-8402-cf68a4541717\"}},{\"Payload\":{\"processed\":\"085f503a-2973-4b7d-9f80-da368b66bd13\",\"document_id\":\"d62d0f7b-ea37-42f7-8402-cf68a4541717\"}},{\"Payload\":{\"processed\":\"bb55e08f-7581-42a1-9194-4817901ac273\",\"document_id\":\"d62d0f7b-ea37-42f7-8402-cf68a4541717\"}},{\"Payload\":{\"processed\":\"7c66e2ab-7ec2-4cd4-ab08-4816974a51ff\",\"document_id\":\"d62d0f7b-ea37-42f7-8402-cf68a4541717\"}},{\"Payload\":{\"processed\":\"277c3fdc-0a11-4de8-af48-c1a48e08708a\",\"document_id\":\"d62d0f7b-ea37-42f7-8402-cf68a4541717\"}},{\"Payload\":{\"processed\":\"a93d8737-a464-48b9-847f-be3566b234c3\",\"document_id\":\"d62d0f7b-ea37-42f7-8402-cf68a4541717\"}},{\"Payload\":{\"processed\":\"1a57869f-6e51-44c4-b03c-74f37d5917cd\",\"document_id\":\"d62d0f7b-ea37-42f7-8402-cf68a4541717\"}},{\"Payload\":{\"processed\":\"47a73c5b-9c42-4788-be9d-4bc7ef6c592e\",\"document_id\":\"d62d0f7b-ea37-42f7-8402-cf68a4541717\"}},{\"Payload\":{\"processed\":\"9532edd4-2378-440f-8a65-3282d71a2999\",\"document_id\":\"d62d0f7b-ea37-42f7-8402-cf68a4541717\"}},{\"Payload\":{\"processed\":\"0b29be85-2c34-489f-94fb-2ef75486668e\",\"document_id\":\"d62d0f7b-ea37-42f7-8402-cf68a4541717\"}},{\"Payload\":{\"processed\":\"b8df0bcf-a7c6-40d9-b5d8-93b8928b1fd5\",\"document_id\":\"d62d0f7b-ea37-42f7-8402-cf68a4541717\"}},{\"Payload\":{\"processed\":\"98955355-5b95-46bb-9d38-3d743d560453\",\"document_id\":\"d62d0f7b-ea37-42f7-8402-cf68a4541717\"}},{\"Payload\":{\"processed\":\"536d696b-9982-4c06-bc3e-2d0267c6cfd7\",\"document_id\":\"d62d0f7b-ea37-42f7-8402-cf68a4541717\"}},{\"Payload\":{\"processed\":\"5a512743-74b0-4af2-9834-1db6490af24a\",\"document_id\":\"d62d0f7b-ea37-42f7-8402-cf68a4541717\"}},{\"Payload\":{\"processed\":\"b8e1e314-84aa-4010-b788-11dde5c3d88b\",\"document_id\":\"d62d0f7b-ea37-42f7-8402-cf68a4541717\"}},{\"Payload\":{\"processed\":\"89d0ab85-9e3b-4509-b557-f622c0849295\",\"document_id\":\"d62d0f7b-ea37-42f7-8402-cf68a4541717\"}},{\"Payload\":{\"processed\":\"82aa2b9e-4917-46f1-9cb6-4355dee8e205\",\"document_id\":\"d62d0f7b-ea37-42f7-8402-cf68a4541717\"}},{\"Payload\":{\"processed\":\"5dfc79b5-222c-43db-9ddf-271905709396\",\"document_id\":\"d62d0f7b-ea37-42f7-8402-cf68a4541717\"}},{\"Payload\":{\"processed\":\"0cfecc44-15fe-40aa-8dd1-9218729323e0\",\"document_id\":\"d62d0f7b-ea37-42f7-8402-cf68a4541717\"}},{\"Payload\":{\"processed\":\"95fd1814-3b34-43c6-905e-f8e49e15c029\",\"document_id\":\"d62d0f7b-ea37-42f7-8402-cf68a4541717\"}},{\"Payload\":{\"processed\":\"a38a5786-6ac0-460c-b0ff-90ad0660b6eb\",\"document_id\":\"d62d0f7b-ea37-42f7-8402-cf68a4541717\"}},{\"Payload\":{\"processed\":\"26c3f152-cfa2-482a-aeda-50769bd79db5\",\"document_id\":\"d62d0f7b-ea37-42f7-8402-cf68a4541717\"}},{\"Payload\":{\"processed\":\"b3b51110-8f3e-47aa-b82f-a033799388fe\",\"document_id\":\"d62d0f7b-ea37-42f7-8402-cf68a4541717\"}},{\"Payload\":{\"processed\":\"40c7edf9-58e8-4762-bf41-295dd3524ca6\",\"document_id\":\"d62d0f7b-ea37-42f7-8402-cf68a4541717\"}},{\"Payload\":{\"processed\":\"0933a0d9-bd58-43e5-ac40-5826015f1bef\",\"document_id\":\"d62d0f7b-ea37-42f7-8402-cf68a4541717\"}},{\"Payload\":{\"processed\":\"225e4603-25b0-4f09-95c5-f3dc00246aaa\",\"document_id\":\"d62d0f7b-ea37-42f7-8402-cf68a4541717\"}},{\"Payload\":{\"processed\":\"c31e3a30-6a1c-4581-9424-9f1d8c1771db\",\"document_id\":\"d62d0f7b-ea37-42f7-8402-cf68a4541717\"}},{\"Payload\":{\"processed\":\"6d360ef0-1198-4c34-83f3-d721162b03a1\",\"document_id\":\"d62d0f7b-ea37-42f7-8402-cf68a4541717\"}},{\"Payload\":{\"processed\":\"25a42229-a2aa-4fcb-b3f9-50d5e108851e\",\"document_id\":\"d62d0f7b-ea37-42f7-8402-cf68a4541717\"}},{\"Payload\":{\"processed\":\"aebe8d30-4fcf-4e5e-8bc7-078c7f261566\",\"document_id\":\"d62d0f7b-ea37-42f7-8402-cf68a4541717\"}},{\"Payload\":{\"processed\":\"2229a994-b9d1-4bc0-babc-05e121b386ac\",\"document_id\":\"d62d0f7b-ea37-42f7-8402-cf68a4541717\"}},{\"Payload\":{\"processed\":\"0e40cf7c-3782-4573-b140-c5ed2a62ce5d\",\"document_id\":\"d62d0f7b-ea37-42f7-8402-cf68a4541717\"}},{\"Payload\":{\"processed\":\"40f35cf6-9b54-4ee2-99d1-ad90b67d11e2\",\"document_id\":\"d62d0f7b-ea37-42f7-8402-cf68a4541717\"}},{\"Payload\":{\"processed\":\"c1c8a117-0b01-4b6a-8d73-aada99b527e1\",\"document_id\":\"d62d0f7b-ea37-42f7-8402-cf68a4541717\"}},{\"Payload\":{\"processed\":\"4b308dca-32eb-4654-927d-4981fcb326c5\",\"document_id\":\"d62d0f7b-ea37-42f7-8402-cf68a4541717\"}},{\"Payload\":{\"processed\":\"40a27501-be90-4231-bf51-50b5793995d3\",\"document_id\":\"d62d0f7b-ea37-42f7-8402-cf68a4541717\"}},{\"Payload\":{\"processed\":\"201db8ea-834d-4811-a6d6-5853ed8c1b99\",\"document_id\":\"d62d0f7b-ea37-42f7-8402-cf68a4541717\"}},{\"Payload\":{\"processed\":\"33d7a1f4-ddae-47a8-9a1e-4d9aba16a7f0\",\"document_id\":\"d62d0f7b-ea37-42f7-8402-cf68a4541717\"}},{\"Payload\":{\"processed\":\"4f0a68b9-f552-4ff1-b579-432b0125b7b7\",\"document_id\":\"d62d0f7b-ea37-42f7-8402-cf68a4541717\"}},{\"Payload\":{\"processed\":\"343a2f72-2798-463c-8f12-2610950ffcf0\",\"document_id\":\"d62d0f7b-ea37-42f7-8402-cf68a4541717\"}},{\"Payload\":{\"processed\":\"d4ef0ba2-79f5-4e4d-95f0-5478e0b0542f\",\"document_id\":\"d62d0f7b-ea37-42f7-8402-cf68a4541717\"}},{\"Payload\":{\"processed\":\"2c82836a-8cfe-455e-af9d-d9a611c1a68c\",\"document_id\":\"d62d0f7b-ea37-42f7-8402-cf68a4541717\"}},{\"Payload\":{\"processed\":\"dd04ce04-36ce-41b2-a0b2-46b3d3a94888\",\"document_id\":\"d62d0f7b-ea37-42f7-8402-cf68a4541717\"}},{\"Payload\":{\"processed\":\"de3a5a5f-b066-4b36-9997-94c27ddda2fc\",\"document_id\":\"d62d0f7b-ea37-42f7-8402-cf68a4541717\"}},{\"Payload\":{\"processed\":\"5fdca15c-fba0-4cf1-bc8a-42ae2549ff46\",\"document_id\":\"d62d0f7b-ea37-42f7-8402-cf68a4541717\"}},{\"Payload\":{\"processed\":\"e13388f3-511c-4a21-8bf7-66f9ddd6fc71\",\"document_id\":\"d62d0f7b-ea37-42f7-8402-cf68a4541717\"}},{\"Payload\":{\"processed\":\"19294ec9-dd97-425e-b56c-a2ca80045b88\",\"document_id\":\"d62d0f7b-ea37-42f7-8402-cf68a4541717\"}},{\"Payload\":{\"processed\":\"a246a4a5-7376-407f-9183-3a2c59c3501b\",\"document_id\":\"d62d0f7b-ea37-42f7-8402-cf68a4541717\"}},{\"Payload\":{\"processed\":\"41c8cdec-45f3-4ceb-b9e1-b9480a47f3a2\",\"document_id\":\"d62d0f7b-ea37-42f7-8402-cf68a4541717\"}},{\"Payload\":{\"processed\":\"cfdf1f55-50e6-494c-8548-73e19a2288f6\",\"document_id\":\"d62d0f7b-ea37-42f7-8402-cf68a4541717\"}},{\"Payload\":{\"processed\":\"3eff747c-6685-43cb-a178-e37c405d0a3c\",\"document_id\":\"d62d0f7b-ea37-42f7-8402-cf68a4541717\"}},{\"Payload\":{\"processed\":\"aa812fd0-3ede-4aa0-b9d1-0d6f0bfa1181\",\"document_id\":\"d62d0f7b-ea37-42f7-8402-cf68a4541717\"}},{\"Payload\":{\"processed\":\"961c7cb4-84d9-41ee-a54c-00746887350d\",\"document_id\":\"d62d0f7b-ea37-42f7-8402-cf68a4541717\"}},{\"Payload\":{\"processed\":\"34ac19ce-9447-46c5-971b-4efc901d96e5\",\"document_id\":\"d62d0f7b-ea37-42f7-8402-cf68a4541717\"}},{\"Payload\":{\"processed\":\"245f2263-e5e1-4db1-aa2f-07fe900ebf1e\",\"document_id\":\"d62d0f7b-ea37-42f7-8402-cf68a4541717\"}},{\"Payload\":{\"processed\":\"9483f3a4-8ed8-4e7d-a287-80b34f51dcc0\",\"document_id\":\"d62d0f7b-ea37-42f7-8402-cf68a4541717\"}},{\"Payload\":{\"processed\":\"30fe205e-5f6d-4d9b-846e-d75f6eb26731\",\"document_id\":\"d62d0f7b-ea37-42f7-8402-cf68a4541717\"}},{\"Payload\":{\"processed\":\"7770f4c3-a5c6-4fa0-bf78-3992887363a1\",\"document_id\":\"d62d0f7b-ea37-42f7-8402-cf68a4541717\"}},{\"Payload\":{\"processed\":\"41c390ed-9536-40f1-b32c-b5798ff06398\",\"document_id\":\"d62d0f7b-ea37-42f7-8402-cf68a4541717\"}},{\"Payload\":{\"processed\":\"7a4bc747-b5ec-4a86-8579-99903871b50d\",\"document_id\":\"d62d0f7b-ea37-42f7-8402-cf68a4541717\"}},{\"Payload\":{\"processed\":\"7705f9a2-8dc7-4084-aed5-01579c62ad55\",\"document_id\":\"d62d0f7b-ea37-42f7-8402-cf68a4541717\"}},{\"Payload\":{\"processed\":\"4e3cab70-387d-417f-b23a-233930853e9e\",\"document_id\":\"d62d0f7b-ea37-42f7-8402-cf68a4541717\"}},{\"Payload\":{\"processed\":\"3ae3b890-a081-42cf-a409-c9f16cb520f8\",\"document_id\":\"d62d0f7b-ea37-42f7-8402-cf68a4541717\"}},{\"Payload\":{\"processed\":\"ea6db13f-586b-483d-b505-77ad122e951b\",\"document_id\":\"d62d0f7b-ea37-42f7-8402-cf68a4541717\"}},{\"Payload\":{\"processed\":\"545d0ce1-a430-4518-a4b2-53ff3754a8ef\",\"document_id\":\"d62d0f7b-ea37-42f7-8402-cf68a4541717\"}},{\"Payload\":{\"processed\":\"fe70938d-e061-4c3f-b944-d0ede38835d8\",\"document_id\":\"d62d0f7b-ea37-42f7-8402-cf68a4541717\"}},{\"Payload\":{\"processed\":\"982e810b-a605-4a06-bddd-41e844ef63ef\",\"document_id\":\"d62d0f7b-ea37-42f7-8402-cf68a4541717\"}},{\"Payload\":{\"processed\":\"08ff026a-eaa6-4b75-927d-743ac11fa06a\",\"document_id\":\"d62d0f7b-ea37-42f7-8402-cf68a4541717\"}},{\"Payload\":{\"processed\":\"dce80883-88f9-4fd0-9394-6f3f3acc1c38\",\"document_id\":\"d62d0f7b-ea37-42f7-8402-cf68a4541717\"}},{\"Payload\":{\"processed\":\"162e979b-a9cb-4a2e-911e-7798e7208adc\",\"document_id\":\"d62d0f7b-ea37-42f7-8402-cf68a4541717\"}},{\"Payload\":{\"processed\":\"4b690616-bc17-4da5-b7f5-3549d370822f\",\"document_id\":\"d62d0f7b-ea37-42f7-8402-cf68a4541717\"}},{\"Payload\":{\"processed\":\"432008eb-08f4-4b05-b677-7b14e9fb8177\",\"document_id\":\"d62d0f7b-ea37-42f7-8402-cf68a4541717\"}},{\"Payload\":{\"processed\":\"e41d322f-84bd-4c28-be62-fc2d010efc9b\",\"document_id\":\"d62d0f7b-ea37-42f7-8402-cf68a4541717\"}},{\"Payload\":{\"processed\":\"4690d698-f408-4845-9460-557458440e98\",\"document_id\":\"d62d0f7b-ea37-42f7-8402-cf68a4541717\"}},{\"Payload\":{\"processed\":\"82d41494-312a-4815-8908-f8c02998c10f\",\"document_id\":\"d62d0f7b-ea37-42f7-8402-cf68a4541717\"}},{\"Payload\":{\"processed\":\"62b40acb-7d61-4653-b051-6c3a5ea9e7c6\",\"document_id\":\"d62d0f7b-ea37-42f7-8402-cf68a4541717\"}},{\"Payload\":{\"processed\":\"fa76d458-0e69-4cdf-82e9-0687933d8841\",\"document_id\":\"d62d0f7b-ea37-42f7-8402-cf68a4541717\"}},{\"Payload\":{\"processed\":\"a235ec35-aa22-4b62-85ad-68ffca377859\",\"document_id\":\"d62d0f7b-ea37-42f7-8402-cf68a4541717\"}},{\"Payload\":{\"processed\":\"c74b919b-349d-4fee-83b4-b56028e5b46a\",\"document_id\":\"d62d0f7b-ea37-42f7-8402-cf68a4541717\"}},{\"Payload\":{\"processed\":\"5d177544-afe4-435e-885f-2fbec697fb7d\",\"document_id\":\"d62d0f7b-ea37-42f7-8402-cf68a4541717\"}},{\"Payload\":{\"processed\":\"7763d1d5-485a-45c5-aae3-f3a4b0a1e668\",\"document_id\":\"d62d0f7b-ea37-42f7-8402-cf68a4541717\"}},{\"Payload\":{\"processed\":\"20b0c072-7178-4c10-bdaa-91b0ec821c45\",\"document_id\":\"d62d0f7b-ea37-42f7-8402-cf68a4541717\"}},{\"Payload\":{\"processed\":\"f131d6ce-bce7-4be8-8f5b-d1e1943f60de\",\"document_id\":\"d62d0f7b-ea37-42f7-8402-cf68a4541717\"}},{\"Payload\":{\"processed\":\"dd5cf948-b873-41a3-a0f9-827e73b44ccd\",\"document_id\":\"d62d0f7b-ea37-42f7-8402-cf68a4541717\"}},{\"Payload\":{\"processed\":\"c59c5f0a-b275-43e0-95f2-47b3efd34c93\",\"document_id\":\"d62d0f7b-ea37-42f7-8402-cf68a4541717\"}},{\"Payload\":{\"processed\":\"b4a338f9-b51c-46bf-9def-4a29716a9901\",\"document_id\":\"d62d0f7b-ea37-42f7-8402-cf68a4541717\"}},{\"Payload\":{\"processed\":\"6f500727-fde4-4b45-8131-e8b39bc72882\",\"document_id\":\"d62d0f7b-ea37-42f7-8402-cf68a4541717\"}},{\"Payload\":{\"processed\":\"4b091ebf-3a86-4e5d-bb1d-863e9ac06466\",\"document_id\":\"d62d0f7b-ea37-42f7-8402-cf68a4541717\"}},{\"Payload\":{\"processed\":\"e4ab3fa1-d04f-4424-95fe-884989d76364\",\"document_id\":\"d62d0f7b-ea37-42f7-8402-cf68a4541717\"}},{\"Payload\":{\"processed\":\"6a922d5a-5d24-4955-a6fd-1581f854baf7\",\"document_id\":\"d62d0f7b-ea37-42f7-8402-cf68a4541717\"}},{\"Payload\":{\"processed\":\"3e9774b3-6e60-43fe-8baf-183bb6e85340\",\"document_id\":\"d62d0f7b-ea37-42f7-8402-cf68a4541717\"}},{\"Payload\":{\"processed\":\"0340ac3a-30b0-425b-bcc8-a438959517f6\",\"document_id\":\"d62d0f7b-ea37-42f7-8402-cf68a4541717\"}},{\"Payload\":{\"processed\":\"37122c48-ecce-4baa-9723-6c105ce17e9c\",\"document_id\":\"d62d0f7b-ea37-42f7-8402-cf68a4541717\"}},{\"Payload\":{\"processed\":\"3807a6e3-e64e-4024-9fe8-2c136aacec45\",\"document_id\":\"d62d0f7b-ea37-42f7-8402-cf68a4541717\"}},{\"Payload\":{\"processed\":\"7a1b927f-2914-4b71-a1d3-747f43abd631\",\"document_id\":\"d62d0f7b-ea37-42f7-8402-cf68a4541717\"}},{\"Payload\":{\"processed\":\"aa0b43b3-9634-4c58-818c-f1742a951898\",\"document_id\":\"d62d0f7b-ea37-42f7-8402-cf68a4541717\"}},{\"Payload\":{\"processed\":\"ea6f8bb9-5470-4be1-ad2a-8bef17df8e73\",\"document_id\":\"d62d0f7b-ea37-42f7-8402-cf68a4541717\"}},{\"Payload\":{\"processed\":\"e8ef0e51-f9b1-4400-a789-ff15fb79bf31\",\"document_id\":\"d62d0f7b-ea37-42f7-8402-cf68a4541717\"}}]}\n"
     ]
    },
    {
     "name": "stderr",
     "output_type": "stream",
     "text": [
      "8it [05:32, 47.09s/it]"
     ]
    },
    {
     "name": "stdout",
     "output_type": "stream",
     "text": [
      "LlamaRec-LKG-RAG A Single-Pass, Learnable Knowledge Graph-RAG Framework for LLM-Based Ranking.pdf\n"
     ]
    },
    {
     "name": "stderr",
     "output_type": "stream",
     "text": [
      "d:\\broai-arai\\backend\\package\\utils\\data_loder.py:22: UserWarning: [EXPERIMENT] You're using an experimental module, which is subject to change in future.: split_markdown\n",
      "  chunks = split_markdown(text)\n",
      "d:\\broai-arai\\backend\\package\\utils\\data_loder.py:23: UserWarning: [EXPERIMENT] You're using an experimental module, which is subject to change in future.: consolidate_markdown\n",
      "  consolidated_chunks = consolidate_markdown(chunks)\n",
      "d:\\broai-arai\\backend\\package\\utils\\data_loder.py:24: UserWarning: [EXPERIMENT] You're using an experimental module, which is subject to change in future.: get_markdown_sections\n",
      "  sections = get_markdown_sections(consolidated_chunks)\n",
      "d:\\broai-arai\\backend\\package\\utils\\data_loder.py:30: UserWarning: [EXPERIMENT] You're using an experimental module, which is subject to change in future.: split_overlap\n",
      "  new_contexts = split_overlap(contexts, max_tokens=max_tokens, overlap=overlap)\n"
     ]
    },
    {
     "name": "stdout",
     "output_type": "stream",
     "text": [
      "Markdown headings: max(3)\n",
      "Execution status: RUNNING\n",
      "Execution status: RUNNING\n",
      "Execution status: RUNNING\n",
      "Execution status: RUNNING\n",
      "Execution status: RUNNING\n",
      "Execution status: RUNNING\n",
      "Execution status: SUCCEEDED\n",
      "Execution output: {\"status\":\"success\",\"results\":[{\"Payload\":{\"processed\":\"23ded16a-468f-4765-b332-c4bd39737634\",\"document_id\":\"bee0068f-e22d-42be-9139-064d76f655b9\"}},{\"Payload\":{\"processed\":\"7de3a046-47b5-4e07-9a73-7397105a884f\",\"document_id\":\"bee0068f-e22d-42be-9139-064d76f655b9\"}},{\"Payload\":{\"processed\":\"c4471dc9-8052-418d-9f16-6965fc00cccc\",\"document_id\":\"bee0068f-e22d-42be-9139-064d76f655b9\"}},{\"Payload\":{\"processed\":\"e5e836c2-11f5-4ef2-b8c8-d4e943223527\",\"document_id\":\"bee0068f-e22d-42be-9139-064d76f655b9\"}},{\"Payload\":{\"processed\":\"e6ace379-50bd-44e5-9e94-25bbe10959d1\",\"document_id\":\"bee0068f-e22d-42be-9139-064d76f655b9\"}},{\"Payload\":{\"processed\":\"8039e848-2e6d-4740-811f-07dd44272279\",\"document_id\":\"bee0068f-e22d-42be-9139-064d76f655b9\"}},{\"Payload\":{\"processed\":\"9b22acb1-ae07-4c7d-bd7b-3279150f2769\",\"document_id\":\"bee0068f-e22d-42be-9139-064d76f655b9\"}},{\"Payload\":{\"processed\":\"a24a827d-9199-407b-9dc2-419ca26a76d9\",\"document_id\":\"bee0068f-e22d-42be-9139-064d76f655b9\"}},{\"Payload\":{\"processed\":\"4272998c-5026-4c44-b10e-772168426189\",\"document_id\":\"bee0068f-e22d-42be-9139-064d76f655b9\"}},{\"Payload\":{\"processed\":\"1b5da9ad-0f2e-4177-86f5-aec93abb720f\",\"document_id\":\"bee0068f-e22d-42be-9139-064d76f655b9\"}},{\"Payload\":{\"processed\":\"771bee47-b08c-404b-b4d5-08b1aa2a38a8\",\"document_id\":\"bee0068f-e22d-42be-9139-064d76f655b9\"}},{\"Payload\":{\"processed\":\"659e806d-5669-434c-a639-33dd82889caf\",\"document_id\":\"bee0068f-e22d-42be-9139-064d76f655b9\"}},{\"Payload\":{\"processed\":\"e1488385-a70e-4238-af77-9621649f2020\",\"document_id\":\"bee0068f-e22d-42be-9139-064d76f655b9\"}},{\"Payload\":{\"processed\":\"6a997caf-3c53-4c00-88e6-d152db351005\",\"document_id\":\"bee0068f-e22d-42be-9139-064d76f655b9\"}},{\"Payload\":{\"processed\":\"8f6769ba-ff72-4427-a624-b205d3e3df83\",\"document_id\":\"bee0068f-e22d-42be-9139-064d76f655b9\"}},{\"Payload\":{\"processed\":\"504b632e-a0c8-4ea4-bd5c-21d5707f8d7f\",\"document_id\":\"bee0068f-e22d-42be-9139-064d76f655b9\"}},{\"Payload\":{\"processed\":\"06633732-424a-4fd9-b787-89c886c6067e\",\"document_id\":\"bee0068f-e22d-42be-9139-064d76f655b9\"}},{\"Payload\":{\"processed\":\"b3591452-a1cd-48af-b310-8b98532da246\",\"document_id\":\"bee0068f-e22d-42be-9139-064d76f655b9\"}},{\"Payload\":{\"processed\":\"5ee39395-eeb3-4919-ba92-ec715d2e564f\",\"document_id\":\"bee0068f-e22d-42be-9139-064d76f655b9\"}},{\"Payload\":{\"processed\":\"2854b8eb-a218-4f53-8301-db0cccf9c91e\",\"document_id\":\"bee0068f-e22d-42be-9139-064d76f655b9\"}},{\"Payload\":{\"processed\":\"4c26eb0a-2c3f-45f6-a8fd-ed62c4fd901c\",\"document_id\":\"bee0068f-e22d-42be-9139-064d76f655b9\"}},{\"Payload\":{\"processed\":\"bc31a8a7-41a9-48a3-ab72-8596899a4103\",\"document_id\":\"bee0068f-e22d-42be-9139-064d76f655b9\"}},{\"Payload\":{\"processed\":\"b40cf1f7-921c-42ba-bad4-85d3bf1903aa\",\"document_id\":\"bee0068f-e22d-42be-9139-064d76f655b9\"}},{\"Payload\":{\"processed\":\"57223d6a-8a80-4e39-9935-6e1bb2925649\",\"document_id\":\"bee0068f-e22d-42be-9139-064d76f655b9\"}},{\"Payload\":{\"processed\":\"c987439f-468b-47cd-bc83-fa9cf10fe1da\",\"document_id\":\"bee0068f-e22d-42be-9139-064d76f655b9\"}},{\"Payload\":{\"processed\":\"b35ba304-541e-4e7d-9b04-97c14c4e2522\",\"document_id\":\"bee0068f-e22d-42be-9139-064d76f655b9\"}},{\"Payload\":{\"processed\":\"1116cb30-11f8-4e19-8733-eaccfbbeb17b\",\"document_id\":\"bee0068f-e22d-42be-9139-064d76f655b9\"}},{\"Payload\":{\"processed\":\"353df0bb-b9a6-4351-ad34-0b6a36ea55de\",\"document_id\":\"bee0068f-e22d-42be-9139-064d76f655b9\"}},{\"Payload\":{\"processed\":\"8354feec-9c4a-4eb6-82dc-23ccb1fa18da\",\"document_id\":\"bee0068f-e22d-42be-9139-064d76f655b9\"}},{\"Payload\":{\"processed\":\"5bb847e9-4de8-49a2-9b00-aa7f8a242f2a\",\"document_id\":\"bee0068f-e22d-42be-9139-064d76f655b9\"}},{\"Payload\":{\"processed\":\"882abad7-8905-437c-a6b3-cff0fb46dc33\",\"document_id\":\"bee0068f-e22d-42be-9139-064d76f655b9\"}},{\"Payload\":{\"processed\":\"19997245-24b9-4263-a374-479d4729448b\",\"document_id\":\"bee0068f-e22d-42be-9139-064d76f655b9\"}},{\"Payload\":{\"processed\":\"42fc3710-99f1-4148-a69e-2ab8476d3cd5\",\"document_id\":\"bee0068f-e22d-42be-9139-064d76f655b9\"}},{\"Payload\":{\"processed\":\"98fb6a27-54d3-4a47-b4ed-eeac1fb09085\",\"document_id\":\"bee0068f-e22d-42be-9139-064d76f655b9\"}},{\"Payload\":{\"processed\":\"d2fe4ce4-164d-45e3-af62-7dd4c78079a8\",\"document_id\":\"bee0068f-e22d-42be-9139-064d76f655b9\"}},{\"Payload\":{\"processed\":\"c9596983-422b-4c5b-8317-959ed9b43c15\",\"document_id\":\"bee0068f-e22d-42be-9139-064d76f655b9\"}},{\"Payload\":{\"processed\":\"7a01889b-964d-4f23-b0df-bc6e4977cf20\",\"document_id\":\"bee0068f-e22d-42be-9139-064d76f655b9\"}},{\"Payload\":{\"processed\":\"436431e4-78c0-49d5-9d6e-3b668df73dc9\",\"document_id\":\"bee0068f-e22d-42be-9139-064d76f655b9\"}},{\"Payload\":{\"processed\":\"14bac41a-6454-4122-a35f-3f258fdae7ec\",\"document_id\":\"bee0068f-e22d-42be-9139-064d76f655b9\"}},{\"Payload\":{\"processed\":\"c344e45d-8046-4428-8a20-a52210501211\",\"document_id\":\"bee0068f-e22d-42be-9139-064d76f655b9\"}},{\"Payload\":{\"processed\":\"9f969763-e97b-4732-9cf0-6bbd527b7750\",\"document_id\":\"bee0068f-e22d-42be-9139-064d76f655b9\"}},{\"Payload\":{\"processed\":\"6ca09e41-9719-4cf8-9e68-fdc3378f4d24\",\"document_id\":\"bee0068f-e22d-42be-9139-064d76f655b9\"}},{\"Payload\":{\"processed\":\"145f6fda-66ee-4bb3-b6fe-3c7eacb4f4b8\",\"document_id\":\"bee0068f-e22d-42be-9139-064d76f655b9\"}},{\"Payload\":{\"processed\":\"1a9d5417-acf4-43c2-bf1a-a2025101776c\",\"document_id\":\"bee0068f-e22d-42be-9139-064d76f655b9\"}},{\"Payload\":{\"processed\":\"ac86d3ad-13b0-4f15-9db1-f844cd486bf9\",\"document_id\":\"bee0068f-e22d-42be-9139-064d76f655b9\"}},{\"Payload\":{\"processed\":\"807b1e0a-d6e5-403e-a5c4-8e008dc436be\",\"document_id\":\"bee0068f-e22d-42be-9139-064d76f655b9\"}},{\"Payload\":{\"processed\":\"6b7aea26-bc92-474c-afeb-089e5bb134ca\",\"document_id\":\"bee0068f-e22d-42be-9139-064d76f655b9\"}},{\"Payload\":{\"processed\":\"be32b430-ef37-4026-835b-7e13dce0066f\",\"document_id\":\"bee0068f-e22d-42be-9139-064d76f655b9\"}},{\"Payload\":{\"processed\":\"98a8b893-90fd-4bbe-ac3d-5e2560db6ff4\",\"document_id\":\"bee0068f-e22d-42be-9139-064d76f655b9\"}},{\"Payload\":{\"processed\":\"459001a8-be58-469c-9874-6f722f06dba4\",\"document_id\":\"bee0068f-e22d-42be-9139-064d76f655b9\"}},{\"Payload\":{\"processed\":\"7ed155ac-273d-4c3d-ab56-8594111be4a9\",\"document_id\":\"bee0068f-e22d-42be-9139-064d76f655b9\"}},{\"Payload\":{\"processed\":\"4dafb918-b2ec-4880-8871-6ebe8953cbd9\",\"document_id\":\"bee0068f-e22d-42be-9139-064d76f655b9\"}},{\"Payload\":{\"processed\":\"495ff676-7305-4d93-b48a-a21a803561a6\",\"document_id\":\"bee0068f-e22d-42be-9139-064d76f655b9\"}},{\"Payload\":{\"processed\":\"58f7bea6-d36b-4cfc-adea-934bcff14947\",\"document_id\":\"bee0068f-e22d-42be-9139-064d76f655b9\"}},{\"Payload\":{\"processed\":\"d6fb2994-b99d-4f68-982a-c7b990caf4df\",\"document_id\":\"bee0068f-e22d-42be-9139-064d76f655b9\"}}]}\n"
     ]
    },
    {
     "name": "stderr",
     "output_type": "stream",
     "text": [
      "9it [06:06, 43.10s/it]"
     ]
    },
    {
     "name": "stdout",
     "output_type": "stream",
     "text": [
      "LOGICOL Logically-Informed Contrastive Learning for Set-based Dense Retrieval.pdf\n"
     ]
    },
    {
     "name": "stderr",
     "output_type": "stream",
     "text": [
      "d:\\broai-arai\\backend\\package\\utils\\data_loder.py:22: UserWarning: [EXPERIMENT] You're using an experimental module, which is subject to change in future.: split_markdown\n",
      "  chunks = split_markdown(text)\n",
      "d:\\broai-arai\\backend\\package\\utils\\data_loder.py:23: UserWarning: [EXPERIMENT] You're using an experimental module, which is subject to change in future.: consolidate_markdown\n",
      "  consolidated_chunks = consolidate_markdown(chunks)\n",
      "d:\\broai-arai\\backend\\package\\utils\\data_loder.py:24: UserWarning: [EXPERIMENT] You're using an experimental module, which is subject to change in future.: get_markdown_sections\n",
      "  sections = get_markdown_sections(consolidated_chunks)\n",
      "d:\\broai-arai\\backend\\package\\utils\\data_loder.py:30: UserWarning: [EXPERIMENT] You're using an experimental module, which is subject to change in future.: split_overlap\n",
      "  new_contexts = split_overlap(contexts, max_tokens=max_tokens, overlap=overlap)\n"
     ]
    },
    {
     "name": "stdout",
     "output_type": "stream",
     "text": [
      "Markdown headings: max(2)\n",
      "Execution status: RUNNING\n",
      "Execution status: RUNNING\n",
      "Execution status: RUNNING\n",
      "Execution status: RUNNING\n",
      "Execution status: RUNNING\n",
      "Execution status: RUNNING\n",
      "Execution status: SUCCEEDED\n",
      "Execution output: {\"status\":\"success\",\"results\":[{\"Payload\":{\"processed\":\"a0fbef56-1e83-4276-b5cf-5285f6aa67f8\",\"document_id\":\"d7d8642f-4151-42b1-b901-f821056f6e2d\"}},{\"Payload\":{\"processed\":\"9adf394d-cb57-4f85-817e-c94fe59a367a\",\"document_id\":\"d7d8642f-4151-42b1-b901-f821056f6e2d\"}},{\"Payload\":{\"processed\":\"ab1656ab-b71e-4f5e-9d20-81fd8ced9737\",\"document_id\":\"d7d8642f-4151-42b1-b901-f821056f6e2d\"}},{\"Payload\":{\"processed\":\"b3dea886-01e8-4394-a148-c58a0ec4c34e\",\"document_id\":\"d7d8642f-4151-42b1-b901-f821056f6e2d\"}},{\"Payload\":{\"processed\":\"e69201d6-869a-4333-b676-0063c0b9f996\",\"document_id\":\"d7d8642f-4151-42b1-b901-f821056f6e2d\"}},{\"Payload\":{\"processed\":\"b76b2d7b-0de0-41cc-9a2f-679d0f8bf56a\",\"document_id\":\"d7d8642f-4151-42b1-b901-f821056f6e2d\"}},{\"Payload\":{\"processed\":\"2aa53b65-a561-421a-9634-0caaa0e068ac\",\"document_id\":\"d7d8642f-4151-42b1-b901-f821056f6e2d\"}},{\"Payload\":{\"processed\":\"48a82896-df72-4b6e-87a5-e29deb02b5dd\",\"document_id\":\"d7d8642f-4151-42b1-b901-f821056f6e2d\"}},{\"Payload\":{\"processed\":\"f42079e1-4695-416b-8877-ff572753c302\",\"document_id\":\"d7d8642f-4151-42b1-b901-f821056f6e2d\"}},{\"Payload\":{\"processed\":\"93880891-3a73-478b-b231-dd08f66012b1\",\"document_id\":\"d7d8642f-4151-42b1-b901-f821056f6e2d\"}},{\"Payload\":{\"processed\":\"24cf838e-eb9f-40a3-9798-4f3f890ff45f\",\"document_id\":\"d7d8642f-4151-42b1-b901-f821056f6e2d\"}},{\"Payload\":{\"processed\":\"496a30cc-e807-4a55-b052-1d0e20775867\",\"document_id\":\"d7d8642f-4151-42b1-b901-f821056f6e2d\"}},{\"Payload\":{\"processed\":\"879c4538-9287-4f94-9e0f-a2210c09e6d8\",\"document_id\":\"d7d8642f-4151-42b1-b901-f821056f6e2d\"}},{\"Payload\":{\"processed\":\"cc1f9295-03c0-43a2-8005-ebf81277f058\",\"document_id\":\"d7d8642f-4151-42b1-b901-f821056f6e2d\"}},{\"Payload\":{\"processed\":\"7fa819d7-ea67-4680-90dc-daa8825a8d40\",\"document_id\":\"d7d8642f-4151-42b1-b901-f821056f6e2d\"}},{\"Payload\":{\"processed\":\"e1335662-dcf6-4f1e-ab76-e731012f1b6a\",\"document_id\":\"d7d8642f-4151-42b1-b901-f821056f6e2d\"}},{\"Payload\":{\"processed\":\"6d8803b3-3ad1-4629-b7c9-bb69f302bd5c\",\"document_id\":\"d7d8642f-4151-42b1-b901-f821056f6e2d\"}},{\"Payload\":{\"processed\":\"25d48a65-3ec0-4445-b7d0-6b8ada5299e9\",\"document_id\":\"d7d8642f-4151-42b1-b901-f821056f6e2d\"}},{\"Payload\":{\"processed\":\"40e8d3aa-ef72-4b09-8d51-04fd6ab689d3\",\"document_id\":\"d7d8642f-4151-42b1-b901-f821056f6e2d\"}},{\"Payload\":{\"processed\":\"46d14753-63bf-4fe6-aee9-a0899de72560\",\"document_id\":\"d7d8642f-4151-42b1-b901-f821056f6e2d\"}},{\"Payload\":{\"processed\":\"cd548c78-4c65-4190-ae3d-28a332362845\",\"document_id\":\"d7d8642f-4151-42b1-b901-f821056f6e2d\"}},{\"Payload\":{\"processed\":\"6834c2eb-61cf-414a-8335-0c85211df678\",\"document_id\":\"d7d8642f-4151-42b1-b901-f821056f6e2d\"}},{\"Payload\":{\"processed\":\"2a4ca5e6-5c59-44f6-b8de-07a5d29577b4\",\"document_id\":\"d7d8642f-4151-42b1-b901-f821056f6e2d\"}},{\"Payload\":{\"processed\":\"37017b05-bf9f-4438-9910-0d9b75a7d25a\",\"document_id\":\"d7d8642f-4151-42b1-b901-f821056f6e2d\"}},{\"Payload\":{\"processed\":\"e4266553-f1bd-4091-b743-951b5bf203d2\",\"document_id\":\"d7d8642f-4151-42b1-b901-f821056f6e2d\"}},{\"Payload\":{\"processed\":\"e83d3f39-938b-4fdb-98e2-ccfd366f16d2\",\"document_id\":\"d7d8642f-4151-42b1-b901-f821056f6e2d\"}},{\"Payload\":{\"processed\":\"44b447d4-468e-4bc6-b8c7-f6082d4ec584\",\"document_id\":\"d7d8642f-4151-42b1-b901-f821056f6e2d\"}},{\"Payload\":{\"processed\":\"e45ca8e9-ae6d-4e59-94e4-039a4f84a2d1\",\"document_id\":\"d7d8642f-4151-42b1-b901-f821056f6e2d\"}},{\"Payload\":{\"processed\":\"2da9c7b5-a6d3-4d9e-8f4d-467039396857\",\"document_id\":\"d7d8642f-4151-42b1-b901-f821056f6e2d\"}},{\"Payload\":{\"processed\":\"33519036-61b4-4d3a-abbb-a82e72a6b56a\",\"document_id\":\"d7d8642f-4151-42b1-b901-f821056f6e2d\"}},{\"Payload\":{\"processed\":\"de377c54-3a11-4a6c-826a-d3b9a918f60e\",\"document_id\":\"d7d8642f-4151-42b1-b901-f821056f6e2d\"}},{\"Payload\":{\"processed\":\"9be72c88-8f01-4e7a-bf5a-e8547bfa9521\",\"document_id\":\"d7d8642f-4151-42b1-b901-f821056f6e2d\"}},{\"Payload\":{\"processed\":\"54e0cbda-e77e-47b9-97a7-840b4a41f22b\",\"document_id\":\"d7d8642f-4151-42b1-b901-f821056f6e2d\"}},{\"Payload\":{\"processed\":\"a005f495-c17d-42b0-8972-21b1791ec961\",\"document_id\":\"d7d8642f-4151-42b1-b901-f821056f6e2d\"}},{\"Payload\":{\"processed\":\"04b69682-6e77-45ff-b0c4-dde1a6dcc1ef\",\"document_id\":\"d7d8642f-4151-42b1-b901-f821056f6e2d\"}},{\"Payload\":{\"processed\":\"5b02d925-81c3-4c95-9797-aa2a270c005b\",\"document_id\":\"d7d8642f-4151-42b1-b901-f821056f6e2d\"}},{\"Payload\":{\"processed\":\"97e2f7b3-7cce-4112-bf95-22ca1a69a1e6\",\"document_id\":\"d7d8642f-4151-42b1-b901-f821056f6e2d\"}},{\"Payload\":{\"processed\":\"78876130-1b80-46a9-9573-20b5f0fad3c6\",\"document_id\":\"d7d8642f-4151-42b1-b901-f821056f6e2d\"}},{\"Payload\":{\"processed\":\"4707b64d-2eb3-4d42-a322-1f78c9c6e694\",\"document_id\":\"d7d8642f-4151-42b1-b901-f821056f6e2d\"}},{\"Payload\":{\"processed\":\"68440720-166b-4fc7-af08-3e307b546f50\",\"document_id\":\"d7d8642f-4151-42b1-b901-f821056f6e2d\"}},{\"Payload\":{\"processed\":\"41613c88-27b8-41e7-947f-ec755f2cfe72\",\"document_id\":\"d7d8642f-4151-42b1-b901-f821056f6e2d\"}}]}\n"
     ]
    },
    {
     "name": "stderr",
     "output_type": "stream",
     "text": [
      "10it [06:31, 37.62s/it]"
     ]
    },
    {
     "name": "stdout",
     "output_type": "stream",
     "text": [
      "MASKSEARCH A Universal Pre-Training Framework to Enhance Agentic Search Capability.pdf\n"
     ]
    },
    {
     "name": "stderr",
     "output_type": "stream",
     "text": [
      "d:\\broai-arai\\backend\\package\\utils\\data_loder.py:22: UserWarning: [EXPERIMENT] You're using an experimental module, which is subject to change in future.: split_markdown\n",
      "  chunks = split_markdown(text)\n",
      "d:\\broai-arai\\backend\\package\\utils\\data_loder.py:23: UserWarning: [EXPERIMENT] You're using an experimental module, which is subject to change in future.: consolidate_markdown\n",
      "  consolidated_chunks = consolidate_markdown(chunks)\n",
      "d:\\broai-arai\\backend\\package\\utils\\data_loder.py:24: UserWarning: [EXPERIMENT] You're using an experimental module, which is subject to change in future.: get_markdown_sections\n",
      "  sections = get_markdown_sections(consolidated_chunks)\n",
      "d:\\broai-arai\\backend\\package\\utils\\data_loder.py:30: UserWarning: [EXPERIMENT] You're using an experimental module, which is subject to change in future.: split_overlap\n",
      "  new_contexts = split_overlap(contexts, max_tokens=max_tokens, overlap=overlap)\n"
     ]
    },
    {
     "name": "stdout",
     "output_type": "stream",
     "text": [
      "Markdown headings: max(2)\n",
      "Execution status: RUNNING\n",
      "Execution status: RUNNING\n",
      "Execution status: RUNNING\n",
      "Execution status: RUNNING\n",
      "Execution status: RUNNING\n",
      "Execution status: RUNNING\n",
      "Execution status: RUNNING\n",
      "Execution status: RUNNING\n",
      "Execution status: RUNNING\n",
      "Execution status: SUCCEEDED\n",
      "Execution output: {\"status\":\"success\",\"results\":[{\"Payload\":{\"processed\":\"1fdc3d97-2e27-4580-9efb-61aa6f684689\",\"document_id\":\"24a2dcc3-c8ec-445e-8336-816971796e30\"}},{\"Payload\":{\"processed\":\"c5922295-67a0-4683-ac6d-126a4231ff0e\",\"document_id\":\"24a2dcc3-c8ec-445e-8336-816971796e30\"}},{\"Payload\":{\"processed\":\"c732fddb-803b-49b0-94cd-d19fd2e63b3b\",\"document_id\":\"24a2dcc3-c8ec-445e-8336-816971796e30\"}},{\"Payload\":{\"processed\":\"62abdcca-fb9e-4d97-bcfc-117bddbdb723\",\"document_id\":\"24a2dcc3-c8ec-445e-8336-816971796e30\"}},{\"Payload\":{\"processed\":\"69213218-901a-4b91-b2bd-4ad703b4e3cf\",\"document_id\":\"24a2dcc3-c8ec-445e-8336-816971796e30\"}},{\"Payload\":{\"processed\":\"f3c5f917-afd6-41b6-9c60-15b15271d129\",\"document_id\":\"24a2dcc3-c8ec-445e-8336-816971796e30\"}},{\"Payload\":{\"processed\":\"95184fc0-208e-4cbd-97f1-b3d01333ad78\",\"document_id\":\"24a2dcc3-c8ec-445e-8336-816971796e30\"}},{\"Payload\":{\"processed\":\"91135a36-3c1b-47b6-8a35-845da7ef7f8f\",\"document_id\":\"24a2dcc3-c8ec-445e-8336-816971796e30\"}},{\"Payload\":{\"processed\":\"ac768493-9e99-439f-a550-6506d8da4f64\",\"document_id\":\"24a2dcc3-c8ec-445e-8336-816971796e30\"}},{\"Payload\":{\"processed\":\"3368ea01-fbcd-4ab3-a1ad-cb8336ae34d5\",\"document_id\":\"24a2dcc3-c8ec-445e-8336-816971796e30\"}},{\"Payload\":{\"processed\":\"5a149f76-bad0-4662-a9a0-d463c6b4fc7e\",\"document_id\":\"24a2dcc3-c8ec-445e-8336-816971796e30\"}},{\"Payload\":{\"processed\":\"f19b9b9c-93ce-4077-b0de-01caed9d6635\",\"document_id\":\"24a2dcc3-c8ec-445e-8336-816971796e30\"}},{\"Payload\":{\"processed\":\"f9d34327-ae2f-4dfc-a439-336b61f5a0d7\",\"document_id\":\"24a2dcc3-c8ec-445e-8336-816971796e30\"}},{\"Payload\":{\"processed\":\"71d884ef-0c30-422c-a2a3-b4bc902256c9\",\"document_id\":\"24a2dcc3-c8ec-445e-8336-816971796e30\"}},{\"Payload\":{\"processed\":\"f6e55a9a-0cdd-4dce-a3a7-e3503c8f598b\",\"document_id\":\"24a2dcc3-c8ec-445e-8336-816971796e30\"}},{\"Payload\":{\"processed\":\"c37169e0-f683-428b-bb82-dde45438b9a3\",\"document_id\":\"24a2dcc3-c8ec-445e-8336-816971796e30\"}},{\"Payload\":{\"processed\":\"2147bacf-133e-4418-bc8f-247c53d8a3e6\",\"document_id\":\"24a2dcc3-c8ec-445e-8336-816971796e30\"}},{\"Payload\":{\"processed\":\"644d0dc5-1fe7-4710-85ee-8e3cb8e8692d\",\"document_id\":\"24a2dcc3-c8ec-445e-8336-816971796e30\"}},{\"Payload\":{\"processed\":\"ac080a7a-b671-4db0-8133-a91fe1a5b3ac\",\"document_id\":\"24a2dcc3-c8ec-445e-8336-816971796e30\"}},{\"Payload\":{\"processed\":\"bd057664-f581-42fb-8715-45b002ec604e\",\"document_id\":\"24a2dcc3-c8ec-445e-8336-816971796e30\"}},{\"Payload\":{\"processed\":\"05cc9c5c-f6a7-4d1f-8ee3-972d8e8384cc\",\"document_id\":\"24a2dcc3-c8ec-445e-8336-816971796e30\"}},{\"Payload\":{\"processed\":\"bcca0254-e9e9-44c5-bfc9-58342b208501\",\"document_id\":\"24a2dcc3-c8ec-445e-8336-816971796e30\"}},{\"Payload\":{\"processed\":\"02efd55e-9fca-4d83-bc33-798cc26d066b\",\"document_id\":\"24a2dcc3-c8ec-445e-8336-816971796e30\"}},{\"Payload\":{\"processed\":\"4af6e3db-1f57-4a3e-990d-cd7c8d1b0aa0\",\"document_id\":\"24a2dcc3-c8ec-445e-8336-816971796e30\"}},{\"Payload\":{\"processed\":\"0a6e4a04-a1dd-49b1-8c31-613bda455126\",\"document_id\":\"24a2dcc3-c8ec-445e-8336-816971796e30\"}},{\"Payload\":{\"processed\":\"01f4f63e-64cd-4538-978b-a5e6807fe5d4\",\"document_id\":\"24a2dcc3-c8ec-445e-8336-816971796e30\"}},{\"Payload\":{\"processed\":\"698c9d8a-ad6c-4101-8ced-8309ca21254c\",\"document_id\":\"24a2dcc3-c8ec-445e-8336-816971796e30\"}},{\"Payload\":{\"processed\":\"03fc7a20-c826-471b-8655-e9e8fca3b76c\",\"document_id\":\"24a2dcc3-c8ec-445e-8336-816971796e30\"}},{\"Payload\":{\"processed\":\"3139ec79-d470-42a1-8ab9-2806cd1e22ab\",\"document_id\":\"24a2dcc3-c8ec-445e-8336-816971796e30\"}},{\"Payload\":{\"processed\":\"283c1250-a909-40d5-aa60-7e19778b14f3\",\"document_id\":\"24a2dcc3-c8ec-445e-8336-816971796e30\"}},{\"Payload\":{\"processed\":\"bc29cd57-9e65-49c9-b8a9-63650ba202ed\",\"document_id\":\"24a2dcc3-c8ec-445e-8336-816971796e30\"}},{\"Payload\":{\"processed\":\"01df1f8a-4443-4d20-9773-9c807062f6bd\",\"document_id\":\"24a2dcc3-c8ec-445e-8336-816971796e30\"}},{\"Payload\":{\"processed\":\"63b17d8c-74b3-4153-aeb1-b162f8fcb741\",\"document_id\":\"24a2dcc3-c8ec-445e-8336-816971796e30\"}},{\"Payload\":{\"processed\":\"cc94ffa7-c21c-4aaa-a236-97fd888b3007\",\"document_id\":\"24a2dcc3-c8ec-445e-8336-816971796e30\"}},{\"Payload\":{\"processed\":\"3e9ff2ac-5e8b-435c-9440-83f6512b3cc8\",\"document_id\":\"24a2dcc3-c8ec-445e-8336-816971796e30\"}},{\"Payload\":{\"processed\":\"8fb30110-69d6-4615-9447-6dec7955997c\",\"document_id\":\"24a2dcc3-c8ec-445e-8336-816971796e30\"}},{\"Payload\":{\"processed\":\"b1a926e7-8e91-4810-9a89-ce805e61a14d\",\"document_id\":\"24a2dcc3-c8ec-445e-8336-816971796e30\"}},{\"Payload\":{\"processed\":\"8873fba2-0a02-4777-8361-65cf1472aab4\",\"document_id\":\"24a2dcc3-c8ec-445e-8336-816971796e30\"}},{\"Payload\":{\"processed\":\"3a8e5035-2735-4bc9-8266-b989b9803131\",\"document_id\":\"24a2dcc3-c8ec-445e-8336-816971796e30\"}},{\"Payload\":{\"processed\":\"d27c01f2-4671-4c16-abf6-261c69863eab\",\"document_id\":\"24a2dcc3-c8ec-445e-8336-816971796e30\"}},{\"Payload\":{\"processed\":\"2b1cd1f8-65fc-4301-8458-dfd19f8ac515\",\"document_id\":\"24a2dcc3-c8ec-445e-8336-816971796e30\"}},{\"Payload\":{\"processed\":\"73964531-58ca-4181-92c2-d65e35b6d5a8\",\"document_id\":\"24a2dcc3-c8ec-445e-8336-816971796e30\"}},{\"Payload\":{\"processed\":\"1eb11f34-8ab4-48f0-88be-9f2e7d828226\",\"document_id\":\"24a2dcc3-c8ec-445e-8336-816971796e30\"}},{\"Payload\":{\"processed\":\"5b2b1623-d644-441c-8648-92ae5783e1cf\",\"document_id\":\"24a2dcc3-c8ec-445e-8336-816971796e30\"}},{\"Payload\":{\"processed\":\"6346b21b-34ec-429e-92f7-ee0dee0dd48d\",\"document_id\":\"24a2dcc3-c8ec-445e-8336-816971796e30\"}},{\"Payload\":{\"processed\":\"ca995776-1cc4-4f02-9230-4c1d870a041c\",\"document_id\":\"24a2dcc3-c8ec-445e-8336-816971796e30\"}},{\"Payload\":{\"processed\":\"1bc97d27-1527-4e3c-a1ae-7dbb86df997c\",\"document_id\":\"24a2dcc3-c8ec-445e-8336-816971796e30\"}},{\"Payload\":{\"processed\":\"90bdb5a3-0e83-41be-99e7-a3db20cfd34f\",\"document_id\":\"24a2dcc3-c8ec-445e-8336-816971796e30\"}},{\"Payload\":{\"processed\":\"f213b40c-4aeb-4618-b182-9ea55e8b43fc\",\"document_id\":\"24a2dcc3-c8ec-445e-8336-816971796e30\"}},{\"Payload\":{\"processed\":\"180a41e3-38f8-4e56-b64e-d563fd5a516f\",\"document_id\":\"24a2dcc3-c8ec-445e-8336-816971796e30\"}},{\"Payload\":{\"processed\":\"19a92935-a5d7-471e-b581-cf0677b287d1\",\"document_id\":\"24a2dcc3-c8ec-445e-8336-816971796e30\"}},{\"Payload\":{\"processed\":\"ad871236-bce8-44ce-9a11-287619a0454d\",\"document_id\":\"24a2dcc3-c8ec-445e-8336-816971796e30\"}},{\"Payload\":{\"processed\":\"481360c5-dbd1-4b98-8240-4307ed8a624a\",\"document_id\":\"24a2dcc3-c8ec-445e-8336-816971796e30\"}},{\"Payload\":{\"processed\":\"13188e77-7f79-462b-a047-6014c97cb145\",\"document_id\":\"24a2dcc3-c8ec-445e-8336-816971796e30\"}},{\"Payload\":{\"processed\":\"0db8cbf2-9737-4bd5-83f8-ccba6d713d18\",\"document_id\":\"24a2dcc3-c8ec-445e-8336-816971796e30\"}},{\"Payload\":{\"processed\":\"2022d44e-351c-483c-ac68-6240f02b6d67\",\"document_id\":\"24a2dcc3-c8ec-445e-8336-816971796e30\"}},{\"Payload\":{\"processed\":\"0d1b6ec8-243f-4879-8736-b1a18b0b1b8a\",\"document_id\":\"24a2dcc3-c8ec-445e-8336-816971796e30\"}},{\"Payload\":{\"processed\":\"5a1f25ea-6183-49d2-95b9-f9c6e98c36a6\",\"document_id\":\"24a2dcc3-c8ec-445e-8336-816971796e30\"}},{\"Payload\":{\"processed\":\"f81e26fc-5fa3-40b2-8441-f640bc0cfa0d\",\"document_id\":\"24a2dcc3-c8ec-445e-8336-816971796e30\"}},{\"Payload\":{\"processed\":\"45fbdd63-a983-4bb6-b29d-cc5148715625\",\"document_id\":\"24a2dcc3-c8ec-445e-8336-816971796e30\"}},{\"Payload\":{\"processed\":\"7aebf498-98af-4985-989f-09aeb281fcec\",\"document_id\":\"24a2dcc3-c8ec-445e-8336-816971796e30\"}},{\"Payload\":{\"processed\":\"4608204b-2a77-449a-825c-345fdccb6ece\",\"document_id\":\"24a2dcc3-c8ec-445e-8336-816971796e30\"}},{\"Payload\":{\"processed\":\"1563c752-3d28-4aaf-94ef-138407682b24\",\"document_id\":\"24a2dcc3-c8ec-445e-8336-816971796e30\"}},{\"Payload\":{\"processed\":\"c7d215c8-9c1e-4c98-b4c1-155c8ba0bb2f\",\"document_id\":\"24a2dcc3-c8ec-445e-8336-816971796e30\"}},{\"Payload\":{\"processed\":\"71ff2be3-4082-429c-816c-4f5adc392d44\",\"document_id\":\"24a2dcc3-c8ec-445e-8336-816971796e30\"}},{\"Payload\":{\"processed\":\"703f1c14-cd25-4e05-8dd2-7841194c9363\",\"document_id\":\"24a2dcc3-c8ec-445e-8336-816971796e30\"}},{\"Payload\":{\"processed\":\"a05f383f-8d2a-410e-a141-8b1501a4ca4a\",\"document_id\":\"24a2dcc3-c8ec-445e-8336-816971796e30\"}},{\"Payload\":{\"processed\":\"ca147537-1ea5-4b34-9641-f638c80e3dc6\",\"document_id\":\"24a2dcc3-c8ec-445e-8336-816971796e30\"}},{\"Payload\":{\"processed\":\"e34cc7a3-b849-438a-aad9-d81e5644b3e9\",\"document_id\":\"24a2dcc3-c8ec-445e-8336-816971796e30\"}},{\"Payload\":{\"processed\":\"96f61871-8b0d-45d7-9f28-7cb5950a557d\",\"document_id\":\"24a2dcc3-c8ec-445e-8336-816971796e30\"}},{\"Payload\":{\"processed\":\"5203c823-6ecf-4e80-9562-d383dd802dd5\",\"document_id\":\"24a2dcc3-c8ec-445e-8336-816971796e30\"}},{\"Payload\":{\"processed\":\"37a73fdf-7e3b-4992-9bc2-4ccccb2f397e\",\"document_id\":\"24a2dcc3-c8ec-445e-8336-816971796e30\"}},{\"Payload\":{\"processed\":\"036fee56-247d-422e-9b29-b888f757c62c\",\"document_id\":\"24a2dcc3-c8ec-445e-8336-816971796e30\"}},{\"Payload\":{\"processed\":\"e4113ba6-a026-4bdb-94d4-46675205f098\",\"document_id\":\"24a2dcc3-c8ec-445e-8336-816971796e30\"}},{\"Payload\":{\"processed\":\"7ac01ea9-86c1-4725-83c0-d97a54dbcb13\",\"document_id\":\"24a2dcc3-c8ec-445e-8336-816971796e30\"}},{\"Payload\":{\"processed\":\"b6624f5a-cf37-426d-8f59-4486989b4ae9\",\"document_id\":\"24a2dcc3-c8ec-445e-8336-816971796e30\"}},{\"Payload\":{\"processed\":\"7ad793d9-4c65-43c5-ba2a-606bd85f2954\",\"document_id\":\"24a2dcc3-c8ec-445e-8336-816971796e30\"}},{\"Payload\":{\"processed\":\"f95b3c9d-e00a-4024-868f-8fe941f7457b\",\"document_id\":\"24a2dcc3-c8ec-445e-8336-816971796e30\"}},{\"Payload\":{\"processed\":\"b0dcc8f1-54a3-4f03-8389-058ca4957b18\",\"document_id\":\"24a2dcc3-c8ec-445e-8336-816971796e30\"}},{\"Payload\":{\"processed\":\"0d6defc4-fdc2-4576-a7e2-53c918a6c510\",\"document_id\":\"24a2dcc3-c8ec-445e-8336-816971796e30\"}},{\"Payload\":{\"processed\":\"4c836824-e17e-4259-918d-c963fbf6ddfb\",\"document_id\":\"24a2dcc3-c8ec-445e-8336-816971796e30\"}},{\"Payload\":{\"processed\":\"909bcbed-7b63-4de8-9fff-223d1a451604\",\"document_id\":\"24a2dcc3-c8ec-445e-8336-816971796e30\"}},{\"Payload\":{\"processed\":\"b92716b7-b96f-490a-8e75-276009303388\",\"document_id\":\"24a2dcc3-c8ec-445e-8336-816971796e30\"}},{\"Payload\":{\"processed\":\"10e2e0ae-6bb3-4473-b4d5-3dc471761714\",\"document_id\":\"24a2dcc3-c8ec-445e-8336-816971796e30\"}},{\"Payload\":{\"processed\":\"7a69a3d0-89d6-4677-84ea-57d77c00b4cf\",\"document_id\":\"24a2dcc3-c8ec-445e-8336-816971796e30\"}},{\"Payload\":{\"processed\":\"465bdae9-077b-42da-9729-f6363e602bb7\",\"document_id\":\"24a2dcc3-c8ec-445e-8336-816971796e30\"}},{\"Payload\":{\"processed\":\"1645c519-22b5-40e0-82f5-9130fa01d375\",\"document_id\":\"24a2dcc3-c8ec-445e-8336-816971796e30\"}},{\"Payload\":{\"processed\":\"46e7fe3b-bafe-417b-879c-c250782ccbba\",\"document_id\":\"24a2dcc3-c8ec-445e-8336-816971796e30\"}},{\"Payload\":{\"processed\":\"ce9afb0d-aa1e-4be1-bd9d-4a1cdf9ebd29\",\"document_id\":\"24a2dcc3-c8ec-445e-8336-816971796e30\"}},{\"Payload\":{\"processed\":\"c0e67974-d4c2-42a7-8374-add02a55a67f\",\"document_id\":\"24a2dcc3-c8ec-445e-8336-816971796e30\"}},{\"Payload\":{\"processed\":\"8c5a9755-0e48-47ec-8ca4-3d46fec464b7\",\"document_id\":\"24a2dcc3-c8ec-445e-8336-816971796e30\"}},{\"Payload\":{\"processed\":\"d1693149-2cfd-4948-b077-4a3c65cd475e\",\"document_id\":\"24a2dcc3-c8ec-445e-8336-816971796e30\"}},{\"Payload\":{\"processed\":\"11519471-a628-4d45-bcf9-39473304cc27\",\"document_id\":\"24a2dcc3-c8ec-445e-8336-816971796e30\"}},{\"Payload\":{\"processed\":\"c03ed5a4-0eff-494a-9e61-284df018bc45\",\"document_id\":\"24a2dcc3-c8ec-445e-8336-816971796e30\"}},{\"Payload\":{\"processed\":\"9e965fe1-c167-47a4-9be9-2f1cba2d1065\",\"document_id\":\"24a2dcc3-c8ec-445e-8336-816971796e30\"}},{\"Payload\":{\"processed\":\"dd7329b0-f1e2-48b9-84e5-85d2ab6657ff\",\"document_id\":\"24a2dcc3-c8ec-445e-8336-816971796e30\"}},{\"Payload\":{\"processed\":\"113dfbcb-8302-4d35-949a-a6c5ecaa4ff3\",\"document_id\":\"24a2dcc3-c8ec-445e-8336-816971796e30\"}},{\"Payload\":{\"processed\":\"bb2eac76-3504-4ced-a249-fdf7c906d0e5\",\"document_id\":\"24a2dcc3-c8ec-445e-8336-816971796e30\"}},{\"Payload\":{\"processed\":\"c8ec470d-99c0-4d52-8062-87b8001baf19\",\"document_id\":\"24a2dcc3-c8ec-445e-8336-816971796e30\"}},{\"Payload\":{\"processed\":\"d4821d31-2941-40bf-9f23-50b912a8f344\",\"document_id\":\"24a2dcc3-c8ec-445e-8336-816971796e30\"}},{\"Payload\":{\"processed\":\"ddf6596d-0998-465f-a8e0-177b57ce46c7\",\"document_id\":\"24a2dcc3-c8ec-445e-8336-816971796e30\"}},{\"Payload\":{\"processed\":\"976741e7-727d-41c2-a90d-9bf971540ea2\",\"document_id\":\"24a2dcc3-c8ec-445e-8336-816971796e30\"}}]}\n"
     ]
    },
    {
     "name": "stderr",
     "output_type": "stream",
     "text": [
      "11it [07:21, 41.37s/it]"
     ]
    },
    {
     "name": "stdout",
     "output_type": "stream",
     "text": [
      "PAKTON A Multi-Agent Framework for Question Answering in Long Legal Agreements.pdf\n"
     ]
    },
    {
     "name": "stderr",
     "output_type": "stream",
     "text": [
      "d:\\broai-arai\\backend\\package\\utils\\data_loder.py:22: UserWarning: [EXPERIMENT] You're using an experimental module, which is subject to change in future.: split_markdown\n",
      "  chunks = split_markdown(text)\n",
      "d:\\broai-arai\\backend\\package\\utils\\data_loder.py:23: UserWarning: [EXPERIMENT] You're using an experimental module, which is subject to change in future.: consolidate_markdown\n",
      "  consolidated_chunks = consolidate_markdown(chunks)\n",
      "d:\\broai-arai\\backend\\package\\utils\\data_loder.py:24: UserWarning: [EXPERIMENT] You're using an experimental module, which is subject to change in future.: get_markdown_sections\n",
      "  sections = get_markdown_sections(consolidated_chunks)\n",
      "d:\\broai-arai\\backend\\package\\utils\\data_loder.py:30: UserWarning: [EXPERIMENT] You're using an experimental module, which is subject to change in future.: split_overlap\n",
      "  new_contexts = split_overlap(contexts, max_tokens=max_tokens, overlap=overlap)\n"
     ]
    },
    {
     "name": "stdout",
     "output_type": "stream",
     "text": [
      "Markdown headings: max(2)\n",
      "Execution status: RUNNING\n",
      "Execution status: RUNNING\n",
      "Execution status: RUNNING\n",
      "Execution status: RUNNING\n",
      "Execution status: RUNNING\n",
      "Execution status: RUNNING\n",
      "Execution status: RUNNING\n",
      "Execution status: RUNNING\n",
      "Execution status: RUNNING\n",
      "Execution status: RUNNING\n",
      "Execution status: RUNNING\n",
      "Execution status: RUNNING\n",
      "Execution status: RUNNING\n",
      "Execution status: RUNNING\n",
      "Execution status: RUNNING\n",
      "Execution status: SUCCEEDED\n",
      "Execution output: {\"status\":\"success\",\"results\":[{\"Payload\":{\"processed\":\"fc64ce28-83c4-4f39-8262-ed7bc5d34450\",\"document_id\":\"cbd3c93d-09d3-4cc2-bc95-d36c2e4aefa9\"}},{\"Payload\":{\"processed\":\"c2970118-4b50-43ee-b82c-3b4294f4f487\",\"document_id\":\"cbd3c93d-09d3-4cc2-bc95-d36c2e4aefa9\"}},{\"Payload\":{\"processed\":\"20e127c9-15d0-4889-9cf3-950e8eded22e\",\"document_id\":\"cbd3c93d-09d3-4cc2-bc95-d36c2e4aefa9\"}},{\"Payload\":{\"processed\":\"74f1109b-36ba-4f3b-9fda-de6d86dddf1a\",\"document_id\":\"cbd3c93d-09d3-4cc2-bc95-d36c2e4aefa9\"}},{\"Payload\":{\"processed\":\"f134a74b-c789-48e3-9872-9da261bc156c\",\"document_id\":\"cbd3c93d-09d3-4cc2-bc95-d36c2e4aefa9\"}},{\"Payload\":{\"processed\":\"9809032b-4bc8-4d78-b687-74312c665d1f\",\"document_id\":\"cbd3c93d-09d3-4cc2-bc95-d36c2e4aefa9\"}},{\"Payload\":{\"processed\":\"7957714c-832a-4e5f-a60a-b4f225470175\",\"document_id\":\"cbd3c93d-09d3-4cc2-bc95-d36c2e4aefa9\"}},{\"Payload\":{\"processed\":\"f05c4800-94a8-42a7-8245-ba2c1e67b3e0\",\"document_id\":\"cbd3c93d-09d3-4cc2-bc95-d36c2e4aefa9\"}},{\"Payload\":{\"processed\":\"e7834d89-5302-4859-ae6a-1343959f4599\",\"document_id\":\"cbd3c93d-09d3-4cc2-bc95-d36c2e4aefa9\"}},{\"Payload\":{\"processed\":\"c104e368-bbe7-48fe-9687-209311e61f21\",\"document_id\":\"cbd3c93d-09d3-4cc2-bc95-d36c2e4aefa9\"}},{\"Payload\":{\"processed\":\"3a1a1808-1d53-4b7b-a1e6-edd95d405472\",\"document_id\":\"cbd3c93d-09d3-4cc2-bc95-d36c2e4aefa9\"}},{\"Payload\":{\"processed\":\"7b83603c-596a-430e-b176-79b79b69a56f\",\"document_id\":\"cbd3c93d-09d3-4cc2-bc95-d36c2e4aefa9\"}},{\"Payload\":{\"processed\":\"15dc78d0-8571-44b1-b083-e57568665904\",\"document_id\":\"cbd3c93d-09d3-4cc2-bc95-d36c2e4aefa9\"}},{\"Payload\":{\"processed\":\"95d35caf-dc4d-4230-b7a9-faf6c46979c0\",\"document_id\":\"cbd3c93d-09d3-4cc2-bc95-d36c2e4aefa9\"}},{\"Payload\":{\"processed\":\"5dd3338e-85a0-4a68-ac16-2d8ddc3a7523\",\"document_id\":\"cbd3c93d-09d3-4cc2-bc95-d36c2e4aefa9\"}},{\"Payload\":{\"processed\":\"34c56e23-f97e-428d-a5f4-7de2fc7ae807\",\"document_id\":\"cbd3c93d-09d3-4cc2-bc95-d36c2e4aefa9\"}},{\"Payload\":{\"processed\":\"08443336-cf5b-409e-a02d-c49b73cea630\",\"document_id\":\"cbd3c93d-09d3-4cc2-bc95-d36c2e4aefa9\"}},{\"Payload\":{\"processed\":\"26e32fa7-ab77-4464-9bb0-d25542fbc3c7\",\"document_id\":\"cbd3c93d-09d3-4cc2-bc95-d36c2e4aefa9\"}},{\"Payload\":{\"processed\":\"d193d56c-8aa5-408b-9cdc-f67e95d8f3b3\",\"document_id\":\"cbd3c93d-09d3-4cc2-bc95-d36c2e4aefa9\"}},{\"Payload\":{\"processed\":\"16b99096-31a6-4805-bf43-17b7a17f16a1\",\"document_id\":\"cbd3c93d-09d3-4cc2-bc95-d36c2e4aefa9\"}},{\"Payload\":{\"processed\":\"4579153b-64ef-4e88-a824-0bf15edb16fd\",\"document_id\":\"cbd3c93d-09d3-4cc2-bc95-d36c2e4aefa9\"}},{\"Payload\":{\"processed\":\"df545e12-a3e1-4ed4-a7a6-4eb09043e860\",\"document_id\":\"cbd3c93d-09d3-4cc2-bc95-d36c2e4aefa9\"}},{\"Payload\":{\"processed\":\"3a88af6b-49dc-421a-8ad1-7c09640c0eab\",\"document_id\":\"cbd3c93d-09d3-4cc2-bc95-d36c2e4aefa9\"}},{\"Payload\":{\"processed\":\"7917eb1f-e3d1-48a3-9e34-e590b7095a6d\",\"document_id\":\"cbd3c93d-09d3-4cc2-bc95-d36c2e4aefa9\"}},{\"Payload\":{\"processed\":\"30f48bdf-eceb-443e-84d6-d083ad8b8cb0\",\"document_id\":\"cbd3c93d-09d3-4cc2-bc95-d36c2e4aefa9\"}},{\"Payload\":{\"processed\":\"78158391-7091-40c9-a5ed-6e8a98571694\",\"document_id\":\"cbd3c93d-09d3-4cc2-bc95-d36c2e4aefa9\"}},{\"Payload\":{\"processed\":\"c8bc07ff-44de-4208-8183-3fa47a7fa2f1\",\"document_id\":\"cbd3c93d-09d3-4cc2-bc95-d36c2e4aefa9\"}},{\"Payload\":{\"processed\":\"4cd30d52-11b6-42af-b630-366bf49daf79\",\"document_id\":\"cbd3c93d-09d3-4cc2-bc95-d36c2e4aefa9\"}},{\"Payload\":{\"processed\":\"6ef19ba6-8567-4d73-a590-d9145745b61e\",\"document_id\":\"cbd3c93d-09d3-4cc2-bc95-d36c2e4aefa9\"}},{\"Payload\":{\"processed\":\"fad791dd-7f65-4f99-8cf4-9b940b487861\",\"document_id\":\"cbd3c93d-09d3-4cc2-bc95-d36c2e4aefa9\"}},{\"Payload\":{\"processed\":\"172437bd-fd5c-4e6a-9ca0-fba4c68b0d20\",\"document_id\":\"cbd3c93d-09d3-4cc2-bc95-d36c2e4aefa9\"}},{\"Payload\":{\"processed\":\"7c7acfce-6af3-44b1-91f7-6a2e6ab3287a\",\"document_id\":\"cbd3c93d-09d3-4cc2-bc95-d36c2e4aefa9\"}},{\"Payload\":{\"processed\":\"39895a13-8854-4e87-8e8d-beb729064a25\",\"document_id\":\"cbd3c93d-09d3-4cc2-bc95-d36c2e4aefa9\"}},{\"Payload\":{\"processed\":\"cc0d796a-6053-4773-b509-2158918816ef\",\"document_id\":\"cbd3c93d-09d3-4cc2-bc95-d36c2e4aefa9\"}},{\"Payload\":{\"processed\":\"5e7754f7-adcd-4c22-a807-d63bf578a6e1\",\"document_id\":\"cbd3c93d-09d3-4cc2-bc95-d36c2e4aefa9\"}},{\"Payload\":{\"processed\":\"7c61450a-867b-40ff-9285-632f1b5832f2\",\"document_id\":\"cbd3c93d-09d3-4cc2-bc95-d36c2e4aefa9\"}},{\"Payload\":{\"processed\":\"ac2277eb-99d9-4efd-ae07-e5d33c122e92\",\"document_id\":\"cbd3c93d-09d3-4cc2-bc95-d36c2e4aefa9\"}},{\"Payload\":{\"processed\":\"61ae11d6-2aa1-4619-b182-9a0fe158dc6b\",\"document_id\":\"cbd3c93d-09d3-4cc2-bc95-d36c2e4aefa9\"}},{\"Payload\":{\"processed\":\"753df0e6-33da-488e-86c4-b226d63ef2e6\",\"document_id\":\"cbd3c93d-09d3-4cc2-bc95-d36c2e4aefa9\"}},{\"Payload\":{\"processed\":\"d32f3ba7-be99-43e4-8689-3ea284b9d1f0\",\"document_id\":\"cbd3c93d-09d3-4cc2-bc95-d36c2e4aefa9\"}},{\"Payload\":{\"processed\":\"cc044782-0bfc-4415-94d0-8a3b3e9fc562\",\"document_id\":\"cbd3c93d-09d3-4cc2-bc95-d36c2e4aefa9\"}},{\"Payload\":{\"processed\":\"18460fa7-f4de-4ae1-a285-0629dd7dc3ab\",\"document_id\":\"cbd3c93d-09d3-4cc2-bc95-d36c2e4aefa9\"}},{\"Payload\":{\"processed\":\"9c6bc035-8c3c-43b8-8ad2-cb34fc7bd794\",\"document_id\":\"cbd3c93d-09d3-4cc2-bc95-d36c2e4aefa9\"}},{\"Payload\":{\"processed\":\"3b5bd775-0828-4c8c-9ad8-af4dc2ea1199\",\"document_id\":\"cbd3c93d-09d3-4cc2-bc95-d36c2e4aefa9\"}},{\"Payload\":{\"processed\":\"40e37869-9b8b-4a63-93f6-77db3e7af3c5\",\"document_id\":\"cbd3c93d-09d3-4cc2-bc95-d36c2e4aefa9\"}},{\"Payload\":{\"processed\":\"47e56ca9-6246-402a-b521-b0d3d255212b\",\"document_id\":\"cbd3c93d-09d3-4cc2-bc95-d36c2e4aefa9\"}},{\"Payload\":{\"processed\":\"cd9721fc-ac5c-47cc-85eb-648cef31727a\",\"document_id\":\"cbd3c93d-09d3-4cc2-bc95-d36c2e4aefa9\"}},{\"Payload\":{\"processed\":\"83b7054e-a73c-434b-b4b1-8e6561a33193\",\"document_id\":\"cbd3c93d-09d3-4cc2-bc95-d36c2e4aefa9\"}},{\"Payload\":{\"processed\":\"87c5ecc9-27c6-4e2a-b4cd-9bb96cb68cbe\",\"document_id\":\"cbd3c93d-09d3-4cc2-bc95-d36c2e4aefa9\"}},{\"Payload\":{\"processed\":\"7b3dbbdc-f924-413a-845a-ca57ee397ac9\",\"document_id\":\"cbd3c93d-09d3-4cc2-bc95-d36c2e4aefa9\"}},{\"Payload\":{\"processed\":\"818560b9-a355-4a7d-943b-35119df0363c\",\"document_id\":\"cbd3c93d-09d3-4cc2-bc95-d36c2e4aefa9\"}},{\"Payload\":{\"processed\":\"b3af20dc-520f-4eaa-8d8b-f1f193dc4f46\",\"document_id\":\"cbd3c93d-09d3-4cc2-bc95-d36c2e4aefa9\"}},{\"Payload\":{\"processed\":\"f9d5b817-b18b-4639-a786-eacea0036bba\",\"document_id\":\"cbd3c93d-09d3-4cc2-bc95-d36c2e4aefa9\"}},{\"Payload\":{\"processed\":\"95245dd8-63c6-466d-ae77-d6db9053047f\",\"document_id\":\"cbd3c93d-09d3-4cc2-bc95-d36c2e4aefa9\"}},{\"Payload\":{\"processed\":\"9ef72bb6-0daa-4861-a3a7-eb3496c3dddf\",\"document_id\":\"cbd3c93d-09d3-4cc2-bc95-d36c2e4aefa9\"}},{\"Payload\":{\"processed\":\"13c2f8db-e55e-4339-aedc-1833dcaf90a1\",\"document_id\":\"cbd3c93d-09d3-4cc2-bc95-d36c2e4aefa9\"}},{\"Payload\":{\"processed\":\"1ab20d55-7ba1-4761-be18-9e859b4a0e8d\",\"document_id\":\"cbd3c93d-09d3-4cc2-bc95-d36c2e4aefa9\"}},{\"Payload\":{\"processed\":\"44abe441-c25e-4dcf-b7cc-2d6a607a2244\",\"document_id\":\"cbd3c93d-09d3-4cc2-bc95-d36c2e4aefa9\"}},{\"Payload\":{\"processed\":\"0188e1e3-f188-4b4b-8231-5653091e3f68\",\"document_id\":\"cbd3c93d-09d3-4cc2-bc95-d36c2e4aefa9\"}},{\"Payload\":{\"processed\":\"a7cc8852-e864-4b5f-a8b0-eb14f3defe8b\",\"document_id\":\"cbd3c93d-09d3-4cc2-bc95-d36c2e4aefa9\"}},{\"Payload\":{\"processed\":\"e49cb0dc-425f-4644-8745-18f956d35102\",\"document_id\":\"cbd3c93d-09d3-4cc2-bc95-d36c2e4aefa9\"}},{\"Payload\":{\"processed\":\"fa710134-a708-4384-a664-4c671ce9c2e7\",\"document_id\":\"cbd3c93d-09d3-4cc2-bc95-d36c2e4aefa9\"}},{\"Payload\":{\"processed\":\"b3ea8ebd-daa3-4ca6-99a0-c0c510100e26\",\"document_id\":\"cbd3c93d-09d3-4cc2-bc95-d36c2e4aefa9\"}},{\"Payload\":{\"processed\":\"540bd2d6-1488-41e4-a8e9-1799cec0d98b\",\"document_id\":\"cbd3c93d-09d3-4cc2-bc95-d36c2e4aefa9\"}},{\"Payload\":{\"processed\":\"4ee5b4cf-5534-43ea-8de6-ce5642e77680\",\"document_id\":\"cbd3c93d-09d3-4cc2-bc95-d36c2e4aefa9\"}},{\"Payload\":{\"processed\":\"bad40a5f-414d-46ec-8531-9aa409b71905\",\"document_id\":\"cbd3c93d-09d3-4cc2-bc95-d36c2e4aefa9\"}},{\"Payload\":{\"processed\":\"25447f39-3240-4522-ae24-f2593aa6afcd\",\"document_id\":\"cbd3c93d-09d3-4cc2-bc95-d36c2e4aefa9\"}},{\"Payload\":{\"processed\":\"15e1c51f-ba96-4e77-98ab-d6fa363673be\",\"document_id\":\"cbd3c93d-09d3-4cc2-bc95-d36c2e4aefa9\"}},{\"Payload\":{\"processed\":\"ec2945ff-0072-4e34-b911-f4a27a779108\",\"document_id\":\"cbd3c93d-09d3-4cc2-bc95-d36c2e4aefa9\"}},{\"Payload\":{\"processed\":\"6eb2d2ed-fc1b-4302-9e03-f4c4984214c5\",\"document_id\":\"cbd3c93d-09d3-4cc2-bc95-d36c2e4aefa9\"}},{\"Payload\":{\"processed\":\"88a4f2e8-30b4-4b1d-bf77-739024b3889a\",\"document_id\":\"cbd3c93d-09d3-4cc2-bc95-d36c2e4aefa9\"}},{\"Payload\":{\"processed\":\"1707ff2f-2133-4d2b-8830-474425402c28\",\"document_id\":\"cbd3c93d-09d3-4cc2-bc95-d36c2e4aefa9\"}},{\"Payload\":{\"processed\":\"55f49961-ac3f-4bdf-ab35-a51aec7da422\",\"document_id\":\"cbd3c93d-09d3-4cc2-bc95-d36c2e4aefa9\"}},{\"Payload\":{\"processed\":\"5bd1b04a-3bf9-4b5a-b4bf-fa2d035c5808\",\"document_id\":\"cbd3c93d-09d3-4cc2-bc95-d36c2e4aefa9\"}},{\"Payload\":{\"processed\":\"2738122d-0fc4-4639-a3c9-8d4eb313259a\",\"document_id\":\"cbd3c93d-09d3-4cc2-bc95-d36c2e4aefa9\"}},{\"Payload\":{\"processed\":\"ed9877eb-0ccd-46ff-b316-dbd2186cfaa8\",\"document_id\":\"cbd3c93d-09d3-4cc2-bc95-d36c2e4aefa9\"}},{\"Payload\":{\"processed\":\"743a2b60-2ef9-40b9-9a27-6d6fa2b418f3\",\"document_id\":\"cbd3c93d-09d3-4cc2-bc95-d36c2e4aefa9\"}},{\"Payload\":{\"processed\":\"284cb7e1-3fb7-470c-ab31-05f6065ed705\",\"document_id\":\"cbd3c93d-09d3-4cc2-bc95-d36c2e4aefa9\"}},{\"Payload\":{\"processed\":\"fa14ed40-73ad-438b-88c6-4aadd3d4fb5b\",\"document_id\":\"cbd3c93d-09d3-4cc2-bc95-d36c2e4aefa9\"}},{\"Payload\":{\"processed\":\"55a855e4-7a74-49bf-b6fe-4bc0e8b50786\",\"document_id\":\"cbd3c93d-09d3-4cc2-bc95-d36c2e4aefa9\"}},{\"Payload\":{\"processed\":\"4d803038-cdb2-4a8f-a14f-ae4ed5ccbc1f\",\"document_id\":\"cbd3c93d-09d3-4cc2-bc95-d36c2e4aefa9\"}},{\"Payload\":{\"processed\":\"f98b1b73-567f-4138-be53-3d7b49e9391b\",\"document_id\":\"cbd3c93d-09d3-4cc2-bc95-d36c2e4aefa9\"}},{\"Payload\":{\"processed\":\"d6e4e887-cb21-488f-af2a-e38f61fd812b\",\"document_id\":\"cbd3c93d-09d3-4cc2-bc95-d36c2e4aefa9\"}},{\"Payload\":{\"processed\":\"eaa1d702-dc9d-4358-9cde-f772cc374b5d\",\"document_id\":\"cbd3c93d-09d3-4cc2-bc95-d36c2e4aefa9\"}},{\"Payload\":{\"processed\":\"fd90896b-0216-4ba4-be66-5aa06544dd93\",\"document_id\":\"cbd3c93d-09d3-4cc2-bc95-d36c2e4aefa9\"}},{\"Payload\":{\"processed\":\"46d510cb-ee3b-439e-be79-3e74152a7c9d\",\"document_id\":\"cbd3c93d-09d3-4cc2-bc95-d36c2e4aefa9\"}},{\"Payload\":{\"processed\":\"2a1a3194-7607-45c3-96c5-b887acdb443d\",\"document_id\":\"cbd3c93d-09d3-4cc2-bc95-d36c2e4aefa9\"}},{\"Payload\":{\"processed\":\"49b4d632-10d0-45b5-b1c7-1907ffd253e3\",\"document_id\":\"cbd3c93d-09d3-4cc2-bc95-d36c2e4aefa9\"}},{\"Payload\":{\"processed\":\"5c9d9765-2827-46e2-aa0a-f95278ffd276\",\"document_id\":\"cbd3c93d-09d3-4cc2-bc95-d36c2e4aefa9\"}},{\"Payload\":{\"processed\":\"31121a89-77f6-4563-a275-95a6b0feff3b\",\"document_id\":\"cbd3c93d-09d3-4cc2-bc95-d36c2e4aefa9\"}},{\"Payload\":{\"processed\":\"2e73c7a9-6969-4af2-8e8e-a89467ab393f\",\"document_id\":\"cbd3c93d-09d3-4cc2-bc95-d36c2e4aefa9\"}},{\"Payload\":{\"processed\":\"9cc8b0fc-60e9-48c9-920a-937e73103a8a\",\"document_id\":\"cbd3c93d-09d3-4cc2-bc95-d36c2e4aefa9\"}},{\"Payload\":{\"processed\":\"2494e61e-e870-402a-a692-f159844bf9ba\",\"document_id\":\"cbd3c93d-09d3-4cc2-bc95-d36c2e4aefa9\"}},{\"Payload\":{\"processed\":\"0e03ea2a-8031-47ac-8128-7e40b8ca0cf7\",\"document_id\":\"cbd3c93d-09d3-4cc2-bc95-d36c2e4aefa9\"}},{\"Payload\":{\"processed\":\"b7fe8bb9-a390-49dc-859f-5d8a73522581\",\"document_id\":\"cbd3c93d-09d3-4cc2-bc95-d36c2e4aefa9\"}},{\"Payload\":{\"processed\":\"4183e62d-15f4-4fc7-bc0b-80c09bde5e38\",\"document_id\":\"cbd3c93d-09d3-4cc2-bc95-d36c2e4aefa9\"}},{\"Payload\":{\"processed\":\"914c4bef-93a0-4eef-b597-543a04a2afaa\",\"document_id\":\"cbd3c93d-09d3-4cc2-bc95-d36c2e4aefa9\"}},{\"Payload\":{\"processed\":\"45f6dcde-1d80-4b94-a856-57a3f8e9b0c9\",\"document_id\":\"cbd3c93d-09d3-4cc2-bc95-d36c2e4aefa9\"}},{\"Payload\":{\"processed\":\"f9f8bb2e-907b-4be2-9e38-19ae254b6740\",\"document_id\":\"cbd3c93d-09d3-4cc2-bc95-d36c2e4aefa9\"}},{\"Payload\":{\"processed\":\"18a93d1a-4f77-4e6b-b2fb-7210726cd826\",\"document_id\":\"cbd3c93d-09d3-4cc2-bc95-d36c2e4aefa9\"}},{\"Payload\":{\"processed\":\"785bfb21-6a28-4f61-a81f-5fa8b957bd70\",\"document_id\":\"cbd3c93d-09d3-4cc2-bc95-d36c2e4aefa9\"}},{\"Payload\":{\"processed\":\"b2ef32a0-648b-4534-9913-efb8ae406be9\",\"document_id\":\"cbd3c93d-09d3-4cc2-bc95-d36c2e4aefa9\"}},{\"Payload\":{\"processed\":\"b3109036-c266-4051-9a8d-9b9e56f992f1\",\"document_id\":\"cbd3c93d-09d3-4cc2-bc95-d36c2e4aefa9\"}},{\"Payload\":{\"processed\":\"d8c36772-d3fc-4379-845e-4a356cee6ac8\",\"document_id\":\"cbd3c93d-09d3-4cc2-bc95-d36c2e4aefa9\"}},{\"Payload\":{\"processed\":\"700a6d13-74a3-4318-8be9-3b445a6a8a02\",\"document_id\":\"cbd3c93d-09d3-4cc2-bc95-d36c2e4aefa9\"}},{\"Payload\":{\"processed\":\"a4300c2e-63b9-4668-9faa-da366d350974\",\"document_id\":\"cbd3c93d-09d3-4cc2-bc95-d36c2e4aefa9\"}},{\"Payload\":{\"processed\":\"1f227203-6426-438d-ac46-675e021af797\",\"document_id\":\"cbd3c93d-09d3-4cc2-bc95-d36c2e4aefa9\"}},{\"Payload\":{\"processed\":\"c73bfd91-4b52-4d5c-8860-7dab452f6cc4\",\"document_id\":\"cbd3c93d-09d3-4cc2-bc95-d36c2e4aefa9\"}},{\"Payload\":{\"processed\":\"82659862-c033-4711-bb9b-6250e1ddcd40\",\"document_id\":\"cbd3c93d-09d3-4cc2-bc95-d36c2e4aefa9\"}},{\"Payload\":{\"processed\":\"223774d1-b549-4da9-be1c-25bbc749beba\",\"document_id\":\"cbd3c93d-09d3-4cc2-bc95-d36c2e4aefa9\"}},{\"Payload\":{\"processed\":\"141c1724-6cf8-4eaf-955c-9e5971b22410\",\"document_id\":\"cbd3c93d-09d3-4cc2-bc95-d36c2e4aefa9\"}},{\"Payload\":{\"processed\":\"5e439a52-1f03-46a0-b444-dd91a104f857\",\"document_id\":\"cbd3c93d-09d3-4cc2-bc95-d36c2e4aefa9\"}},{\"Payload\":{\"processed\":\"42babe9d-4779-4367-944d-d82e34a772bc\",\"document_id\":\"cbd3c93d-09d3-4cc2-bc95-d36c2e4aefa9\"}},{\"Payload\":{\"processed\":\"fc8eca64-73da-4a6a-b80e-763f61ebd5a9\",\"document_id\":\"cbd3c93d-09d3-4cc2-bc95-d36c2e4aefa9\"}},{\"Payload\":{\"processed\":\"6fb65538-deb8-4a05-8129-1e1bc806b9cd\",\"document_id\":\"cbd3c93d-09d3-4cc2-bc95-d36c2e4aefa9\"}},{\"Payload\":{\"processed\":\"5c72f951-ca24-49fa-af0c-29d7168be397\",\"document_id\":\"cbd3c93d-09d3-4cc2-bc95-d36c2e4aefa9\"}},{\"Payload\":{\"processed\":\"34e23de6-014c-4647-a8d4-1656a07eb8ae\",\"document_id\":\"cbd3c93d-09d3-4cc2-bc95-d36c2e4aefa9\"}},{\"Payload\":{\"processed\":\"6a909fad-f427-49c9-94b5-ca3eaa629b85\",\"document_id\":\"cbd3c93d-09d3-4cc2-bc95-d36c2e4aefa9\"}},{\"Payload\":{\"processed\":\"883a452c-9a2e-4dcd-ace4-8a8ee66e8c8c\",\"document_id\":\"cbd3c93d-09d3-4cc2-bc95-d36c2e4aefa9\"}},{\"Payload\":{\"processed\":\"0785cbdd-1d66-4be3-b6d0-2ebadeddbc63\",\"document_id\":\"cbd3c93d-09d3-4cc2-bc95-d36c2e4aefa9\"}},{\"Payload\":{\"processed\":\"67f88e6c-72f6-47e1-ae14-8a7119e6eb96\",\"document_id\":\"cbd3c93d-09d3-4cc2-bc95-d36c2e4aefa9\"}},{\"Payload\":{\"processed\":\"918d2df1-d609-4aeb-9ad9-6b3b44722436\",\"document_id\":\"cbd3c93d-09d3-4cc2-bc95-d36c2e4aefa9\"}},{\"Payload\":{\"processed\":\"bd9cf49f-a90e-406f-bef9-7635175dc53f\",\"document_id\":\"cbd3c93d-09d3-4cc2-bc95-d36c2e4aefa9\"}},{\"Payload\":{\"processed\":\"cd8df90f-7ce4-4e97-916a-9e32b7ab03ff\",\"document_id\":\"cbd3c93d-09d3-4cc2-bc95-d36c2e4aefa9\"}},{\"Payload\":{\"processed\":\"9e88b078-9078-477a-8ab2-f0759583e2e0\",\"document_id\":\"cbd3c93d-09d3-4cc2-bc95-d36c2e4aefa9\"}},{\"Payload\":{\"processed\":\"5d3b7499-a7c8-4b49-a130-4ccf3673ff63\",\"document_id\":\"cbd3c93d-09d3-4cc2-bc95-d36c2e4aefa9\"}},{\"Payload\":{\"processed\":\"919ec191-fb4f-4c05-a53f-0603282591f2\",\"document_id\":\"cbd3c93d-09d3-4cc2-bc95-d36c2e4aefa9\"}},{\"Payload\":{\"processed\":\"ccc25952-4f61-4e0f-8cba-e624b0b3d7bf\",\"document_id\":\"cbd3c93d-09d3-4cc2-bc95-d36c2e4aefa9\"}},{\"Payload\":{\"processed\":\"70560acd-1cd6-461b-a491-20b713b2fe7d\",\"document_id\":\"cbd3c93d-09d3-4cc2-bc95-d36c2e4aefa9\"}},{\"Payload\":{\"processed\":\"55f9221d-8ba0-4f3d-bc2e-e9779a7773b9\",\"document_id\":\"cbd3c93d-09d3-4cc2-bc95-d36c2e4aefa9\"}},{\"Payload\":{\"processed\":\"65185cfe-d488-4b5b-8403-066e57677b8d\",\"document_id\":\"cbd3c93d-09d3-4cc2-bc95-d36c2e4aefa9\"}},{\"Payload\":{\"processed\":\"09954399-e501-4218-8188-67591fa0babc\",\"document_id\":\"cbd3c93d-09d3-4cc2-bc95-d36c2e4aefa9\"}},{\"Payload\":{\"processed\":\"5cd1724c-ec3a-4455-849d-f43a83f28a1f\",\"document_id\":\"cbd3c93d-09d3-4cc2-bc95-d36c2e4aefa9\"}},{\"Payload\":{\"processed\":\"ef4e0c6e-2235-4d22-97b6-1916704ce804\",\"document_id\":\"cbd3c93d-09d3-4cc2-bc95-d36c2e4aefa9\"}},{\"Payload\":{\"processed\":\"8e5d23a1-2196-4654-9987-74204eed5453\",\"document_id\":\"cbd3c93d-09d3-4cc2-bc95-d36c2e4aefa9\"}},{\"Payload\":{\"processed\":\"61b9bb0d-1631-451f-94e6-d584a41347c9\",\"document_id\":\"cbd3c93d-09d3-4cc2-bc95-d36c2e4aefa9\"}},{\"Payload\":{\"processed\":\"f805dc14-a343-491c-8ca8-8b759b021ccd\",\"document_id\":\"cbd3c93d-09d3-4cc2-bc95-d36c2e4aefa9\"}},{\"Payload\":{\"processed\":\"1c1850f2-07bc-40fe-8a32-1a2915ab962a\",\"document_id\":\"cbd3c93d-09d3-4cc2-bc95-d36c2e4aefa9\"}},{\"Payload\":{\"processed\":\"c80d4720-cb20-4bc9-993f-95e896a4c96d\",\"document_id\":\"cbd3c93d-09d3-4cc2-bc95-d36c2e4aefa9\"}},{\"Payload\":{\"processed\":\"22d8c818-61b0-45e9-b1e2-e03dfd8dd6f2\",\"document_id\":\"cbd3c93d-09d3-4cc2-bc95-d36c2e4aefa9\"}},{\"Payload\":{\"processed\":\"1f451a07-40d0-4f90-9327-9684d8c8465f\",\"document_id\":\"cbd3c93d-09d3-4cc2-bc95-d36c2e4aefa9\"}},{\"Payload\":{\"processed\":\"45f43177-d9ca-4f94-ab50-dc239df36999\",\"document_id\":\"cbd3c93d-09d3-4cc2-bc95-d36c2e4aefa9\"}},{\"Payload\":{\"processed\":\"42c5d608-a4ce-4e2c-b439-635dec2374c9\",\"document_id\":\"cbd3c93d-09d3-4cc2-bc95-d36c2e4aefa9\"}},{\"Payload\":{\"processed\":\"4bfea0f0-3901-468f-873e-9625d59f0acb\",\"document_id\":\"cbd3c93d-09d3-4cc2-bc95-d36c2e4aefa9\"}},{\"Payload\":{\"processed\":\"eedb66fd-e4b5-4563-ad39-c514b01190a3\",\"document_id\":\"cbd3c93d-09d3-4cc2-bc95-d36c2e4aefa9\"}},{\"Payload\":{\"processed\":\"e137a502-f877-4803-ab49-b8ae03edc0ef\",\"document_id\":\"cbd3c93d-09d3-4cc2-bc95-d36c2e4aefa9\"}},{\"Payload\":{\"processed\":\"52876621-dab5-4835-be02-071d5f8a73a6\",\"document_id\":\"cbd3c93d-09d3-4cc2-bc95-d36c2e4aefa9\"}},{\"Payload\":{\"processed\":\"d88c0f6d-c8aa-4bae-bf0f-8ce2a5c80fab\",\"document_id\":\"cbd3c93d-09d3-4cc2-bc95-d36c2e4aefa9\"}},{\"Payload\":{\"processed\":\"88b02e34-517a-4a3b-b098-41d0d5c3a66c\",\"document_id\":\"cbd3c93d-09d3-4cc2-bc95-d36c2e4aefa9\"}},{\"Payload\":{\"processed\":\"16c3e429-7d25-4c7f-b9e3-940a95d0e431\",\"document_id\":\"cbd3c93d-09d3-4cc2-bc95-d36c2e4aefa9\"}},{\"Payload\":{\"processed\":\"1e9c38f1-a7c3-410f-9673-e2319c686d4c\",\"document_id\":\"cbd3c93d-09d3-4cc2-bc95-d36c2e4aefa9\"}},{\"Payload\":{\"processed\":\"58051eae-f410-499f-93cd-cce7400d44ba\",\"document_id\":\"cbd3c93d-09d3-4cc2-bc95-d36c2e4aefa9\"}},{\"Payload\":{\"processed\":\"abc34dbb-5411-4815-8735-cf33ef2a25ac\",\"document_id\":\"cbd3c93d-09d3-4cc2-bc95-d36c2e4aefa9\"}},{\"Payload\":{\"processed\":\"92b7ff02-add7-41af-80ae-cb1568cc5e05\",\"document_id\":\"cbd3c93d-09d3-4cc2-bc95-d36c2e4aefa9\"}},{\"Payload\":{\"processed\":\"e2268910-d548-475b-82a5-a9d67b352c49\",\"document_id\":\"cbd3c93d-09d3-4cc2-bc95-d36c2e4aefa9\"}},{\"Payload\":{\"processed\":\"6863295e-7b2f-48a1-bc44-172bc3b218e5\",\"document_id\":\"cbd3c93d-09d3-4cc2-bc95-d36c2e4aefa9\"}},{\"Payload\":{\"processed\":\"87afa0c3-6c18-4c0b-bfc4-a5703dbae0bc\",\"document_id\":\"cbd3c93d-09d3-4cc2-bc95-d36c2e4aefa9\"}},{\"Payload\":{\"processed\":\"e7dc58e5-2b0a-4ba9-b810-e13d29772cfe\",\"document_id\":\"cbd3c93d-09d3-4cc2-bc95-d36c2e4aefa9\"}},{\"Payload\":{\"processed\":\"d6e6a102-810a-4687-bed2-1350e24bde1f\",\"document_id\":\"cbd3c93d-09d3-4cc2-bc95-d36c2e4aefa9\"}},{\"Payload\":{\"processed\":\"abd5bf16-98d8-4d91-8f35-6a10a7846645\",\"document_id\":\"cbd3c93d-09d3-4cc2-bc95-d36c2e4aefa9\"}},{\"Payload\":{\"processed\":\"df659523-ef65-4ed3-9df2-1ce3946d6899\",\"document_id\":\"cbd3c93d-09d3-4cc2-bc95-d36c2e4aefa9\"}},{\"Payload\":{\"processed\":\"c5e4de95-751d-4680-8f77-f72b2075ee28\",\"document_id\":\"cbd3c93d-09d3-4cc2-bc95-d36c2e4aefa9\"}},{\"Payload\":{\"processed\":\"957c5afe-20ea-4118-984e-6796dfc8eb21\",\"document_id\":\"cbd3c93d-09d3-4cc2-bc95-d36c2e4aefa9\"}},{\"Payload\":{\"processed\":\"78e379c3-015c-447b-ad3c-f2f75728c8cb\",\"document_id\":\"cbd3c93d-09d3-4cc2-bc95-d36c2e4aefa9\"}},{\"Payload\":{\"processed\":\"777c92de-c3bb-41cb-9b96-c6e441dc3606\",\"document_id\":\"cbd3c93d-09d3-4cc2-bc95-d36c2e4aefa9\"}},{\"Payload\":{\"processed\":\"757c54aa-95c4-4abb-b562-6b21d2caa265\",\"document_id\":\"cbd3c93d-09d3-4cc2-bc95-d36c2e4aefa9\"}},{\"Payload\":{\"processed\":\"bb04118d-cb8b-460d-a7e2-af56dabae729\",\"document_id\":\"cbd3c93d-09d3-4cc2-bc95-d36c2e4aefa9\"}},{\"Payload\":{\"processed\":\"cb53c246-a5c2-4ebc-9e9d-445a12b51799\",\"document_id\":\"cbd3c93d-09d3-4cc2-bc95-d36c2e4aefa9\"}},{\"Payload\":{\"processed\":\"bb5fa213-7583-4771-a03a-671f9478f409\",\"document_id\":\"cbd3c93d-09d3-4cc2-bc95-d36c2e4aefa9\"}}]}\n"
     ]
    },
    {
     "name": "stderr",
     "output_type": "stream",
     "text": [
      "12it [08:43, 53.48s/it]"
     ]
    },
    {
     "name": "stdout",
     "output_type": "stream",
     "text": [
      "POQD Performance-Oriented Query Decomposer for Multi-vector retrieval.pdf\n"
     ]
    },
    {
     "name": "stderr",
     "output_type": "stream",
     "text": [
      "d:\\broai-arai\\backend\\package\\utils\\data_loder.py:22: UserWarning: [EXPERIMENT] You're using an experimental module, which is subject to change in future.: split_markdown\n",
      "  chunks = split_markdown(text)\n",
      "d:\\broai-arai\\backend\\package\\utils\\data_loder.py:23: UserWarning: [EXPERIMENT] You're using an experimental module, which is subject to change in future.: consolidate_markdown\n",
      "  consolidated_chunks = consolidate_markdown(chunks)\n",
      "d:\\broai-arai\\backend\\package\\utils\\data_loder.py:24: UserWarning: [EXPERIMENT] You're using an experimental module, which is subject to change in future.: get_markdown_sections\n",
      "  sections = get_markdown_sections(consolidated_chunks)\n",
      "d:\\broai-arai\\backend\\package\\utils\\data_loder.py:30: UserWarning: [EXPERIMENT] You're using an experimental module, which is subject to change in future.: split_overlap\n",
      "  new_contexts = split_overlap(contexts, max_tokens=max_tokens, overlap=overlap)\n"
     ]
    },
    {
     "name": "stdout",
     "output_type": "stream",
     "text": [
      "Markdown headings: max(2)\n",
      "Execution status: RUNNING\n",
      "Execution status: RUNNING\n",
      "Execution status: RUNNING\n",
      "Execution status: RUNNING\n",
      "Execution status: RUNNING\n",
      "Execution status: RUNNING\n",
      "Execution status: RUNNING\n",
      "Execution status: RUNNING\n",
      "Execution status: SUCCEEDED\n",
      "Execution output: {\"status\":\"success\",\"results\":[{\"Payload\":{\"processed\":\"873513f1-4914-4379-aa99-52e76f0a1eb4\",\"document_id\":\"9099006f-03c4-4b0d-a7f3-0538fea835c6\"}},{\"Payload\":{\"processed\":\"5388e8d2-a5a9-4738-a38e-a3cb2c7ccd57\",\"document_id\":\"9099006f-03c4-4b0d-a7f3-0538fea835c6\"}},{\"Payload\":{\"processed\":\"ca7b857a-fa02-4d97-b0a3-f01c09d65dda\",\"document_id\":\"9099006f-03c4-4b0d-a7f3-0538fea835c6\"}},{\"Payload\":{\"processed\":\"67e240f9-3c3f-44bb-93fd-40aff2ae7b32\",\"document_id\":\"9099006f-03c4-4b0d-a7f3-0538fea835c6\"}},{\"Payload\":{\"processed\":\"ad88cacb-0a66-4234-9e32-b42f8f2c67c0\",\"document_id\":\"9099006f-03c4-4b0d-a7f3-0538fea835c6\"}},{\"Payload\":{\"processed\":\"162dc340-be97-4999-8e59-fcbed72f813e\",\"document_id\":\"9099006f-03c4-4b0d-a7f3-0538fea835c6\"}},{\"Payload\":{\"processed\":\"fdd632b8-1b45-41c9-ac0b-076aaaafe0ae\",\"document_id\":\"9099006f-03c4-4b0d-a7f3-0538fea835c6\"}},{\"Payload\":{\"processed\":\"3e4258c2-2746-4024-a3b8-398bcc7554cf\",\"document_id\":\"9099006f-03c4-4b0d-a7f3-0538fea835c6\"}},{\"Payload\":{\"processed\":\"7f020a4f-760b-40ce-9d31-bd30c9e85227\",\"document_id\":\"9099006f-03c4-4b0d-a7f3-0538fea835c6\"}},{\"Payload\":{\"processed\":\"09cdaec8-55e5-4dd0-b55f-50b77f8f5ccd\",\"document_id\":\"9099006f-03c4-4b0d-a7f3-0538fea835c6\"}},{\"Payload\":{\"processed\":\"81623a25-1901-4585-9841-55ad12fdbef4\",\"document_id\":\"9099006f-03c4-4b0d-a7f3-0538fea835c6\"}},{\"Payload\":{\"processed\":\"9ae41e9b-649e-4b13-8bbf-7f12772e59b0\",\"document_id\":\"9099006f-03c4-4b0d-a7f3-0538fea835c6\"}},{\"Payload\":{\"processed\":\"7ed9e187-55b2-45d5-b392-6ce307ead910\",\"document_id\":\"9099006f-03c4-4b0d-a7f3-0538fea835c6\"}},{\"Payload\":{\"processed\":\"54ae4e5e-7541-4fcd-959c-c32e111fa3cb\",\"document_id\":\"9099006f-03c4-4b0d-a7f3-0538fea835c6\"}},{\"Payload\":{\"processed\":\"d55ba63a-ac3a-4071-93a1-f38eadd9d8d5\",\"document_id\":\"9099006f-03c4-4b0d-a7f3-0538fea835c6\"}},{\"Payload\":{\"processed\":\"8f5df872-7a66-4fc5-be4f-c84abed174e1\",\"document_id\":\"9099006f-03c4-4b0d-a7f3-0538fea835c6\"}},{\"Payload\":{\"processed\":\"0ed49d1a-3aa8-462b-a036-9785d32e8045\",\"document_id\":\"9099006f-03c4-4b0d-a7f3-0538fea835c6\"}},{\"Payload\":{\"processed\":\"1abcdc0a-470e-4cc3-acbb-c78d86feff77\",\"document_id\":\"9099006f-03c4-4b0d-a7f3-0538fea835c6\"}},{\"Payload\":{\"processed\":\"09eaa3b2-ab58-4928-9b0f-5bbcda5532d4\",\"document_id\":\"9099006f-03c4-4b0d-a7f3-0538fea835c6\"}},{\"Payload\":{\"processed\":\"2979f2e6-c999-4734-8ac2-aedb749d6919\",\"document_id\":\"9099006f-03c4-4b0d-a7f3-0538fea835c6\"}},{\"Payload\":{\"processed\":\"00183d81-1aff-4bc0-96eb-33ed0d4ba667\",\"document_id\":\"9099006f-03c4-4b0d-a7f3-0538fea835c6\"}},{\"Payload\":{\"processed\":\"a4b775d5-92cb-48b4-aec5-38931d9be779\",\"document_id\":\"9099006f-03c4-4b0d-a7f3-0538fea835c6\"}},{\"Payload\":{\"processed\":\"c6bca029-8cd8-4b11-9629-b507845e707d\",\"document_id\":\"9099006f-03c4-4b0d-a7f3-0538fea835c6\"}},{\"Payload\":{\"processed\":\"09758a86-d037-44d0-94e9-e0d5e32181a2\",\"document_id\":\"9099006f-03c4-4b0d-a7f3-0538fea835c6\"}},{\"Payload\":{\"processed\":\"69cddb82-7ce7-4eff-b153-e1938c4cb2f6\",\"document_id\":\"9099006f-03c4-4b0d-a7f3-0538fea835c6\"}},{\"Payload\":{\"processed\":\"9beca315-57f8-4378-b695-f26287b3fd06\",\"document_id\":\"9099006f-03c4-4b0d-a7f3-0538fea835c6\"}},{\"Payload\":{\"processed\":\"f4bfac38-9db8-44e4-b723-e4dd337b5a2f\",\"document_id\":\"9099006f-03c4-4b0d-a7f3-0538fea835c6\"}},{\"Payload\":{\"processed\":\"af1c4e67-e28d-41ff-b2be-d3aae9d589ea\",\"document_id\":\"9099006f-03c4-4b0d-a7f3-0538fea835c6\"}},{\"Payload\":{\"processed\":\"0a38df51-8491-4aec-8bb9-d8f3934e5513\",\"document_id\":\"9099006f-03c4-4b0d-a7f3-0538fea835c6\"}},{\"Payload\":{\"processed\":\"a376ceb1-d245-4c36-bfda-d9f3de98d08e\",\"document_id\":\"9099006f-03c4-4b0d-a7f3-0538fea835c6\"}},{\"Payload\":{\"processed\":\"c1915ca3-5b19-4cb8-8d24-8f9a583dd129\",\"document_id\":\"9099006f-03c4-4b0d-a7f3-0538fea835c6\"}},{\"Payload\":{\"processed\":\"defaeb20-aedf-4584-bb58-d981cd137385\",\"document_id\":\"9099006f-03c4-4b0d-a7f3-0538fea835c6\"}},{\"Payload\":{\"processed\":\"8b159fee-b86f-4996-80fb-6e3efa184ff0\",\"document_id\":\"9099006f-03c4-4b0d-a7f3-0538fea835c6\"}},{\"Payload\":{\"processed\":\"b66b85c5-8b92-405a-b14a-82cb002055ce\",\"document_id\":\"9099006f-03c4-4b0d-a7f3-0538fea835c6\"}},{\"Payload\":{\"processed\":\"dbbe6a28-0247-4dee-b8e5-f00e4c86c026\",\"document_id\":\"9099006f-03c4-4b0d-a7f3-0538fea835c6\"}},{\"Payload\":{\"processed\":\"5b0d392e-82f9-4f22-8fbc-87894eded424\",\"document_id\":\"9099006f-03c4-4b0d-a7f3-0538fea835c6\"}},{\"Payload\":{\"processed\":\"ebd799f6-8fdb-47cc-bf9f-e70a8093ef79\",\"document_id\":\"9099006f-03c4-4b0d-a7f3-0538fea835c6\"}},{\"Payload\":{\"processed\":\"c79b8946-3b92-4243-837e-4efed57a9cbc\",\"document_id\":\"9099006f-03c4-4b0d-a7f3-0538fea835c6\"}},{\"Payload\":{\"processed\":\"cbbc2f0d-8da5-41ec-ad55-bf9f98ea63d7\",\"document_id\":\"9099006f-03c4-4b0d-a7f3-0538fea835c6\"}},{\"Payload\":{\"processed\":\"e2ebd9ab-8496-4b57-90e5-d5e68a4d66b8\",\"document_id\":\"9099006f-03c4-4b0d-a7f3-0538fea835c6\"}},{\"Payload\":{\"processed\":\"6536cfd0-7254-4846-8eee-c99323ae0dba\",\"document_id\":\"9099006f-03c4-4b0d-a7f3-0538fea835c6\"}},{\"Payload\":{\"processed\":\"3aa834a3-00f5-4a00-bf82-e9381169c786\",\"document_id\":\"9099006f-03c4-4b0d-a7f3-0538fea835c6\"}},{\"Payload\":{\"processed\":\"b66bbe68-abe7-44b1-a956-d5e3526d2e7c\",\"document_id\":\"9099006f-03c4-4b0d-a7f3-0538fea835c6\"}},{\"Payload\":{\"processed\":\"9f73e5bb-edba-4881-8915-d4aaaf492ece\",\"document_id\":\"9099006f-03c4-4b0d-a7f3-0538fea835c6\"}},{\"Payload\":{\"processed\":\"49a6fce1-838e-43f2-b6bb-203682924714\",\"document_id\":\"9099006f-03c4-4b0d-a7f3-0538fea835c6\"}},{\"Payload\":{\"processed\":\"003400f1-cba6-484f-ab5c-ff2296286ce6\",\"document_id\":\"9099006f-03c4-4b0d-a7f3-0538fea835c6\"}},{\"Payload\":{\"processed\":\"8ac5eef2-14fc-4927-b6d0-5c260cc5bc0c\",\"document_id\":\"9099006f-03c4-4b0d-a7f3-0538fea835c6\"}},{\"Payload\":{\"processed\":\"94ba6d2c-d3ca-4d89-a071-9dfb75ce9166\",\"document_id\":\"9099006f-03c4-4b0d-a7f3-0538fea835c6\"}},{\"Payload\":{\"processed\":\"d0afce95-6283-4555-af2d-5296359d7c62\",\"document_id\":\"9099006f-03c4-4b0d-a7f3-0538fea835c6\"}},{\"Payload\":{\"processed\":\"b72bd00f-1bde-4ba4-83af-c5bd001317b8\",\"document_id\":\"9099006f-03c4-4b0d-a7f3-0538fea835c6\"}},{\"Payload\":{\"processed\":\"f85278c7-5eaf-4a04-b076-a401d53a5907\",\"document_id\":\"9099006f-03c4-4b0d-a7f3-0538fea835c6\"}},{\"Payload\":{\"processed\":\"03488cbb-f208-447c-a61b-9d31d8df1cf0\",\"document_id\":\"9099006f-03c4-4b0d-a7f3-0538fea835c6\"}},{\"Payload\":{\"processed\":\"732f1ef7-e4b6-4503-934e-ea4c6fc10040\",\"document_id\":\"9099006f-03c4-4b0d-a7f3-0538fea835c6\"}},{\"Payload\":{\"processed\":\"b668ea2d-77c8-414d-96bc-bdc7f7fb2822\",\"document_id\":\"9099006f-03c4-4b0d-a7f3-0538fea835c6\"}},{\"Payload\":{\"processed\":\"80df48b6-69d8-450e-ba13-45787b3b8793\",\"document_id\":\"9099006f-03c4-4b0d-a7f3-0538fea835c6\"}},{\"Payload\":{\"processed\":\"7e37344b-7d94-4df5-bf4e-c4c169742400\",\"document_id\":\"9099006f-03c4-4b0d-a7f3-0538fea835c6\"}},{\"Payload\":{\"processed\":\"dddbbf90-c805-48f2-8a28-7f36b3304739\",\"document_id\":\"9099006f-03c4-4b0d-a7f3-0538fea835c6\"}},{\"Payload\":{\"processed\":\"315e0730-9c79-45c5-ba06-0fa604ea4fc0\",\"document_id\":\"9099006f-03c4-4b0d-a7f3-0538fea835c6\"}},{\"Payload\":{\"processed\":\"0381731f-323c-416e-9382-ee2387ed5a8e\",\"document_id\":\"9099006f-03c4-4b0d-a7f3-0538fea835c6\"}},{\"Payload\":{\"processed\":\"d560f1e7-d421-4d5b-ab15-f7eb96932040\",\"document_id\":\"9099006f-03c4-4b0d-a7f3-0538fea835c6\"}},{\"Payload\":{\"processed\":\"86b94c6c-0c72-46c1-9f21-cfb28f57a4ca\",\"document_id\":\"9099006f-03c4-4b0d-a7f3-0538fea835c6\"}},{\"Payload\":{\"processed\":\"cdacffc6-1768-42c4-a7c1-b2157d5e0e4b\",\"document_id\":\"9099006f-03c4-4b0d-a7f3-0538fea835c6\"}},{\"Payload\":{\"processed\":\"b0a49b75-4519-4a6d-a5d7-8dd5a37a9a3a\",\"document_id\":\"9099006f-03c4-4b0d-a7f3-0538fea835c6\"}}]}\n"
     ]
    },
    {
     "name": "stderr",
     "output_type": "stream",
     "text": [
      "13it [09:22, 49.05s/it]"
     ]
    },
    {
     "name": "stdout",
     "output_type": "stream",
     "text": [
      "RARE Retrieval-Aware Robustness Evaluation for Retrieval-Augmented Generation Systems.pdf\n"
     ]
    },
    {
     "name": "stderr",
     "output_type": "stream",
     "text": [
      "d:\\broai-arai\\backend\\package\\utils\\data_loder.py:22: UserWarning: [EXPERIMENT] You're using an experimental module, which is subject to change in future.: split_markdown\n",
      "  chunks = split_markdown(text)\n",
      "d:\\broai-arai\\backend\\package\\utils\\data_loder.py:23: UserWarning: [EXPERIMENT] You're using an experimental module, which is subject to change in future.: consolidate_markdown\n",
      "  consolidated_chunks = consolidate_markdown(chunks)\n",
      "d:\\broai-arai\\backend\\package\\utils\\data_loder.py:24: UserWarning: [EXPERIMENT] You're using an experimental module, which is subject to change in future.: get_markdown_sections\n",
      "  sections = get_markdown_sections(consolidated_chunks)\n",
      "d:\\broai-arai\\backend\\package\\utils\\data_loder.py:30: UserWarning: [EXPERIMENT] You're using an experimental module, which is subject to change in future.: split_overlap\n",
      "  new_contexts = split_overlap(contexts, max_tokens=max_tokens, overlap=overlap)\n"
     ]
    },
    {
     "name": "stdout",
     "output_type": "stream",
     "text": [
      "Markdown headings: max(3)\n",
      "Execution status: RUNNING\n",
      "Execution status: RUNNING\n",
      "Execution status: RUNNING\n",
      "Execution status: RUNNING\n",
      "Execution status: RUNNING\n",
      "Execution status: RUNNING\n",
      "Execution status: RUNNING\n",
      "Execution status: SUCCEEDED\n",
      "Execution output: {\"status\":\"success\",\"results\":[{\"Payload\":{\"processed\":\"a954e0c4-1e97-4f42-80e4-f2b31d609b72\",\"document_id\":\"050e6a5c-8b0f-4649-bd05-547cf962f701\"}},{\"Payload\":{\"processed\":\"a7f61736-42ad-4cfd-b8a6-61a40c49741d\",\"document_id\":\"050e6a5c-8b0f-4649-bd05-547cf962f701\"}},{\"Payload\":{\"processed\":\"313bd81d-a542-4a06-8a2a-a95b028e3e4c\",\"document_id\":\"050e6a5c-8b0f-4649-bd05-547cf962f701\"}},{\"Payload\":{\"processed\":\"eb7edea2-ceb6-4a23-80af-15c28a6e17e4\",\"document_id\":\"050e6a5c-8b0f-4649-bd05-547cf962f701\"}},{\"Payload\":{\"processed\":\"26bc8ea0-fdcd-4d61-a60f-78ca58b451f5\",\"document_id\":\"050e6a5c-8b0f-4649-bd05-547cf962f701\"}},{\"Payload\":{\"processed\":\"8f6c9066-2ac4-4216-bac6-4c2624ec83e7\",\"document_id\":\"050e6a5c-8b0f-4649-bd05-547cf962f701\"}},{\"Payload\":{\"processed\":\"f2e5abe1-eb71-4e25-9e3d-aaf931da4dee\",\"document_id\":\"050e6a5c-8b0f-4649-bd05-547cf962f701\"}},{\"Payload\":{\"processed\":\"eb862140-1adf-4505-bd73-a4ecdad6a822\",\"document_id\":\"050e6a5c-8b0f-4649-bd05-547cf962f701\"}},{\"Payload\":{\"processed\":\"69cc07dc-f97c-49af-a281-d12e0c886738\",\"document_id\":\"050e6a5c-8b0f-4649-bd05-547cf962f701\"}},{\"Payload\":{\"processed\":\"65783930-27d2-4877-9628-5a6c51ccaaa4\",\"document_id\":\"050e6a5c-8b0f-4649-bd05-547cf962f701\"}},{\"Payload\":{\"processed\":\"7a4e20fe-c960-45be-9ae2-8c2b8ec47c8e\",\"document_id\":\"050e6a5c-8b0f-4649-bd05-547cf962f701\"}},{\"Payload\":{\"processed\":\"2fb10365-dd9d-4e10-b1dc-5e7ca66af92a\",\"document_id\":\"050e6a5c-8b0f-4649-bd05-547cf962f701\"}},{\"Payload\":{\"processed\":\"20075bd3-5b1c-496d-ba51-aab780251a28\",\"document_id\":\"050e6a5c-8b0f-4649-bd05-547cf962f701\"}},{\"Payload\":{\"processed\":\"4f78db00-ac1f-4b53-be94-6a8f16963862\",\"document_id\":\"050e6a5c-8b0f-4649-bd05-547cf962f701\"}},{\"Payload\":{\"processed\":\"4a9d3e53-605a-430b-991f-d6c61ef44cdb\",\"document_id\":\"050e6a5c-8b0f-4649-bd05-547cf962f701\"}},{\"Payload\":{\"processed\":\"3b803ece-b244-4545-baa9-701a06bb6758\",\"document_id\":\"050e6a5c-8b0f-4649-bd05-547cf962f701\"}},{\"Payload\":{\"processed\":\"347e18dd-df79-42f0-b1cf-d671750a2bec\",\"document_id\":\"050e6a5c-8b0f-4649-bd05-547cf962f701\"}},{\"Payload\":{\"processed\":\"44994d78-c1bf-423e-a2a5-3b83a6acdb71\",\"document_id\":\"050e6a5c-8b0f-4649-bd05-547cf962f701\"}},{\"Payload\":{\"processed\":\"73145515-41d8-48af-97d5-cdf6788a57db\",\"document_id\":\"050e6a5c-8b0f-4649-bd05-547cf962f701\"}},{\"Payload\":{\"processed\":\"412a28cd-61f3-46bb-a9f2-0e74a0e51ab5\",\"document_id\":\"050e6a5c-8b0f-4649-bd05-547cf962f701\"}},{\"Payload\":{\"processed\":\"c6df26a5-97dc-4ca9-85b0-56e9c4ac086b\",\"document_id\":\"050e6a5c-8b0f-4649-bd05-547cf962f701\"}},{\"Payload\":{\"processed\":\"ecb87c59-82b4-4e9b-99b6-3c76c7047a8a\",\"document_id\":\"050e6a5c-8b0f-4649-bd05-547cf962f701\"}},{\"Payload\":{\"processed\":\"dfbbf21f-78db-4e8f-94fe-c14726f4a956\",\"document_id\":\"050e6a5c-8b0f-4649-bd05-547cf962f701\"}},{\"Payload\":{\"processed\":\"d6f4eb8f-b11c-401c-9283-8e66f66ee419\",\"document_id\":\"050e6a5c-8b0f-4649-bd05-547cf962f701\"}},{\"Payload\":{\"processed\":\"ef8ab756-d4ef-4142-aeae-feb2ff8bc8d5\",\"document_id\":\"050e6a5c-8b0f-4649-bd05-547cf962f701\"}},{\"Payload\":{\"processed\":\"50c4ee6d-2fe3-4d56-ad27-e6ea0945660b\",\"document_id\":\"050e6a5c-8b0f-4649-bd05-547cf962f701\"}},{\"Payload\":{\"processed\":\"e33b8d2f-cc6a-482f-b90a-bf5658d8b799\",\"document_id\":\"050e6a5c-8b0f-4649-bd05-547cf962f701\"}},{\"Payload\":{\"processed\":\"0481981b-69ea-4431-b276-e284f2af3a1a\",\"document_id\":\"050e6a5c-8b0f-4649-bd05-547cf962f701\"}},{\"Payload\":{\"processed\":\"ea3b7e87-2855-48c6-946e-9bceda9a8cf3\",\"document_id\":\"050e6a5c-8b0f-4649-bd05-547cf962f701\"}},{\"Payload\":{\"processed\":\"7742ff71-0f14-4e01-8e48-9b3650ade2c5\",\"document_id\":\"050e6a5c-8b0f-4649-bd05-547cf962f701\"}},{\"Payload\":{\"processed\":\"83d3c3ad-11d7-4045-9c58-fba7998ac7ae\",\"document_id\":\"050e6a5c-8b0f-4649-bd05-547cf962f701\"}},{\"Payload\":{\"processed\":\"cb632ebb-eaf4-4b3b-94e7-7e2169cd136e\",\"document_id\":\"050e6a5c-8b0f-4649-bd05-547cf962f701\"}},{\"Payload\":{\"processed\":\"40d412c1-7e2c-45cc-b0b2-72497b973953\",\"document_id\":\"050e6a5c-8b0f-4649-bd05-547cf962f701\"}},{\"Payload\":{\"processed\":\"e1b6fe42-dae1-4019-bf5a-f4d7cbd30392\",\"document_id\":\"050e6a5c-8b0f-4649-bd05-547cf962f701\"}},{\"Payload\":{\"processed\":\"a5715549-4ed4-48e8-be02-641786cdef2f\",\"document_id\":\"050e6a5c-8b0f-4649-bd05-547cf962f701\"}},{\"Payload\":{\"processed\":\"16383e72-19f1-461d-8734-4d714bae1447\",\"document_id\":\"050e6a5c-8b0f-4649-bd05-547cf962f701\"}},{\"Payload\":{\"processed\":\"7ce2ec6a-88e0-4bea-9919-d1d81593e686\",\"document_id\":\"050e6a5c-8b0f-4649-bd05-547cf962f701\"}},{\"Payload\":{\"processed\":\"3f60d108-b0f9-4005-80e4-a026244ee566\",\"document_id\":\"050e6a5c-8b0f-4649-bd05-547cf962f701\"}},{\"Payload\":{\"processed\":\"ada4e955-50f7-4f86-aab6-a9b3b067e329\",\"document_id\":\"050e6a5c-8b0f-4649-bd05-547cf962f701\"}},{\"Payload\":{\"processed\":\"861319a7-dfbe-4a3c-a04a-fbae7ae4345d\",\"document_id\":\"050e6a5c-8b0f-4649-bd05-547cf962f701\"}},{\"Payload\":{\"processed\":\"7cf4d1b8-2bb1-441c-9964-6d8321fbf981\",\"document_id\":\"050e6a5c-8b0f-4649-bd05-547cf962f701\"}},{\"Payload\":{\"processed\":\"1fbcdcb2-0208-4587-8254-b5c261c64fba\",\"document_id\":\"050e6a5c-8b0f-4649-bd05-547cf962f701\"}},{\"Payload\":{\"processed\":\"f846bfc8-7b90-440e-8ded-c86c389c4e43\",\"document_id\":\"050e6a5c-8b0f-4649-bd05-547cf962f701\"}},{\"Payload\":{\"processed\":\"8564ae8b-4e18-4225-9d16-012eadde33f6\",\"document_id\":\"050e6a5c-8b0f-4649-bd05-547cf962f701\"}},{\"Payload\":{\"processed\":\"f8df3af5-83b8-4a35-b0a0-287447e1469f\",\"document_id\":\"050e6a5c-8b0f-4649-bd05-547cf962f701\"}},{\"Payload\":{\"processed\":\"f8821183-7998-4549-a8b9-9628344fd887\",\"document_id\":\"050e6a5c-8b0f-4649-bd05-547cf962f701\"}},{\"Payload\":{\"processed\":\"de645ffa-f61d-448c-9608-bc496caac7c7\",\"document_id\":\"050e6a5c-8b0f-4649-bd05-547cf962f701\"}},{\"Payload\":{\"processed\":\"466c0580-ee80-475d-92b3-be10227329e4\",\"document_id\":\"050e6a5c-8b0f-4649-bd05-547cf962f701\"}},{\"Payload\":{\"processed\":\"c7fc43a4-c490-4ae1-be5d-1e8aca3856fb\",\"document_id\":\"050e6a5c-8b0f-4649-bd05-547cf962f701\"}},{\"Payload\":{\"processed\":\"73f80156-97ee-45e1-b4f5-050e9cc09c64\",\"document_id\":\"050e6a5c-8b0f-4649-bd05-547cf962f701\"}},{\"Payload\":{\"processed\":\"6d9a1320-af70-42d4-9494-7568617499d1\",\"document_id\":\"050e6a5c-8b0f-4649-bd05-547cf962f701\"}},{\"Payload\":{\"processed\":\"6ab462d2-304c-422c-901e-b413f209a920\",\"document_id\":\"050e6a5c-8b0f-4649-bd05-547cf962f701\"}},{\"Payload\":{\"processed\":\"c3f23442-5821-41fe-945d-a87b1f7f4991\",\"document_id\":\"050e6a5c-8b0f-4649-bd05-547cf962f701\"}},{\"Payload\":{\"processed\":\"fcb7445f-8dc2-492e-9f45-b1998f1905e6\",\"document_id\":\"050e6a5c-8b0f-4649-bd05-547cf962f701\"}},{\"Payload\":{\"processed\":\"151d593e-6931-41c8-99ed-518f822ccf16\",\"document_id\":\"050e6a5c-8b0f-4649-bd05-547cf962f701\"}},{\"Payload\":{\"processed\":\"7715f12c-cb06-4335-a3e6-a8aa8998b48c\",\"document_id\":\"050e6a5c-8b0f-4649-bd05-547cf962f701\"}},{\"Payload\":{\"processed\":\"1f5409be-cac0-4ea9-b1bb-fb25daffb1dc\",\"document_id\":\"050e6a5c-8b0f-4649-bd05-547cf962f701\"}},{\"Payload\":{\"processed\":\"fd52e1a9-23b1-4391-a40f-b08028897f51\",\"document_id\":\"050e6a5c-8b0f-4649-bd05-547cf962f701\"}},{\"Payload\":{\"processed\":\"386b3adc-1021-40d3-93fb-1dfb6f01608d\",\"document_id\":\"050e6a5c-8b0f-4649-bd05-547cf962f701\"}},{\"Payload\":{\"processed\":\"a780f02a-4378-4650-9032-e22f60d48dda\",\"document_id\":\"050e6a5c-8b0f-4649-bd05-547cf962f701\"}},{\"Payload\":{\"processed\":\"265a7a85-abc7-4ab0-94ad-3a04105f9238\",\"document_id\":\"050e6a5c-8b0f-4649-bd05-547cf962f701\"}},{\"Payload\":{\"processed\":\"416c13e9-bc04-4ed0-af75-cc1101e6c323\",\"document_id\":\"050e6a5c-8b0f-4649-bd05-547cf962f701\"}},{\"Payload\":{\"processed\":\"90be0721-ccca-456f-8658-f65dc700148a\",\"document_id\":\"050e6a5c-8b0f-4649-bd05-547cf962f701\"}},{\"Payload\":{\"processed\":\"cbf6dfc4-66d2-4bfd-94d8-38cc872a066d\",\"document_id\":\"050e6a5c-8b0f-4649-bd05-547cf962f701\"}},{\"Payload\":{\"processed\":\"7e86edcb-9bd5-49b3-b322-2a2d4fac6063\",\"document_id\":\"050e6a5c-8b0f-4649-bd05-547cf962f701\"}},{\"Payload\":{\"processed\":\"0d6fbb28-3508-4f04-aa56-90a44b8484b0\",\"document_id\":\"050e6a5c-8b0f-4649-bd05-547cf962f701\"}},{\"Payload\":{\"processed\":\"4018df7c-d36d-49c9-b85b-947583ff476a\",\"document_id\":\"050e6a5c-8b0f-4649-bd05-547cf962f701\"}},{\"Payload\":{\"processed\":\"832856e2-8ea5-40b8-af19-c0b5ff21df7d\",\"document_id\":\"050e6a5c-8b0f-4649-bd05-547cf962f701\"}},{\"Payload\":{\"processed\":\"8744eaf3-bb11-46e7-888b-4ae0fecec4d9\",\"document_id\":\"050e6a5c-8b0f-4649-bd05-547cf962f701\"}},{\"Payload\":{\"processed\":\"dcc2c80a-e7cb-4607-9613-94a48d84693d\",\"document_id\":\"050e6a5c-8b0f-4649-bd05-547cf962f701\"}},{\"Payload\":{\"processed\":\"3c32d56a-23c9-4d31-9d5a-7e752e98fe9f\",\"document_id\":\"050e6a5c-8b0f-4649-bd05-547cf962f701\"}},{\"Payload\":{\"processed\":\"b8bfc44c-a709-44da-9a41-7236c4417319\",\"document_id\":\"050e6a5c-8b0f-4649-bd05-547cf962f701\"}},{\"Payload\":{\"processed\":\"4f4bc3d3-6471-4e9a-b37b-127627eb2302\",\"document_id\":\"050e6a5c-8b0f-4649-bd05-547cf962f701\"}},{\"Payload\":{\"processed\":\"e1667db4-e227-4e52-bff7-476c6684d8ae\",\"document_id\":\"050e6a5c-8b0f-4649-bd05-547cf962f701\"}},{\"Payload\":{\"processed\":\"8d194bd8-08dd-49d7-af0f-19adc6b5d924\",\"document_id\":\"050e6a5c-8b0f-4649-bd05-547cf962f701\"}},{\"Payload\":{\"processed\":\"0e9a885d-813a-4c2e-9eeb-2a8705e3d6f7\",\"document_id\":\"050e6a5c-8b0f-4649-bd05-547cf962f701\"}},{\"Payload\":{\"processed\":\"5e7a282e-dfde-4933-97fc-b2696749e2c6\",\"document_id\":\"050e6a5c-8b0f-4649-bd05-547cf962f701\"}},{\"Payload\":{\"processed\":\"2a392247-0c31-4cb5-a0eb-8150e3ac7009\",\"document_id\":\"050e6a5c-8b0f-4649-bd05-547cf962f701\"}},{\"Payload\":{\"processed\":\"363b1535-5f4c-4e63-948c-dee69f88ebe7\",\"document_id\":\"050e6a5c-8b0f-4649-bd05-547cf962f701\"}},{\"Payload\":{\"processed\":\"c5523aae-5ecf-4664-9125-a28a228ae71d\",\"document_id\":\"050e6a5c-8b0f-4649-bd05-547cf962f701\"}},{\"Payload\":{\"processed\":\"0c55cea9-a6e5-4345-8b68-74a8fffce22f\",\"document_id\":\"050e6a5c-8b0f-4649-bd05-547cf962f701\"}},{\"Payload\":{\"processed\":\"d30f7be4-29e5-4c0b-9a20-91ef4d0c5766\",\"document_id\":\"050e6a5c-8b0f-4649-bd05-547cf962f701\"}},{\"Payload\":{\"processed\":\"d0c8ffef-4806-458d-81dd-81266f7a8e1c\",\"document_id\":\"050e6a5c-8b0f-4649-bd05-547cf962f701\"}}]}\n"
     ]
    },
    {
     "name": "stderr",
     "output_type": "stream",
     "text": [
      "14it [09:58, 45.19s/it]"
     ]
    },
    {
     "name": "stdout",
     "output_type": "stream",
     "text": [
      "REARANK Reasoning Re-ranking Agent via Reinforcement Learning.pdf\n"
     ]
    },
    {
     "name": "stderr",
     "output_type": "stream",
     "text": [
      "d:\\broai-arai\\backend\\package\\utils\\data_loder.py:22: UserWarning: [EXPERIMENT] You're using an experimental module, which is subject to change in future.: split_markdown\n",
      "  chunks = split_markdown(text)\n",
      "d:\\broai-arai\\backend\\package\\utils\\data_loder.py:23: UserWarning: [EXPERIMENT] You're using an experimental module, which is subject to change in future.: consolidate_markdown\n",
      "  consolidated_chunks = consolidate_markdown(chunks)\n",
      "d:\\broai-arai\\backend\\package\\utils\\data_loder.py:24: UserWarning: [EXPERIMENT] You're using an experimental module, which is subject to change in future.: get_markdown_sections\n",
      "  sections = get_markdown_sections(consolidated_chunks)\n",
      "d:\\broai-arai\\backend\\package\\utils\\data_loder.py:30: UserWarning: [EXPERIMENT] You're using an experimental module, which is subject to change in future.: split_overlap\n",
      "  new_contexts = split_overlap(contexts, max_tokens=max_tokens, overlap=overlap)\n"
     ]
    },
    {
     "name": "stdout",
     "output_type": "stream",
     "text": [
      "Markdown headings: max(2)\n",
      "Execution status: RUNNING\n",
      "Execution status: RUNNING\n",
      "Execution status: RUNNING\n",
      "Execution status: RUNNING\n",
      "Execution status: RUNNING\n",
      "Execution status: RUNNING\n",
      "Execution status: RUNNING\n",
      "Execution status: SUCCEEDED\n",
      "Execution output: {\"status\":\"success\",\"results\":[{\"Payload\":{\"processed\":\"985e8aa3-d2a9-4fc8-b2dd-a1b5cc522dee\",\"document_id\":\"77b299e1-3a35-45f1-9bee-b943d5764c10\"}},{\"Payload\":{\"processed\":\"89f1893c-3f02-4ead-b701-6f299c207cfd\",\"document_id\":\"77b299e1-3a35-45f1-9bee-b943d5764c10\"}},{\"Payload\":{\"processed\":\"87857a7e-6fed-4a43-950b-d95e1929d7f1\",\"document_id\":\"77b299e1-3a35-45f1-9bee-b943d5764c10\"}},{\"Payload\":{\"processed\":\"b90774f3-2d1d-4449-be0c-2b67b8556121\",\"document_id\":\"77b299e1-3a35-45f1-9bee-b943d5764c10\"}},{\"Payload\":{\"processed\":\"84fb1955-a50f-42b7-a69a-6921b4380f32\",\"document_id\":\"77b299e1-3a35-45f1-9bee-b943d5764c10\"}},{\"Payload\":{\"processed\":\"a51d03ea-056e-4b79-8920-4718322807ce\",\"document_id\":\"77b299e1-3a35-45f1-9bee-b943d5764c10\"}},{\"Payload\":{\"processed\":\"f563fa7c-41c4-4f96-867a-062fc7b8a312\",\"document_id\":\"77b299e1-3a35-45f1-9bee-b943d5764c10\"}},{\"Payload\":{\"processed\":\"da7c7792-abab-4f79-9d23-0d3a8930dafa\",\"document_id\":\"77b299e1-3a35-45f1-9bee-b943d5764c10\"}},{\"Payload\":{\"processed\":\"9dfd167c-7194-4544-8c0e-f60998870cb5\",\"document_id\":\"77b299e1-3a35-45f1-9bee-b943d5764c10\"}},{\"Payload\":{\"processed\":\"42c3e314-1b11-4352-a2cd-cac371630ac3\",\"document_id\":\"77b299e1-3a35-45f1-9bee-b943d5764c10\"}},{\"Payload\":{\"processed\":\"5f26d6c8-f31b-4283-a165-b416d290927b\",\"document_id\":\"77b299e1-3a35-45f1-9bee-b943d5764c10\"}},{\"Payload\":{\"processed\":\"23e3a3d3-517d-424a-ba7b-8ba122f8bc5f\",\"document_id\":\"77b299e1-3a35-45f1-9bee-b943d5764c10\"}},{\"Payload\":{\"processed\":\"ec7cf4ce-2c64-4555-b328-dbd8a9f0d734\",\"document_id\":\"77b299e1-3a35-45f1-9bee-b943d5764c10\"}},{\"Payload\":{\"processed\":\"0b3683ed-9361-4a56-9fd9-dc756283ccef\",\"document_id\":\"77b299e1-3a35-45f1-9bee-b943d5764c10\"}},{\"Payload\":{\"processed\":\"2e6d2d04-b8ed-4d7b-b43f-6ffbfd37cdd0\",\"document_id\":\"77b299e1-3a35-45f1-9bee-b943d5764c10\"}},{\"Payload\":{\"processed\":\"f102739c-4e79-4cf2-a933-33953e4db536\",\"document_id\":\"77b299e1-3a35-45f1-9bee-b943d5764c10\"}},{\"Payload\":{\"processed\":\"0297c41f-adc3-467f-ad3e-065d2b8d12b7\",\"document_id\":\"77b299e1-3a35-45f1-9bee-b943d5764c10\"}},{\"Payload\":{\"processed\":\"b99ca5cc-484b-4b5a-bff8-cd1a9b4f5eec\",\"document_id\":\"77b299e1-3a35-45f1-9bee-b943d5764c10\"}},{\"Payload\":{\"processed\":\"e24441a4-6787-4ace-b07f-083afe71f7a3\",\"document_id\":\"77b299e1-3a35-45f1-9bee-b943d5764c10\"}},{\"Payload\":{\"processed\":\"dd184fed-a45e-42e3-bb5f-b36bcd7aa542\",\"document_id\":\"77b299e1-3a35-45f1-9bee-b943d5764c10\"}},{\"Payload\":{\"processed\":\"fc2563f4-ec6f-47b9-8a0a-9fe238861214\",\"document_id\":\"77b299e1-3a35-45f1-9bee-b943d5764c10\"}},{\"Payload\":{\"processed\":\"4ed2b545-cc0d-4f49-bd7f-4e237d06ff01\",\"document_id\":\"77b299e1-3a35-45f1-9bee-b943d5764c10\"}},{\"Payload\":{\"processed\":\"9f45b9b3-860c-4283-a6a9-474f395a28c9\",\"document_id\":\"77b299e1-3a35-45f1-9bee-b943d5764c10\"}},{\"Payload\":{\"processed\":\"df000224-225c-477f-9768-659c508f349e\",\"document_id\":\"77b299e1-3a35-45f1-9bee-b943d5764c10\"}},{\"Payload\":{\"processed\":\"3189589d-4b61-4ec4-8daa-0d3056699ce0\",\"document_id\":\"77b299e1-3a35-45f1-9bee-b943d5764c10\"}},{\"Payload\":{\"processed\":\"42e4ef3f-4471-46af-9dc0-0f8e251d3d6c\",\"document_id\":\"77b299e1-3a35-45f1-9bee-b943d5764c10\"}},{\"Payload\":{\"processed\":\"bb47251b-5c90-4d18-8048-3616532cf646\",\"document_id\":\"77b299e1-3a35-45f1-9bee-b943d5764c10\"}},{\"Payload\":{\"processed\":\"89a94543-6fb0-4ed7-8ac8-3b2df16ec79b\",\"document_id\":\"77b299e1-3a35-45f1-9bee-b943d5764c10\"}},{\"Payload\":{\"processed\":\"9079a9c1-f606-4645-910a-d8142b7715ed\",\"document_id\":\"77b299e1-3a35-45f1-9bee-b943d5764c10\"}},{\"Payload\":{\"processed\":\"e12327d9-1aac-4bf5-a3f5-53edc58328e0\",\"document_id\":\"77b299e1-3a35-45f1-9bee-b943d5764c10\"}},{\"Payload\":{\"processed\":\"e9f9fe4b-93ad-48b1-95cb-c4135a9e51fc\",\"document_id\":\"77b299e1-3a35-45f1-9bee-b943d5764c10\"}},{\"Payload\":{\"processed\":\"fcc9033c-7a7a-4a00-81eb-c89ad84b294c\",\"document_id\":\"77b299e1-3a35-45f1-9bee-b943d5764c10\"}},{\"Payload\":{\"processed\":\"541a2ab7-7720-453d-a0ae-89104e3016d1\",\"document_id\":\"77b299e1-3a35-45f1-9bee-b943d5764c10\"}},{\"Payload\":{\"processed\":\"14ff89eb-ee65-47df-8860-588956043299\",\"document_id\":\"77b299e1-3a35-45f1-9bee-b943d5764c10\"}},{\"Payload\":{\"processed\":\"d2ec33b6-0888-4daf-b4c7-a31e5cde1731\",\"document_id\":\"77b299e1-3a35-45f1-9bee-b943d5764c10\"}},{\"Payload\":{\"processed\":\"a0fd3e9c-dd83-46d5-afb6-d4276b04a1ae\",\"document_id\":\"77b299e1-3a35-45f1-9bee-b943d5764c10\"}},{\"Payload\":{\"processed\":\"3eae4a0a-99c4-48ba-aa51-11a83d2a780d\",\"document_id\":\"77b299e1-3a35-45f1-9bee-b943d5764c10\"}},{\"Payload\":{\"processed\":\"f49e7a16-6bce-40b7-8057-770b9f23b99a\",\"document_id\":\"77b299e1-3a35-45f1-9bee-b943d5764c10\"}},{\"Payload\":{\"processed\":\"2576ed65-5132-4ee1-bdda-2bcbd690805d\",\"document_id\":\"77b299e1-3a35-45f1-9bee-b943d5764c10\"}},{\"Payload\":{\"processed\":\"2d70c11c-c0da-4bbb-b01a-4df2e093adb3\",\"document_id\":\"77b299e1-3a35-45f1-9bee-b943d5764c10\"}},{\"Payload\":{\"processed\":\"9e020623-bf89-4152-bb31-6951f5bf2ec2\",\"document_id\":\"77b299e1-3a35-45f1-9bee-b943d5764c10\"}},{\"Payload\":{\"processed\":\"028a0c0e-2e6d-4183-9c0d-fac40d46bf8b\",\"document_id\":\"77b299e1-3a35-45f1-9bee-b943d5764c10\"}},{\"Payload\":{\"processed\":\"95ac1b46-2170-4b57-9178-eef0cf64d8e5\",\"document_id\":\"77b299e1-3a35-45f1-9bee-b943d5764c10\"}},{\"Payload\":{\"processed\":\"30213d84-46dc-4142-a06b-7763fa87f9e1\",\"document_id\":\"77b299e1-3a35-45f1-9bee-b943d5764c10\"}},{\"Payload\":{\"processed\":\"7f01f35d-4a47-4091-bc9b-aaf869f4ef41\",\"document_id\":\"77b299e1-3a35-45f1-9bee-b943d5764c10\"}},{\"Payload\":{\"processed\":\"00ddaa3b-bf3a-476b-aee2-59a7e0822375\",\"document_id\":\"77b299e1-3a35-45f1-9bee-b943d5764c10\"}},{\"Payload\":{\"processed\":\"002c2e49-00eb-4b72-ac84-de909adc9ef6\",\"document_id\":\"77b299e1-3a35-45f1-9bee-b943d5764c10\"}},{\"Payload\":{\"processed\":\"8107d84a-e73e-4a34-a8ab-e44be1ebab0d\",\"document_id\":\"77b299e1-3a35-45f1-9bee-b943d5764c10\"}},{\"Payload\":{\"processed\":\"8a68035f-cefc-4c1f-b110-a69728eea017\",\"document_id\":\"77b299e1-3a35-45f1-9bee-b943d5764c10\"}},{\"Payload\":{\"processed\":\"5c3355f1-5600-46b4-9b0b-cb90fab09d34\",\"document_id\":\"77b299e1-3a35-45f1-9bee-b943d5764c10\"}},{\"Payload\":{\"processed\":\"4654deab-4fbe-425b-bea5-ddc098b0678b\",\"document_id\":\"77b299e1-3a35-45f1-9bee-b943d5764c10\"}},{\"Payload\":{\"processed\":\"f0ee6757-77e0-4bac-85e9-622ee9626a18\",\"document_id\":\"77b299e1-3a35-45f1-9bee-b943d5764c10\"}},{\"Payload\":{\"processed\":\"5abfc958-a1a5-47de-9f51-1b5a97546d69\",\"document_id\":\"77b299e1-3a35-45f1-9bee-b943d5764c10\"}},{\"Payload\":{\"processed\":\"98d45819-1ade-4b6c-a54c-5387560fe19f\",\"document_id\":\"77b299e1-3a35-45f1-9bee-b943d5764c10\"}},{\"Payload\":{\"processed\":\"9c55f868-e6fb-4b1d-bc31-492353cc16c3\",\"document_id\":\"77b299e1-3a35-45f1-9bee-b943d5764c10\"}},{\"Payload\":{\"processed\":\"c151e86a-523b-46d3-9a3f-a137ea89fbfa\",\"document_id\":\"77b299e1-3a35-45f1-9bee-b943d5764c10\"}},{\"Payload\":{\"processed\":\"d4763ddb-6b80-4807-ab1a-6cb77a3d9ded\",\"document_id\":\"77b299e1-3a35-45f1-9bee-b943d5764c10\"}},{\"Payload\":{\"processed\":\"273fc874-ce3b-47f7-8eab-365b6efb3b9f\",\"document_id\":\"77b299e1-3a35-45f1-9bee-b943d5764c10\"}},{\"Payload\":{\"processed\":\"c64bb1f3-9f9b-416e-b80a-1f2813c389a9\",\"document_id\":\"77b299e1-3a35-45f1-9bee-b943d5764c10\"}},{\"Payload\":{\"processed\":\"f3653e11-02e1-4371-9679-02be5c7fee13\",\"document_id\":\"77b299e1-3a35-45f1-9bee-b943d5764c10\"}},{\"Payload\":{\"processed\":\"49506a6f-20e5-482f-ab17-e8e56b8cd589\",\"document_id\":\"77b299e1-3a35-45f1-9bee-b943d5764c10\"}},{\"Payload\":{\"processed\":\"3173e42c-2f70-45ac-8fac-b74a3ba78bf8\",\"document_id\":\"77b299e1-3a35-45f1-9bee-b943d5764c10\"}},{\"Payload\":{\"processed\":\"75eea096-b0b0-42c0-ae2d-4be13ae2a49b\",\"document_id\":\"77b299e1-3a35-45f1-9bee-b943d5764c10\"}},{\"Payload\":{\"processed\":\"1a015942-846f-4a25-a95e-a49da041612b\",\"document_id\":\"77b299e1-3a35-45f1-9bee-b943d5764c10\"}},{\"Payload\":{\"processed\":\"1ca998e0-9bdb-4ae0-950a-dc671c98a475\",\"document_id\":\"77b299e1-3a35-45f1-9bee-b943d5764c10\"}},{\"Payload\":{\"processed\":\"4f050a40-2ac6-4fc7-93c0-b10c12e550c4\",\"document_id\":\"77b299e1-3a35-45f1-9bee-b943d5764c10\"}},{\"Payload\":{\"processed\":\"60097b32-a641-4693-9077-3edd1aad14b4\",\"document_id\":\"77b299e1-3a35-45f1-9bee-b943d5764c10\"}},{\"Payload\":{\"processed\":\"26cfcfc4-4e91-45fb-b000-0634ed9e054a\",\"document_id\":\"77b299e1-3a35-45f1-9bee-b943d5764c10\"}},{\"Payload\":{\"processed\":\"ca1ef958-95e4-4cd2-acb2-573571d4cf35\",\"document_id\":\"77b299e1-3a35-45f1-9bee-b943d5764c10\"}},{\"Payload\":{\"processed\":\"4a1eb38d-c13d-444f-9433-6c72cfd17562\",\"document_id\":\"77b299e1-3a35-45f1-9bee-b943d5764c10\"}},{\"Payload\":{\"processed\":\"357bd140-6a8b-4530-988d-fd65f5e6f746\",\"document_id\":\"77b299e1-3a35-45f1-9bee-b943d5764c10\"}},{\"Payload\":{\"processed\":\"2318b7e3-2162-4755-ba96-c695cd91842e\",\"document_id\":\"77b299e1-3a35-45f1-9bee-b943d5764c10\"}},{\"Payload\":{\"processed\":\"2905003a-69b8-4f09-8228-8710861d1cf1\",\"document_id\":\"77b299e1-3a35-45f1-9bee-b943d5764c10\"}},{\"Payload\":{\"processed\":\"814aebb4-f281-4145-bcf7-0cb6aab0f0f2\",\"document_id\":\"77b299e1-3a35-45f1-9bee-b943d5764c10\"}},{\"Payload\":{\"processed\":\"357394c7-b534-4f8a-9a3e-9d79845dd198\",\"document_id\":\"77b299e1-3a35-45f1-9bee-b943d5764c10\"}},{\"Payload\":{\"processed\":\"dac220fb-a4de-4f2f-ab10-73af4477b006\",\"document_id\":\"77b299e1-3a35-45f1-9bee-b943d5764c10\"}},{\"Payload\":{\"processed\":\"d264c7a8-2d7c-460d-b5dc-19b1dc3d2c79\",\"document_id\":\"77b299e1-3a35-45f1-9bee-b943d5764c10\"}},{\"Payload\":{\"processed\":\"481e261a-dff4-41e5-bc65-9731b6686d39\",\"document_id\":\"77b299e1-3a35-45f1-9bee-b943d5764c10\"}}]}\n"
     ]
    },
    {
     "name": "stderr",
     "output_type": "stream",
     "text": [
      "15it [10:43, 45.35s/it]"
     ]
    },
    {
     "name": "stdout",
     "output_type": "stream",
     "text": [
      "SlideCoder Layout-aware RAG-enhanced Hierarchical Slide Generation from Design.pdf\n"
     ]
    },
    {
     "name": "stderr",
     "output_type": "stream",
     "text": [
      "d:\\broai-arai\\backend\\package\\utils\\data_loder.py:22: UserWarning: [EXPERIMENT] You're using an experimental module, which is subject to change in future.: split_markdown\n",
      "  chunks = split_markdown(text)\n",
      "d:\\broai-arai\\backend\\package\\utils\\data_loder.py:23: UserWarning: [EXPERIMENT] You're using an experimental module, which is subject to change in future.: consolidate_markdown\n",
      "  consolidated_chunks = consolidate_markdown(chunks)\n",
      "d:\\broai-arai\\backend\\package\\utils\\data_loder.py:24: UserWarning: [EXPERIMENT] You're using an experimental module, which is subject to change in future.: get_markdown_sections\n",
      "  sections = get_markdown_sections(consolidated_chunks)\n",
      "d:\\broai-arai\\backend\\package\\utils\\data_loder.py:30: UserWarning: [EXPERIMENT] You're using an experimental module, which is subject to change in future.: split_overlap\n",
      "  new_contexts = split_overlap(contexts, max_tokens=max_tokens, overlap=overlap)\n"
     ]
    },
    {
     "name": "stdout",
     "output_type": "stream",
     "text": [
      "Markdown headings: max(2)\n",
      "Execution status: RUNNING\n",
      "Execution status: RUNNING\n",
      "Execution status: RUNNING\n",
      "Execution status: RUNNING\n",
      "Execution status: RUNNING\n",
      "Execution status: RUNNING\n",
      "Execution status: RUNNING\n",
      "Execution status: RUNNING\n",
      "Execution status: RUNNING\n",
      "Execution status: SUCCEEDED\n",
      "Execution output: {\"status\":\"success\",\"results\":[{\"Payload\":{\"processed\":\"19976b15-dfff-4b0c-bdf0-94dc9c8476df\",\"document_id\":\"52a735db-6cf1-402c-be43-026754b90479\"}},{\"Payload\":{\"processed\":\"5ef64ed4-3f4f-4626-b283-e06a84e9bc61\",\"document_id\":\"52a735db-6cf1-402c-be43-026754b90479\"}},{\"Payload\":{\"processed\":\"b976a026-439b-49e8-a71e-04ea40f558dc\",\"document_id\":\"52a735db-6cf1-402c-be43-026754b90479\"}},{\"Payload\":{\"processed\":\"e3b87d86-cea9-4912-b560-8179104d88e1\",\"document_id\":\"52a735db-6cf1-402c-be43-026754b90479\"}},{\"Payload\":{\"processed\":\"1dff201a-5df2-4acc-85b4-4e5f92e35b45\",\"document_id\":\"52a735db-6cf1-402c-be43-026754b90479\"}},{\"Payload\":{\"processed\":\"f1dc1612-7b4a-413c-bd17-baae86179ac5\",\"document_id\":\"52a735db-6cf1-402c-be43-026754b90479\"}},{\"Payload\":{\"processed\":\"36f81cc2-bc99-4be9-947c-54f631f3d144\",\"document_id\":\"52a735db-6cf1-402c-be43-026754b90479\"}},{\"Payload\":{\"processed\":\"9d151fc5-945d-42c4-962e-9f35bd5ac1bb\",\"document_id\":\"52a735db-6cf1-402c-be43-026754b90479\"}},{\"Payload\":{\"processed\":\"7bfc690d-b865-4817-9c11-ad75bf520811\",\"document_id\":\"52a735db-6cf1-402c-be43-026754b90479\"}},{\"Payload\":{\"processed\":\"15fff71a-0863-4708-b102-3bbc563a9c8e\",\"document_id\":\"52a735db-6cf1-402c-be43-026754b90479\"}},{\"Payload\":{\"processed\":\"3e8f325d-f1f5-4639-92a8-993bb949bc64\",\"document_id\":\"52a735db-6cf1-402c-be43-026754b90479\"}},{\"Payload\":{\"processed\":\"fb73008c-8249-4d40-8570-59dc5397eae0\",\"document_id\":\"52a735db-6cf1-402c-be43-026754b90479\"}},{\"Payload\":{\"processed\":\"7964c9e9-0bc4-4a7d-a881-fd10cd0c03a7\",\"document_id\":\"52a735db-6cf1-402c-be43-026754b90479\"}},{\"Payload\":{\"processed\":\"e20d96c7-0437-4b8d-872f-8d4ae236f114\",\"document_id\":\"52a735db-6cf1-402c-be43-026754b90479\"}},{\"Payload\":{\"processed\":\"c84771d3-a847-43e8-a031-92de6f6426c5\",\"document_id\":\"52a735db-6cf1-402c-be43-026754b90479\"}},{\"Payload\":{\"processed\":\"ddb29a30-1e3f-40d0-a9ea-61d1c50ec552\",\"document_id\":\"52a735db-6cf1-402c-be43-026754b90479\"}},{\"Payload\":{\"processed\":\"59535ec8-744c-4d24-b183-36cab92edaa2\",\"document_id\":\"52a735db-6cf1-402c-be43-026754b90479\"}},{\"Payload\":{\"processed\":\"8e61a7d4-9f0e-4d61-a7a4-c8248b27c35f\",\"document_id\":\"52a735db-6cf1-402c-be43-026754b90479\"}},{\"Payload\":{\"processed\":\"86e7a15b-3f62-49b1-ab45-ec26c72323d4\",\"document_id\":\"52a735db-6cf1-402c-be43-026754b90479\"}},{\"Payload\":{\"processed\":\"a46f542d-78f1-42d3-8bb2-3ea42d4b1de7\",\"document_id\":\"52a735db-6cf1-402c-be43-026754b90479\"}},{\"Payload\":{\"processed\":\"f2da2d51-d6ae-4987-b799-715a6329b119\",\"document_id\":\"52a735db-6cf1-402c-be43-026754b90479\"}},{\"Payload\":{\"processed\":\"d1209eec-8893-4fad-b337-e3cb799be8cd\",\"document_id\":\"52a735db-6cf1-402c-be43-026754b90479\"}},{\"Payload\":{\"processed\":\"5bc6a657-9f0d-4a50-b24a-daf94af142f8\",\"document_id\":\"52a735db-6cf1-402c-be43-026754b90479\"}},{\"Payload\":{\"processed\":\"12af2e57-f539-4204-9d89-dafdbc118777\",\"document_id\":\"52a735db-6cf1-402c-be43-026754b90479\"}},{\"Payload\":{\"processed\":\"4c1aa176-ba8a-4ef0-b17c-eed437da64ac\",\"document_id\":\"52a735db-6cf1-402c-be43-026754b90479\"}},{\"Payload\":{\"processed\":\"4104dab0-3e21-4511-b8e2-e3b8eb6b8961\",\"document_id\":\"52a735db-6cf1-402c-be43-026754b90479\"}},{\"Payload\":{\"processed\":\"ef86495f-303c-4918-95bb-563df1ab5741\",\"document_id\":\"52a735db-6cf1-402c-be43-026754b90479\"}},{\"Payload\":{\"processed\":\"9dc528dd-559e-4c91-bde9-a338c66ef4a6\",\"document_id\":\"52a735db-6cf1-402c-be43-026754b90479\"}},{\"Payload\":{\"processed\":\"7f1042d6-e074-4e7a-9cda-b64663de8767\",\"document_id\":\"52a735db-6cf1-402c-be43-026754b90479\"}},{\"Payload\":{\"processed\":\"5b3e79fd-4ec4-4f43-9a7f-ed79459ea845\",\"document_id\":\"52a735db-6cf1-402c-be43-026754b90479\"}},{\"Payload\":{\"processed\":\"1c219108-417a-4d36-8d85-290802f34a16\",\"document_id\":\"52a735db-6cf1-402c-be43-026754b90479\"}},{\"Payload\":{\"processed\":\"66f1f13a-9c40-4cd9-ac3a-7799d2646417\",\"document_id\":\"52a735db-6cf1-402c-be43-026754b90479\"}},{\"Payload\":{\"processed\":\"5ed8fa8e-9079-4aac-aea9-e7c35fa15a57\",\"document_id\":\"52a735db-6cf1-402c-be43-026754b90479\"}},{\"Payload\":{\"processed\":\"7626166b-647c-4111-ac05-5b9d533d4e9b\",\"document_id\":\"52a735db-6cf1-402c-be43-026754b90479\"}},{\"Payload\":{\"processed\":\"a122ad0e-ff44-48b6-b911-6daadac1a550\",\"document_id\":\"52a735db-6cf1-402c-be43-026754b90479\"}},{\"Payload\":{\"processed\":\"c53ad65c-17cd-4bcc-a9cf-38fec15b6e46\",\"document_id\":\"52a735db-6cf1-402c-be43-026754b90479\"}},{\"Payload\":{\"processed\":\"eed4e411-0fa1-4048-8fc5-3a3653cd2ba1\",\"document_id\":\"52a735db-6cf1-402c-be43-026754b90479\"}},{\"Payload\":{\"processed\":\"18dc971f-348a-4fa1-b0f9-a9b8c75f60ee\",\"document_id\":\"52a735db-6cf1-402c-be43-026754b90479\"}},{\"Payload\":{\"processed\":\"6249d6a1-1434-4990-9dfd-94399f5f351b\",\"document_id\":\"52a735db-6cf1-402c-be43-026754b90479\"}},{\"Payload\":{\"processed\":\"1fdb85ed-cc5d-42a6-bcf0-9a5d122ccdc5\",\"document_id\":\"52a735db-6cf1-402c-be43-026754b90479\"}},{\"Payload\":{\"processed\":\"1bbbecfb-ee9e-4bb8-bc45-43c331d87fbd\",\"document_id\":\"52a735db-6cf1-402c-be43-026754b90479\"}},{\"Payload\":{\"processed\":\"9ac76faa-1634-48ee-87dd-1aaa3555b0a1\",\"document_id\":\"52a735db-6cf1-402c-be43-026754b90479\"}},{\"Payload\":{\"processed\":\"e7a9e48f-2e0f-441d-bc50-5fd72206cd37\",\"document_id\":\"52a735db-6cf1-402c-be43-026754b90479\"}},{\"Payload\":{\"processed\":\"77ba35d1-5663-4d1c-8da8-5a6836c84e9d\",\"document_id\":\"52a735db-6cf1-402c-be43-026754b90479\"}},{\"Payload\":{\"processed\":\"2d43db62-9eea-4ea0-ad94-4a8a0112ac95\",\"document_id\":\"52a735db-6cf1-402c-be43-026754b90479\"}},{\"Payload\":{\"processed\":\"d443792c-834b-4c05-b2a5-1cd642433e65\",\"document_id\":\"52a735db-6cf1-402c-be43-026754b90479\"}},{\"Payload\":{\"processed\":\"89d99529-de6a-4529-b304-0f978de19a09\",\"document_id\":\"52a735db-6cf1-402c-be43-026754b90479\"}},{\"Payload\":{\"processed\":\"dceb372f-1cf3-4cab-88b1-01a034c74273\",\"document_id\":\"52a735db-6cf1-402c-be43-026754b90479\"}},{\"Payload\":{\"processed\":\"baeb2dc0-43f5-4b24-9ba2-45e82dea10f5\",\"document_id\":\"52a735db-6cf1-402c-be43-026754b90479\"}},{\"Payload\":{\"processed\":\"652ffa70-72ee-454a-8684-c41c780d7987\",\"document_id\":\"52a735db-6cf1-402c-be43-026754b90479\"}},{\"Payload\":{\"processed\":\"a46181e9-c2ab-4396-8f65-8ccffefa545b\",\"document_id\":\"52a735db-6cf1-402c-be43-026754b90479\"}},{\"Payload\":{\"processed\":\"c72fc5e8-d83b-4886-a02a-01656c9e16c7\",\"document_id\":\"52a735db-6cf1-402c-be43-026754b90479\"}},{\"Payload\":{\"processed\":\"a86c4bc7-b9eb-492a-ada9-ecae52b92885\",\"document_id\":\"52a735db-6cf1-402c-be43-026754b90479\"}},{\"Payload\":{\"processed\":\"7f528f8a-5288-48f6-a3f0-955d7d24a6d8\",\"document_id\":\"52a735db-6cf1-402c-be43-026754b90479\"}},{\"Payload\":{\"processed\":\"137e565f-c780-49a8-b640-a59807e1ed02\",\"document_id\":\"52a735db-6cf1-402c-be43-026754b90479\"}},{\"Payload\":{\"processed\":\"9dc61060-c948-4cd6-89b0-fa9d58281540\",\"document_id\":\"52a735db-6cf1-402c-be43-026754b90479\"}},{\"Payload\":{\"processed\":\"eed7240f-b858-48ef-a9e0-9138144e174b\",\"document_id\":\"52a735db-6cf1-402c-be43-026754b90479\"}},{\"Payload\":{\"processed\":\"3cbf970f-08d6-4183-ab4f-57443aa2dca9\",\"document_id\":\"52a735db-6cf1-402c-be43-026754b90479\"}},{\"Payload\":{\"processed\":\"fc357fb1-9187-4764-9ffc-e704061ac078\",\"document_id\":\"52a735db-6cf1-402c-be43-026754b90479\"}},{\"Payload\":{\"processed\":\"97ecaad6-a19e-4c16-9fd3-dd767284b085\",\"document_id\":\"52a735db-6cf1-402c-be43-026754b90479\"}},{\"Payload\":{\"processed\":\"e514fb10-265e-42bb-b195-405300ffb5fc\",\"document_id\":\"52a735db-6cf1-402c-be43-026754b90479\"}},{\"Payload\":{\"processed\":\"0026176b-1cfe-4673-99a3-58397c4eda43\",\"document_id\":\"52a735db-6cf1-402c-be43-026754b90479\"}},{\"Payload\":{\"processed\":\"52e3d8cc-e08c-433f-8d8f-cde4c4b82ca8\",\"document_id\":\"52a735db-6cf1-402c-be43-026754b90479\"}},{\"Payload\":{\"processed\":\"d17902a7-6fcf-49bc-ae22-7a3843e2b08e\",\"document_id\":\"52a735db-6cf1-402c-be43-026754b90479\"}},{\"Payload\":{\"processed\":\"cdaf6420-b62a-4418-9b28-128dc51f718f\",\"document_id\":\"52a735db-6cf1-402c-be43-026754b90479\"}},{\"Payload\":{\"processed\":\"ec917412-ff98-4945-abda-ac842d141933\",\"document_id\":\"52a735db-6cf1-402c-be43-026754b90479\"}},{\"Payload\":{\"processed\":\"dd58310a-b56e-43ad-96cd-feafecda1413\",\"document_id\":\"52a735db-6cf1-402c-be43-026754b90479\"}},{\"Payload\":{\"processed\":\"4941997f-3456-4f50-97f2-e62300a84d52\",\"document_id\":\"52a735db-6cf1-402c-be43-026754b90479\"}},{\"Payload\":{\"processed\":\"aff7ec50-7546-4c1b-a4f7-95261dbf9714\",\"document_id\":\"52a735db-6cf1-402c-be43-026754b90479\"}},{\"Payload\":{\"processed\":\"71012e1e-3f19-4507-8877-829b4393e03d\",\"document_id\":\"52a735db-6cf1-402c-be43-026754b90479\"}},{\"Payload\":{\"processed\":\"8a76a7f7-63af-4f8e-8c56-aaae56c9bd0c\",\"document_id\":\"52a735db-6cf1-402c-be43-026754b90479\"}},{\"Payload\":{\"processed\":\"c9365e0e-0ab1-4d0f-83d6-ada1fdea6c2e\",\"document_id\":\"52a735db-6cf1-402c-be43-026754b90479\"}},{\"Payload\":{\"processed\":\"a3e9cede-e632-4f7b-94a1-5b01ada6916b\",\"document_id\":\"52a735db-6cf1-402c-be43-026754b90479\"}},{\"Payload\":{\"processed\":\"9f267960-7411-4eb6-a3de-11008bbbb2eb\",\"document_id\":\"52a735db-6cf1-402c-be43-026754b90479\"}}]}\n"
     ]
    },
    {
     "name": "stderr",
     "output_type": "stream",
     "text": [
      "16it [11:21, 43.06s/it]"
     ]
    },
    {
     "name": "stdout",
     "output_type": "stream",
     "text": [
      "SORCE Small Object Retrieval in Complex Environments.pdf\n"
     ]
    },
    {
     "name": "stderr",
     "output_type": "stream",
     "text": [
      "d:\\broai-arai\\backend\\package\\utils\\data_loder.py:22: UserWarning: [EXPERIMENT] You're using an experimental module, which is subject to change in future.: split_markdown\n",
      "  chunks = split_markdown(text)\n",
      "d:\\broai-arai\\backend\\package\\utils\\data_loder.py:23: UserWarning: [EXPERIMENT] You're using an experimental module, which is subject to change in future.: consolidate_markdown\n",
      "  consolidated_chunks = consolidate_markdown(chunks)\n",
      "d:\\broai-arai\\backend\\package\\utils\\data_loder.py:24: UserWarning: [EXPERIMENT] You're using an experimental module, which is subject to change in future.: get_markdown_sections\n",
      "  sections = get_markdown_sections(consolidated_chunks)\n",
      "d:\\broai-arai\\backend\\package\\utils\\data_loder.py:30: UserWarning: [EXPERIMENT] You're using an experimental module, which is subject to change in future.: split_overlap\n",
      "  new_contexts = split_overlap(contexts, max_tokens=max_tokens, overlap=overlap)\n"
     ]
    },
    {
     "name": "stdout",
     "output_type": "stream",
     "text": [
      "Markdown headings: max(2)\n",
      "Execution status: RUNNING\n",
      "Execution status: RUNNING\n",
      "Execution status: RUNNING\n",
      "Execution status: RUNNING\n",
      "Execution status: RUNNING\n",
      "Execution status: RUNNING\n",
      "Execution status: RUNNING\n",
      "Execution status: SUCCEEDED\n",
      "Execution output: {\"status\":\"success\",\"results\":[{\"Payload\":{\"processed\":\"d3dea7ab-4900-423c-9d5d-51b986e2da83\",\"document_id\":\"25d85652-170a-4bbe-8f9e-76c03bc4b75c\"}},{\"Payload\":{\"processed\":\"b4fff77e-f124-465d-9f5b-07dc2278f556\",\"document_id\":\"25d85652-170a-4bbe-8f9e-76c03bc4b75c\"}},{\"Payload\":{\"processed\":\"62dceb01-b7b5-4c2a-9a52-e825ce0c3337\",\"document_id\":\"25d85652-170a-4bbe-8f9e-76c03bc4b75c\"}},{\"Payload\":{\"processed\":\"a05ac0b3-8648-4e2f-8019-fb3511868c76\",\"document_id\":\"25d85652-170a-4bbe-8f9e-76c03bc4b75c\"}},{\"Payload\":{\"processed\":\"8c80f7d3-fb0e-4519-9872-0bafe30a37fe\",\"document_id\":\"25d85652-170a-4bbe-8f9e-76c03bc4b75c\"}},{\"Payload\":{\"processed\":\"2e1d2713-dfa8-43eb-9aae-96fd10a83e00\",\"document_id\":\"25d85652-170a-4bbe-8f9e-76c03bc4b75c\"}},{\"Payload\":{\"processed\":\"323927f5-e37f-4164-a286-d47d1222a539\",\"document_id\":\"25d85652-170a-4bbe-8f9e-76c03bc4b75c\"}},{\"Payload\":{\"processed\":\"7a02ab0c-714c-4381-a9a4-5776f021e696\",\"document_id\":\"25d85652-170a-4bbe-8f9e-76c03bc4b75c\"}},{\"Payload\":{\"processed\":\"9de74456-df51-42b2-a080-311184737020\",\"document_id\":\"25d85652-170a-4bbe-8f9e-76c03bc4b75c\"}},{\"Payload\":{\"processed\":\"f93a97ef-8659-4bd4-a15a-7606fb62d922\",\"document_id\":\"25d85652-170a-4bbe-8f9e-76c03bc4b75c\"}},{\"Payload\":{\"processed\":\"dd8d9182-2a26-497c-99b4-2b64421943c3\",\"document_id\":\"25d85652-170a-4bbe-8f9e-76c03bc4b75c\"}},{\"Payload\":{\"processed\":\"bfd5250b-d6f1-409b-a4b4-f34c898ae087\",\"document_id\":\"25d85652-170a-4bbe-8f9e-76c03bc4b75c\"}},{\"Payload\":{\"processed\":\"f21a1518-d9f5-462d-99df-3a916e8852f0\",\"document_id\":\"25d85652-170a-4bbe-8f9e-76c03bc4b75c\"}},{\"Payload\":{\"processed\":\"40de5772-0ff4-4f7e-b1a9-361b506e5803\",\"document_id\":\"25d85652-170a-4bbe-8f9e-76c03bc4b75c\"}},{\"Payload\":{\"processed\":\"b2c092fb-8574-4518-816b-7d3925b15237\",\"document_id\":\"25d85652-170a-4bbe-8f9e-76c03bc4b75c\"}},{\"Payload\":{\"processed\":\"205f1527-3398-45b3-8341-d0995ef0f9b5\",\"document_id\":\"25d85652-170a-4bbe-8f9e-76c03bc4b75c\"}},{\"Payload\":{\"processed\":\"2dc5bb0c-574b-4b58-b2ef-cac2b89d183e\",\"document_id\":\"25d85652-170a-4bbe-8f9e-76c03bc4b75c\"}},{\"Payload\":{\"processed\":\"8175dece-94a6-4017-96e8-8acc0d47def9\",\"document_id\":\"25d85652-170a-4bbe-8f9e-76c03bc4b75c\"}},{\"Payload\":{\"processed\":\"3377853a-b457-433e-9e0d-79413fadac3d\",\"document_id\":\"25d85652-170a-4bbe-8f9e-76c03bc4b75c\"}},{\"Payload\":{\"processed\":\"c9468345-6c9b-49a3-9617-d86a9d7aa7d3\",\"document_id\":\"25d85652-170a-4bbe-8f9e-76c03bc4b75c\"}},{\"Payload\":{\"processed\":\"2eab1c6f-13dc-4a53-99dd-446a77fdfec7\",\"document_id\":\"25d85652-170a-4bbe-8f9e-76c03bc4b75c\"}},{\"Payload\":{\"processed\":\"d59a8d2f-e762-405e-8026-63ba50621464\",\"document_id\":\"25d85652-170a-4bbe-8f9e-76c03bc4b75c\"}},{\"Payload\":{\"processed\":\"df5f67e5-3070-430b-9150-fe46bf327ae1\",\"document_id\":\"25d85652-170a-4bbe-8f9e-76c03bc4b75c\"}},{\"Payload\":{\"processed\":\"9234f47d-fcf0-42c6-b12d-a5675b3c9012\",\"document_id\":\"25d85652-170a-4bbe-8f9e-76c03bc4b75c\"}},{\"Payload\":{\"processed\":\"ab66f4cf-a7f6-47a5-9db8-a6ea5a390e59\",\"document_id\":\"25d85652-170a-4bbe-8f9e-76c03bc4b75c\"}},{\"Payload\":{\"processed\":\"0b775259-b51c-47e1-9396-fe467940aef6\",\"document_id\":\"25d85652-170a-4bbe-8f9e-76c03bc4b75c\"}},{\"Payload\":{\"processed\":\"55db72ed-65f4-4475-94da-5006b77daf23\",\"document_id\":\"25d85652-170a-4bbe-8f9e-76c03bc4b75c\"}},{\"Payload\":{\"processed\":\"4c9be255-0c81-4382-bae9-d74e127fcd84\",\"document_id\":\"25d85652-170a-4bbe-8f9e-76c03bc4b75c\"}},{\"Payload\":{\"processed\":\"b50f73b3-7563-41d6-8279-03e7e1cefb31\",\"document_id\":\"25d85652-170a-4bbe-8f9e-76c03bc4b75c\"}},{\"Payload\":{\"processed\":\"504211fa-823a-4716-9716-a25172379df1\",\"document_id\":\"25d85652-170a-4bbe-8f9e-76c03bc4b75c\"}},{\"Payload\":{\"processed\":\"ad92eafe-d3d4-4d1f-a6fe-8af5fc141069\",\"document_id\":\"25d85652-170a-4bbe-8f9e-76c03bc4b75c\"}},{\"Payload\":{\"processed\":\"61f92d2b-32fb-4c78-9d75-c9d97ae1598b\",\"document_id\":\"25d85652-170a-4bbe-8f9e-76c03bc4b75c\"}},{\"Payload\":{\"processed\":\"a1ddfdf8-a420-48bc-a81e-6caf716792e3\",\"document_id\":\"25d85652-170a-4bbe-8f9e-76c03bc4b75c\"}},{\"Payload\":{\"processed\":\"895ab18b-f537-4d1f-8351-c978aedd185f\",\"document_id\":\"25d85652-170a-4bbe-8f9e-76c03bc4b75c\"}},{\"Payload\":{\"processed\":\"22508b07-72b1-431f-8d35-3606172703b0\",\"document_id\":\"25d85652-170a-4bbe-8f9e-76c03bc4b75c\"}},{\"Payload\":{\"processed\":\"84b046c7-e86b-4a41-b78a-aae33f094949\",\"document_id\":\"25d85652-170a-4bbe-8f9e-76c03bc4b75c\"}},{\"Payload\":{\"processed\":\"a805b608-082f-4fa7-861e-e95acb13e76a\",\"document_id\":\"25d85652-170a-4bbe-8f9e-76c03bc4b75c\"}},{\"Payload\":{\"processed\":\"40ac011b-b834-48e8-adad-2d1ce78b0951\",\"document_id\":\"25d85652-170a-4bbe-8f9e-76c03bc4b75c\"}},{\"Payload\":{\"processed\":\"406eb25f-d402-4409-8d82-1316d89ce10c\",\"document_id\":\"25d85652-170a-4bbe-8f9e-76c03bc4b75c\"}},{\"Payload\":{\"processed\":\"3b5729cf-8a2a-47fe-9617-2abe9c561506\",\"document_id\":\"25d85652-170a-4bbe-8f9e-76c03bc4b75c\"}},{\"Payload\":{\"processed\":\"4ea28d9c-43d4-4630-8623-c5098b8c1595\",\"document_id\":\"25d85652-170a-4bbe-8f9e-76c03bc4b75c\"}},{\"Payload\":{\"processed\":\"825c5585-d9fc-4b77-a525-d6c52464ca33\",\"document_id\":\"25d85652-170a-4bbe-8f9e-76c03bc4b75c\"}},{\"Payload\":{\"processed\":\"e60eb0a0-d45e-461d-b93e-0498d0145f10\",\"document_id\":\"25d85652-170a-4bbe-8f9e-76c03bc4b75c\"}},{\"Payload\":{\"processed\":\"76a6817f-2946-40c1-99b2-a896566b17a9\",\"document_id\":\"25d85652-170a-4bbe-8f9e-76c03bc4b75c\"}},{\"Payload\":{\"processed\":\"b1dcf8ac-6fbb-476e-b1a5-04f58c7fcb8d\",\"document_id\":\"25d85652-170a-4bbe-8f9e-76c03bc4b75c\"}},{\"Payload\":{\"processed\":\"6133eee3-5047-41c0-b057-285908bbf51e\",\"document_id\":\"25d85652-170a-4bbe-8f9e-76c03bc4b75c\"}},{\"Payload\":{\"processed\":\"34985e67-5d84-42eb-ae3c-02f44d09ea37\",\"document_id\":\"25d85652-170a-4bbe-8f9e-76c03bc4b75c\"}},{\"Payload\":{\"processed\":\"19446c71-091a-464d-a0b7-d032bb6f3b13\",\"document_id\":\"25d85652-170a-4bbe-8f9e-76c03bc4b75c\"}},{\"Payload\":{\"processed\":\"3a7e83d5-61e8-4fbd-9c24-8760fd9afbaf\",\"document_id\":\"25d85652-170a-4bbe-8f9e-76c03bc4b75c\"}},{\"Payload\":{\"processed\":\"c67ff201-c2ae-4634-996a-31b896b99e09\",\"document_id\":\"25d85652-170a-4bbe-8f9e-76c03bc4b75c\"}},{\"Payload\":{\"processed\":\"42584883-91b8-48ee-ba02-8921cba72237\",\"document_id\":\"25d85652-170a-4bbe-8f9e-76c03bc4b75c\"}},{\"Payload\":{\"processed\":\"9a1fdb10-b59e-4f41-8306-297bb9f9db8d\",\"document_id\":\"25d85652-170a-4bbe-8f9e-76c03bc4b75c\"}},{\"Payload\":{\"processed\":\"a81dc892-f630-4a18-a6f7-1b39e2af18b3\",\"document_id\":\"25d85652-170a-4bbe-8f9e-76c03bc4b75c\"}},{\"Payload\":{\"processed\":\"230fdd20-aa01-4dce-8036-57c19bb82511\",\"document_id\":\"25d85652-170a-4bbe-8f9e-76c03bc4b75c\"}},{\"Payload\":{\"processed\":\"a1e71343-df4e-4c62-b4ef-6ce365a0d404\",\"document_id\":\"25d85652-170a-4bbe-8f9e-76c03bc4b75c\"}},{\"Payload\":{\"processed\":\"a9e7f31a-66a9-46d4-aaff-8a650a5ae9f3\",\"document_id\":\"25d85652-170a-4bbe-8f9e-76c03bc4b75c\"}},{\"Payload\":{\"processed\":\"2b537d63-d170-4afe-8e66-e06f1a5d8bed\",\"document_id\":\"25d85652-170a-4bbe-8f9e-76c03bc4b75c\"}},{\"Payload\":{\"processed\":\"48a553d3-0f35-4bbb-a8a0-04459b3c05bd\",\"document_id\":\"25d85652-170a-4bbe-8f9e-76c03bc4b75c\"}},{\"Payload\":{\"processed\":\"237a5111-ef14-44ef-9168-89c4c2a1a108\",\"document_id\":\"25d85652-170a-4bbe-8f9e-76c03bc4b75c\"}},{\"Payload\":{\"processed\":\"2befc185-5ee3-4a73-a8b8-4ebb1af492b6\",\"document_id\":\"25d85652-170a-4bbe-8f9e-76c03bc4b75c\"}},{\"Payload\":{\"processed\":\"b2aa16e4-5ce8-48b4-8e99-2b4af1cad000\",\"document_id\":\"25d85652-170a-4bbe-8f9e-76c03bc4b75c\"}},{\"Payload\":{\"processed\":\"a2be67b0-6809-4985-99a2-d02cefbb3fb0\",\"document_id\":\"25d85652-170a-4bbe-8f9e-76c03bc4b75c\"}},{\"Payload\":{\"processed\":\"2bc61e27-a3a9-451a-8332-df8809d1c38c\",\"document_id\":\"25d85652-170a-4bbe-8f9e-76c03bc4b75c\"}},{\"Payload\":{\"processed\":\"8f077d54-e8da-404e-ab8f-63bd67bb2469\",\"document_id\":\"25d85652-170a-4bbe-8f9e-76c03bc4b75c\"}},{\"Payload\":{\"processed\":\"d8304165-0541-4373-ab3a-9c806fe1806d\",\"document_id\":\"25d85652-170a-4bbe-8f9e-76c03bc4b75c\"}}]}\n"
     ]
    },
    {
     "name": "stderr",
     "output_type": "stream",
     "text": [
      "17it [11:56, 40.66s/it]"
     ]
    },
    {
     "name": "stdout",
     "output_type": "stream",
     "text": [
      "TracLLM A Generic Framework for Attributing Long Context LLMs.pdf\n"
     ]
    },
    {
     "name": "stderr",
     "output_type": "stream",
     "text": [
      "d:\\broai-arai\\backend\\package\\utils\\data_loder.py:22: UserWarning: [EXPERIMENT] You're using an experimental module, which is subject to change in future.: split_markdown\n",
      "  chunks = split_markdown(text)\n",
      "d:\\broai-arai\\backend\\package\\utils\\data_loder.py:23: UserWarning: [EXPERIMENT] You're using an experimental module, which is subject to change in future.: consolidate_markdown\n",
      "  consolidated_chunks = consolidate_markdown(chunks)\n",
      "d:\\broai-arai\\backend\\package\\utils\\data_loder.py:24: UserWarning: [EXPERIMENT] You're using an experimental module, which is subject to change in future.: get_markdown_sections\n",
      "  sections = get_markdown_sections(consolidated_chunks)\n",
      "d:\\broai-arai\\backend\\package\\utils\\data_loder.py:30: UserWarning: [EXPERIMENT] You're using an experimental module, which is subject to change in future.: split_overlap\n",
      "  new_contexts = split_overlap(contexts, max_tokens=max_tokens, overlap=overlap)\n"
     ]
    },
    {
     "name": "stdout",
     "output_type": "stream",
     "text": [
      "Markdown headings: max(2)\n",
      "Execution status: RUNNING\n",
      "Execution status: RUNNING\n",
      "Execution status: RUNNING\n",
      "Execution status: RUNNING\n",
      "Execution status: RUNNING\n",
      "Execution status: RUNNING\n",
      "Execution status: RUNNING\n",
      "Execution status: RUNNING\n",
      "Execution status: RUNNING\n",
      "Execution status: SUCCEEDED\n",
      "Execution output: {\"status\":\"success\",\"results\":[{\"Payload\":{\"processed\":\"38aba611-642c-4c05-990a-9f68bdeacb63\",\"document_id\":\"a16527e3-50b2-41a2-8c59-9ee0968ce39d\"}},{\"Payload\":{\"processed\":\"0d782daf-faff-48a1-b8ac-3dd11dcd0765\",\"document_id\":\"a16527e3-50b2-41a2-8c59-9ee0968ce39d\"}},{\"Payload\":{\"processed\":\"e31fc795-a859-424f-9856-fe62cff6d6c3\",\"document_id\":\"a16527e3-50b2-41a2-8c59-9ee0968ce39d\"}},{\"Payload\":{\"processed\":\"9ea35eb3-5138-40b3-a93c-c19932602c39\",\"document_id\":\"a16527e3-50b2-41a2-8c59-9ee0968ce39d\"}},{\"Payload\":{\"processed\":\"cc040b97-9b20-4454-ad79-8a5f7e98a8a5\",\"document_id\":\"a16527e3-50b2-41a2-8c59-9ee0968ce39d\"}},{\"Payload\":{\"processed\":\"a83027d3-5b82-40bf-8704-27e07173c637\",\"document_id\":\"a16527e3-50b2-41a2-8c59-9ee0968ce39d\"}},{\"Payload\":{\"processed\":\"27a85c1d-eed7-4868-ba9c-e7ab50abf4cd\",\"document_id\":\"a16527e3-50b2-41a2-8c59-9ee0968ce39d\"}},{\"Payload\":{\"processed\":\"2173f65c-c4f9-4755-87d7-deb403812c1f\",\"document_id\":\"a16527e3-50b2-41a2-8c59-9ee0968ce39d\"}},{\"Payload\":{\"processed\":\"1279e9b2-8e4a-4b24-af30-5d52089c4026\",\"document_id\":\"a16527e3-50b2-41a2-8c59-9ee0968ce39d\"}},{\"Payload\":{\"processed\":\"59940f73-b0c4-47d3-85b6-640a70eed5b9\",\"document_id\":\"a16527e3-50b2-41a2-8c59-9ee0968ce39d\"}},{\"Payload\":{\"processed\":\"77d52eb1-d576-4f72-9f66-ed3e22ac2898\",\"document_id\":\"a16527e3-50b2-41a2-8c59-9ee0968ce39d\"}},{\"Payload\":{\"processed\":\"5be32eb3-af80-485d-843d-18b3f6458dab\",\"document_id\":\"a16527e3-50b2-41a2-8c59-9ee0968ce39d\"}},{\"Payload\":{\"processed\":\"1d20a538-caf3-475c-b974-addc01dbc6cf\",\"document_id\":\"a16527e3-50b2-41a2-8c59-9ee0968ce39d\"}},{\"Payload\":{\"processed\":\"26b03944-6685-4f1e-b893-e6d9e5d615d8\",\"document_id\":\"a16527e3-50b2-41a2-8c59-9ee0968ce39d\"}},{\"Payload\":{\"processed\":\"6e540771-8274-483d-b45b-dcc00dd5af4e\",\"document_id\":\"a16527e3-50b2-41a2-8c59-9ee0968ce39d\"}},{\"Payload\":{\"processed\":\"3145104a-e0af-4866-ad0f-de1fd528d59b\",\"document_id\":\"a16527e3-50b2-41a2-8c59-9ee0968ce39d\"}},{\"Payload\":{\"processed\":\"a247806d-f277-4dbe-a52d-705cd1a5e119\",\"document_id\":\"a16527e3-50b2-41a2-8c59-9ee0968ce39d\"}},{\"Payload\":{\"processed\":\"337cc737-4a70-48af-a335-893f89870699\",\"document_id\":\"a16527e3-50b2-41a2-8c59-9ee0968ce39d\"}},{\"Payload\":{\"processed\":\"cfa8a6e1-3079-4967-a187-e0bf9fe67e44\",\"document_id\":\"a16527e3-50b2-41a2-8c59-9ee0968ce39d\"}},{\"Payload\":{\"processed\":\"956ec363-4395-4312-8c10-dc7998618d08\",\"document_id\":\"a16527e3-50b2-41a2-8c59-9ee0968ce39d\"}},{\"Payload\":{\"processed\":\"9c1673a6-9198-4e99-a467-659fb8f981cf\",\"document_id\":\"a16527e3-50b2-41a2-8c59-9ee0968ce39d\"}},{\"Payload\":{\"processed\":\"e04e8837-825a-4ddc-aa13-f882579a7246\",\"document_id\":\"a16527e3-50b2-41a2-8c59-9ee0968ce39d\"}},{\"Payload\":{\"processed\":\"0d6fc3c0-4001-4b8a-b748-2292159fb8e4\",\"document_id\":\"a16527e3-50b2-41a2-8c59-9ee0968ce39d\"}},{\"Payload\":{\"processed\":\"77fdf799-3771-4a93-a7c9-fb97ffd23f33\",\"document_id\":\"a16527e3-50b2-41a2-8c59-9ee0968ce39d\"}},{\"Payload\":{\"processed\":\"d41cad1b-b14a-4264-adb1-28fe7c0f377d\",\"document_id\":\"a16527e3-50b2-41a2-8c59-9ee0968ce39d\"}},{\"Payload\":{\"processed\":\"c966a19d-dd10-4149-bd18-7072f3987d8b\",\"document_id\":\"a16527e3-50b2-41a2-8c59-9ee0968ce39d\"}},{\"Payload\":{\"processed\":\"d369b540-3741-4130-b90f-c1522617c6fd\",\"document_id\":\"a16527e3-50b2-41a2-8c59-9ee0968ce39d\"}},{\"Payload\":{\"processed\":\"bc9fa93e-0c56-4c09-8c29-80b5bbdd0cc3\",\"document_id\":\"a16527e3-50b2-41a2-8c59-9ee0968ce39d\"}},{\"Payload\":{\"processed\":\"79180ef1-ce02-4ecc-a8f8-22bad67fec01\",\"document_id\":\"a16527e3-50b2-41a2-8c59-9ee0968ce39d\"}},{\"Payload\":{\"processed\":\"8e8b8a06-0623-418c-8f1f-951f056c9ccd\",\"document_id\":\"a16527e3-50b2-41a2-8c59-9ee0968ce39d\"}},{\"Payload\":{\"processed\":\"ac72170b-506f-41e4-958b-a55951ff8438\",\"document_id\":\"a16527e3-50b2-41a2-8c59-9ee0968ce39d\"}},{\"Payload\":{\"processed\":\"75a00e98-a581-44e2-9ab1-773536dc82b1\",\"document_id\":\"a16527e3-50b2-41a2-8c59-9ee0968ce39d\"}},{\"Payload\":{\"processed\":\"ab379089-aa75-4f11-8d8d-d6d0936fbf02\",\"document_id\":\"a16527e3-50b2-41a2-8c59-9ee0968ce39d\"}},{\"Payload\":{\"processed\":\"d6366e43-a3d1-43fb-8fbc-28a0ec0024bb\",\"document_id\":\"a16527e3-50b2-41a2-8c59-9ee0968ce39d\"}},{\"Payload\":{\"processed\":\"06d3c058-fcce-4550-84e0-c42533d3f279\",\"document_id\":\"a16527e3-50b2-41a2-8c59-9ee0968ce39d\"}},{\"Payload\":{\"processed\":\"be33e21f-3eeb-44cf-b72f-a78caeca505a\",\"document_id\":\"a16527e3-50b2-41a2-8c59-9ee0968ce39d\"}},{\"Payload\":{\"processed\":\"130f9e0a-f195-4e0d-9c35-098a911342c9\",\"document_id\":\"a16527e3-50b2-41a2-8c59-9ee0968ce39d\"}},{\"Payload\":{\"processed\":\"bd61cf66-03d0-40a5-99b9-0eb9bf3d478a\",\"document_id\":\"a16527e3-50b2-41a2-8c59-9ee0968ce39d\"}},{\"Payload\":{\"processed\":\"09ae728e-e51a-46d9-a4a4-6c9fe3fe66d4\",\"document_id\":\"a16527e3-50b2-41a2-8c59-9ee0968ce39d\"}},{\"Payload\":{\"processed\":\"a081675f-637b-48ce-a681-056bd1f43b21\",\"document_id\":\"a16527e3-50b2-41a2-8c59-9ee0968ce39d\"}},{\"Payload\":{\"processed\":\"eadf3746-2d9c-4bac-acb6-ac2e15be8490\",\"document_id\":\"a16527e3-50b2-41a2-8c59-9ee0968ce39d\"}},{\"Payload\":{\"processed\":\"7ccfade8-328c-4832-9227-545c36037ff6\",\"document_id\":\"a16527e3-50b2-41a2-8c59-9ee0968ce39d\"}},{\"Payload\":{\"processed\":\"2a9708d2-6c99-4ba1-9051-be176bca13b4\",\"document_id\":\"a16527e3-50b2-41a2-8c59-9ee0968ce39d\"}},{\"Payload\":{\"processed\":\"cbaae983-d7dd-4ddc-9d29-c3aa6b0ebc9d\",\"document_id\":\"a16527e3-50b2-41a2-8c59-9ee0968ce39d\"}},{\"Payload\":{\"processed\":\"5a9d9b4e-09b7-4c78-9a18-0bb46148a93c\",\"document_id\":\"a16527e3-50b2-41a2-8c59-9ee0968ce39d\"}},{\"Payload\":{\"processed\":\"fc4fccdf-1c9c-4402-8419-7ff6da19221b\",\"document_id\":\"a16527e3-50b2-41a2-8c59-9ee0968ce39d\"}},{\"Payload\":{\"processed\":\"b227740c-4ccb-476b-afa0-bdb0247fd15b\",\"document_id\":\"a16527e3-50b2-41a2-8c59-9ee0968ce39d\"}},{\"Payload\":{\"processed\":\"c17af690-7019-4486-b014-f7b7900b4fbf\",\"document_id\":\"a16527e3-50b2-41a2-8c59-9ee0968ce39d\"}},{\"Payload\":{\"processed\":\"10628a2f-8264-4eec-a33d-7d44480c8a5e\",\"document_id\":\"a16527e3-50b2-41a2-8c59-9ee0968ce39d\"}},{\"Payload\":{\"processed\":\"542a931c-1af0-4c2e-80f4-173b6e7bbc97\",\"document_id\":\"a16527e3-50b2-41a2-8c59-9ee0968ce39d\"}},{\"Payload\":{\"processed\":\"c120c3e1-335c-4356-8d57-1f74798461f1\",\"document_id\":\"a16527e3-50b2-41a2-8c59-9ee0968ce39d\"}},{\"Payload\":{\"processed\":\"55bdf595-4beb-45d6-8a4f-d9a786012f57\",\"document_id\":\"a16527e3-50b2-41a2-8c59-9ee0968ce39d\"}},{\"Payload\":{\"processed\":\"1ce642ff-c830-415a-88a7-dfb57fe843e2\",\"document_id\":\"a16527e3-50b2-41a2-8c59-9ee0968ce39d\"}},{\"Payload\":{\"processed\":\"e2f9ebdc-a0cb-4081-ac8f-71e4e538ebc4\",\"document_id\":\"a16527e3-50b2-41a2-8c59-9ee0968ce39d\"}},{\"Payload\":{\"processed\":\"a349ce43-9b94-4ea3-b69f-2e4048ee6450\",\"document_id\":\"a16527e3-50b2-41a2-8c59-9ee0968ce39d\"}},{\"Payload\":{\"processed\":\"dcae1239-fc85-4b82-a8c7-87fd7f68a9a3\",\"document_id\":\"a16527e3-50b2-41a2-8c59-9ee0968ce39d\"}},{\"Payload\":{\"processed\":\"a106ea9c-5512-466c-8a9c-423612b671c3\",\"document_id\":\"a16527e3-50b2-41a2-8c59-9ee0968ce39d\"}},{\"Payload\":{\"processed\":\"77e8049e-39c0-4511-95e1-982879a09a92\",\"document_id\":\"a16527e3-50b2-41a2-8c59-9ee0968ce39d\"}},{\"Payload\":{\"processed\":\"51151029-fbc9-4af3-9b55-63ba2f645a5e\",\"document_id\":\"a16527e3-50b2-41a2-8c59-9ee0968ce39d\"}},{\"Payload\":{\"processed\":\"9ab5f35e-2173-4857-b8d5-4572f5cad229\",\"document_id\":\"a16527e3-50b2-41a2-8c59-9ee0968ce39d\"}},{\"Payload\":{\"processed\":\"56a6bb28-18eb-42d0-bd31-61855509067a\",\"document_id\":\"a16527e3-50b2-41a2-8c59-9ee0968ce39d\"}},{\"Payload\":{\"processed\":\"e0b05dd9-3a14-4243-9f4a-7b39ede68cab\",\"document_id\":\"a16527e3-50b2-41a2-8c59-9ee0968ce39d\"}},{\"Payload\":{\"processed\":\"013b1b4b-61a8-4602-92ac-c4d9ce8ee96b\",\"document_id\":\"a16527e3-50b2-41a2-8c59-9ee0968ce39d\"}},{\"Payload\":{\"processed\":\"c25b8165-622f-4834-8e79-4194e63c1a7c\",\"document_id\":\"a16527e3-50b2-41a2-8c59-9ee0968ce39d\"}},{\"Payload\":{\"processed\":\"bd9be285-47b6-4b71-8704-44272ebc1ff0\",\"document_id\":\"a16527e3-50b2-41a2-8c59-9ee0968ce39d\"}},{\"Payload\":{\"processed\":\"d8404f16-a33c-4e81-948f-05323e2d8b57\",\"document_id\":\"a16527e3-50b2-41a2-8c59-9ee0968ce39d\"}},{\"Payload\":{\"processed\":\"820be0e6-59d5-42d6-8d2f-5a1e5cf1e22b\",\"document_id\":\"a16527e3-50b2-41a2-8c59-9ee0968ce39d\"}},{\"Payload\":{\"processed\":\"fd388121-e487-41a9-8ab4-d4b53d52368a\",\"document_id\":\"a16527e3-50b2-41a2-8c59-9ee0968ce39d\"}},{\"Payload\":{\"processed\":\"0e90c88a-9e21-4660-9ebb-26b6b4d6c2f1\",\"document_id\":\"a16527e3-50b2-41a2-8c59-9ee0968ce39d\"}},{\"Payload\":{\"processed\":\"7dede5bd-edea-4468-b885-c29d2fb478ac\",\"document_id\":\"a16527e3-50b2-41a2-8c59-9ee0968ce39d\"}},{\"Payload\":{\"processed\":\"b2cdf616-c89c-4183-9d50-d5cf6ad974e7\",\"document_id\":\"a16527e3-50b2-41a2-8c59-9ee0968ce39d\"}},{\"Payload\":{\"processed\":\"b1e1e85d-1ae5-48d7-bdc1-12cab5cad750\",\"document_id\":\"a16527e3-50b2-41a2-8c59-9ee0968ce39d\"}},{\"Payload\":{\"processed\":\"64dcd099-6577-4e1d-9be4-9899dbd1adb2\",\"document_id\":\"a16527e3-50b2-41a2-8c59-9ee0968ce39d\"}},{\"Payload\":{\"processed\":\"659d2c88-8478-4593-a621-1b18724e1e42\",\"document_id\":\"a16527e3-50b2-41a2-8c59-9ee0968ce39d\"}},{\"Payload\":{\"processed\":\"7e2b54fc-5a0c-4592-aacc-df870a1d27c0\",\"document_id\":\"a16527e3-50b2-41a2-8c59-9ee0968ce39d\"}},{\"Payload\":{\"processed\":\"eda30301-66e4-492a-992b-d3ca60d15732\",\"document_id\":\"a16527e3-50b2-41a2-8c59-9ee0968ce39d\"}},{\"Payload\":{\"processed\":\"435cf192-6c18-48f4-859c-823ae8485996\",\"document_id\":\"a16527e3-50b2-41a2-8c59-9ee0968ce39d\"}},{\"Payload\":{\"processed\":\"23004ce4-2527-4e91-bbe4-a4783aeef06a\",\"document_id\":\"a16527e3-50b2-41a2-8c59-9ee0968ce39d\"}},{\"Payload\":{\"processed\":\"9a958cbe-1c13-4c75-9158-467007b1e2ec\",\"document_id\":\"a16527e3-50b2-41a2-8c59-9ee0968ce39d\"}},{\"Payload\":{\"processed\":\"8e0c851b-2f07-4143-b3d4-4f6dc567cacd\",\"document_id\":\"a16527e3-50b2-41a2-8c59-9ee0968ce39d\"}},{\"Payload\":{\"processed\":\"76055a5c-5f55-4be5-9899-4a295915c58a\",\"document_id\":\"a16527e3-50b2-41a2-8c59-9ee0968ce39d\"}},{\"Payload\":{\"processed\":\"2112cc2a-0de2-4a13-984e-fad1aa64e39d\",\"document_id\":\"a16527e3-50b2-41a2-8c59-9ee0968ce39d\"}},{\"Payload\":{\"processed\":\"4074ba04-6013-46d2-bf19-ed8f23c56588\",\"document_id\":\"a16527e3-50b2-41a2-8c59-9ee0968ce39d\"}},{\"Payload\":{\"processed\":\"c97ae445-3284-4fb7-b040-98f5a10457f1\",\"document_id\":\"a16527e3-50b2-41a2-8c59-9ee0968ce39d\"}},{\"Payload\":{\"processed\":\"83ddc6bb-f586-40b4-9234-db3c663d8afe\",\"document_id\":\"a16527e3-50b2-41a2-8c59-9ee0968ce39d\"}},{\"Payload\":{\"processed\":\"1ce76b10-1e46-4496-9700-e63421c4dd7d\",\"document_id\":\"a16527e3-50b2-41a2-8c59-9ee0968ce39d\"}},{\"Payload\":{\"processed\":\"893db9a1-2ec7-49a5-a44a-5e2c557f9e14\",\"document_id\":\"a16527e3-50b2-41a2-8c59-9ee0968ce39d\"}},{\"Payload\":{\"processed\":\"c31328c8-d7b8-462a-81c3-3a8d93b24135\",\"document_id\":\"a16527e3-50b2-41a2-8c59-9ee0968ce39d\"}},{\"Payload\":{\"processed\":\"e624e7c6-d31a-4326-97e8-c334b6ba9d5d\",\"document_id\":\"a16527e3-50b2-41a2-8c59-9ee0968ce39d\"}},{\"Payload\":{\"processed\":\"8131474b-8c39-40fc-8e8a-4874fd8698a2\",\"document_id\":\"a16527e3-50b2-41a2-8c59-9ee0968ce39d\"}},{\"Payload\":{\"processed\":\"ec6fcd7b-3102-44a3-9418-b68c720e6077\",\"document_id\":\"a16527e3-50b2-41a2-8c59-9ee0968ce39d\"}},{\"Payload\":{\"processed\":\"8fccd7a8-d7e8-42da-8d50-6f1f4e4c13db\",\"document_id\":\"a16527e3-50b2-41a2-8c59-9ee0968ce39d\"}},{\"Payload\":{\"processed\":\"c3695865-66b9-4cb3-90b4-9ce3dc116d9c\",\"document_id\":\"a16527e3-50b2-41a2-8c59-9ee0968ce39d\"}}]}\n"
     ]
    },
    {
     "name": "stderr",
     "output_type": "stream",
     "text": [
      "18it [12:41, 42.29s/it]\n"
     ]
    }
   ],
   "source": [
    "from pathlib import Path\n",
    "from tqdm import tqdm\n",
    "\n",
    "source_dir = Path(\"./sources\")\n",
    "pdf_files = source_dir.glob(\"*.pdf\")\n",
    "olf = OfflineFlow()\n",
    "errors = []\n",
    "\n",
    "# target = 'Assisting in Writing Wikipedia-like Articles From Scratch with Large Language Models.pdf'\n",
    "# target = 'AcuRank Uncertainty-Aware Adaptive Computation for Listwise Reranking.pdf'\n",
    "\n",
    "for pdf_path in tqdm(pdf_files):\n",
    "    source = pdf_path.name\n",
    "    # if source == target:\n",
    "    #     continue  # skip until we reach the target file\n",
    "\n",
    "    source_type = pdf_path.suffix.lstrip(\".\")\n",
    "    source_ops = SourceOptions(\n",
    "        path=str(pdf_path),\n",
    "        type=source_type\n",
    "    )\n",
    "    document = Document(source=source, type=source_type)\n",
    "    document = dm.create_document(document, session=Depends(get_session))\n",
    "    try:\n",
    "        print(source)\n",
    "        loader = PDFLoader(source=source_ops)\n",
    "        contexts = loader.run()\n",
    "\n",
    "\n",
    "        longterms = olf.run(document_id=document.id, contexts=contexts)\n",
    "        ltm.create_raws(longterms, session=Depends(get_session))\n",
    "\n",
    "        longterms = ltm.read_longterms_by_document(document_id=document.id, session=Depends(get_session))\n",
    "        document_chunks = [{\"document_id\": document.id, \"longterm_id\": longterm.id} for longterm in longterms]\n",
    "\n",
    "        response = run_stepfunctions(stateMachineArn=STATE_MACHINE_ARN, document_chunks=document_chunks)\n",
    "        executionArn = response[\"executionArn\"]\n",
    "        check_stepfunctions_job(executionArn)\n",
    "\n",
    "        longterms = ltm.read_longterms_by_document(document_id=document.id, session=Depends(get_session))\n",
    "        embed(longterms, embedder=embedder, session=Depends(get_session))\n",
    "\n",
    "    except Exception as e:\n",
    "        errors.append((document.id, source, str(e)))\n",
    "\n",
    "    # break  # ✅ stop the loop after processing the matched file\n"
   ]
  },
  {
   "cell_type": "code",
   "execution_count": 42,
   "id": "d905bb8c",
   "metadata": {},
   "outputs": [
    {
     "data": {
      "text/plain": [
       "[]"
      ]
     },
     "execution_count": 42,
     "metadata": {},
     "output_type": "execute_result"
    }
   ],
   "source": [
    "errors"
   ]
  },
  {
   "cell_type": "code",
   "execution_count": 52,
   "id": "ce89bf20",
   "metadata": {},
   "outputs": [],
   "source": [
    "from sqlmodel import Session, select\n",
    "from package.databases.engine import engine\n",
    "from package.databases.models.longterm import LongTerm\n",
    "from package.databases.models.term import Term\n",
    "from package.databases.models.document import Document"
   ]
  },
  {
   "cell_type": "code",
   "execution_count": 53,
   "id": "e441628d",
   "metadata": {},
   "outputs": [
    {
     "data": {
      "text/plain": [
       "18"
      ]
     },
     "execution_count": 53,
     "metadata": {},
     "output_type": "execute_result"
    }
   ],
   "source": [
    "with Session(engine) as session:\n",
    "    statement = select(Document)\n",
    "    results = session.exec(statement).all()\n",
    "\n",
    "len(results)"
   ]
  },
  {
   "cell_type": "code",
   "execution_count": 54,
   "id": "e8675baf",
   "metadata": {},
   "outputs": [
    {
     "data": {
      "text/plain": [
       "1903"
      ]
     },
     "execution_count": 54,
     "metadata": {},
     "output_type": "execute_result"
    }
   ],
   "source": [
    "with Session(engine) as session:\n",
    "    statement = select(LongTerm)\n",
    "    results = session.exec(statement).all()\n",
    "\n",
    "len(results)"
   ]
  },
  {
   "cell_type": "code",
   "execution_count": 55,
   "id": "fabe0249",
   "metadata": {},
   "outputs": [
    {
     "data": {
      "text/plain": [
       "6734"
      ]
     },
     "execution_count": 55,
     "metadata": {},
     "output_type": "execute_result"
    }
   ],
   "source": [
    "with Session(engine) as session:\n",
    "    statement = select(Term)\n",
    "    results = session.exec(statement).all()\n",
    "\n",
    "len(results)"
   ]
  },
  {
   "cell_type": "code",
   "execution_count": null,
   "id": "49aeef9a",
   "metadata": {},
   "outputs": [],
   "source": []
  },
  {
   "cell_type": "code",
   "execution_count": null,
   "id": "ab7408d3",
   "metadata": {},
   "outputs": [],
   "source": []
  },
  {
   "cell_type": "code",
   "execution_count": null,
   "id": "d2856260",
   "metadata": {},
   "outputs": [],
   "source": []
  },
  {
   "cell_type": "code",
   "execution_count": null,
   "id": "f3bc0584",
   "metadata": {},
   "outputs": [],
   "source": []
  },
  {
   "cell_type": "code",
   "execution_count": 17,
   "id": "8e5e0747",
   "metadata": {},
   "outputs": [
    {
     "data": {
      "text/plain": [
       "325"
      ]
     },
     "execution_count": 17,
     "metadata": {},
     "output_type": "execute_result"
    }
   ],
   "source": [
    "longterms = ltm.read_longterms_by_document(document_id=document.id, session=Depends(get_session))\n",
    "len(longterms)"
   ]
  },
  {
   "cell_type": "code",
   "execution_count": 19,
   "id": "e752a2ef",
   "metadata": {},
   "outputs": [
    {
     "data": {
      "text/plain": [
       "296"
      ]
     },
     "execution_count": 19,
     "metadata": {},
     "output_type": "execute_result"
    }
   ],
   "source": [
    "len([l.enrich for l in longterms if l.enrich is None])"
   ]
  },
  {
   "cell_type": "code",
   "execution_count": 20,
   "id": "bf21d740",
   "metadata": {},
   "outputs": [
    {
     "data": {
      "text/plain": [
       "29"
      ]
     },
     "execution_count": 20,
     "metadata": {},
     "output_type": "execute_result"
    }
   ],
   "source": [
    "len([l.enrich for l in longterms if l.enrich])"
   ]
  },
  {
   "cell_type": "code",
   "execution_count": 23,
   "id": "5f246342",
   "metadata": {},
   "outputs": [],
   "source": [
    "_enrich_none = [l for l in longterms if l.enrich is None]"
   ]
  },
  {
   "cell_type": "code",
   "execution_count": 24,
   "id": "99e2dda9",
   "metadata": {},
   "outputs": [
    {
     "data": {
      "text/plain": [
       "Summary(summary='AcuRank is an uncertainty-aware adaptive computation method for listwise reranking.')"
      ]
     },
     "execution_count": 24,
     "metadata": {},
     "output_type": "execute_result"
    }
   ],
   "source": [
    "from package.agents.context_enricher import ContextEnricher\n",
    "ce = ContextEnricher()\n",
    "ce.run(_enrich_none[0].raw)"
   ]
  },
  {
   "cell_type": "code",
   "execution_count": 16,
   "id": "3852d2fa",
   "metadata": {},
   "outputs": [
    {
     "data": {
      "text/plain": [
       "['TourRank-1',\n",
       " 'TourRank-10',\n",
       " 'TourRank-5',\n",
       " 'TourRank-10',\n",
       " 'AcuRank-9',\n",
       " 'TourRank-2',\n",
       " 'TourRank-2',\n",
       " 'TourRank-5',\n",
       " 'AcuRank-9',\n",
       " 'AcuRank',\n",
       " 'BM25',\n",
       " 'BM25',\n",
       " 'SW-2',\n",
       " 'TREC-DL',\n",
       " 'BEIR',\n",
       " 'TrueSkill',\n",
       " 'AcuRank',\n",
       " 'µ i',\n",
       " 'topk']"
      ]
     },
     "execution_count": 16,
     "metadata": {},
     "output_type": "execute_result"
    }
   ],
   "source": [
    "_terms = tm.read_terms(session=Depends(get_session))\n",
    "[t.term for t in _terms]"
   ]
  },
  {
   "cell_type": "code",
   "execution_count": 22,
   "id": "edb46c12",
   "metadata": {},
   "outputs": [
    {
     "name": "stderr",
     "output_type": "stream",
     "text": [
      "100%|██████████| 87/87 [01:35<00:00,  1.10s/it]\n"
     ]
    }
   ],
   "source": [
    "from package.agents.context_enricher import ContextEnricher\n",
    "\n",
    "ce = ContextEnricher()\n",
    "\n",
    "error_enrich = []\n",
    "enrichs = []\n",
    "for longterm in tqdm(longterms):\n",
    "    context = longterm.raw\n",
    "    try:\n",
    "        enrich = ce.run(context=context)\n",
    "        enrichs.append(enrich)\n",
    "    except Exception as e:\n",
    "        error_enrich.append((longterm.id, str(e)))\n"
   ]
  },
  {
   "cell_type": "code",
   "execution_count": 23,
   "id": "3aa3aa09",
   "metadata": {},
   "outputs": [
    {
     "data": {
      "text/plain": [
       "0"
      ]
     },
     "execution_count": 23,
     "metadata": {},
     "output_type": "execute_result"
    }
   ],
   "source": [
    "len(error_enrich)"
   ]
  },
  {
   "cell_type": "code",
   "execution_count": 24,
   "id": "fd04c8ca",
   "metadata": {},
   "outputs": [
    {
     "name": "stderr",
     "output_type": "stream",
     "text": [
      " 30%|██▉       | 26/87 [00:58<02:28,  2.44s/it]"
     ]
    },
    {
     "name": "stdout",
     "output_type": "stream",
     "text": [
      "\u001b[91mBoth parse_structured_output and content_extractor failed:\n",
      "3 validation errors for ExtractedTerms\n",
      "terms.1.type\n",
      "  Input should be 'Acronym', 'Abbreviation', 'Framework', 'Algorithm', 'Technical Term', 'Jargon' or 'Proper Name' [type=literal_error, input_value='Function', input_type=str]\n",
      "    For further information visit https://errors.pydantic.dev/2.11/v/literal_error\n",
      "terms.2.type\n",
      "  Input should be 'Acronym', 'Abbreviation', 'Framework', 'Algorithm', 'Technical Term', 'Jargon' or 'Proper Name' [type=literal_error, input_value='Function', input_type=str]\n",
      "    For further information visit https://errors.pydantic.dev/2.11/v/literal_error\n",
      "terms.3.type\n",
      "  Input should be 'Acronym', 'Abbreviation', 'Framework', 'Algorithm', 'Technical Term', 'Jargon' or 'Proper Name' [type=literal_error, input_value='Function', input_type=str]\n",
      "    For further information visit https://errors.pydantic.dev/2.11/v/literal_error\n",
      "BroAgent.parse_structured_output() got multiple values for argument 'text'\u001b[0m\n"
     ]
    },
    {
     "name": "stderr",
     "output_type": "stream",
     "text": [
      " 33%|███▎      | 29/87 [01:05<02:26,  2.52s/it]"
     ]
    },
    {
     "name": "stdout",
     "output_type": "stream",
     "text": [
      "\u001b[91mBoth parse_structured_output and content_extractor failed:\n",
      "3 validation errors for ExtractedTerms\n",
      "terms.0.type\n",
      "  Input should be 'Acronym', 'Abbreviation', 'Framework', 'Algorithm', 'Technical Term', 'Jargon' or 'Proper Name' [type=literal_error, input_value='Variable', input_type=str]\n",
      "    For further information visit https://errors.pydantic.dev/2.11/v/literal_error\n",
      "terms.1.type\n",
      "  Input should be 'Acronym', 'Abbreviation', 'Framework', 'Algorithm', 'Technical Term', 'Jargon' or 'Proper Name' [type=literal_error, input_value='Function', input_type=str]\n",
      "    For further information visit https://errors.pydantic.dev/2.11/v/literal_error\n",
      "terms.2.type\n",
      "  Input should be 'Acronym', 'Abbreviation', 'Framework', 'Algorithm', 'Technical Term', 'Jargon' or 'Proper Name' [type=literal_error, input_value='Function', input_type=str]\n",
      "    For further information visit https://errors.pydantic.dev/2.11/v/literal_error\n",
      "BroAgent.parse_structured_output() got multiple values for argument 'text'\u001b[0m\n"
     ]
    },
    {
     "name": "stderr",
     "output_type": "stream",
     "text": [
      " 45%|████▍     | 39/87 [01:24<02:03,  2.58s/it]"
     ]
    },
    {
     "name": "stdout",
     "output_type": "stream",
     "text": [
      "\u001b[91mBoth parse_structured_output and content_extractor failed:\n",
      "1 validation error for ExtractedTerms\n",
      "  Invalid JSON: invalid escape at line 25 column 72 [type=json_invalid, input_value='\\n{\\n    \"terms\": [\\n   ...\\n        }\\n    ]\\n}\\n', input_type=str]\n",
      "    For further information visit https://errors.pydantic.dev/2.11/v/json_invalid\n",
      "BroAgent.parse_structured_output() got multiple values for argument 'text'\u001b[0m\n"
     ]
    },
    {
     "name": "stderr",
     "output_type": "stream",
     "text": [
      " 71%|███████▏  | 62/87 [02:16<01:15,  3.03s/it]"
     ]
    },
    {
     "name": "stdout",
     "output_type": "stream",
     "text": [
      "\u001b[91mBoth parse_structured_output and content_extractor failed:\n",
      "5 validation errors for ExtractedTerms\n",
      "terms.0.type\n",
      "  Input should be 'Acronym', 'Abbreviation', 'Framework', 'Algorithm', 'Technical Term', 'Jargon' or 'Proper Name' [type=literal_error, input_value='Function/Method', input_type=str]\n",
      "    For further information visit https://errors.pydantic.dev/2.11/v/literal_error\n",
      "terms.1.type\n",
      "  Input should be 'Acronym', 'Abbreviation', 'Framework', 'Algorithm', 'Technical Term', 'Jargon' or 'Proper Name' [type=literal_error, input_value='Function/Method', input_type=str]\n",
      "    For further information visit https://errors.pydantic.dev/2.11/v/literal_error\n",
      "terms.2.type\n",
      "  Input should be 'Acronym', 'Abbreviation', 'Framework', 'Algorithm', 'Technical Term', 'Jargon' or 'Proper Name' [type=literal_error, input_value='Function/Method', input_type=str]\n",
      "    For further information visit https://errors.pydantic.dev/2.11/v/literal_error\n",
      "terms.3.type\n",
      "  Input should be 'Acronym', 'Abbreviation', 'Framework', 'Algorithm', 'Technical Term', 'Jargon' or 'Proper Name' [type=literal_error, input_value='Function/Method', input_type=str]\n",
      "    For further information visit https://errors.pydantic.dev/2.11/v/literal_error\n",
      "terms.4.type\n",
      "  Input should be 'Acronym', 'Abbreviation', 'Framework', 'Algorithm', 'Technical Term', 'Jargon' or 'Proper Name' [type=literal_error, input_value='Function/Method', input_type=str]\n",
      "    For further information visit https://errors.pydantic.dev/2.11/v/literal_error\n",
      "BroAgent.parse_structured_output() got multiple values for argument 'text'\u001b[0m\n"
     ]
    },
    {
     "name": "stderr",
     "output_type": "stream",
     "text": [
      "100%|██████████| 87/87 [03:05<00:00,  2.13s/it]\n"
     ]
    }
   ],
   "source": [
    "from package.agents.term_extractor import TermExtractor\n",
    "\n",
    "te = TermExtractor()\n",
    "\n",
    "error_term = []\n",
    "terms = []\n",
    "for longterm in tqdm(longterms):\n",
    "    context = longterm.raw\n",
    "    try:\n",
    "        term = te.run(context=context)\n",
    "        terms.extend(term)\n",
    "    except Exception as e:\n",
    "        error_term.append((longterm.id, str(e)))"
   ]
  },
  {
   "cell_type": "code",
   "execution_count": 25,
   "id": "9fc4ddc9",
   "metadata": {},
   "outputs": [
    {
     "data": {
      "text/plain": [
       "4"
      ]
     },
     "execution_count": 25,
     "metadata": {},
     "output_type": "execute_result"
    }
   ],
   "source": [
    "len(error_term)"
   ]
  },
  {
   "cell_type": "code",
   "execution_count": 26,
   "id": "266269cd",
   "metadata": {},
   "outputs": [
    {
     "data": {
      "text/plain": [
       "[('20614436-94eb-4362-8e06-6e4e2b31d673', \"'NoneType' object is not iterable\"),\n",
       " ('f241d31a-5515-4aa6-b31f-514aa803d54b', \"'NoneType' object is not iterable\"),\n",
       " ('2abc00f8-f60f-44ce-aed0-808e2cd852f9', \"'NoneType' object is not iterable\"),\n",
       " ('417612bc-71fb-4f35-8267-6105ab7168aa', \"'NoneType' object is not iterable\")]"
      ]
     },
     "execution_count": 26,
     "metadata": {},
     "output_type": "execute_result"
    }
   ],
   "source": [
    "error_term"
   ]
  },
  {
   "cell_type": "code",
   "execution_count": 29,
   "id": "f947470d",
   "metadata": {},
   "outputs": [
    {
     "name": "stdout",
     "output_type": "stream",
     "text": [
      "\u001b[91mBoth parse_structured_output and content_extractor failed:\n",
      "3 validation errors for ExtractedTerms\n",
      "terms.1.type\n",
      "  Input should be 'Acronym', 'Abbreviation', 'Framework', 'Algorithm', 'Technical Term', 'Jargon' or 'Proper Name' [type=literal_error, input_value='Function', input_type=str]\n",
      "    For further information visit https://errors.pydantic.dev/2.11/v/literal_error\n",
      "terms.2.type\n",
      "  Input should be 'Acronym', 'Abbreviation', 'Framework', 'Algorithm', 'Technical Term', 'Jargon' or 'Proper Name' [type=literal_error, input_value='Function', input_type=str]\n",
      "    For further information visit https://errors.pydantic.dev/2.11/v/literal_error\n",
      "terms.3.type\n",
      "  Input should be 'Acronym', 'Abbreviation', 'Framework', 'Algorithm', 'Technical Term', 'Jargon' or 'Proper Name' [type=literal_error, input_value='Function', input_type=str]\n",
      "    For further information visit https://errors.pydantic.dev/2.11/v/literal_error\n",
      "BroAgent.parse_structured_output() got multiple values for argument 'text'\u001b[0m\n"
     ]
    }
   ],
   "source": [
    "debug = ltm.read_longterm(longterm_id='20614436-94eb-4362-8e06-6e4e2b31d673', session=Depends(get_session))\n",
    "\n",
    "te.run(debug.raw)"
   ]
  },
  {
   "cell_type": "code",
   "execution_count": 31,
   "id": "f401cf85",
   "metadata": {},
   "outputs": [
    {
     "data": {
      "text/plain": [
       "Summary(summary='STORM algorithm generates an outline and references for a given topic, considering related topics and their Wikipedia articles.')"
      ]
     },
     "execution_count": 31,
     "metadata": {},
     "output_type": "execute_result"
    }
   ],
   "source": [
    "ce.run(debug.raw)"
   ]
  },
  {
   "cell_type": "code",
   "execution_count": 32,
   "id": "71aa76b5",
   "metadata": {},
   "outputs": [
    {
     "data": {
      "text/plain": [
       "'2aa78fac-48b2-4a4d-a70d-0fa04f8b9071'"
      ]
     },
     "execution_count": 32,
     "metadata": {},
     "output_type": "execute_result"
    }
   ],
   "source": [
    "document.id"
   ]
  },
  {
   "cell_type": "code",
   "execution_count": 33,
   "id": "5f91a178",
   "metadata": {},
   "outputs": [
    {
     "data": {
      "text/plain": [
       "'20614436-94eb-4362-8e06-6e4e2b31d673'"
      ]
     },
     "execution_count": 33,
     "metadata": {},
     "output_type": "execute_result"
    }
   ],
   "source": [
    "debug.id"
   ]
  },
  {
   "cell_type": "code",
   "execution_count": 30,
   "id": "5fef372a",
   "metadata": {},
   "outputs": [
    {
     "data": {
      "text/plain": [
       "('ea49fae9-14b6-4f4a-a876-e0fe9685118b',\n",
       " '4dbe2cbe-55d4-437d-b080-19ef3b4a7a86')"
      ]
     },
     "execution_count": 30,
     "metadata": {},
     "output_type": "execute_result"
    }
   ],
   "source": [
    "_lt = ltm.read_longterms_by_document(document_id=document.id, session=Depends(get_session))\n",
    "_lt[1].document_id, _lt[1].id"
   ]
  },
  {
   "cell_type": "code",
   "execution_count": 37,
   "id": "d8e004e9",
   "metadata": {},
   "outputs": [
    {
     "data": {
      "text/plain": [
       "'STORM algorithm generates an outline and references for a given topic, considering related topics and their Wikipedia articles.'"
      ]
     },
     "execution_count": 37,
     "metadata": {},
     "output_type": "execute_result"
    }
   ],
   "source": [
    "ltm.read_longterm(longterm_id='20614436-94eb-4362-8e06-6e4e2b31d673', session=Depends(get_session)).enrich"
   ]
  },
  {
   "cell_type": "code",
   "execution_count": 35,
   "id": "b36cfa7b",
   "metadata": {},
   "outputs": [
    {
     "data": {
      "text/plain": [
       "[]"
      ]
     },
     "execution_count": 35,
     "metadata": {},
     "output_type": "execute_result"
    }
   ],
   "source": [
    "tm.read_terms(session=Depends(get_session))"
   ]
  },
  {
   "cell_type": "code",
   "execution_count": 13,
   "id": "77123099",
   "metadata": {},
   "outputs": [
    {
     "name": "stderr",
     "output_type": "stream",
     "text": [
      "1it [00:17, 17.83s/it]\n"
     ]
    },
    {
     "ename": "KeyboardInterrupt",
     "evalue": "",
     "output_type": "error",
     "traceback": [
      "\u001b[31m---------------------------------------------------------------------------\u001b[39m",
      "\u001b[31mKeyboardInterrupt\u001b[39m                         Traceback (most recent call last)",
      "\u001b[36mCell\u001b[39m\u001b[36m \u001b[39m\u001b[32mIn[13]\u001b[39m\u001b[32m, line 18\u001b[39m\n\u001b[32m     16\u001b[39m \u001b[38;5;28;01mtry\u001b[39;00m:\n\u001b[32m     17\u001b[39m     loader = PDFLoader(source=source_ops)\n\u001b[32m---> \u001b[39m\u001b[32m18\u001b[39m     contexts = \u001b[43mloader\u001b[49m\u001b[43m.\u001b[49m\u001b[43mrun\u001b[49m\u001b[43m(\u001b[49m\u001b[43m)\u001b[49m\n\u001b[32m     19\u001b[39m     document = Document(source=source, \u001b[38;5;28mtype\u001b[39m=source_type)\n\u001b[32m     20\u001b[39m     document = dm.create_document(document, session=Depends(get_session))     \n",
      "\u001b[36mFile \u001b[39m\u001b[32md:\\broai-arai\\backend\\package\\utils\\data_loder.py:34\u001b[39m, in \u001b[36mPDFLoader.run\u001b[39m\u001b[34m(self)\u001b[39m\n\u001b[32m     33\u001b[39m \u001b[38;5;28;01mdef\u001b[39;00m\u001b[38;5;250m \u001b[39m\u001b[34mrun\u001b[39m(\u001b[38;5;28mself\u001b[39m):\n\u001b[32m---> \u001b[39m\u001b[32m34\u001b[39m     text = \u001b[38;5;28;43mself\u001b[39;49m\u001b[43m.\u001b[49m\u001b[43mload\u001b[49m\u001b[43m(\u001b[49m\u001b[38;5;28;43mself\u001b[39;49m\u001b[43m.\u001b[49m\u001b[43msource\u001b[49m\u001b[43m)\u001b[49m\n\u001b[32m     35\u001b[39m     chunks = \u001b[38;5;28mself\u001b[39m.chunk(\u001b[38;5;28mself\u001b[39m.source, text, max_tokens=\u001b[38;5;28mself\u001b[39m.max_tokens, overlap=\u001b[38;5;28mself\u001b[39m.overlap)\n\u001b[32m     36\u001b[39m     \u001b[38;5;28;01mreturn\u001b[39;00m chunks\n",
      "\u001b[36mFile \u001b[39m\u001b[32md:\\broai-arai\\backend\\package\\utils\\data_loder.py:16\u001b[39m, in \u001b[36mPDFLoader.load\u001b[39m\u001b[34m(self, source)\u001b[39m\n\u001b[32m     14\u001b[39m \u001b[38;5;28;01mdef\u001b[39;00m\u001b[38;5;250m \u001b[39m\u001b[34mload\u001b[39m(\u001b[38;5;28mself\u001b[39m, source:SourceOptions):\n\u001b[32m     15\u001b[39m     converter = DocumentConverter()\n\u001b[32m---> \u001b[39m\u001b[32m16\u001b[39m     result = \u001b[43mconverter\u001b[49m\u001b[43m.\u001b[49m\u001b[43mconvert\u001b[49m\u001b[43m(\u001b[49m\u001b[43msource\u001b[49m\u001b[43m.\u001b[49m\u001b[43mpath\u001b[49m\u001b[43m)\u001b[49m\n\u001b[32m     17\u001b[39m     text = result.document.export_to_markdown()  \u001b[38;5;66;03m# output: \"## Docling Technical Report[...]\"\u001b[39;00m\n\u001b[32m     18\u001b[39m     \u001b[38;5;66;03m# text, image = pdf_to_markdown(source.path)\u001b[39;00m\n",
      "\u001b[36mFile \u001b[39m\u001b[32md:\\broai-arai\\backend\\.venv\\Lib\\site-packages\\pydantic\\_internal\\_validate_call.py:39\u001b[39m, in \u001b[36mupdate_wrapper_attributes.<locals>.wrapper_function\u001b[39m\u001b[34m(*args, **kwargs)\u001b[39m\n\u001b[32m     37\u001b[39m \u001b[38;5;129m@functools\u001b[39m.wraps(wrapped)\n\u001b[32m     38\u001b[39m \u001b[38;5;28;01mdef\u001b[39;00m\u001b[38;5;250m \u001b[39m\u001b[34mwrapper_function\u001b[39m(*args, **kwargs):\n\u001b[32m---> \u001b[39m\u001b[32m39\u001b[39m     \u001b[38;5;28;01mreturn\u001b[39;00m \u001b[43mwrapper\u001b[49m\u001b[43m(\u001b[49m\u001b[43m*\u001b[49m\u001b[43margs\u001b[49m\u001b[43m,\u001b[49m\u001b[43m \u001b[49m\u001b[43m*\u001b[49m\u001b[43m*\u001b[49m\u001b[43mkwargs\u001b[49m\u001b[43m)\u001b[49m\n",
      "\u001b[36mFile \u001b[39m\u001b[32md:\\broai-arai\\backend\\.venv\\Lib\\site-packages\\pydantic\\_internal\\_validate_call.py:136\u001b[39m, in \u001b[36mValidateCallWrapper.__call__\u001b[39m\u001b[34m(self, *args, **kwargs)\u001b[39m\n\u001b[32m    133\u001b[39m \u001b[38;5;28;01mif\u001b[39;00m \u001b[38;5;129;01mnot\u001b[39;00m \u001b[38;5;28mself\u001b[39m.__pydantic_complete__:\n\u001b[32m    134\u001b[39m     \u001b[38;5;28mself\u001b[39m._create_validators()\n\u001b[32m--> \u001b[39m\u001b[32m136\u001b[39m res = \u001b[38;5;28;43mself\u001b[39;49m\u001b[43m.\u001b[49m\u001b[43m__pydantic_validator__\u001b[49m\u001b[43m.\u001b[49m\u001b[43mvalidate_python\u001b[49m\u001b[43m(\u001b[49m\u001b[43mpydantic_core\u001b[49m\u001b[43m.\u001b[49m\u001b[43mArgsKwargs\u001b[49m\u001b[43m(\u001b[49m\u001b[43margs\u001b[49m\u001b[43m,\u001b[49m\u001b[43m \u001b[49m\u001b[43mkwargs\u001b[49m\u001b[43m)\u001b[49m\u001b[43m)\u001b[49m\n\u001b[32m    137\u001b[39m \u001b[38;5;28;01mif\u001b[39;00m \u001b[38;5;28mself\u001b[39m.__return_pydantic_validator__:\n\u001b[32m    138\u001b[39m     \u001b[38;5;28;01mreturn\u001b[39;00m \u001b[38;5;28mself\u001b[39m.__return_pydantic_validator__(res)\n",
      "\u001b[36mFile \u001b[39m\u001b[32md:\\broai-arai\\backend\\.venv\\Lib\\site-packages\\docling\\document_converter.py:235\u001b[39m, in \u001b[36mDocumentConverter.convert\u001b[39m\u001b[34m(self, source, headers, raises_on_error, max_num_pages, max_file_size, page_range)\u001b[39m\n\u001b[32m    217\u001b[39m \u001b[38;5;129m@validate_call\u001b[39m(config=ConfigDict(strict=\u001b[38;5;28;01mTrue\u001b[39;00m))\n\u001b[32m    218\u001b[39m \u001b[38;5;28;01mdef\u001b[39;00m\u001b[38;5;250m \u001b[39m\u001b[34mconvert\u001b[39m(\n\u001b[32m    219\u001b[39m     \u001b[38;5;28mself\u001b[39m,\n\u001b[32m   (...)\u001b[39m\u001b[32m    225\u001b[39m     page_range: PageRange = DEFAULT_PAGE_RANGE,\n\u001b[32m    226\u001b[39m ) -> ConversionResult:\n\u001b[32m    227\u001b[39m     all_res = \u001b[38;5;28mself\u001b[39m.convert_all(\n\u001b[32m    228\u001b[39m         source=[source],\n\u001b[32m    229\u001b[39m         raises_on_error=raises_on_error,\n\u001b[32m   (...)\u001b[39m\u001b[32m    233\u001b[39m         page_range=page_range,\n\u001b[32m    234\u001b[39m     )\n\u001b[32m--> \u001b[39m\u001b[32m235\u001b[39m     \u001b[38;5;28;01mreturn\u001b[39;00m \u001b[38;5;28;43mnext\u001b[39;49m\u001b[43m(\u001b[49m\u001b[43mall_res\u001b[49m\u001b[43m)\u001b[49m\n",
      "\u001b[36mFile \u001b[39m\u001b[32md:\\broai-arai\\backend\\.venv\\Lib\\site-packages\\docling\\document_converter.py:258\u001b[39m, in \u001b[36mDocumentConverter.convert_all\u001b[39m\u001b[34m(self, source, headers, raises_on_error, max_num_pages, max_file_size, page_range)\u001b[39m\n\u001b[32m    255\u001b[39m conv_res_iter = \u001b[38;5;28mself\u001b[39m._convert(conv_input, raises_on_error=raises_on_error)\n\u001b[32m    257\u001b[39m had_result = \u001b[38;5;28;01mFalse\u001b[39;00m\n\u001b[32m--> \u001b[39m\u001b[32m258\u001b[39m \u001b[43m\u001b[49m\u001b[38;5;28;43;01mfor\u001b[39;49;00m\u001b[43m \u001b[49m\u001b[43mconv_res\u001b[49m\u001b[43m \u001b[49m\u001b[38;5;129;43;01min\u001b[39;49;00m\u001b[43m \u001b[49m\u001b[43mconv_res_iter\u001b[49m\u001b[43m:\u001b[49m\n\u001b[32m    259\u001b[39m \u001b[43m    \u001b[49m\u001b[43mhad_result\u001b[49m\u001b[43m \u001b[49m\u001b[43m=\u001b[49m\u001b[43m \u001b[49m\u001b[38;5;28;43;01mTrue\u001b[39;49;00m\n\u001b[32m    260\u001b[39m \u001b[43m    \u001b[49m\u001b[38;5;28;43;01mif\u001b[39;49;00m\u001b[43m \u001b[49m\u001b[43mraises_on_error\u001b[49m\u001b[43m \u001b[49m\u001b[38;5;129;43;01mand\u001b[39;49;00m\u001b[43m \u001b[49m\u001b[43mconv_res\u001b[49m\u001b[43m.\u001b[49m\u001b[43mstatus\u001b[49m\u001b[43m \u001b[49m\u001b[38;5;129;43;01mnot\u001b[39;49;00m\u001b[43m \u001b[49m\u001b[38;5;129;43;01min\u001b[39;49;00m\u001b[43m \u001b[49m\u001b[43m{\u001b[49m\n\u001b[32m    261\u001b[39m \u001b[43m        \u001b[49m\u001b[43mConversionStatus\u001b[49m\u001b[43m.\u001b[49m\u001b[43mSUCCESS\u001b[49m\u001b[43m,\u001b[49m\n\u001b[32m    262\u001b[39m \u001b[43m        \u001b[49m\u001b[43mConversionStatus\u001b[49m\u001b[43m.\u001b[49m\u001b[43mPARTIAL_SUCCESS\u001b[49m\u001b[43m,\u001b[49m\n\u001b[32m    263\u001b[39m \u001b[43m    \u001b[49m\u001b[43m}\u001b[49m\u001b[43m:\u001b[49m\n",
      "\u001b[36mFile \u001b[39m\u001b[32md:\\broai-arai\\backend\\.venv\\Lib\\site-packages\\docling\\document_converter.py:293\u001b[39m, in \u001b[36mDocumentConverter._convert\u001b[39m\u001b[34m(self, conv_input, raises_on_error)\u001b[39m\n\u001b[32m    284\u001b[39m _log.info(\u001b[33m\"\u001b[39m\u001b[33mGoing to convert document batch...\u001b[39m\u001b[33m\"\u001b[39m)\n\u001b[32m    286\u001b[39m \u001b[38;5;66;03m# parallel processing only within input_batch\u001b[39;00m\n\u001b[32m    287\u001b[39m \u001b[38;5;66;03m# with ThreadPoolExecutor(\u001b[39;00m\n\u001b[32m    288\u001b[39m \u001b[38;5;66;03m#    max_workers=settings.perf.doc_batch_concurrency\u001b[39;00m\n\u001b[32m    289\u001b[39m \u001b[38;5;66;03m# ) as pool:\u001b[39;00m\n\u001b[32m    290\u001b[39m \u001b[38;5;66;03m#   yield from pool.map(self.process_document, input_batch)\u001b[39;00m\n\u001b[32m    291\u001b[39m \u001b[38;5;66;03m# Note: PDF backends are not thread-safe, thread pool usage was disabled.\u001b[39;00m\n\u001b[32m--> \u001b[39m\u001b[32m293\u001b[39m \u001b[43m\u001b[49m\u001b[38;5;28;43;01mfor\u001b[39;49;00m\u001b[43m \u001b[49m\u001b[43mitem\u001b[49m\u001b[43m \u001b[49m\u001b[38;5;129;43;01min\u001b[39;49;00m\u001b[43m \u001b[49m\u001b[38;5;28;43mmap\u001b[39;49m\u001b[43m(\u001b[49m\n\u001b[32m    294\u001b[39m \u001b[43m    \u001b[49m\u001b[43mpartial\u001b[49m\u001b[43m(\u001b[49m\u001b[38;5;28;43mself\u001b[39;49m\u001b[43m.\u001b[49m\u001b[43m_process_document\u001b[49m\u001b[43m,\u001b[49m\u001b[43m \u001b[49m\u001b[43mraises_on_error\u001b[49m\u001b[43m=\u001b[49m\u001b[43mraises_on_error\u001b[49m\u001b[43m)\u001b[49m\u001b[43m,\u001b[49m\n\u001b[32m    295\u001b[39m \u001b[43m    \u001b[49m\u001b[43minput_batch\u001b[49m\u001b[43m,\u001b[49m\n\u001b[32m    296\u001b[39m \u001b[43m\u001b[49m\u001b[43m)\u001b[49m\u001b[43m:\u001b[49m\n\u001b[32m    297\u001b[39m \u001b[43m    \u001b[49m\u001b[43melapsed\u001b[49m\u001b[43m \u001b[49m\u001b[43m=\u001b[49m\u001b[43m \u001b[49m\u001b[43mtime\u001b[49m\u001b[43m.\u001b[49m\u001b[43mmonotonic\u001b[49m\u001b[43m(\u001b[49m\u001b[43m)\u001b[49m\u001b[43m \u001b[49m\u001b[43m-\u001b[49m\u001b[43m \u001b[49m\u001b[43mstart_time\u001b[49m\n\u001b[32m    298\u001b[39m \u001b[43m    \u001b[49m\u001b[43mstart_time\u001b[49m\u001b[43m \u001b[49m\u001b[43m=\u001b[49m\u001b[43m \u001b[49m\u001b[43mtime\u001b[49m\u001b[43m.\u001b[49m\u001b[43mmonotonic\u001b[49m\u001b[43m(\u001b[49m\u001b[43m)\u001b[49m\n",
      "\u001b[36mFile \u001b[39m\u001b[32md:\\broai-arai\\backend\\.venv\\Lib\\site-packages\\docling\\document_converter.py:339\u001b[39m, in \u001b[36mDocumentConverter._process_document\u001b[39m\u001b[34m(self, in_doc, raises_on_error)\u001b[39m\n\u001b[32m    335\u001b[39m valid = (\n\u001b[32m    336\u001b[39m     \u001b[38;5;28mself\u001b[39m.allowed_formats \u001b[38;5;129;01mis\u001b[39;00m \u001b[38;5;129;01mnot\u001b[39;00m \u001b[38;5;28;01mNone\u001b[39;00m \u001b[38;5;129;01mand\u001b[39;00m in_doc.format \u001b[38;5;129;01min\u001b[39;00m \u001b[38;5;28mself\u001b[39m.allowed_formats\n\u001b[32m    337\u001b[39m )\n\u001b[32m    338\u001b[39m \u001b[38;5;28;01mif\u001b[39;00m valid:\n\u001b[32m--> \u001b[39m\u001b[32m339\u001b[39m     conv_res = \u001b[38;5;28;43mself\u001b[39;49m\u001b[43m.\u001b[49m\u001b[43m_execute_pipeline\u001b[49m\u001b[43m(\u001b[49m\u001b[43min_doc\u001b[49m\u001b[43m,\u001b[49m\u001b[43m \u001b[49m\u001b[43mraises_on_error\u001b[49m\u001b[43m=\u001b[49m\u001b[43mraises_on_error\u001b[49m\u001b[43m)\u001b[49m\n\u001b[32m    340\u001b[39m \u001b[38;5;28;01melse\u001b[39;00m:\n\u001b[32m    341\u001b[39m     error_message = \u001b[33mf\u001b[39m\u001b[33m\"\u001b[39m\u001b[33mFile format not allowed: \u001b[39m\u001b[38;5;132;01m{\u001b[39;00min_doc.file\u001b[38;5;132;01m}\u001b[39;00m\u001b[33m\"\u001b[39m\n",
      "\u001b[36mFile \u001b[39m\u001b[32md:\\broai-arai\\backend\\.venv\\Lib\\site-packages\\docling\\document_converter.py:362\u001b[39m, in \u001b[36mDocumentConverter._execute_pipeline\u001b[39m\u001b[34m(self, in_doc, raises_on_error)\u001b[39m\n\u001b[32m    360\u001b[39m pipeline = \u001b[38;5;28mself\u001b[39m._get_pipeline(in_doc.format)\n\u001b[32m    361\u001b[39m \u001b[38;5;28;01mif\u001b[39;00m pipeline \u001b[38;5;129;01mis\u001b[39;00m \u001b[38;5;129;01mnot\u001b[39;00m \u001b[38;5;28;01mNone\u001b[39;00m:\n\u001b[32m--> \u001b[39m\u001b[32m362\u001b[39m     conv_res = \u001b[43mpipeline\u001b[49m\u001b[43m.\u001b[49m\u001b[43mexecute\u001b[49m\u001b[43m(\u001b[49m\u001b[43min_doc\u001b[49m\u001b[43m,\u001b[49m\u001b[43m \u001b[49m\u001b[43mraises_on_error\u001b[49m\u001b[43m=\u001b[49m\u001b[43mraises_on_error\u001b[49m\u001b[43m)\u001b[49m\n\u001b[32m    363\u001b[39m \u001b[38;5;28;01melse\u001b[39;00m:\n\u001b[32m    364\u001b[39m     \u001b[38;5;28;01mif\u001b[39;00m raises_on_error:\n",
      "\u001b[36mFile \u001b[39m\u001b[32md:\\broai-arai\\backend\\.venv\\Lib\\site-packages\\docling\\pipeline\\base_pipeline.py:46\u001b[39m, in \u001b[36mBasePipeline.execute\u001b[39m\u001b[34m(self, in_doc, raises_on_error)\u001b[39m\n\u001b[32m     40\u001b[39m \u001b[38;5;28;01mtry\u001b[39;00m:\n\u001b[32m     41\u001b[39m     \u001b[38;5;28;01mwith\u001b[39;00m TimeRecorder(\n\u001b[32m     42\u001b[39m         conv_res, \u001b[33m\"\u001b[39m\u001b[33mpipeline_total\u001b[39m\u001b[33m\"\u001b[39m, scope=ProfilingScope.DOCUMENT\n\u001b[32m     43\u001b[39m     ):\n\u001b[32m     44\u001b[39m         \u001b[38;5;66;03m# These steps are building and assembling the structure of the\u001b[39;00m\n\u001b[32m     45\u001b[39m         \u001b[38;5;66;03m# output DoclingDocument.\u001b[39;00m\n\u001b[32m---> \u001b[39m\u001b[32m46\u001b[39m         conv_res = \u001b[38;5;28;43mself\u001b[39;49m\u001b[43m.\u001b[49m\u001b[43m_build_document\u001b[49m\u001b[43m(\u001b[49m\u001b[43mconv_res\u001b[49m\u001b[43m)\u001b[49m\n\u001b[32m     47\u001b[39m         conv_res = \u001b[38;5;28mself\u001b[39m._assemble_document(conv_res)\n\u001b[32m     48\u001b[39m         \u001b[38;5;66;03m# From this stage, all operations should rely only on conv_res.output\u001b[39;00m\n",
      "\u001b[36mFile \u001b[39m\u001b[32md:\\broai-arai\\backend\\.venv\\Lib\\site-packages\\docling\\pipeline\\base_pipeline.py:160\u001b[39m, in \u001b[36mPaginatedPipeline._build_document\u001b[39m\u001b[34m(self, conv_res)\u001b[39m\n\u001b[32m    157\u001b[39m \u001b[38;5;66;03m# 2. Run pipeline stages\u001b[39;00m\n\u001b[32m    158\u001b[39m pipeline_pages = \u001b[38;5;28mself\u001b[39m._apply_on_pages(conv_res, init_pages)\n\u001b[32m--> \u001b[39m\u001b[32m160\u001b[39m \u001b[43m\u001b[49m\u001b[38;5;28;43;01mfor\u001b[39;49;00m\u001b[43m \u001b[49m\u001b[43mp\u001b[49m\u001b[43m \u001b[49m\u001b[38;5;129;43;01min\u001b[39;49;00m\u001b[43m \u001b[49m\u001b[43mpipeline_pages\u001b[49m\u001b[43m:\u001b[49m\u001b[43m  \u001b[49m\u001b[38;5;66;43;03m# Must exhaust!\u001b[39;49;00m\n\u001b[32m    161\u001b[39m \u001b[43m    \u001b[49m\u001b[38;5;66;43;03m# Cleanup cached images\u001b[39;49;00m\n\u001b[32m    162\u001b[39m \u001b[43m    \u001b[49m\u001b[38;5;28;43;01mif\u001b[39;49;00m\u001b[43m \u001b[49m\u001b[38;5;129;43;01mnot\u001b[39;49;00m\u001b[43m \u001b[49m\u001b[38;5;28;43mself\u001b[39;49m\u001b[43m.\u001b[49m\u001b[43mkeep_images\u001b[49m\u001b[43m:\u001b[49m\n\u001b[32m    163\u001b[39m \u001b[43m        \u001b[49m\u001b[43mp\u001b[49m\u001b[43m.\u001b[49m\u001b[43m_image_cache\u001b[49m\u001b[43m \u001b[49m\u001b[43m=\u001b[49m\u001b[43m \u001b[49m\u001b[43m{\u001b[49m\u001b[43m}\u001b[49m\n",
      "\u001b[36mFile \u001b[39m\u001b[32md:\\broai-arai\\backend\\.venv\\Lib\\site-packages\\docling\\pipeline\\base_pipeline.py:126\u001b[39m, in \u001b[36mPaginatedPipeline._apply_on_pages\u001b[39m\u001b[34m(self, conv_res, page_batch)\u001b[39m\n\u001b[32m    123\u001b[39m \u001b[38;5;28;01mfor\u001b[39;00m model \u001b[38;5;129;01min\u001b[39;00m \u001b[38;5;28mself\u001b[39m.build_pipe:\n\u001b[32m    124\u001b[39m     page_batch = model(conv_res, page_batch)\n\u001b[32m--> \u001b[39m\u001b[32m126\u001b[39m \u001b[38;5;28;01myield from\u001b[39;00m page_batch\n",
      "\u001b[36mFile \u001b[39m\u001b[32md:\\broai-arai\\backend\\.venv\\Lib\\site-packages\\docling\\models\\page_assemble_model.py:70\u001b[39m, in \u001b[36mPageAssembleModel.__call__\u001b[39m\u001b[34m(self, conv_res, page_batch)\u001b[39m\n\u001b[32m     67\u001b[39m \u001b[38;5;28;01mdef\u001b[39;00m\u001b[38;5;250m \u001b[39m\u001b[34m__call__\u001b[39m(\n\u001b[32m     68\u001b[39m     \u001b[38;5;28mself\u001b[39m, conv_res: ConversionResult, page_batch: Iterable[Page]\n\u001b[32m     69\u001b[39m ) -> Iterable[Page]:\n\u001b[32m---> \u001b[39m\u001b[32m70\u001b[39m \u001b[43m    \u001b[49m\u001b[38;5;28;43;01mfor\u001b[39;49;00m\u001b[43m \u001b[49m\u001b[43mpage\u001b[49m\u001b[43m \u001b[49m\u001b[38;5;129;43;01min\u001b[39;49;00m\u001b[43m \u001b[49m\u001b[43mpage_batch\u001b[49m\u001b[43m:\u001b[49m\n\u001b[32m     71\u001b[39m \u001b[43m        \u001b[49m\u001b[38;5;28;43;01massert\u001b[39;49;00m\u001b[43m \u001b[49m\u001b[43mpage\u001b[49m\u001b[43m.\u001b[49m\u001b[43m_backend\u001b[49m\u001b[43m \u001b[49m\u001b[38;5;129;43;01mis\u001b[39;49;00m\u001b[43m \u001b[49m\u001b[38;5;129;43;01mnot\u001b[39;49;00m\u001b[43m \u001b[49m\u001b[38;5;28;43;01mNone\u001b[39;49;00m\n\u001b[32m     72\u001b[39m \u001b[43m        \u001b[49m\u001b[38;5;28;43;01mif\u001b[39;49;00m\u001b[43m \u001b[49m\u001b[38;5;129;43;01mnot\u001b[39;49;00m\u001b[43m \u001b[49m\u001b[43mpage\u001b[49m\u001b[43m.\u001b[49m\u001b[43m_backend\u001b[49m\u001b[43m.\u001b[49m\u001b[43mis_valid\u001b[49m\u001b[43m(\u001b[49m\u001b[43m)\u001b[49m\u001b[43m:\u001b[49m\n",
      "\u001b[36mFile \u001b[39m\u001b[32md:\\broai-arai\\backend\\.venv\\Lib\\site-packages\\docling\\models\\table_structure_model.py:175\u001b[39m, in \u001b[36mTableStructureModel.__call__\u001b[39m\u001b[34m(self, conv_res, page_batch)\u001b[39m\n\u001b[32m    172\u001b[39m     \u001b[38;5;28;01myield from\u001b[39;00m page_batch\n\u001b[32m    173\u001b[39m     \u001b[38;5;28;01mreturn\u001b[39;00m\n\u001b[32m--> \u001b[39m\u001b[32m175\u001b[39m \u001b[43m\u001b[49m\u001b[38;5;28;43;01mfor\u001b[39;49;00m\u001b[43m \u001b[49m\u001b[43mpage\u001b[49m\u001b[43m \u001b[49m\u001b[38;5;129;43;01min\u001b[39;49;00m\u001b[43m \u001b[49m\u001b[43mpage_batch\u001b[49m\u001b[43m:\u001b[49m\n\u001b[32m    176\u001b[39m \u001b[43m    \u001b[49m\u001b[38;5;28;43;01massert\u001b[39;49;00m\u001b[43m \u001b[49m\u001b[43mpage\u001b[49m\u001b[43m.\u001b[49m\u001b[43m_backend\u001b[49m\u001b[43m \u001b[49m\u001b[38;5;129;43;01mis\u001b[39;49;00m\u001b[43m \u001b[49m\u001b[38;5;129;43;01mnot\u001b[39;49;00m\u001b[43m \u001b[49m\u001b[38;5;28;43;01mNone\u001b[39;49;00m\n\u001b[32m    177\u001b[39m \u001b[43m    \u001b[49m\u001b[38;5;28;43;01mif\u001b[39;49;00m\u001b[43m \u001b[49m\u001b[38;5;129;43;01mnot\u001b[39;49;00m\u001b[43m \u001b[49m\u001b[43mpage\u001b[49m\u001b[43m.\u001b[49m\u001b[43m_backend\u001b[49m\u001b[43m.\u001b[49m\u001b[43mis_valid\u001b[49m\u001b[43m(\u001b[49m\u001b[43m)\u001b[49m\u001b[43m:\u001b[49m\n",
      "\u001b[36mFile \u001b[39m\u001b[32md:\\broai-arai\\backend\\.venv\\Lib\\site-packages\\docling\\models\\layout_model.py:142\u001b[39m, in \u001b[36mLayoutModel.__call__\u001b[39m\u001b[34m(self, conv_res, page_batch)\u001b[39m\n\u001b[32m    139\u001b[39m \u001b[38;5;28;01mdef\u001b[39;00m\u001b[38;5;250m \u001b[39m\u001b[34m__call__\u001b[39m(\n\u001b[32m    140\u001b[39m     \u001b[38;5;28mself\u001b[39m, conv_res: ConversionResult, page_batch: Iterable[Page]\n\u001b[32m    141\u001b[39m ) -> Iterable[Page]:\n\u001b[32m--> \u001b[39m\u001b[32m142\u001b[39m \u001b[43m    \u001b[49m\u001b[38;5;28;43;01mfor\u001b[39;49;00m\u001b[43m \u001b[49m\u001b[43mpage\u001b[49m\u001b[43m \u001b[49m\u001b[38;5;129;43;01min\u001b[39;49;00m\u001b[43m \u001b[49m\u001b[43mpage_batch\u001b[49m\u001b[43m:\u001b[49m\n\u001b[32m    143\u001b[39m \u001b[43m        \u001b[49m\u001b[38;5;28;43;01massert\u001b[39;49;00m\u001b[43m \u001b[49m\u001b[43mpage\u001b[49m\u001b[43m.\u001b[49m\u001b[43m_backend\u001b[49m\u001b[43m \u001b[49m\u001b[38;5;129;43;01mis\u001b[39;49;00m\u001b[43m \u001b[49m\u001b[38;5;129;43;01mnot\u001b[39;49;00m\u001b[43m \u001b[49m\u001b[38;5;28;43;01mNone\u001b[39;49;00m\n\u001b[32m    144\u001b[39m \u001b[43m        \u001b[49m\u001b[38;5;28;43;01mif\u001b[39;49;00m\u001b[43m \u001b[49m\u001b[38;5;129;43;01mnot\u001b[39;49;00m\u001b[43m \u001b[49m\u001b[43mpage\u001b[49m\u001b[43m.\u001b[49m\u001b[43m_backend\u001b[49m\u001b[43m.\u001b[49m\u001b[43mis_valid\u001b[49m\u001b[43m(\u001b[49m\u001b[43m)\u001b[49m\u001b[43m:\u001b[49m\n",
      "\u001b[36mFile \u001b[39m\u001b[32md:\\broai-arai\\backend\\.venv\\Lib\\site-packages\\docling\\models\\easyocr_model.py:139\u001b[39m, in \u001b[36mEasyOcrModel.__call__\u001b[39m\u001b[34m(self, conv_res, page_batch)\u001b[39m\n\u001b[32m    137\u001b[39m \u001b[38;5;28;01melse\u001b[39;00m:\n\u001b[32m    138\u001b[39m     \u001b[38;5;28;01mwith\u001b[39;00m TimeRecorder(conv_res, \u001b[33m\"\u001b[39m\u001b[33mocr\u001b[39m\u001b[33m\"\u001b[39m):\n\u001b[32m--> \u001b[39m\u001b[32m139\u001b[39m         ocr_rects = \u001b[38;5;28;43mself\u001b[39;49m\u001b[43m.\u001b[49m\u001b[43mget_ocr_rects\u001b[49m\u001b[43m(\u001b[49m\u001b[43mpage\u001b[49m\u001b[43m)\u001b[49m\n\u001b[32m    141\u001b[39m         all_ocr_cells = []\n\u001b[32m    142\u001b[39m         \u001b[38;5;28;01mfor\u001b[39;00m ocr_rect \u001b[38;5;129;01min\u001b[39;00m ocr_rects:\n\u001b[32m    143\u001b[39m             \u001b[38;5;66;03m# Skip zero area boxes\u001b[39;00m\n",
      "\u001b[36mFile \u001b[39m\u001b[32md:\\broai-arai\\backend\\.venv\\Lib\\site-packages\\docling\\models\\base_ocr_model.py:89\u001b[39m, in \u001b[36mBaseOcrModel.get_ocr_rects\u001b[39m\u001b[34m(self, page)\u001b[39m\n\u001b[32m     87\u001b[39m \u001b[38;5;28;01melse\u001b[39;00m:\n\u001b[32m     88\u001b[39m     bitmap_rects = []\n\u001b[32m---> \u001b[39m\u001b[32m89\u001b[39m coverage, ocr_rects = \u001b[43mfind_ocr_rects\u001b[49m\u001b[43m(\u001b[49m\u001b[43mpage\u001b[49m\u001b[43m.\u001b[49m\u001b[43msize\u001b[49m\u001b[43m,\u001b[49m\u001b[43m \u001b[49m\u001b[43mbitmap_rects\u001b[49m\u001b[43m)\u001b[49m\n\u001b[32m     91\u001b[39m \u001b[38;5;66;03m# return full-page rectangle if page is dominantly covered with bitmaps\u001b[39;00m\n\u001b[32m     92\u001b[39m \u001b[38;5;28;01mif\u001b[39;00m \u001b[38;5;28mself\u001b[39m.options.force_full_page_ocr \u001b[38;5;129;01mor\u001b[39;00m coverage > \u001b[38;5;28mmax\u001b[39m(\n\u001b[32m     93\u001b[39m     BITMAP_COVERAGE_TRESHOLD, \u001b[38;5;28mself\u001b[39m.options.bitmap_area_threshold\n\u001b[32m     94\u001b[39m ):\n",
      "\u001b[36mFile \u001b[39m\u001b[32md:\\broai-arai\\backend\\.venv\\Lib\\site-packages\\docling\\models\\base_ocr_model.py:60\u001b[39m, in \u001b[36mBaseOcrModel.get_ocr_rects.<locals>.find_ocr_rects\u001b[39m\u001b[34m(size, bitmap_rects)\u001b[39m\n\u001b[32m     56\u001b[39m \u001b[38;5;66;03m# Dilate the image by 10 pixels to merge nearby bitmap rectangles\u001b[39;00m\n\u001b[32m     57\u001b[39m structure = np.ones(\n\u001b[32m     58\u001b[39m     (\u001b[32m20\u001b[39m, \u001b[32m20\u001b[39m)\n\u001b[32m     59\u001b[39m )  \u001b[38;5;66;03m# Create a 20x20 structure element (10 pixels in all directions)\u001b[39;00m\n\u001b[32m---> \u001b[39m\u001b[32m60\u001b[39m np_image = \u001b[43mbinary_dilation\u001b[49m\u001b[43m(\u001b[49m\u001b[43mnp_image\u001b[49m\u001b[43m \u001b[49m\u001b[43m>\u001b[49m\u001b[43m \u001b[49m\u001b[32;43m0\u001b[39;49m\u001b[43m,\u001b[49m\u001b[43m \u001b[49m\u001b[43mstructure\u001b[49m\u001b[43m=\u001b[49m\u001b[43mstructure\u001b[49m\u001b[43m)\u001b[49m\n\u001b[32m     62\u001b[39m \u001b[38;5;66;03m# Find the connected components\u001b[39;00m\n\u001b[32m     63\u001b[39m labeled_image, num_features = label(\n\u001b[32m     64\u001b[39m     np_image > \u001b[32m0\u001b[39m\n\u001b[32m     65\u001b[39m )  \u001b[38;5;66;03m# Label black (0 value) regions\u001b[39;00m\n",
      "\u001b[36mFile \u001b[39m\u001b[32md:\\broai-arai\\backend\\.venv\\Lib\\site-packages\\scipy\\ndimage\\_morphology.py:542\u001b[39m, in \u001b[36mbinary_dilation\u001b[39m\u001b[34m(input, structure, iterations, mask, output, border_value, origin, brute_force, axes)\u001b[39m\n\u001b[32m    539\u001b[39m     \u001b[38;5;28;01mif\u001b[39;00m \u001b[38;5;129;01mnot\u001b[39;00m structure.shape[ii] & \u001b[32m1\u001b[39m:\n\u001b[32m    540\u001b[39m         origin[ii] -= \u001b[32m1\u001b[39m\n\u001b[32m--> \u001b[39m\u001b[32m542\u001b[39m \u001b[38;5;28;01mreturn\u001b[39;00m \u001b[43m_binary_erosion\u001b[49m\u001b[43m(\u001b[49m\u001b[38;5;28;43minput\u001b[39;49m\u001b[43m,\u001b[49m\u001b[43m \u001b[49m\u001b[43mstructure\u001b[49m\u001b[43m,\u001b[49m\u001b[43m \u001b[49m\u001b[43miterations\u001b[49m\u001b[43m,\u001b[49m\u001b[43m \u001b[49m\u001b[43mmask\u001b[49m\u001b[43m,\u001b[49m\n\u001b[32m    543\u001b[39m \u001b[43m                       \u001b[49m\u001b[43moutput\u001b[49m\u001b[43m,\u001b[49m\u001b[43m \u001b[49m\u001b[43mborder_value\u001b[49m\u001b[43m,\u001b[49m\u001b[43m \u001b[49m\u001b[43morigin\u001b[49m\u001b[43m,\u001b[49m\u001b[43m \u001b[49m\u001b[32;43m1\u001b[39;49m\u001b[43m,\u001b[49m\u001b[43m \u001b[49m\u001b[43mbrute_force\u001b[49m\u001b[43m,\u001b[49m\u001b[43m \u001b[49m\u001b[43maxes\u001b[49m\u001b[43m)\u001b[49m\n",
      "\u001b[36mFile \u001b[39m\u001b[32md:\\broai-arai\\backend\\.venv\\Lib\\site-packages\\scipy\\ndimage\\_morphology.py:266\u001b[39m, in \u001b[36m_binary_erosion\u001b[39m\u001b[34m(input, structure, iterations, mask, output, border_value, origin, invert, brute_force, axes)\u001b[39m\n\u001b[32m    264\u001b[39m     output = _ni_support._get_output(output.dtype, \u001b[38;5;28minput\u001b[39m)\n\u001b[32m    265\u001b[39m \u001b[38;5;28;01mif\u001b[39;00m iterations == \u001b[32m1\u001b[39m:\n\u001b[32m--> \u001b[39m\u001b[32m266\u001b[39m     \u001b[43m_nd_image\u001b[49m\u001b[43m.\u001b[49m\u001b[43mbinary_erosion\u001b[49m\u001b[43m(\u001b[49m\u001b[38;5;28;43minput\u001b[39;49m\u001b[43m,\u001b[49m\u001b[43m \u001b[49m\u001b[43mstructure\u001b[49m\u001b[43m,\u001b[49m\u001b[43m \u001b[49m\u001b[43mmask\u001b[49m\u001b[43m,\u001b[49m\u001b[43m \u001b[49m\u001b[43moutput\u001b[49m\u001b[43m,\u001b[49m\n\u001b[32m    267\u001b[39m \u001b[43m                             \u001b[49m\u001b[43mborder_value\u001b[49m\u001b[43m,\u001b[49m\u001b[43m \u001b[49m\u001b[43morigin\u001b[49m\u001b[43m,\u001b[49m\u001b[43m \u001b[49m\u001b[43minvert\u001b[49m\u001b[43m,\u001b[49m\u001b[43m \u001b[49m\u001b[43mcit\u001b[49m\u001b[43m,\u001b[49m\u001b[43m \u001b[49m\u001b[32;43m0\u001b[39;49m\u001b[43m)\u001b[49m\n\u001b[32m    268\u001b[39m \u001b[38;5;28;01melif\u001b[39;00m cit \u001b[38;5;129;01mand\u001b[39;00m \u001b[38;5;129;01mnot\u001b[39;00m brute_force:\n\u001b[32m    269\u001b[39m     changed, coordinate_list = _nd_image.binary_erosion(\n\u001b[32m    270\u001b[39m         \u001b[38;5;28minput\u001b[39m, structure, mask, output,\n\u001b[32m    271\u001b[39m         border_value, origin, invert, cit, \u001b[32m1\u001b[39m)\n",
      "\u001b[31mKeyboardInterrupt\u001b[39m: "
     ]
    }
   ],
   "source": [
    "from pathlib import Path\n",
    "from tqdm import tqdm\n",
    "source_dir = Path(\"./sources\")\n",
    "pdf_files = source_dir.glob(\"*.pdf\")  # yields Path objects\n",
    "olf = OfflineFlow()\n",
    "errors = []\n",
    "for pdf_path in tqdm(pdf_files):\n",
    "    source = pdf_path.name\n",
    "    if source != 'Assisting in Writing Wikipedia-like Articles From Scratch with Large Language Models.pdf':\n",
    "        continue\n",
    "    source_type = pdf_path.suffix.lstrip(\".\")\n",
    "    source_ops = SourceOptions(\n",
    "        path=str(pdf_path),             # e.g., \"./sources/Filename.pdf\"\n",
    "        type=source_type  # e.g., \"pdf\"\n",
    "    )\n",
    "    try:\n",
    "        loader = PDFLoader(source=source_ops)\n",
    "        contexts = loader.run()\n",
    "        document = Document(source=source, type=source_type)\n",
    "        document = dm.create_document(document, session=Depends(get_session))     \n",
    "        longterms = olf.run(document_id=document.id, contexts=contexts)\n",
    "        ltm.create_raws(longterms, session=Depends(get_session))\n",
    "        longterms = ltm.read_longterms_by_document(document_id=document.id, session=Depends(get_session))\n",
    "        document_chunks = [{\"document_id\": document.id, \"longterm_id\": longterm.id} for longterm in longterms]\n",
    "        response = run_stepfunctions(stateMachineArn=STATE_MACHINE_ARN, document_chunks=document_chunks)\n",
    "        executionArn = response[\"executionArn\"]\n",
    "        check_stepfunctions_job(executionArn)\n",
    "        longterms = ltm.read_longterms_by_document(document_id=document.id, session=Depends(get_session))\n",
    "        embed(longterms, embedder=embedder, session=Depends(get_session))\n",
    "    except Exception as e:\n",
    "        errors.append((source, str(e)))\n",
    "\n"
   ]
  },
  {
   "cell_type": "code",
   "execution_count": 12,
   "id": "cee90623",
   "metadata": {},
   "outputs": [
    {
     "name": "stdout",
     "output_type": "stream",
     "text": [
      "Markdown headings: max(2)\n"
     ]
    },
    {
     "name": "stderr",
     "output_type": "stream",
     "text": [
      "d:\\broai-arai\\backend\\package\\utils\\data_loder.py:22: UserWarning: [EXPERIMENT] You're using an experimental module, which is subject to change in future.: split_markdown\n",
      "  chunks = split_markdown(text)\n",
      "d:\\broai-arai\\backend\\package\\utils\\data_loder.py:23: UserWarning: [EXPERIMENT] You're using an experimental module, which is subject to change in future.: consolidate_markdown\n",
      "  consolidated_chunks = consolidate_markdown(chunks)\n",
      "d:\\broai-arai\\backend\\package\\utils\\data_loder.py:24: UserWarning: [EXPERIMENT] You're using an experimental module, which is subject to change in future.: get_markdown_sections\n",
      "  sections = get_markdown_sections(consolidated_chunks)\n",
      "d:\\broai-arai\\backend\\package\\utils\\data_loder.py:30: UserWarning: [EXPERIMENT] You're using an experimental module, which is subject to change in future.: split_overlap\n",
      "  new_contexts = split_overlap(contexts, max_tokens=max_tokens, overlap=overlap)\n"
     ]
    }
   ],
   "source": [
    "source_ops = SourceOptions(path=\"./sources/storm.pdf\", type=\"pdf\")\n",
    "loader = PDFLoader(\n",
    "    source=source_ops\n",
    ")\n",
    "contexts = loader.run()"
   ]
  },
  {
   "cell_type": "code",
   "execution_count": 13,
   "id": "e8683b09",
   "metadata": {},
   "outputs": [],
   "source": [
    "olf = OfflineFlow()"
   ]
  },
  {
   "cell_type": "code",
   "execution_count": 14,
   "id": "cbeefae0",
   "metadata": {},
   "outputs": [],
   "source": [
    "longterms = olf.run(document_id=document1.id, contexts=contexts)"
   ]
  },
  {
   "cell_type": "code",
   "execution_count": 15,
   "id": "55a211ed",
   "metadata": {},
   "outputs": [],
   "source": [
    "ltm = LongTermManagement()\n",
    "ltm.create_raws(longterms, session=Depends(get_session))"
   ]
  },
  {
   "cell_type": "code",
   "execution_count": 16,
   "id": "4e44c0c5",
   "metadata": {},
   "outputs": [],
   "source": [
    "# from package.embedding.baai import BAAIEmbedding\n",
    "# embedding = BAAIEmbedding()"
   ]
  },
  {
   "cell_type": "code",
   "execution_count": 17,
   "id": "3608a159",
   "metadata": {},
   "outputs": [
    {
     "data": {
      "text/plain": [
       "'068ec5c0-f1df-4733-930a-ac8c6e0390aa'"
      ]
     },
     "execution_count": 17,
     "metadata": {},
     "output_type": "execute_result"
    }
   ],
   "source": [
    "document1.id"
   ]
  },
  {
   "cell_type": "code",
   "execution_count": 18,
   "id": "ae7e36a0",
   "metadata": {},
   "outputs": [],
   "source": [
    "longterms = ltm.read_longterms_by_document(document_id=document1.id, session=Depends(get_session))"
   ]
  },
  {
   "cell_type": "code",
   "execution_count": 19,
   "id": "c5effe23",
   "metadata": {},
   "outputs": [],
   "source": [
    "# sentences = [longterm.raw for longterm in longterms]\n",
    "# vectors = embedding.run(sentences=sentences)\n",
    "# for longterm, vector in zip(longterms, vectors):\n",
    "#     longterm.raw_embedding = vector\n",
    "# ltm.update_longterms(longterms=longterms, session=Depends(get_session))"
   ]
  },
  {
   "cell_type": "code",
   "execution_count": 20,
   "id": "57733bac",
   "metadata": {},
   "outputs": [],
   "source": [
    "# # query = \"\"\"What does ROUGE Score do?\"\"\"\n",
    "# query = \"\"\"How was FreshWiki created?\"\"\"\n",
    "# vector = embedding.run(sentences=[query])[0]\n",
    "# results = ltm.read_similar_text(vector, limit=15, embed_method=\"raw\", sources=[document1.source], session=Depends(get_session))"
   ]
  },
  {
   "cell_type": "code",
   "execution_count": 21,
   "id": "c0ddf6f4",
   "metadata": {},
   "outputs": [],
   "source": [
    "# for result in results:\n",
    "#     print(result.meta)"
   ]
  },
  {
   "cell_type": "code",
   "execution_count": 31,
   "id": "22271162",
   "metadata": {},
   "outputs": [],
   "source": [
    "document_chunks = [{\"document_id\": document1.id, \"longterm_id\": longterm.id} for longterm in longterms]"
   ]
  },
  {
   "cell_type": "code",
   "execution_count": 32,
   "id": "6d8143af",
   "metadata": {},
   "outputs": [
    {
     "data": {
      "text/plain": [
       "87"
      ]
     },
     "execution_count": 32,
     "metadata": {},
     "output_type": "execute_result"
    }
   ],
   "source": [
    "len(document_chunks)"
   ]
  },
  {
   "cell_type": "code",
   "execution_count": 33,
   "id": "15ef6fe3",
   "metadata": {},
   "outputs": [
    {
     "data": {
      "text/plain": [
       "{'document_id': '068ec5c0-f1df-4733-930a-ac8c6e0390aa',\n",
       " 'longterm_id': '8060ff6c-a4e8-4ac4-8b80-a8986bb998ea'}"
      ]
     },
     "execution_count": 33,
     "metadata": {},
     "output_type": "execute_result"
    }
   ],
   "source": [
    "document_chunks[0]"
   ]
  },
  {
   "cell_type": "code",
   "execution_count": null,
   "id": "74c198dc",
   "metadata": {},
   "outputs": [
    {
     "name": "stdout",
     "output_type": "stream",
     "text": [
      "Execution started!\n",
      "Execution ARN: arn:aws:states:ap-southeast-1:112557628841:execution:broai-arai-enrich-fleet:test-execution-bd73a5ad-1420-4b6b-84da-1cc9ef7d3791\n"
     ]
    }
   ],
   "source": [
    "import boto3\n",
    "import json\n",
    "import uuid\n",
    "import os\n",
    "from dotenv import load_dotenv\n",
    "load_dotenv()\n",
    "\n",
    "# Replace this with your actual Step Function ARN\n",
    "STATE_MACHINE_ARN = os.getenv(\"STATE_MACHINE_ARN\")\n",
    "\n",
    "# Create a unique name for this execution\n",
    "execution_name = f\"test-execution-{uuid.uuid4()}\"\n",
    "\n",
    "# Input payload\n",
    "input_payload = {\n",
    "    \"document_chunks\": document_chunks[:]\n",
    "}\n",
    "\n",
    "# Create Step Functions client\n",
    "sfn = boto3.client(\"stepfunctions\", region_name=\"ap-southeast-1\")\n",
    "\n",
    "# Start execution\n",
    "response = sfn.start_execution(\n",
    "    stateMachineArn=STATE_MACHINE_ARN,\n",
    "    name=execution_name,\n",
    "    input=json.dumps(input_payload)\n",
    ")\n",
    "\n",
    "print(\"Execution started!\")\n",
    "print(\"Execution ARN:\", response[\"executionArn\"])"
   ]
  },
  {
   "cell_type": "code",
   "execution_count": null,
   "id": "e98dfab5",
   "metadata": {},
   "outputs": [],
   "source": [
    "import boto3\n",
    "import json\n",
    "import uuid\n",
    "import os\n",
    "import time\n",
    "from dotenv import load_dotenv\n",
    "load_dotenv()\n",
    "STATE_MACHINE_ARN = os.getenv(\"STATE_MACHINE_ARN\")\n",
    "\n",
    "def run_stepfunctions(stateMachineArn, document_chunks):\n",
    "\n",
    "    # Replace this with your actual Step Function ARN\n",
    "\n",
    "    # Create a unique name for this execution\n",
    "    execution_name = f\"test-execution-{uuid.uuid4()}\"\n",
    "\n",
    "    # Input payload\n",
    "    input_payload = {\n",
    "        \"document_chunks\": document_chunks\n",
    "    }\n",
    "\n",
    "    # Create Step Functions client\n",
    "    sfn = boto3.client(\"stepfunctions\", region_name=\"ap-southeast-1\")\n",
    "\n",
    "    # Start execution\n",
    "    response = sfn.start_execution(\n",
    "        stateMachineArn=stateMachineArn,\n",
    "        name=execution_name,\n",
    "        input=json.dumps(input_payload)\n",
    "    )\n",
    "    return response[\"executionArn\"]\n",
    "\n",
    "def check_job(execution_arn):\n",
    "    sfn = boto3.client(\"stepfunctions\", region_name=\"ap-southeast-1\")\n",
    "    while True:\n",
    "        desc = sfn.describe_execution(executionArn=execution_arn)\n",
    "        status = desc[\"status\"]\n",
    "        print(f\"Execution status: {status}\")\n",
    "        if status in (\"SUCCEEDED\", \"FAILED\", \"TIMED_OUT\", \"ABORTED\"):\n",
    "            break\n",
    "        time.sleep(2)\n",
    "\n",
    "    if status == \"SUCCEEDED\":\n",
    "        output = desc.get(\"output\")\n",
    "        print(\"Execution output:\", output)\n",
    "    else:\n",
    "        print(f\"Execution ended with status: {status}\")    "
   ]
  },
  {
   "cell_type": "code",
   "execution_count": 35,
   "id": "e2b866a2",
   "metadata": {},
   "outputs": [
    {
     "name": "stdout",
     "output_type": "stream",
     "text": [
      "Execution status: RUNNING\n",
      "Execution status: RUNNING\n",
      "Execution status: RUNNING\n",
      "Execution status: RUNNING\n",
      "Execution status: RUNNING\n",
      "Execution status: RUNNING\n",
      "Execution status: RUNNING\n",
      "Execution status: SUCCEEDED\n",
      "Execution output: {\"status\":\"success\",\"results\":[{\"Payload\":{\"processed\":\"8060ff6c-a4e8-4ac4-8b80-a8986bb998ea\",\"document_id\":\"068ec5c0-f1df-4733-930a-ac8c6e0390aa\"}},{\"Payload\":{\"processed\":\"eff3ec42-9c55-43c1-8e2c-bfd264fa5e7b\",\"document_id\":\"068ec5c0-f1df-4733-930a-ac8c6e0390aa\"}},{\"Payload\":{\"processed\":\"3434c261-0fba-4a6b-a2b7-d8daa760f286\",\"document_id\":\"068ec5c0-f1df-4733-930a-ac8c6e0390aa\"}},{\"Payload\":{\"processed\":\"cbb26c05-c514-4eb0-b09d-6800b7975fff\",\"document_id\":\"068ec5c0-f1df-4733-930a-ac8c6e0390aa\"}},{\"Payload\":{\"processed\":\"28982ce4-defb-4f37-991f-a2058080ccbe\",\"document_id\":\"068ec5c0-f1df-4733-930a-ac8c6e0390aa\"}},{\"Payload\":{\"processed\":\"34fad79f-9e28-4a5e-821b-cf04b48e0091\",\"document_id\":\"068ec5c0-f1df-4733-930a-ac8c6e0390aa\"}},{\"Payload\":{\"processed\":\"1d756736-2684-4743-88e0-93b6f62e78da\",\"document_id\":\"068ec5c0-f1df-4733-930a-ac8c6e0390aa\"}},{\"Payload\":{\"processed\":\"1c55e593-bb81-4e48-8986-de08fa1a232d\",\"document_id\":\"068ec5c0-f1df-4733-930a-ac8c6e0390aa\"}},{\"Payload\":{\"processed\":\"950554a4-8ea6-4d2a-bd43-ece92348028d\",\"document_id\":\"068ec5c0-f1df-4733-930a-ac8c6e0390aa\"}},{\"Payload\":{\"processed\":\"eec93bb9-d181-4381-931f-be16aad5e7a6\",\"document_id\":\"068ec5c0-f1df-4733-930a-ac8c6e0390aa\"}},{\"Payload\":{\"processed\":\"c53dee58-37d6-4a5e-8ea1-8bb5d4bb3e2f\",\"document_id\":\"068ec5c0-f1df-4733-930a-ac8c6e0390aa\"}},{\"Payload\":{\"processed\":\"78831a85-1f64-4546-ab1c-b8ff46dd5024\",\"document_id\":\"068ec5c0-f1df-4733-930a-ac8c6e0390aa\"}},{\"Payload\":{\"processed\":\"e1562128-d431-480a-8f1a-55100e8ab2e6\",\"document_id\":\"068ec5c0-f1df-4733-930a-ac8c6e0390aa\"}},{\"Payload\":{\"processed\":\"95a465be-2fe1-46f2-8c3a-7bd1558d7726\",\"document_id\":\"068ec5c0-f1df-4733-930a-ac8c6e0390aa\"}},{\"Payload\":{\"processed\":\"5a8595c6-d339-4ed2-acfa-1a4055947879\",\"document_id\":\"068ec5c0-f1df-4733-930a-ac8c6e0390aa\"}},{\"Payload\":{\"processed\":\"c239e917-6e8c-45d4-a231-7f17dba712e8\",\"document_id\":\"068ec5c0-f1df-4733-930a-ac8c6e0390aa\"}},{\"Payload\":{\"processed\":\"2c4b45d1-acfe-4fbf-9165-7fb76e19f560\",\"document_id\":\"068ec5c0-f1df-4733-930a-ac8c6e0390aa\"}},{\"Payload\":{\"processed\":\"d515cee5-a6db-4326-b146-a08f7bd262f5\",\"document_id\":\"068ec5c0-f1df-4733-930a-ac8c6e0390aa\"}},{\"Payload\":{\"processed\":\"2c411512-e133-457e-a3bf-45f63404af9a\",\"document_id\":\"068ec5c0-f1df-4733-930a-ac8c6e0390aa\"}},{\"Payload\":{\"processed\":\"2d6a4180-2802-49d5-a257-a5ddc30dfb55\",\"document_id\":\"068ec5c0-f1df-4733-930a-ac8c6e0390aa\"}},{\"Payload\":{\"processed\":\"53fd1506-aa20-44d9-8ede-4f672deb2972\",\"document_id\":\"068ec5c0-f1df-4733-930a-ac8c6e0390aa\"}},{\"Payload\":{\"processed\":\"99086b41-8cca-4f35-aff4-3014af5029b2\",\"document_id\":\"068ec5c0-f1df-4733-930a-ac8c6e0390aa\"}},{\"Payload\":{\"processed\":\"ce187079-a6f6-4d8f-8cea-92f22e93a673\",\"document_id\":\"068ec5c0-f1df-4733-930a-ac8c6e0390aa\"}},{\"Payload\":{\"processed\":\"144a7ae3-d92c-428e-906a-24ada1162502\",\"document_id\":\"068ec5c0-f1df-4733-930a-ac8c6e0390aa\"}},{\"Payload\":{\"processed\":\"6deb8fe1-0e76-43a2-a73c-ff7c90972e48\",\"document_id\":\"068ec5c0-f1df-4733-930a-ac8c6e0390aa\"}},{\"Payload\":{\"processed\":\"3ac8ca37-8759-4859-8545-de0df1b303aa\",\"document_id\":\"068ec5c0-f1df-4733-930a-ac8c6e0390aa\"}},{\"Payload\":{\"processed\":\"5e7bc346-34a6-4021-ae7a-55e10e85e8c5\",\"document_id\":\"068ec5c0-f1df-4733-930a-ac8c6e0390aa\"}},{\"Payload\":{\"processed\":\"6d87eb7c-9f00-43c5-b94d-fd567b855d00\",\"document_id\":\"068ec5c0-f1df-4733-930a-ac8c6e0390aa\"}},{\"Payload\":{\"processed\":\"9ae3d4e0-051f-4c35-9c0c-14e3b3ea9c3e\",\"document_id\":\"068ec5c0-f1df-4733-930a-ac8c6e0390aa\"}},{\"Payload\":{\"processed\":\"e3f2cf1d-b344-4859-a9ab-fcd36fdcfe34\",\"document_id\":\"068ec5c0-f1df-4733-930a-ac8c6e0390aa\"}},{\"Payload\":{\"processed\":\"1d47005a-b75d-4f18-a6c7-8226c7bbf879\",\"document_id\":\"068ec5c0-f1df-4733-930a-ac8c6e0390aa\"}},{\"Payload\":{\"processed\":\"c097679f-15e4-41f6-a439-13feba3d6790\",\"document_id\":\"068ec5c0-f1df-4733-930a-ac8c6e0390aa\"}},{\"Payload\":{\"processed\":\"40033bf1-cd9a-4cd4-a911-a26aa88b5525\",\"document_id\":\"068ec5c0-f1df-4733-930a-ac8c6e0390aa\"}},{\"Payload\":{\"processed\":\"39f9300d-3658-48c8-8cfe-67278c597653\",\"document_id\":\"068ec5c0-f1df-4733-930a-ac8c6e0390aa\"}},{\"Payload\":{\"processed\":\"87766d50-d901-43e5-82d6-fd9b8c96443f\",\"document_id\":\"068ec5c0-f1df-4733-930a-ac8c6e0390aa\"}},{\"Payload\":{\"processed\":\"5efa7e0b-4866-4d65-a95c-6f0b48aa762d\",\"document_id\":\"068ec5c0-f1df-4733-930a-ac8c6e0390aa\"}},{\"Payload\":{\"processed\":\"ea3ab439-1efd-475c-99a5-8000bc05d101\",\"document_id\":\"068ec5c0-f1df-4733-930a-ac8c6e0390aa\"}},{\"Payload\":{\"processed\":\"b45fbc9f-37bc-4476-b024-a428e50f134a\",\"document_id\":\"068ec5c0-f1df-4733-930a-ac8c6e0390aa\"}},{\"Payload\":{\"processed\":\"1544bd54-e11f-4598-9fd3-24deac9ffc00\",\"document_id\":\"068ec5c0-f1df-4733-930a-ac8c6e0390aa\"}},{\"Payload\":{\"processed\":\"86e5be54-7acd-473b-ad19-b154b4f7fc8b\",\"document_id\":\"068ec5c0-f1df-4733-930a-ac8c6e0390aa\"}},{\"Payload\":{\"processed\":\"a09c1ed0-0271-4dd2-993c-1594760fef21\",\"document_id\":\"068ec5c0-f1df-4733-930a-ac8c6e0390aa\"}},{\"Payload\":{\"processed\":\"6ee575d5-9aad-405d-8ad5-8693aa37d27f\",\"document_id\":\"068ec5c0-f1df-4733-930a-ac8c6e0390aa\"}},{\"Payload\":{\"processed\":\"6959e982-a8c7-4c80-845d-85c5114cc74b\",\"document_id\":\"068ec5c0-f1df-4733-930a-ac8c6e0390aa\"}},{\"Payload\":{\"processed\":\"b29e7db8-86f0-4a30-98f1-abe6c34b6e0a\",\"document_id\":\"068ec5c0-f1df-4733-930a-ac8c6e0390aa\"}},{\"Payload\":{\"processed\":\"e66a9d68-2690-4553-9dc2-6c333609c2d5\",\"document_id\":\"068ec5c0-f1df-4733-930a-ac8c6e0390aa\"}},{\"Payload\":{\"processed\":\"15f5ba6b-17f6-44b2-a341-f21311aa02cc\",\"document_id\":\"068ec5c0-f1df-4733-930a-ac8c6e0390aa\"}},{\"Payload\":{\"processed\":\"1bc328c0-b863-490c-85f7-b366ed2f0c6e\",\"document_id\":\"068ec5c0-f1df-4733-930a-ac8c6e0390aa\"}},{\"Payload\":{\"processed\":\"6fd2ef93-2099-4446-bd91-a12e958f79f0\",\"document_id\":\"068ec5c0-f1df-4733-930a-ac8c6e0390aa\"}},{\"Payload\":{\"processed\":\"4e1b5fe4-08c8-44c9-9216-6f3884924f85\",\"document_id\":\"068ec5c0-f1df-4733-930a-ac8c6e0390aa\"}},{\"Payload\":{\"processed\":\"91006342-ea2f-4bae-b677-2eb00105947e\",\"document_id\":\"068ec5c0-f1df-4733-930a-ac8c6e0390aa\"}},{\"Payload\":{\"processed\":\"6f80d187-93e8-4191-99df-aeeb80acbae9\",\"document_id\":\"068ec5c0-f1df-4733-930a-ac8c6e0390aa\"}},{\"Payload\":{\"processed\":\"39046d96-e8ae-4d33-ab05-5c34086f92ad\",\"document_id\":\"068ec5c0-f1df-4733-930a-ac8c6e0390aa\"}},{\"Payload\":{\"processed\":\"30a9aa17-ca23-4a45-b397-ae9586f7ce88\",\"document_id\":\"068ec5c0-f1df-4733-930a-ac8c6e0390aa\"}},{\"Payload\":{\"processed\":\"9c044d57-6a93-4ea1-bcd2-421b83d0bb8a\",\"document_id\":\"068ec5c0-f1df-4733-930a-ac8c6e0390aa\"}},{\"Payload\":{\"processed\":\"49f9e1e4-b54b-4aa6-9db3-72480b9c49cd\",\"document_id\":\"068ec5c0-f1df-4733-930a-ac8c6e0390aa\"}},{\"Payload\":{\"processed\":\"5fefc844-6620-483f-a08f-9372cf900394\",\"document_id\":\"068ec5c0-f1df-4733-930a-ac8c6e0390aa\"}},{\"Payload\":{\"processed\":\"39de54fb-8e7e-4c04-9aad-6930c09abadd\",\"document_id\":\"068ec5c0-f1df-4733-930a-ac8c6e0390aa\"}},{\"Payload\":{\"processed\":\"3bd3d987-6171-4553-bc44-859f2f99a226\",\"document_id\":\"068ec5c0-f1df-4733-930a-ac8c6e0390aa\"}},{\"Payload\":{\"processed\":\"95a37930-06a3-4eee-a4d9-3bf8019fed02\",\"document_id\":\"068ec5c0-f1df-4733-930a-ac8c6e0390aa\"}},{\"Payload\":{\"processed\":\"2d1e0ae5-dd5b-489a-b1da-0216fe925acd\",\"document_id\":\"068ec5c0-f1df-4733-930a-ac8c6e0390aa\"}},{\"Payload\":{\"processed\":\"2147289d-5eec-4f25-8d90-2579602f646e\",\"document_id\":\"068ec5c0-f1df-4733-930a-ac8c6e0390aa\"}},{\"Payload\":{\"processed\":\"881bcfa3-240d-4c82-9ecf-b220664195af\",\"document_id\":\"068ec5c0-f1df-4733-930a-ac8c6e0390aa\"}},{\"Payload\":{\"processed\":\"f8daa601-402a-4bf7-a70e-449b51618fae\",\"document_id\":\"068ec5c0-f1df-4733-930a-ac8c6e0390aa\"}},{\"Payload\":{\"processed\":\"d57d4f99-b44c-4b62-bee5-4d2ab0a4ce87\",\"document_id\":\"068ec5c0-f1df-4733-930a-ac8c6e0390aa\"}},{\"Payload\":{\"processed\":\"d5fc17a1-2fd2-42df-abfb-7cc770d00ac7\",\"document_id\":\"068ec5c0-f1df-4733-930a-ac8c6e0390aa\"}},{\"Payload\":{\"processed\":\"0a4edb39-3c50-4a42-b48b-cf5e4da09d6b\",\"document_id\":\"068ec5c0-f1df-4733-930a-ac8c6e0390aa\"}},{\"Payload\":{\"processed\":\"681ce39a-8220-403f-978b-eb5c63f9ecf9\",\"document_id\":\"068ec5c0-f1df-4733-930a-ac8c6e0390aa\"}},{\"Payload\":{\"processed\":\"278fb3f4-419a-4223-b72d-2c358f97f1e9\",\"document_id\":\"068ec5c0-f1df-4733-930a-ac8c6e0390aa\"}},{\"Payload\":{\"processed\":\"28e6a451-42d4-4f07-9df5-40e7ebc3fe74\",\"document_id\":\"068ec5c0-f1df-4733-930a-ac8c6e0390aa\"}},{\"Payload\":{\"processed\":\"34dfc933-6c80-43dd-a66a-eeea2d431eca\",\"document_id\":\"068ec5c0-f1df-4733-930a-ac8c6e0390aa\"}},{\"Payload\":{\"processed\":\"7de678fe-c2a1-41f7-bd55-f01a1a2f8d43\",\"document_id\":\"068ec5c0-f1df-4733-930a-ac8c6e0390aa\"}},{\"Payload\":{\"processed\":\"b12f3020-7a01-41e5-b546-7de40a368db4\",\"document_id\":\"068ec5c0-f1df-4733-930a-ac8c6e0390aa\"}},{\"Payload\":{\"processed\":\"51d5b5ad-4f72-49f4-892e-d11a2a19273c\",\"document_id\":\"068ec5c0-f1df-4733-930a-ac8c6e0390aa\"}},{\"Payload\":{\"processed\":\"03b45ab1-4e06-4d70-b5dc-5bcb647d9f90\",\"document_id\":\"068ec5c0-f1df-4733-930a-ac8c6e0390aa\"}},{\"Payload\":{\"processed\":\"f0fbea92-97ae-4080-9489-dbc05a92e435\",\"document_id\":\"068ec5c0-f1df-4733-930a-ac8c6e0390aa\"}},{\"Payload\":{\"processed\":\"42b220d3-db47-4c35-b9ce-b3844c60c31f\",\"document_id\":\"068ec5c0-f1df-4733-930a-ac8c6e0390aa\"}},{\"Payload\":{\"processed\":\"e29cb484-b68f-41d5-a5de-5a6f367592d4\",\"document_id\":\"068ec5c0-f1df-4733-930a-ac8c6e0390aa\"}},{\"Payload\":{\"processed\":\"c4fd5b10-d231-45f7-93db-1575ebe35256\",\"document_id\":\"068ec5c0-f1df-4733-930a-ac8c6e0390aa\"}},{\"Payload\":{\"processed\":\"e9e1b435-4bf3-4a61-a07f-49bb0b09c63c\",\"document_id\":\"068ec5c0-f1df-4733-930a-ac8c6e0390aa\"}},{\"Payload\":{\"processed\":\"7353ca46-a283-4c28-9926-68a20f8912ce\",\"document_id\":\"068ec5c0-f1df-4733-930a-ac8c6e0390aa\"}},{\"Payload\":{\"processed\":\"9d004a67-95ae-4577-9dbf-c141253a926e\",\"document_id\":\"068ec5c0-f1df-4733-930a-ac8c6e0390aa\"}},{\"Payload\":{\"processed\":\"ad2b36d1-ea27-4bd5-aff4-374c0b3dff7b\",\"document_id\":\"068ec5c0-f1df-4733-930a-ac8c6e0390aa\"}},{\"Payload\":{\"processed\":\"fa0f299e-461c-4018-bac6-ecc931925df1\",\"document_id\":\"068ec5c0-f1df-4733-930a-ac8c6e0390aa\"}},{\"Payload\":{\"processed\":\"f844ebed-ae07-4afb-a31a-1583eb6eda93\",\"document_id\":\"068ec5c0-f1df-4733-930a-ac8c6e0390aa\"}},{\"Payload\":{\"processed\":\"d5934820-04f7-4165-9e47-9782037f6b0f\",\"document_id\":\"068ec5c0-f1df-4733-930a-ac8c6e0390aa\"}},{\"Payload\":{\"processed\":\"681bc56a-0a74-4131-a4ad-33d68e976405\",\"document_id\":\"068ec5c0-f1df-4733-930a-ac8c6e0390aa\"}},{\"Payload\":{\"processed\":\"95f1528f-7678-4a29-b45b-286f00501a3d\",\"document_id\":\"068ec5c0-f1df-4733-930a-ac8c6e0390aa\"}}]}\n"
     ]
    }
   ],
   "source": [
    "import time\n",
    "\n",
    "execution_arn = response[\"executionArn\"]\n",
    "\n",
    "while True:\n",
    "    desc = sfn.describe_execution(executionArn=execution_arn)\n",
    "    status = desc[\"status\"]\n",
    "    print(f\"Execution status: {status}\")\n",
    "    if status in (\"SUCCEEDED\", \"FAILED\", \"TIMED_OUT\", \"ABORTED\"):\n",
    "        break\n",
    "    time.sleep(2)\n",
    "\n",
    "if status == \"SUCCEEDED\":\n",
    "    output = desc.get(\"output\")\n",
    "    print(\"Execution output:\", output)\n",
    "else:\n",
    "    print(f\"Execution ended with status: {status}\")"
   ]
  },
  {
   "cell_type": "code",
   "execution_count": 5,
   "id": "7036bd83",
   "metadata": {},
   "outputs": [],
   "source": [
    "jm = JargonManagement()\n",
    "dm = DocumentManagement()"
   ]
  },
  {
   "cell_type": "code",
   "execution_count": 6,
   "id": "1008f618",
   "metadata": {},
   "outputs": [],
   "source": [
    "jargons = jm.read_jargons(session=Depends(get_session))"
   ]
  },
  {
   "cell_type": "code",
   "execution_count": 13,
   "id": "a1d2cb54",
   "metadata": {},
   "outputs": [
    {
     "name": "stdout",
     "output_type": "stream",
     "text": [
      "Based on the provided EVIDENCE, I can update the QUERY as follows:\n",
      "\n",
      "What is the FreshWiki dataset?\n"
     ]
    }
   ],
   "source": [
    "from package.llm.ollama import BedrockOllamaChat\n",
    "keyword = \"FreshWiki\"\n",
    "evidences = [jargon.evidence for jargon in jargons if keyword.lower() in jargon.jargon.lower()]\n",
    "jargon_evidence = \"\\n\".join(evidences)\n",
    "# query = f\"What does {keyword} stand for?\"\n",
    "query = f\"What is {keyword}?\"\n",
    "system_prompt = \"Only edit QUERY based on a provided EVIDENCE.\"\n",
    "model = BedrockOllamaChat()\n",
    "\n",
    "messages = [model.UserMessage(text=f\"EVIDENCE:\\n\\n{jargon_evidence}\\n\\nQUERY:\\n\\n{query}\\n\\n\")]\n",
    "\n",
    "with_jargon = model.run(\n",
    "    system_prompt=system_prompt,\n",
    "    messages=messages\n",
    ")\n",
    "print(with_jargon)"
   ]
  },
  {
   "cell_type": "code",
   "execution_count": 15,
   "id": "73a31005",
   "metadata": {},
   "outputs": [
    {
     "data": {
      "text/plain": [
       "['we randomly select 100 samples from the FreshWiki dataset',\n",
       " 'We curate the FreshWiki dataset']"
      ]
     },
     "execution_count": 15,
     "metadata": {},
     "output_type": "execute_result"
    }
   ],
   "source": [
    "evidences"
   ]
  },
  {
   "cell_type": "code",
   "execution_count": 14,
   "id": "1e8df1c1",
   "metadata": {},
   "outputs": [
    {
     "name": "stdout",
     "output_type": "stream",
     "text": [
      "FreshWiki is a dataset created by selecting recent Wikipedia articles (from February 2022 to September 2023) with high edit counts, B-class quality or above, and excluding list articles and those without subsections. It is used as a reference for research in generating Wikipedia-like articles from scratch, focusing on the pre-writing stage.\n"
     ]
    }
   ],
   "source": [
    "vector = embedder.run(sentences=[query])[0]\n",
    "longterms = ltm.read_similar_text(vector, embed_method=\"raw\", session=Depends(get_session))\n",
    "_contexts = \"\\n\".join([longterm.combo for longterm in longterms])\n",
    "context_query = f\"CONTEXT:\\n\\n{_contexts}\\n\\nQUERY:\\n\\n{query}\\n\\n\"\n",
    "rag_model = model.run(\n",
    "    system_prompt=\"You are a helpful assistant.\",\n",
    "    messages=[model.UserMessage(text=context_query)]\n",
    ")\n",
    "print(rag_model)"
   ]
  },
  {
   "cell_type": "code",
   "execution_count": 9,
   "id": "ef9a34cb",
   "metadata": {},
   "outputs": [
    {
     "name": "stdout",
     "output_type": "stream",
     "text": [
      "I couldn't find any information on \"FreshWiki.\" It's possible that it's a lesser-known or outdated platform, or it could be a misspelling or variation of a different term.\n",
      "\n",
      "However, I can suggest some alternatives that might be related:\n",
      "\n",
      "1. Freshdesk: Freshdesk is a cloud-based customer support software that provides a range of features for managing customer interactions, including ticketing, chat, and knowledge base management.\n",
      "2. FreshBooks: FreshBooks is an accounting and invoicing software designed for small businesses and freelancers. It provides features for tracking time, creating invoices, and managing expenses.\n",
      "3. Wiki: A wiki is a type of collaborative online platform that allows users to create, edit, and share content. The most well-known example is Wikipedia, a free online encyclopedia.\n",
      "\n",
      "If you have any more information or context about FreshWiki, I may be able to help you better.\n"
     ]
    }
   ],
   "source": [
    "bare_model = model.run(\n",
    "    system_prompt=\"You are a helpful assistant.\",\n",
    "    messages=[model.UserMessage(text=query)]\n",
    ")\n",
    "print(bare_model)"
   ]
  },
  {
   "cell_type": "code",
   "execution_count": 38,
   "id": "a5962258",
   "metadata": {},
   "outputs": [
    {
     "data": {
      "text/plain": [
       "218"
      ]
     },
     "execution_count": 38,
     "metadata": {},
     "output_type": "execute_result"
    }
   ],
   "source": [
    "len(jm.read_jargons(session=Depends(get_session)))"
   ]
  },
  {
   "cell_type": "code",
   "execution_count": 5,
   "id": "56740310",
   "metadata": {},
   "outputs": [],
   "source": [
    "dm = DocumentManagement()\n",
    "documents = dm.read_documents(session=Depends(get_session))\n",
    "document1 = documents[0]"
   ]
  },
  {
   "cell_type": "code",
   "execution_count": 7,
   "id": "edf53547",
   "metadata": {},
   "outputs": [
    {
     "data": {
      "text/plain": [
       "87"
      ]
     },
     "execution_count": 7,
     "metadata": {},
     "output_type": "execute_result"
    }
   ],
   "source": [
    "ltm = LongTermManagement()\n",
    "_longterms = ltm.read_longterms_by_document(document_id=document1.id, session=Depends(get_session))\n",
    "len(_longterms)"
   ]
  },
  {
   "cell_type": "code",
   "execution_count": 8,
   "id": "461a6dfe",
   "metadata": {},
   "outputs": [],
   "source": [
    "from package.databases.utils import now_utc\n",
    "def embed(longterms, embedder, session: Session = Depends(get_session)):\n",
    "    updated_at = now_utc()\n",
    "    raws = [longterm.raw for longterm in longterms]\n",
    "    raw_vectors = embedder.run(sentences=raws)\n",
    "    enrichs = [longterm.enrich for longterm in longterms]\n",
    "    enrich_vectors = embedder.run(sentences=enrichs)\n",
    "    combos = [longterm.combo for longterm in longterms]\n",
    "    combo_vectors = embedder.run(sentences=combos)\n",
    "    for longterm, vector in zip(longterms, raw_vectors):\n",
    "        longterm.raw_embedding = vector\n",
    "    for longterm, vector in zip(longterms, enrich_vectors):\n",
    "        longterm.enrich_embedding = vector\n",
    "    for longterm, vector in zip(longterms, combo_vectors):\n",
    "        longterm.combo_embedding = vector\n",
    "        longterm.updated_at = updated_at\n",
    "    ltm.update_longterms(longterms=longterms, session=session)"
   ]
  },
  {
   "cell_type": "code",
   "execution_count": 9,
   "id": "178eadf4",
   "metadata": {},
   "outputs": [
    {
     "name": "stdout",
     "output_type": "stream",
     "text": [
      "🔍 Loading model from: BAAI/bge-m3\n"
     ]
    },
    {
     "name": "stderr",
     "output_type": "stream",
     "text": [
      "Fetching 30 files: 100%|██████████| 30/30 [00:00<?, ?it/s]\n",
      "You're using a XLMRobertaTokenizerFast tokenizer. Please note that with a fast tokenizer, using the `__call__` method is faster than using a method to encode the text followed by a call to the `pad` method to get a padded encoding.\n"
     ]
    }
   ],
   "source": [
    "from package.embedding.baai import BAAIEmbedding\n",
    "embedder = BAAIEmbedding()\n",
    "embed(_longterms, embedder=embedder, session=Depends(get_session))"
   ]
  },
  {
   "cell_type": "code",
   "execution_count": 10,
   "id": "020dc9db",
   "metadata": {},
   "outputs": [
    {
     "data": {
      "text/plain": [
       "LongTerm(id='28982ce4-defb-4f37-991f-a2058080ccbe', enrich='The STORM paradigm is proposed to improve the pre-writing stage of long-form article generation by leveraging external sources, multi-perspective question asking, and iterative research to create a high-quality outline that can be expanded into a full-length article.', combo=\"The STORM paradigm is proposed to improve the pre-writing stage of long-form article generation by leveraging external sources, multi-perspective question asking, and iterative research to create a high-quality outline that can be expanded into a full-length article.\\n\\noutlines or even entire articles ( Direct Gen ). However, this approach is limited by a lack of details and hallucinations (Xu et al., 2023), particularly in addressing long-tail topics (Kandpal et al., 2023). This underscores the importance of leveraging external sources, and current strategies often involve retrieval-augmented generation ( RAG ), which circles back to the problem of researching the topic in the pre-writing stage, as much information cannot be surfaced through simple topic searches.\\n\\nHuman learning theories (Tawfik et al., 2020; Booth et al., 2003) highlight asking effective questions in information acquisition. Although instruction-tuned models (Ouyang et al., 2022) can be prompted directly to generate questions, we find that they typically produce basic 'What', 'When', and 'Where' questions (Figure 1 (A)) which often only address surface-level facts about the topic. To endow LLMs with the capacity to conduct better research, we propose the STORM paradigm for the S ynthesis of T opic O utlines through R etrieval and M ulti-perspective Question Asking.\\n\\nThe design of STORM is based on two hypotheses: (1) diverse perspectives lead to varied questions; (2) formulating in-depth questions requires iterative research. Building upon these hypotheses, STORM employs a novel multi-stage approach. It first discovers diverse perspectives by retrieving and analyzing Wikipedia articles from similar topics and then personifies the LLM with specific perspectives for question asking (Figure 1 (B)). Next, to elicit follow-up questions for iterative research\\n\\n(Figure 1 (C)), STORM simulates multi-turn conversations where the answers to the generated questions are grounded on the Internet. Finally, based on the LLM's internal knowledge and the collected information, STORM creates an outline that can be expanded section by section to develop a fulllength Wikipedia-like article.\\n\\nWe evaluate STORM using our FreshWiki dataset (§2.1) which curates recent, high-quality Wikipedia articles to avoid data leakage during pretraining. 1 To facilitate the study of the pre-writing stage, we define metrics for evaluating the outline quality against human-written articles.\\n\\nWe further invited a group of experienced Wikipedia editors for expert evaluation. The editors found STORM outperforms an outline-driven RAGbaseline, especially regarding the breadth and organization of the articles. They also identified challenges for future research, including addressing cases where: (1) the bias on the Internet affects the generated articles; (2) LLMs fabricate connections between unrelated facts. These challenges present new frontiers to grounded writing systems.\\n\\nOur main contributions include:\\n\\n- · To evaluate the capacity of LLM systems at generating long-form grounded articles from scratch, and the pre-writing challenge in particular, we curate the FreshWiki dataset and establish evaluation criteria for both outline and final article quality.\\n- · We propose STORM, a novel system that automates the pre-writing stage. STORM researches the topic and creates an outline by using LLMs to ask incisive questions and retrieving trusted information from the Internet.\\n- · Both automatic and human evaluation demonstrate the effectiveness of our approach. Expert feedback further reveals new challenges in generating grounded long-form articles.\\n\", meta={'type': 'pdf', 'source': './sources/storm.pdf', 'section': '1 Introduction', 'sequence': 4}, created_at=datetime.datetime(2025, 7, 2, 13, 4, 42, 107382), raw=\"outlines or even entire articles ( Direct Gen ). However, this approach is limited by a lack of details and hallucinations (Xu et al., 2023), particularly in addressing long-tail topics (Kandpal et al., 2023). This underscores the importance of leveraging external sources, and current strategies often involve retrieval-augmented generation ( RAG ), which circles back to the problem of researching the topic in the pre-writing stage, as much information cannot be surfaced through simple topic searches.\\n\\nHuman learning theories (Tawfik et al., 2020; Booth et al., 2003) highlight asking effective questions in information acquisition. Although instruction-tuned models (Ouyang et al., 2022) can be prompted directly to generate questions, we find that they typically produce basic 'What', 'When', and 'Where' questions (Figure 1 (A)) which often only address surface-level facts about the topic. To endow LLMs with the capacity to conduct better research, we propose the STORM paradigm for the S ynthesis of T opic O utlines through R etrieval and M ulti-perspective Question Asking.\\n\\nThe design of STORM is based on two hypotheses: (1) diverse perspectives lead to varied questions; (2) formulating in-depth questions requires iterative research. Building upon these hypotheses, STORM employs a novel multi-stage approach. It first discovers diverse perspectives by retrieving and analyzing Wikipedia articles from similar topics and then personifies the LLM with specific perspectives for question asking (Figure 1 (B)). Next, to elicit follow-up questions for iterative research\\n\\n(Figure 1 (C)), STORM simulates multi-turn conversations where the answers to the generated questions are grounded on the Internet. Finally, based on the LLM's internal knowledge and the collected information, STORM creates an outline that can be expanded section by section to develop a fulllength Wikipedia-like article.\\n\\nWe evaluate STORM using our FreshWiki dataset (§2.1) which curates recent, high-quality Wikipedia articles to avoid data leakage during pretraining. 1 To facilitate the study of the pre-writing stage, we define metrics for evaluating the outline quality against human-written articles.\\n\\nWe further invited a group of experienced Wikipedia editors for expert evaluation. The editors found STORM outperforms an outline-driven RAGbaseline, especially regarding the breadth and organization of the articles. They also identified challenges for future research, including addressing cases where: (1) the bias on the Internet affects the generated articles; (2) LLMs fabricate connections between unrelated facts. These challenges present new frontiers to grounded writing systems.\\n\\nOur main contributions include:\\n\\n- · To evaluate the capacity of LLM systems at generating long-form grounded articles from scratch, and the pre-writing challenge in particular, we curate the FreshWiki dataset and establish evaluation criteria for both outline and final article quality.\\n- · We propose STORM, a novel system that automates the pre-writing stage. STORM researches the topic and creates an outline by using LLMs to ask incisive questions and retrieving trusted information from the Internet.\\n- · Both automatic and human evaluation demonstrate the effectiveness of our approach. Expert feedback further reveals new challenges in generating grounded long-form articles.\\n\", raw_embedding=array([-0.00073814,  0.01217651, -0.02708435, ..., -0.01152802,\n",
       "        0.04190063, -0.04598999], shape=(1024,), dtype=float32), enrich_embedding=array([-0.00650787,  0.00372314, -0.01154327, ..., -0.0193634 ,\n",
       "        0.00630188, -0.02124023], shape=(1024,), dtype=float32), combo_embedding=array([-0.0166626 ,  0.01725769, -0.0140152 , ..., -0.02128601,\n",
       "        0.03540039, -0.04370117], shape=(1024,), dtype=float32), document_id='068ec5c0-f1df-4733-930a-ac8c6e0390aa', updated_at=datetime.datetime(2025, 7, 2, 13, 47, 28, 734368))"
      ]
     },
     "execution_count": 10,
     "metadata": {},
     "output_type": "execute_result"
    }
   ],
   "source": [
    "ltm.read_longterms_by_document(document_id=document1.id, session=Depends(get_session))[0]"
   ]
  },
  {
   "cell_type": "code",
   "execution_count": 33,
   "id": "fda3bcb5",
   "metadata": {},
   "outputs": [
    {
     "name": "stdout",
     "output_type": "stream",
     "text": [
      "{'type': 'pdf', 'source': './sources/storm.pdf', 'section': '2 FreshWiki', 'sequence': 5}\n",
      "{'type': 'pdf', 'source': './sources/storm.pdf', 'section': '2.1 The FreshWiki Dataset', 'sequence': 7}\n",
      "{'type': 'pdf', 'source': './sources/storm.pdf', 'section': 'A Dataset Details', 'sequence': 40}\n",
      "{'type': 'pdf', 'source': './sources/storm.pdf', 'section': '8 Conclusion', 'sequence': 29}\n",
      "{'type': 'pdf', 'source': './sources/storm.pdf', 'section': 'Abstract', 'sequence': 2}\n"
     ]
    }
   ],
   "source": [
    "vector = embedder.run(sentences=[\"How was FreshWiki created?\"])[0]\n",
    "response = ltm.read_similar_text(vector=vector, embed_method=\"raw\", session=Depends(get_session))\n",
    "for r in response:\n",
    "    print(r.meta)"
   ]
  },
  {
   "cell_type": "code",
   "execution_count": 34,
   "id": "427ea7d0",
   "metadata": {},
   "outputs": [
    {
     "name": "stdout",
     "output_type": "stream",
     "text": [
      "{'type': 'pdf', 'source': './sources/storm.pdf', 'section': '2.1 The FreshWiki Dataset', 'sequence': 7}\n",
      "{'type': 'pdf', 'source': './sources/storm.pdf', 'section': 'A Dataset Details', 'sequence': 40}\n",
      "{'type': 'pdf', 'source': './sources/storm.pdf', 'section': '4 Experiments', 'sequence': 14}\n",
      "{'type': 'pdf', 'source': './sources/storm.pdf', 'section': '## Assisting in Writing Wikipedia-like Articles From Scratch with Large Language Models', 'sequence': 0}\n",
      "{'type': 'pdf', 'source': './sources/storm.pdf', 'section': '2 FreshWiki', 'sequence': 5}\n"
     ]
    }
   ],
   "source": [
    "# vector = embedder.run(sentences=[\"How was FreshWiki created?\"])[0]\n",
    "response = ltm.read_similar_text(vector=vector, embed_method=\"enrich\", session=Depends(get_session))\n",
    "for r in response:\n",
    "    print(r.meta)"
   ]
  },
  {
   "cell_type": "code",
   "execution_count": 35,
   "id": "ea85c8ad",
   "metadata": {},
   "outputs": [
    {
     "name": "stdout",
     "output_type": "stream",
     "text": [
      "{'type': 'pdf', 'source': './sources/storm.pdf', 'section': '2.1 The FreshWiki Dataset', 'sequence': 7}\n",
      "{'type': 'pdf', 'source': './sources/storm.pdf', 'section': 'A Dataset Details', 'sequence': 40}\n",
      "{'type': 'pdf', 'source': './sources/storm.pdf', 'section': '2 FreshWiki', 'sequence': 5}\n",
      "{'type': 'pdf', 'source': './sources/storm.pdf', 'section': '8 Conclusion', 'sequence': 29}\n",
      "{'type': 'pdf', 'source': './sources/storm.pdf', 'section': '4 Experiments', 'sequence': 14}\n"
     ]
    }
   ],
   "source": [
    "# vector = embedder.run(sentences=[\"How was FreshWiki created?\"])[0]\n",
    "response = ltm.read_similar_text(vector=vector, embed_method=\"combo\", session=Depends(get_session))\n",
    "for r in response:\n",
    "    print(r.meta)"
   ]
  },
  {
   "cell_type": "code",
   "execution_count": 7,
   "id": "e4015898",
   "metadata": {},
   "outputs": [
    {
     "data": {
      "text/plain": [
       "2"
      ]
     },
     "execution_count": 7,
     "metadata": {},
     "output_type": "execute_result"
    }
   ],
   "source": [
    "from package.databases.engine import engine\n",
    "from sqlalchemy import select, func, or_\n",
    "from sqlmodel import Session\n",
    "\n",
    "def search_jargon(term: str):\n",
    "    ts_query = func.to_tsquery(\"english\", term)\n",
    "    with Session(engine) as session:\n",
    "        stmt = select(Jargon).where(\n",
    "            or_(\n",
    "                Jargon.search_vector.op('@@')(ts_query),\n",
    "                func.similarity(Jargon.jargon, term) > 0.3\n",
    "                \n",
    "            )\n",
    "            )\n",
    "        results = session.exec(stmt).all()\n",
    "        return results\n",
    "\n",
    "\n",
    "results = search_jargon(\"freshwiki\")\n",
    "len(results)"
   ]
  },
  {
   "cell_type": "code",
   "execution_count": 8,
   "id": "7c59d428",
   "metadata": {},
   "outputs": [
    {
     "data": {
      "text/plain": [
       "[(Jargon(explanation='FreshWiki is a dataset used for the experiment', id='bbf62a78-22cc-4c9b-9e59-25396c54edfe', meta={'type': 'pdf', 'source': './sour ... (205 characters truncated) ... Wiki', document_id='068ec5c0-f1df-4733-930a-ac8c6e0390aa', created_at=datetime.datetime(2025, 7, 2, 13, 27, 3, 148137), search_vector=\"'freshwiki':1\"),),\n",
       " (Jargon(explanation='FreshWiki is a dataset for studying the generation of grounded longform articles', id='7817c938-ba70-449b-8517-d2c45e146d42', meta ... (212 characters truncated) ... Wiki', document_id='068ec5c0-f1df-4733-930a-ac8c6e0390aa', created_at=datetime.datetime(2025, 7, 2, 13, 27, 4, 141963), search_vector=\"'freshwiki':1\"),)]"
      ]
     },
     "execution_count": 8,
     "metadata": {},
     "output_type": "execute_result"
    }
   ],
   "source": [
    "results"
   ]
  },
  {
   "cell_type": "code",
   "execution_count": 71,
   "id": "e1ac52e7",
   "metadata": {},
   "outputs": [
    {
     "data": {
      "text/plain": [
       "'We propose STORM , a writing system for the S ynthesis of T opic O utlines through R etrieval and M ulti-perspective Question Asking'"
      ]
     },
     "execution_count": 71,
     "metadata": {},
     "output_type": "execute_result"
    }
   ],
   "source": [
    "results[5][0].evidence"
   ]
  },
  {
   "cell_type": "code",
   "execution_count": 72,
   "id": "6500ed80",
   "metadata": {},
   "outputs": [],
   "source": [
    "texts = [result[0].evidence for result in results]"
   ]
  },
  {
   "cell_type": "code",
   "execution_count": 75,
   "id": "2bc8caae",
   "metadata": {},
   "outputs": [
    {
     "name": "stdout",
     "output_type": "stream",
     "text": [
      "STORM simulates a conversation between a Wikipedia writer and a topic expert\n",
      "STORM is capable of researching complicated topics and writing long articles from detailed outlines\n",
      "STORM creates an outline before the actual writing starts\n",
      "Given the input topic t , STORM discovers different perspectives by surveying existing articles from similar topics\n",
      "We present STORM to automate the pre-writing stage\n",
      "We propose STORM , a writing system for the S ynthesis of T opic O utlines through R etrieval and M ulti-perspective Question Asking\n",
      "Algorithm 1: STORM\n",
      "we introduce STORM, a framework that automates the pre-writing stage\n",
      "articles produced by STORM\n",
      "STORM prompts LLMs to ask effective questions by discovering specific perspectives and simulating multi-turn conversations\n",
      "we propose the STORM paradigm for the S ynthesis of T opic O utlines through R etrieval and M ulti-perspective Question Asking\n",
      "STORM             | 45.82\n",
      "4.4 STORM Implementation\n",
      "STORM\n",
      "articles produced by STORM\n",
      "We propose STORM, an LLM-based writing system\n",
      "Although STORM discovers different perspectives in researching the given topic\n",
      "|         | STORM            | 92.73 †               | 45.91                   |\n",
      "Our approach still outperforms it, STORM still has much room for improvement\n",
      "To better understand the strengths and weaknesses of STORM, we conduct human evaluation\n",
      "STORM also outperforms the best baseline in pairwise comparison\n",
      "STORM's generated article for 'Taylor Hawkins'\n",
      "We use the chat model gpt-3.5-turbo for question asking and use gpt-3.5-turbo-instruct for other parts of STORM\n",
      "we propose the STORM paradigm for the S ynthesis\n",
      "After the evaluation finishes, they are further requested to compare an article produced by our method, which they have just reviewed, with its human-written counterpart, and report their perceived usefulness of STORM using a 1-5 Likert scale\n",
      "STORM and the best baseline, i.e., oRAG\n"
     ]
    }
   ],
   "source": [
    "print(\"\\n\".join(texts))"
   ]
  },
  {
   "cell_type": "code",
   "execution_count": 19,
   "id": "a8555fd2",
   "metadata": {},
   "outputs": [],
   "source": [
    "from package.agents.jargon_extractor import JargonExtractor\n",
    "\n",
    "je = JargonExtractor()"
   ]
  },
  {
   "cell_type": "code",
   "execution_count": 25,
   "id": "90646286",
   "metadata": {},
   "outputs": [
    {
     "name": "stderr",
     "output_type": "stream",
     "text": [
      "d:\\broai-arai\\backend\\.venv\\Lib\\site-packages\\pydantic\\json_schema.py:2324: PydanticJsonSchemaWarning: Default value (FieldInfo(annotation=NoneType, required=True, description='the extracted jargon, acronym, abbreviation, proper name from the context'),) is not JSON serializable; excluding default from JSON schema [non-serializable-default]\n",
      "  warnings.warn(message, PydanticJsonSchemaWarning)\n",
      "d:\\broai-arai\\backend\\.venv\\Lib\\site-packages\\pydantic\\json_schema.py:2324: PydanticJsonSchemaWarning: Default value (FieldInfo(annotation=NoneType, required=True, description='the evidence of the extracted jargon, acronym, abbreviation, proper name from the context'),) is not JSON serializable; excluding default from JSON schema [non-serializable-default]\n",
      "  warnings.warn(message, PydanticJsonSchemaWarning)\n"
     ]
    }
   ],
   "source": [
    "batch = 10\n",
    "\n",
    "jargons = []\n",
    "\n",
    "for b in range(batch):\n",
    "    context = longterms[b].raw\n",
    "    j = je.run(context=context)\n",
    "    jargons.extend(j)"
   ]
  },
  {
   "cell_type": "code",
   "execution_count": 29,
   "id": "d85d74e9",
   "metadata": {},
   "outputs": [
    {
     "data": {
      "text/plain": [
       "[Jargon(jargon='RAG', evidence='current strategies often involve retrieval-augmented generation (RAG)', explanation='RAG is short for retrieval-augmented generation'),\n",
       " Jargon(jargon='RAG', evidence='retrieval-augmented generation ( RAG )', explanation='RAG is short for retrieval-augmented generation')]"
      ]
     },
     "execution_count": 29,
     "metadata": {},
     "output_type": "execute_result"
    }
   ],
   "source": [
    "keyword = \"rag\"\n",
    "\n",
    "[jargon for jargon in jargons if keyword in jargon.jargon.lower()]"
   ]
  },
  {
   "cell_type": "code",
   "execution_count": 26,
   "id": "8f1c35ac",
   "metadata": {},
   "outputs": [
    {
     "name": "stdout",
     "output_type": "stream",
     "text": [
      "✅ All tables dropped.\n"
     ]
    }
   ],
   "source": [
    "from package.databases.destroy import drop_all_tables\n",
    "\n",
    "drop_all_tables()"
   ]
  },
  {
   "cell_type": "code",
   "execution_count": null,
   "id": "3d1f5651",
   "metadata": {},
   "outputs": [],
   "source": []
  }
 ],
 "metadata": {
  "kernelspec": {
   "display_name": "backend",
   "language": "python",
   "name": "python3"
  },
  "language_info": {
   "codemirror_mode": {
    "name": "ipython",
    "version": 3
   },
   "file_extension": ".py",
   "mimetype": "text/x-python",
   "name": "python",
   "nbconvert_exporter": "python",
   "pygments_lexer": "ipython3",
   "version": "3.11.11"
  }
 },
 "nbformat": 4,
 "nbformat_minor": 5
}
