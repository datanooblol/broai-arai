{
 "cells": [
  {
   "cell_type": "code",
   "execution_count": 1,
   "id": "48c951f1",
   "metadata": {},
   "outputs": [],
   "source": [
    "%load_ext autoreload\n",
    "%autoreload 2"
   ]
  },
  {
   "cell_type": "code",
   "execution_count": 2,
   "id": "d7f93dd5",
   "metadata": {},
   "outputs": [],
   "source": [
    "from package.databases.initialize import initialize_memories\n",
    "initialize_memories()"
   ]
  },
  {
   "cell_type": "code",
   "execution_count": 3,
   "id": "0f608768",
   "metadata": {},
   "outputs": [
    {
     "name": "stderr",
     "output_type": "stream",
     "text": [
      "d:\\broai-arai\\backend\\.venv\\Lib\\site-packages\\tqdm\\auto.py:21: TqdmWarning: IProgress not found. Please update jupyter and ipywidgets. See https://ipywidgets.readthedocs.io/en/stable/user_install.html\n",
      "  from .autonotebook import tqdm as notebook_tqdm\n",
      "d:\\broai-arai\\backend\\package\\databases\\management\\longterm.py:9: UserWarning: [EXPERIMENT] You're using an experimental module, which is subject to change in future.: BAAIEmbedding\n",
      "  em = BAAIEmbedding()\n",
      "Fetching 30 files: 100%|██████████| 30/30 [00:00<?, ?it/s]\n"
     ]
    }
   ],
   "source": [
    "from package.databases.models import User, Project, ProjectDocumentLink, Document, LongTerm, Jargon\n",
    "from package.databases.session import get_session, Depends\n",
    "from sqlmodel import Session, select, text\n",
    "from package.databases.management.user import UserManagement\n",
    "from package.databases.management.project import ProjectManagement\n",
    "from package.databases.management.document import DocumentManagement\n",
    "from package.databases.management.longterm import LongTermManagement\n",
    "from package.databases.management.jargon import JargonManagement"
   ]
  },
  {
   "cell_type": "markdown",
   "id": "c0fc94c4",
   "metadata": {},
   "source": [
    "# CRUD User"
   ]
  },
  {
   "cell_type": "code",
   "execution_count": 4,
   "id": "c0d2b993",
   "metadata": {},
   "outputs": [],
   "source": [
    "user = User(\n",
    "    username=\"bank\",\n",
    "    password=\"555\",\n",
    "    email=\"bank@bank.com\"\n",
    ")\n",
    "\n",
    "um = UserManagement()\n",
    "user = um.create_user(user, session=Depends(get_session))"
   ]
  },
  {
   "cell_type": "code",
   "execution_count": 5,
   "id": "3b07f95f",
   "metadata": {},
   "outputs": [
    {
     "data": {
      "text/plain": [
       "User(role=<UserRole.USER: 'user'>, updated_at=datetime.datetime(2025, 6, 25, 1, 0, 3, 819252), email='bank@bank.com', username='bank', password='555', id='57690a0b-d80d-4d02-9d68-4de662d8cf26', created_at=datetime.datetime(2025, 6, 25, 1, 0, 3, 819252))"
      ]
     },
     "execution_count": 5,
     "metadata": {},
     "output_type": "execute_result"
    }
   ],
   "source": [
    "um.read_user(user.id, session=Depends(get_session))"
   ]
  },
  {
   "cell_type": "code",
   "execution_count": 6,
   "id": "d1cf13eb",
   "metadata": {},
   "outputs": [
    {
     "data": {
      "text/plain": [
       "'57690a0b-d80d-4d02-9d68-4de662d8cf26'"
      ]
     },
     "execution_count": 6,
     "metadata": {},
     "output_type": "execute_result"
    }
   ],
   "source": [
    "user.id"
   ]
  },
  {
   "cell_type": "markdown",
   "id": "1e98f923",
   "metadata": {},
   "source": [
    "# CRUD Project"
   ]
  },
  {
   "cell_type": "code",
   "execution_count": 7,
   "id": "f5c687ef",
   "metadata": {},
   "outputs": [],
   "source": [
    "project1 = Project(\n",
    "    name=\"Bank Project 1\",\n",
    "    description=\"A project for banking operations\",\n",
    "    user_id=user.id\n",
    ")\n",
    "\n",
    "project2 = Project(\n",
    "    name=\"Bank Project 2\",\n",
    "    description=\"A project for banking operations\",\n",
    "    user_id=user.id\n",
    ")\n",
    "\n",
    "pm = ProjectManagement()\n",
    "project1 = pm.create_project(project1, session=Depends(get_session))\n",
    "project2 = pm.create_project(project2, session=Depends(get_session))"
   ]
  },
  {
   "cell_type": "code",
   "execution_count": 8,
   "id": "904068be",
   "metadata": {},
   "outputs": [
    {
     "data": {
      "text/plain": [
       "Project(id='c258d840-4f31-4b3e-8c7f-794c542a4863', user_id='57690a0b-d80d-4d02-9d68-4de662d8cf26', updated_at=datetime.datetime(2025, 6, 25, 1, 0, 4, 159077), name='Bank Project 1', description='A project for banking operations', created_at=datetime.datetime(2025, 6, 25, 1, 0, 4, 159077))"
      ]
     },
     "execution_count": 8,
     "metadata": {},
     "output_type": "execute_result"
    }
   ],
   "source": [
    "pm.read_project(project1.id, session=Depends(get_session))"
   ]
  },
  {
   "cell_type": "code",
   "execution_count": 9,
   "id": "b1f4886d",
   "metadata": {},
   "outputs": [
    {
     "data": {
      "text/plain": [
       "Project(id='c412df92-61aa-4e3a-afb1-77d2227d2383', user_id='57690a0b-d80d-4d02-9d68-4de662d8cf26', updated_at=datetime.datetime(2025, 6, 25, 1, 0, 4, 160078), name='Bank Project 2', description='A project for banking operations', created_at=datetime.datetime(2025, 6, 25, 1, 0, 4, 160078))"
      ]
     },
     "execution_count": 9,
     "metadata": {},
     "output_type": "execute_result"
    }
   ],
   "source": [
    "pm.read_project(project2.id, session=Depends(get_session))"
   ]
  },
  {
   "cell_type": "code",
   "execution_count": 10,
   "id": "a05a6bb0",
   "metadata": {},
   "outputs": [
    {
     "data": {
      "text/plain": [
       "[Project(id='c258d840-4f31-4b3e-8c7f-794c542a4863', user_id='57690a0b-d80d-4d02-9d68-4de662d8cf26', updated_at=datetime.datetime(2025, 6, 25, 1, 0, 4, 159077), name='Bank Project 1', description='A project for banking operations', created_at=datetime.datetime(2025, 6, 25, 1, 0, 4, 159077)),\n",
       " Project(id='c412df92-61aa-4e3a-afb1-77d2227d2383', user_id='57690a0b-d80d-4d02-9d68-4de662d8cf26', updated_at=datetime.datetime(2025, 6, 25, 1, 0, 4, 160078), name='Bank Project 2', description='A project for banking operations', created_at=datetime.datetime(2025, 6, 25, 1, 0, 4, 160078))]"
      ]
     },
     "execution_count": 10,
     "metadata": {},
     "output_type": "execute_result"
    }
   ],
   "source": [
    "def read_user_projects(user_id: str, session: Session):\n",
    "    user = session.get(User, user_id)\n",
    "    projects = user.projects if user else []\n",
    "    session.close()\n",
    "    return projects\n",
    "\n",
    "read_user_projects(user.id, session=Depends(get_session))"
   ]
  },
  {
   "cell_type": "markdown",
   "id": "e71fbbf5",
   "metadata": {},
   "source": [
    "# CRUD Document"
   ]
  },
  {
   "cell_type": "code",
   "execution_count": 11,
   "id": "55dd7a0a",
   "metadata": {},
   "outputs": [],
   "source": [
    "document1 = Document(source=\"Banking Document 1\", type=\"pdf\")\n",
    "document2 = Document(source=\"Banking Document 2\", type=\"pdf\")\n",
    "document3 = Document(source=\"Banking Document 3\", type=\"web\")\n",
    "document4 = Document(source=\"Banking Document 4\", type=\"audio\")\n",
    "document5 = Document(source=\"Banking Document 5\", type=\"image\")\n",
    "\n",
    "dm = DocumentManagement()\n",
    "document1 = dm.create_document(document1, session=Depends(get_session)) \n",
    "document2 = dm.create_document(document2, session=Depends(get_session))\n",
    "document3 = dm.create_document(document3, session=Depends(get_session))\n",
    "document4 = dm.create_document(document4, session=Depends(get_session))\n",
    "document5 = dm.create_document(document5, session=Depends(get_session))"
   ]
  },
  {
   "cell_type": "code",
   "execution_count": 12,
   "id": "a0583993",
   "metadata": {},
   "outputs": [
    {
     "data": {
      "text/plain": [
       "Document(id='06f82ea7-145b-4e9b-b1ba-b5acf569c3fa', source='Banking Document 1', status=<DocumentStatus.PENDING: 'pending'>, updated_at=datetime.datetime(2025, 6, 25, 1, 0, 5, 955624), type='pdf', created_at=datetime.datetime(2025, 6, 25, 1, 0, 5, 955624))"
      ]
     },
     "execution_count": 12,
     "metadata": {},
     "output_type": "execute_result"
    }
   ],
   "source": [
    "dm.read_document(document1.id, session=Depends(get_session))"
   ]
  },
  {
   "cell_type": "code",
   "execution_count": 13,
   "id": "25abb37e",
   "metadata": {},
   "outputs": [
    {
     "data": {
      "text/plain": [
       "'06f82ea7-145b-4e9b-b1ba-b5acf569c3fa'"
      ]
     },
     "execution_count": 13,
     "metadata": {},
     "output_type": "execute_result"
    }
   ],
   "source": [
    "document1.id"
   ]
  },
  {
   "cell_type": "code",
   "execution_count": 14,
   "id": "9bd8dcfd",
   "metadata": {},
   "outputs": [
    {
     "data": {
      "text/plain": [
       "'Banking Document 1'"
      ]
     },
     "execution_count": 14,
     "metadata": {},
     "output_type": "execute_result"
    }
   ],
   "source": [
    "document1.source"
   ]
  },
  {
   "cell_type": "code",
   "execution_count": 15,
   "id": "5b627dc6",
   "metadata": {},
   "outputs": [
    {
     "data": {
      "text/plain": [
       "[]"
      ]
     },
     "execution_count": 15,
     "metadata": {},
     "output_type": "execute_result"
    }
   ],
   "source": [
    "dm.read_document_longterms(document1.id, session=Depends(get_session))"
   ]
  },
  {
   "cell_type": "code",
   "execution_count": 16,
   "id": "0cfcb2f2",
   "metadata": {},
   "outputs": [
    {
     "data": {
      "text/plain": [
       "[]"
      ]
     },
     "execution_count": 16,
     "metadata": {},
     "output_type": "execute_result"
    }
   ],
   "source": [
    "dm.read_document_jargons(document1.id, session=Depends(get_session))"
   ]
  },
  {
   "cell_type": "markdown",
   "id": "3377eb6d",
   "metadata": {},
   "source": [
    "# CRUD LongTerm"
   ]
  },
  {
   "cell_type": "code",
   "execution_count": 17,
   "id": "9fcb7215",
   "metadata": {},
   "outputs": [],
   "source": [
    "longterm1 = LongTerm(\n",
    "    raw=\"Long-term banking strategy 1\",\n",
    "    meta={\"source\": document1.source},\n",
    "    document_id=document1.id,\n",
    ")\n",
    "\n",
    "longterm2 = LongTerm(\n",
    "    raw=\"Long-term banking strategy 2\", \n",
    "    meta={\"source\": document1.source},\n",
    "    document_id=document1.id,\n",
    ")\n",
    "\n",
    "longterm3 = LongTerm(\n",
    "    raw=\"Long-term banking strategy 3\",\n",
    "    meta={\"source\": document1.source},\n",
    "    document_id=document1.id\n",
    ")\n",
    "\n",
    "lonterms = [longterm1, longterm2, longterm3]\n",
    "\n",
    "ltm = LongTermManagement()\n",
    "\n",
    "ltm.create_raws(lonterms, session=Depends(get_session))"
   ]
  },
  {
   "cell_type": "code",
   "execution_count": 18,
   "id": "ad15e020",
   "metadata": {},
   "outputs": [
    {
     "name": "stderr",
     "output_type": "stream",
     "text": [
      "You're using a XLMRobertaTokenizerFast tokenizer. Please note that with a fast tokenizer, using the `__call__` method is faster than using a method to encode the text followed by a call to the `pad` method to get a padded encoding.\n"
     ]
    }
   ],
   "source": [
    "ltm.embed_texts(embed_method=\"raw\", session=Depends(get_session))"
   ]
  },
  {
   "cell_type": "code",
   "execution_count": 19,
   "id": "9aac10c9",
   "metadata": {},
   "outputs": [
    {
     "data": {
      "text/plain": [
       "[LongTerm(id='b8409749-9e6f-4066-9881-583b294e656f', enrich=None, combo=None, meta={'source': 'Banking Document 1'}, created_at=datetime.datetime(2025, 6, 25, 1, 0, 8, 388962), raw='Long-term banking strategy 1', raw_embedding=array([-0.01825556,  0.01347161, -0.06758615, ...,  0.01332633,\n",
       "         0.00471091, -0.01106405], shape=(1024,), dtype=float32), enrich_embedding=None, combo_embedding=None, document_id='06f82ea7-145b-4e9b-b1ba-b5acf569c3fa', updated_at=datetime.datetime(2025, 6, 25, 1, 0, 9, 54077)),\n",
       " LongTerm(id='2dec5b1f-6739-426b-a763-84dbc16be8dc', enrich=None, combo=None, meta={'source': 'Banking Document 1'}, created_at=datetime.datetime(2025, 6, 25, 1, 0, 8, 389962), raw='Long-term banking strategy 2', raw_embedding=array([-0.03041709,  0.01349799, -0.04512875, ...,  0.01685308,\n",
       "         0.00597456, -0.00661175], shape=(1024,), dtype=float32), enrich_embedding=None, combo_embedding=None, document_id='06f82ea7-145b-4e9b-b1ba-b5acf569c3fa', updated_at=datetime.datetime(2025, 6, 25, 1, 0, 9, 54077)),\n",
       " LongTerm(id='ea298efc-f4f5-4f6f-9b36-82cc922e1884', enrich=None, combo=None, meta={'source': 'Banking Document 1'}, created_at=datetime.datetime(2025, 6, 25, 1, 0, 8, 389962), raw='Long-term banking strategy 3', raw_embedding=array([-0.02510237, -0.00119484, -0.05017876, ...,  0.02743   ,\n",
       "        -0.00031769, -0.00217168], shape=(1024,), dtype=float32), enrich_embedding=None, combo_embedding=None, document_id='06f82ea7-145b-4e9b-b1ba-b5acf569c3fa', updated_at=datetime.datetime(2025, 6, 25, 1, 0, 9, 54077))]"
      ]
     },
     "execution_count": 19,
     "metadata": {},
     "output_type": "execute_result"
    }
   ],
   "source": [
    "ltm.read_similar_text(\n",
    "    \"strategy 1\", \n",
    "    embed_method=\"raw\", \n",
    "    sources=[document1.source, document2.source],\n",
    "    session=Depends(get_session)\n",
    ")"
   ]
  },
  {
   "cell_type": "code",
   "execution_count": 20,
   "id": "1d42dc32",
   "metadata": {},
   "outputs": [
    {
     "data": {
      "text/plain": [
       "[LongTerm(id='2dec5b1f-6739-426b-a763-84dbc16be8dc', enrich=None, combo=None, meta={'source': 'Banking Document 1'}, created_at=datetime.datetime(2025, 6, 25, 1, 0, 8, 389962), raw='Long-term banking strategy 2', raw_embedding=array([-0.03041709,  0.01349799, -0.04512875, ...,  0.01685308,\n",
       "         0.00597456, -0.00661175], shape=(1024,), dtype=float32), enrich_embedding=None, combo_embedding=None, document_id='06f82ea7-145b-4e9b-b1ba-b5acf569c3fa', updated_at=datetime.datetime(2025, 6, 25, 1, 0, 9, 54077)),\n",
       " LongTerm(id='b8409749-9e6f-4066-9881-583b294e656f', enrich=None, combo=None, meta={'source': 'Banking Document 1'}, created_at=datetime.datetime(2025, 6, 25, 1, 0, 8, 388962), raw='Long-term banking strategy 1', raw_embedding=array([-0.01825556,  0.01347161, -0.06758615, ...,  0.01332633,\n",
       "         0.00471091, -0.01106405], shape=(1024,), dtype=float32), enrich_embedding=None, combo_embedding=None, document_id='06f82ea7-145b-4e9b-b1ba-b5acf569c3fa', updated_at=datetime.datetime(2025, 6, 25, 1, 0, 9, 54077)),\n",
       " LongTerm(id='ea298efc-f4f5-4f6f-9b36-82cc922e1884', enrich=None, combo=None, meta={'source': 'Banking Document 1'}, created_at=datetime.datetime(2025, 6, 25, 1, 0, 8, 389962), raw='Long-term banking strategy 3', raw_embedding=array([-0.02510237, -0.00119484, -0.05017876, ...,  0.02743   ,\n",
       "        -0.00031769, -0.00217168], shape=(1024,), dtype=float32), enrich_embedding=None, combo_embedding=None, document_id='06f82ea7-145b-4e9b-b1ba-b5acf569c3fa', updated_at=datetime.datetime(2025, 6, 25, 1, 0, 9, 54077))]"
      ]
     },
     "execution_count": 20,
     "metadata": {},
     "output_type": "execute_result"
    }
   ],
   "source": [
    "dm.read_document_longterms(document1.id, session=Depends(get_session))"
   ]
  },
  {
   "cell_type": "markdown",
   "id": "f0e5879d",
   "metadata": {},
   "source": [
    "# CRUD Jargon"
   ]
  },
  {
   "cell_type": "code",
   "execution_count": 21,
   "id": "1058d27f",
   "metadata": {},
   "outputs": [],
   "source": [
    "jargon1 = Jargon(\n",
    "    term=\"Banking Jargon 1\",\n",
    "    definition=\"Definition of Banking Jargon 1\",\n",
    "    document_id=document1.id,\n",
    "    meta={\"source\": document1.source}\n",
    ")\n",
    "\n",
    "jargon2 = Jargon(\n",
    "    term=\"Banking Jargon 2\",\n",
    "    definition=\"Definition of Banking Jargon 2\",\n",
    "    document_id=document1.id,\n",
    "    meta={\"source\": document1.source}\n",
    ")\n",
    "\n",
    "jargon3 = Jargon(\n",
    "    term=\"Banking Jargon 3\",\n",
    "    definition=\"Definition of Banking Jargon 3\",\n",
    "    document_id=document1.id,\n",
    "    meta={\"source\": document1.source}\n",
    ")\n",
    "\n",
    "jargons = [jargon1, jargon2, jargon3]\n",
    "\n",
    "jm = JargonManagement()\n",
    "jm.create_jargons(jargons, session=Depends(get_session))"
   ]
  },
  {
   "cell_type": "code",
   "execution_count": 22,
   "id": "1b03e8ff",
   "metadata": {},
   "outputs": [
    {
     "data": {
      "text/plain": [
       "[Jargon(id='e8b2150b-3c95-45a9-a84f-925be2e31deb', document_id='06f82ea7-145b-4e9b-b1ba-b5acf569c3fa', created_at=datetime.datetime(2025, 6, 25, 1, 0, 11, 567050), definition='Definition of Banking Jargon 1', term='Banking Jargon 1', meta={'source': 'Banking Document 1'}, updated_at=datetime.datetime(2025, 6, 25, 1, 0, 11, 567050)),\n",
       " Jargon(id='1c143915-ca6a-4340-a52e-1775203a749d', document_id='06f82ea7-145b-4e9b-b1ba-b5acf569c3fa', created_at=datetime.datetime(2025, 6, 25, 1, 0, 11, 568055), definition='Definition of Banking Jargon 2', term='Banking Jargon 2', meta={'source': 'Banking Document 1'}, updated_at=datetime.datetime(2025, 6, 25, 1, 0, 11, 568055)),\n",
       " Jargon(id='ac290045-d750-46ac-9063-83f68e71fe0f', document_id='06f82ea7-145b-4e9b-b1ba-b5acf569c3fa', created_at=datetime.datetime(2025, 6, 25, 1, 0, 11, 568055), definition='Definition of Banking Jargon 3', term='Banking Jargon 3', meta={'source': 'Banking Document 1'}, updated_at=datetime.datetime(2025, 6, 25, 1, 0, 11, 568055))]"
      ]
     },
     "execution_count": 22,
     "metadata": {},
     "output_type": "execute_result"
    }
   ],
   "source": [
    "dm.read_document_jargons(document1.id, session=Depends(get_session))"
   ]
  },
  {
   "cell_type": "markdown",
   "id": "c3fa277b",
   "metadata": {},
   "source": [
    "# Clean up"
   ]
  },
  {
   "cell_type": "code",
   "execution_count": 23,
   "id": "77367334",
   "metadata": {},
   "outputs": [
    {
     "name": "stdout",
     "output_type": "stream",
     "text": [
      "✅ All tables dropped.\n"
     ]
    }
   ],
   "source": [
    "from package.databases.destroy import drop_all_tables\n",
    "\n",
    "drop_all_tables()"
   ]
  },
  {
   "cell_type": "code",
   "execution_count": null,
   "id": "c81661a6",
   "metadata": {},
   "outputs": [],
   "source": []
  }
 ],
 "metadata": {
  "kernelspec": {
   "display_name": "backend",
   "language": "python",
   "name": "python3"
  },
  "language_info": {
   "codemirror_mode": {
    "name": "ipython",
    "version": 3
   },
   "file_extension": ".py",
   "mimetype": "text/x-python",
   "name": "python",
   "nbconvert_exporter": "python",
   "pygments_lexer": "ipython3",
   "version": "3.11.11"
  }
 },
 "nbformat": 4,
 "nbformat_minor": 5
}
