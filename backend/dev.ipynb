{
 "cells": [
  {
   "cell_type": "code",
   "execution_count": 55,
   "id": "48c951f1",
   "metadata": {},
   "outputs": [
    {
     "name": "stdout",
     "output_type": "stream",
     "text": [
      "The autoreload extension is already loaded. To reload it, use:\n",
      "  %reload_ext autoreload\n"
     ]
    }
   ],
   "source": [
    "%load_ext autoreload\n",
    "%autoreload 2"
   ]
  },
  {
   "cell_type": "code",
   "execution_count": 57,
   "id": "d7f93dd5",
   "metadata": {},
   "outputs": [],
   "source": [
    "from package.databases.initialize import initialize_memories\n",
    "initialize_memories()"
   ]
  },
  {
   "cell_type": "code",
   "execution_count": 33,
   "id": "0f608768",
   "metadata": {},
   "outputs": [],
   "source": [
    "from package.databases.models import User, Project, ProjectDocumentLink, Document, LongTerm, Jargon\n",
    "from package.databases.session import get_session, Depends\n",
    "from sqlmodel import Session, select, text\n",
    "from package.databases.management.user import UserManagement\n",
    "from package.databases.management.project import ProjectManagement\n",
    "from package.databases.management.document import DocumentManagement\n",
    "from package.databases.management.longterm import LongTermManagement\n",
    "from package.databases.management.jargon import JargonManagement"
   ]
  },
  {
   "cell_type": "markdown",
   "id": "c0fc94c4",
   "metadata": {},
   "source": [
    "# CRUD User"
   ]
  },
  {
   "cell_type": "code",
   "execution_count": 58,
   "id": "c0d2b993",
   "metadata": {},
   "outputs": [],
   "source": [
    "user = User(\n",
    "    username=\"bank\",\n",
    "    password=\"555\",\n",
    "    email=\"bank@bank.com\"\n",
    ")\n",
    "\n",
    "um = UserManagement()\n",
    "user = um.create_user(user, session=Depends(get_session))"
   ]
  },
  {
   "cell_type": "code",
   "execution_count": 59,
   "id": "3b07f95f",
   "metadata": {},
   "outputs": [
    {
     "data": {
      "text/plain": [
       "User(username='bank', id='27b7097c-1c02-425e-922d-0553a4603219', created_at=datetime.datetime(2025, 6, 28, 15, 45, 25, 439086), password='555', email='bank@bank.com', role=<UserRole.USER: 'user'>, updated_at=datetime.datetime(2025, 6, 28, 15, 45, 25, 439086))"
      ]
     },
     "execution_count": 59,
     "metadata": {},
     "output_type": "execute_result"
    }
   ],
   "source": [
    "um.read_user(user.id, session=Depends(get_session))"
   ]
  },
  {
   "cell_type": "code",
   "execution_count": 60,
   "id": "d1cf13eb",
   "metadata": {},
   "outputs": [
    {
     "data": {
      "text/plain": [
       "'27b7097c-1c02-425e-922d-0553a4603219'"
      ]
     },
     "execution_count": 60,
     "metadata": {},
     "output_type": "execute_result"
    }
   ],
   "source": [
    "user.id"
   ]
  },
  {
   "cell_type": "code",
   "execution_count": 61,
   "id": "1880fab4",
   "metadata": {},
   "outputs": [
    {
     "data": {
      "text/plain": [
       "[]"
      ]
     },
     "execution_count": 61,
     "metadata": {},
     "output_type": "execute_result"
    }
   ],
   "source": [
    "um.read_user_projects(user.id, session=Depends(get_session))"
   ]
  },
  {
   "cell_type": "markdown",
   "id": "1e98f923",
   "metadata": {},
   "source": [
    "# CRUD Project"
   ]
  },
  {
   "cell_type": "code",
   "execution_count": 62,
   "id": "f5c687ef",
   "metadata": {},
   "outputs": [],
   "source": [
    "project1 = Project(\n",
    "    name=\"Bank Project 1\",\n",
    "    description=\"A project for banking operations\",\n",
    "    user_id=user.id\n",
    ")\n",
    "\n",
    "project2 = Project(\n",
    "    name=\"Bank Project 2\",\n",
    "    description=\"A project for banking operations\",\n",
    "    user_id=user.id\n",
    ")\n",
    "\n",
    "pm = ProjectManagement()\n",
    "project1 = pm.create_project(project1, session=Depends(get_session))\n",
    "project2 = pm.create_project(project2, session=Depends(get_session))"
   ]
  },
  {
   "cell_type": "code",
   "execution_count": 63,
   "id": "904068be",
   "metadata": {},
   "outputs": [
    {
     "data": {
      "text/plain": [
       "Project(name='Bank Project 1', description='A project for banking operations', created_at=datetime.datetime(2025, 6, 28, 15, 45, 28, 238243), id='27c7f3b3-602d-4e3c-862c-d478716125e3', user_id='27b7097c-1c02-425e-922d-0553a4603219', updated_at=datetime.datetime(2025, 6, 28, 15, 45, 28, 238243))"
      ]
     },
     "execution_count": 63,
     "metadata": {},
     "output_type": "execute_result"
    }
   ],
   "source": [
    "pm.read_project(project1.id, session=Depends(get_session))"
   ]
  },
  {
   "cell_type": "code",
   "execution_count": 64,
   "id": "b1f4886d",
   "metadata": {},
   "outputs": [
    {
     "data": {
      "text/plain": [
       "Project(name='Bank Project 2', description='A project for banking operations', created_at=datetime.datetime(2025, 6, 28, 15, 45, 28, 238243), id='2064aa19-ce46-4db5-80b1-ba30411297af', user_id='27b7097c-1c02-425e-922d-0553a4603219', updated_at=datetime.datetime(2025, 6, 28, 15, 45, 28, 238243))"
      ]
     },
     "execution_count": 64,
     "metadata": {},
     "output_type": "execute_result"
    }
   ],
   "source": [
    "pm.read_project(project2.id, session=Depends(get_session))"
   ]
  },
  {
   "cell_type": "markdown",
   "id": "e71fbbf5",
   "metadata": {},
   "source": [
    "# CRUD Document"
   ]
  },
  {
   "cell_type": "code",
   "execution_count": 65,
   "id": "55dd7a0a",
   "metadata": {},
   "outputs": [],
   "source": [
    "document1 = Document(source=\"Banking Document 1\", type=\"pdf\")\n",
    "document2 = Document(source=\"Banking Document 2\", type=\"pdf\")\n",
    "document3 = Document(source=\"Banking Document 3\", type=\"web\")\n",
    "document4 = Document(source=\"Banking Document 4\", type=\"audio\")\n",
    "document5 = Document(source=\"Banking Document 5\", type=\"image\")\n",
    "\n",
    "dm = DocumentManagement()\n",
    "document1 = dm.create_document(document1, session=Depends(get_session)) \n",
    "document2 = dm.create_document(document2, session=Depends(get_session))\n",
    "document3 = dm.create_document(document3, session=Depends(get_session))\n",
    "document4 = dm.create_document(document4, session=Depends(get_session))\n",
    "document5 = dm.create_document(document5, session=Depends(get_session))"
   ]
  },
  {
   "cell_type": "code",
   "execution_count": 66,
   "id": "a0583993",
   "metadata": {},
   "outputs": [
    {
     "data": {
      "text/plain": [
       "Document(id='90d562cc-6f06-43ea-b79e-c0565edc1d64', status=<DocumentStatus.PENDING: 'pending'>, updated_at=datetime.datetime(2025, 6, 28, 15, 45, 29, 812884), source='Banking Document 1', type='pdf', created_at=datetime.datetime(2025, 6, 28, 15, 45, 29, 812884))"
      ]
     },
     "execution_count": 66,
     "metadata": {},
     "output_type": "execute_result"
    }
   ],
   "source": [
    "dm.read_document(document1.id, session=Depends(get_session))"
   ]
  },
  {
   "cell_type": "code",
   "execution_count": 67,
   "id": "25abb37e",
   "metadata": {},
   "outputs": [
    {
     "data": {
      "text/plain": [
       "'90d562cc-6f06-43ea-b79e-c0565edc1d64'"
      ]
     },
     "execution_count": 67,
     "metadata": {},
     "output_type": "execute_result"
    }
   ],
   "source": [
    "document1.id"
   ]
  },
  {
   "cell_type": "code",
   "execution_count": 68,
   "id": "9bd8dcfd",
   "metadata": {},
   "outputs": [
    {
     "data": {
      "text/plain": [
       "'Banking Document 1'"
      ]
     },
     "execution_count": 68,
     "metadata": {},
     "output_type": "execute_result"
    }
   ],
   "source": [
    "document1.source"
   ]
  },
  {
   "cell_type": "code",
   "execution_count": 69,
   "id": "5b627dc6",
   "metadata": {},
   "outputs": [
    {
     "data": {
      "text/plain": [
       "[]"
      ]
     },
     "execution_count": 69,
     "metadata": {},
     "output_type": "execute_result"
    }
   ],
   "source": [
    "dm.read_document_longterms(document1.id, session=Depends(get_session))"
   ]
  },
  {
   "cell_type": "code",
   "execution_count": 70,
   "id": "0cfcb2f2",
   "metadata": {},
   "outputs": [
    {
     "data": {
      "text/plain": [
       "[]"
      ]
     },
     "execution_count": 70,
     "metadata": {},
     "output_type": "execute_result"
    }
   ],
   "source": [
    "dm.read_document_jargons(document1.id, session=Depends(get_session))"
   ]
  },
  {
   "cell_type": "markdown",
   "id": "3377eb6d",
   "metadata": {},
   "source": [
    "# CRUD LongTerm"
   ]
  },
  {
   "cell_type": "code",
   "execution_count": 71,
   "id": "9fcb7215",
   "metadata": {},
   "outputs": [],
   "source": [
    "longterm1 = LongTerm(\n",
    "    raw=\"Long-term banking strategy 1\",\n",
    "    meta={\"source\": document1.source},\n",
    "    document_id=document1.id,\n",
    ")\n",
    "\n",
    "longterm2 = LongTerm(\n",
    "    raw=\"Long-term banking strategy 2\", \n",
    "    meta={\"source\": document1.source},\n",
    "    document_id=document1.id,\n",
    ")\n",
    "\n",
    "longterm3 = LongTerm(\n",
    "    raw=\"Long-term banking strategy 3\",\n",
    "    meta={\"source\": document1.source},\n",
    "    document_id=document1.id\n",
    ")\n",
    "\n",
    "lonterms = [longterm1, longterm2, longterm3]\n",
    "\n",
    "ltm = LongTermManagement()\n",
    "\n",
    "ltm.create_raws(lonterms, session=Depends(get_session))"
   ]
  },
  {
   "cell_type": "code",
   "execution_count": 72,
   "id": "ad15e020",
   "metadata": {},
   "outputs": [],
   "source": [
    "ltm.embed_texts(embed_method=\"raw\", session=Depends(get_session))"
   ]
  },
  {
   "cell_type": "code",
   "execution_count": 75,
   "id": "9aac10c9",
   "metadata": {},
   "outputs": [
    {
     "data": {
      "text/plain": [
       "[LongTerm(raw_embedding=array([-0.03045654,  0.01348114, -0.04507446, ...,  0.01679993,\n",
       "         0.00595856, -0.00660324], shape=(1024,), dtype=float32), raw='Long-term banking strategy 2', enrich_embedding=None, combo_embedding=None, document_id='90d562cc-6f06-43ea-b79e-c0565edc1d64', updated_at=datetime.datetime(2025, 6, 28, 15, 45, 39, 944262), enrich=None, id='83f0e655-008c-4de2-bc18-ba43bcd57c0e', combo=None, meta={'source': 'Banking Document 1'}, created_at=datetime.datetime(2025, 6, 28, 15, 45, 38, 893427)),\n",
       " LongTerm(raw_embedding=array([-0.02508545, -0.00122166, -0.05023193, ...,  0.02738953,\n",
       "        -0.00037813, -0.00225067], shape=(1024,), dtype=float32), raw='Long-term banking strategy 3', enrich_embedding=None, combo_embedding=None, document_id='90d562cc-6f06-43ea-b79e-c0565edc1d64', updated_at=datetime.datetime(2025, 6, 28, 15, 45, 39, 944262), enrich=None, id='cbfb9820-727b-4a1a-981a-1a8b1fac7f72', combo=None, meta={'source': 'Banking Document 1'}, created_at=datetime.datetime(2025, 6, 28, 15, 45, 38, 893427)),\n",
       " LongTerm(raw_embedding=array([-0.01826477,  0.01348114, -0.06756592, ...,  0.01333618,\n",
       "         0.00465012, -0.01103973], shape=(1024,), dtype=float32), raw='Long-term banking strategy 1', enrich_embedding=None, combo_embedding=None, document_id='90d562cc-6f06-43ea-b79e-c0565edc1d64', updated_at=datetime.datetime(2025, 6, 28, 15, 45, 39, 944262), enrich=None, id='34f98f7d-874e-41f2-bff9-04ab5c0a652b', combo=None, meta={'source': 'Banking Document 1'}, created_at=datetime.datetime(2025, 6, 28, 15, 45, 38, 893427))]"
      ]
     },
     "execution_count": 75,
     "metadata": {},
     "output_type": "execute_result"
    }
   ],
   "source": [
    "ltm.read_similar_text(\n",
    "    \"strategy 2\", \n",
    "    embed_method=\"raw\", \n",
    "    sources=[document1.source, document2.source],\n",
    "    session=Depends(get_session)\n",
    ")"
   ]
  },
  {
   "cell_type": "code",
   "execution_count": 50,
   "id": "1d42dc32",
   "metadata": {},
   "outputs": [
    {
     "data": {
      "text/plain": [
       "[LongTerm(raw_embedding=array([-0.02508545, -0.00122166, -0.05023193, ...,  0.02738953,\n",
       "        -0.00037813, -0.00225067], shape=(1024,), dtype=float32), raw='Long-term banking strategy 3', enrich_embedding=None, combo_embedding=None, document_id='9b8c4cb8-0c6b-491f-b441-46c56c5703c6', updated_at=datetime.datetime(2025, 6, 28, 15, 0, 58, 142419), enrich=None, id='081f0eac-c4f0-4690-9405-55b337301f6d', combo=None, meta={'source': 'Banking Document 1'}, created_at=datetime.datetime(2025, 6, 28, 15, 0, 57, 764701)),\n",
       " LongTerm(raw_embedding=array([-0.01826477,  0.01348114, -0.06756592, ...,  0.01333618,\n",
       "         0.00465012, -0.01103973], shape=(1024,), dtype=float32), raw='Long-term banking strategy 1', enrich_embedding=None, combo_embedding=None, document_id='9b8c4cb8-0c6b-491f-b441-46c56c5703c6', updated_at=datetime.datetime(2025, 6, 28, 15, 0, 58, 142419), enrich=None, id='a6bdd28f-ca1a-4b3e-8d7d-3a3f21598076', combo=None, meta={'source': 'Banking Document 1'}, created_at=datetime.datetime(2025, 6, 28, 15, 0, 57, 764701)),\n",
       " LongTerm(raw_embedding=array([-0.03045654,  0.01348114, -0.04507446, ...,  0.01679993,\n",
       "         0.00595856, -0.00660324], shape=(1024,), dtype=float32), raw='Long-term banking strategy 2', enrich_embedding=None, combo_embedding=None, document_id='9b8c4cb8-0c6b-491f-b441-46c56c5703c6', updated_at=datetime.datetime(2025, 6, 28, 15, 0, 58, 142419), enrich=None, id='eef3020e-2f1b-4738-9dbd-e264be917ff4', combo=None, meta={'source': 'Banking Document 1'}, created_at=datetime.datetime(2025, 6, 28, 15, 0, 57, 764701))]"
      ]
     },
     "execution_count": 50,
     "metadata": {},
     "output_type": "execute_result"
    }
   ],
   "source": [
    "dm.read_document_longterms(document1.id, session=Depends(get_session))"
   ]
  },
  {
   "cell_type": "markdown",
   "id": "f0e5879d",
   "metadata": {},
   "source": [
    "# CRUD Jargon"
   ]
  },
  {
   "cell_type": "code",
   "execution_count": 51,
   "id": "1058d27f",
   "metadata": {},
   "outputs": [],
   "source": [
    "jargon1 = Jargon(\n",
    "    term=\"Banking Jargon 1\",\n",
    "    definition=\"Definition of Banking Jargon 1\",\n",
    "    document_id=document1.id,\n",
    "    meta={\"source\": document1.source}\n",
    ")\n",
    "\n",
    "jargon2 = Jargon(\n",
    "    term=\"Banking Jargon 2\",\n",
    "    definition=\"Definition of Banking Jargon 2\",\n",
    "    document_id=document1.id,\n",
    "    meta={\"source\": document1.source}\n",
    ")\n",
    "\n",
    "jargon3 = Jargon(\n",
    "    term=\"Banking Jargon 3\",\n",
    "    definition=\"Definition of Banking Jargon 3\",\n",
    "    document_id=document1.id,\n",
    "    meta={\"source\": document1.source}\n",
    ")\n",
    "\n",
    "jargons = [jargon1, jargon2, jargon3]\n",
    "\n",
    "jm = JargonManagement()\n",
    "jm.create_jargons(jargons, session=Depends(get_session))"
   ]
  },
  {
   "cell_type": "code",
   "execution_count": 52,
   "id": "1b03e8ff",
   "metadata": {},
   "outputs": [
    {
     "data": {
      "text/plain": [
       "[Jargon(term='Banking Jargon 1', definition='Definition of Banking Jargon 1', meta={'source': 'Banking Document 1'}, updated_at=datetime.datetime(2025, 6, 28, 15, 0, 59, 114671), document_id='9b8c4cb8-0c6b-491f-b441-46c56c5703c6', id='d63d08f4-bae1-490e-a408-d901f784af5d', created_at=datetime.datetime(2025, 6, 28, 15, 0, 59, 114671)),\n",
       " Jargon(term='Banking Jargon 2', definition='Definition of Banking Jargon 2', meta={'source': 'Banking Document 1'}, updated_at=datetime.datetime(2025, 6, 28, 15, 0, 59, 114671), document_id='9b8c4cb8-0c6b-491f-b441-46c56c5703c6', id='0290f79a-0cbf-4356-b925-476c9022d92d', created_at=datetime.datetime(2025, 6, 28, 15, 0, 59, 114671)),\n",
       " Jargon(term='Banking Jargon 3', definition='Definition of Banking Jargon 3', meta={'source': 'Banking Document 1'}, updated_at=datetime.datetime(2025, 6, 28, 15, 0, 59, 114671), document_id='9b8c4cb8-0c6b-491f-b441-46c56c5703c6', id='9afb0735-3cb1-4f55-ba82-cda8dcfad167', created_at=datetime.datetime(2025, 6, 28, 15, 0, 59, 114671))]"
      ]
     },
     "execution_count": 52,
     "metadata": {},
     "output_type": "execute_result"
    }
   ],
   "source": [
    "dm.read_document_jargons(document1.id, session=Depends(get_session))"
   ]
  },
  {
   "cell_type": "markdown",
   "id": "c3fa277b",
   "metadata": {},
   "source": [
    "# Clean up"
   ]
  },
  {
   "cell_type": "code",
   "execution_count": 76,
   "id": "77367334",
   "metadata": {},
   "outputs": [
    {
     "name": "stdout",
     "output_type": "stream",
     "text": [
      "✅ All tables dropped.\n"
     ]
    }
   ],
   "source": [
    "from package.databases.destroy import drop_all_tables\n",
    "\n",
    "drop_all_tables()"
   ]
  },
  {
   "cell_type": "code",
   "execution_count": null,
   "id": "c81661a6",
   "metadata": {},
   "outputs": [],
   "source": []
  }
 ],
 "metadata": {
  "kernelspec": {
   "display_name": "backend",
   "language": "python",
   "name": "python3"
  },
  "language_info": {
   "codemirror_mode": {
    "name": "ipython",
    "version": 3
   },
   "file_extension": ".py",
   "mimetype": "text/x-python",
   "name": "python",
   "nbconvert_exporter": "python",
   "pygments_lexer": "ipython3",
   "version": "3.11.11"
  }
 },
 "nbformat": 4,
 "nbformat_minor": 5
}
