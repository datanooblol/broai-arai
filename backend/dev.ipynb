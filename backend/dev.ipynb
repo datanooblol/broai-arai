{
 "cells": [
  {
   "cell_type": "code",
   "execution_count": 21,
   "id": "48c951f1",
   "metadata": {},
   "outputs": [
    {
     "name": "stdout",
     "output_type": "stream",
     "text": [
      "The autoreload extension is already loaded. To reload it, use:\n",
      "  %reload_ext autoreload\n"
     ]
    }
   ],
   "source": [
    "%load_ext autoreload\n",
    "%autoreload 2"
   ]
  },
  {
   "cell_type": "code",
   "execution_count": 22,
   "id": "d7f93dd5",
   "metadata": {},
   "outputs": [],
   "source": [
    "from package.databases.initialize import initialize_memories\n",
    "initialize_memories()"
   ]
  },
  {
   "cell_type": "code",
   "execution_count": 23,
   "id": "0f608768",
   "metadata": {},
   "outputs": [],
   "source": [
    "from package.databases.models import LongTerm\n",
    "from package.databases.session import get_session, Depends\n",
    "from sqlmodel import Session, select, text"
   ]
  },
  {
   "cell_type": "code",
   "execution_count": 24,
   "id": "7e2688fd",
   "metadata": {},
   "outputs": [],
   "source": [
    "from package.databases.management.manage import LongTermManagement"
   ]
  },
  {
   "cell_type": "code",
   "execution_count": 25,
   "id": "7d909dc3",
   "metadata": {},
   "outputs": [],
   "source": [
    "longterm1 = LongTerm(\n",
    "    raw=\"lt1\",\n",
    "    meta={\"source\":\"a\"}\n",
    ")\n",
    "\n",
    "longterm2 = LongTerm(\n",
    "    raw=\"lt2\",\n",
    "    meta={\"source\":\"a\"}\n",
    ")\n",
    "\n",
    "longterm3 = LongTerm(\n",
    "    raw=\"lt3\",\n",
    "    meta={\"source\":\"b\"}\n",
    ")\n",
    "\n",
    "longterms = [\n",
    "    longterm1,\n",
    "    longterm2,\n",
    "    longterm3\n",
    "]"
   ]
  },
  {
   "cell_type": "code",
   "execution_count": null,
   "id": "f8cadff7",
   "metadata": {},
   "outputs": [],
   "source": [
    "ltm = LongTermManagement()\n",
    "\n",
    "ltm.create_raws(longterms=longterms, session=Depends(get_session))"
   ]
  },
  {
   "cell_type": "code",
   "execution_count": 27,
   "id": "1405e7d7",
   "metadata": {},
   "outputs": [
    {
     "name": "stderr",
     "output_type": "stream",
     "text": [
      "You're using a XLMRobertaTokenizerFast tokenizer. Please note that with a fast tokenizer, using the `__call__` method is faster than using a method to encode the text followed by a call to the `pad` method to get a padded encoding.\n"
     ]
    }
   ],
   "source": [
    "ltm.embed_texts(embed_method=\"raw\", session=Depends(get_session))"
   ]
  },
  {
   "cell_type": "code",
   "execution_count": 28,
   "id": "1a5cbf3b",
   "metadata": {},
   "outputs": [
    {
     "data": {
      "text/plain": [
       "[LongTerm(enrich_embedding=None, raw_embedding=array([-0.02778562,  0.06150023, -0.02956138, ..., -0.03680928,\n",
       "        -0.00058394, -0.0143111 ], shape=(1024,), dtype=float32), combo=None, combo_embedding=None, enrich=None, id='bdfdc27d-40b6-45a0-842b-ce778ea38367', raw='lt1', meta={'source': 'a'}, created_at=datetime.datetime(2025, 6, 23, 16, 52, 50, 340272), updated_at=datetime.datetime(2025, 6, 23, 16, 53, 21, 27822)),\n",
       " LongTerm(enrich_embedding=None, raw_embedding=array([-0.03846592,  0.03602301, -0.01591731, ..., -0.03680482,\n",
       "         0.015809  , -0.00518122], shape=(1024,), dtype=float32), combo=None, combo_embedding=None, enrich=None, id='b8cd49da-e868-4a1e-a0b2-25000b39de73', raw='lt2', meta={'source': 'a'}, created_at=datetime.datetime(2025, 6, 23, 16, 52, 50, 340272), updated_at=datetime.datetime(2025, 6, 23, 16, 53, 21, 27822)),\n",
       " LongTerm(enrich_embedding=None, raw_embedding=array([-0.01583992,  0.0286282 , -0.02951318, ..., -0.0033121 ,\n",
       "         0.00714771, -0.00320035], shape=(1024,), dtype=float32), combo=None, combo_embedding=None, enrich=None, id='01e9ee65-cc0b-47ef-8649-e78f82840135', raw='lt3', meta={'source': 'b'}, created_at=datetime.datetime(2025, 6, 23, 16, 52, 50, 340272), updated_at=datetime.datetime(2025, 6, 23, 16, 53, 21, 27822))]"
      ]
     },
     "execution_count": 28,
     "metadata": {},
     "output_type": "execute_result"
    }
   ],
   "source": [
    "# vector = ltm.embedding.run(sentences=[\"lt1\"])[0]\n",
    "ltm.read_similar_text(query=\"lt1\", embed_method=\"raw\", session=Depends(get_session))"
   ]
  },
  {
   "cell_type": "code",
   "execution_count": 15,
   "id": "f7882ebf",
   "metadata": {},
   "outputs": [
    {
     "data": {
      "text/plain": [
       "[LongTerm(enrich_embedding=None, raw_embedding=array([-0.01583992,  0.0286282 , -0.02951318, ..., -0.0033121 ,\n",
       "         0.00714771, -0.00320035], shape=(1024,), dtype=float32), combo=None, combo_embedding=None, enrich=None, id='9329fbb7-40b5-4abe-978e-1d51787cb610', raw='lt3', meta={'source': 'b'}, created_at=datetime.datetime(2025, 6, 23, 16, 32, 33, 774115), updated_at=datetime.datetime(2025, 6, 23, 16, 32, 57, 148317)),\n",
       " LongTerm(enrich_embedding=None, raw_embedding=array([-0.02778562,  0.06150023, -0.02956138, ..., -0.03680928,\n",
       "        -0.00058394, -0.0143111 ], shape=(1024,), dtype=float32), combo=None, combo_embedding=None, enrich=None, id='bae34b3f-7f52-4d7e-a480-2bff39b9f831', raw='lt1', meta={'source': 'a'}, created_at=datetime.datetime(2025, 6, 23, 16, 32, 33, 774115), updated_at=datetime.datetime(2025, 6, 23, 16, 32, 57, 148317)),\n",
       " LongTerm(enrich_embedding=None, raw_embedding=array([-0.03846592,  0.03602301, -0.01591731, ..., -0.03680482,\n",
       "         0.015809  , -0.00518122], shape=(1024,), dtype=float32), combo=None, combo_embedding=None, enrich=None, id='e11b2205-3891-4846-975f-07f0a40888e7', raw='lt2', meta={'source': 'a'}, created_at=datetime.datetime(2025, 6, 23, 16, 32, 33, 774115), updated_at=datetime.datetime(2025, 6, 23, 16, 32, 57, 148317))]"
      ]
     },
     "execution_count": 15,
     "metadata": {},
     "output_type": "execute_result"
    }
   ],
   "source": [
    "def read_longterms(session:Session=Depends(get_session)):\n",
    "    statement = select(LongTerm)\n",
    "    results = session.exec(statement).all()\n",
    "    session.close()\n",
    "    return results\n",
    "\n",
    "read_longterms()"
   ]
  },
  {
   "cell_type": "code",
   "execution_count": 16,
   "id": "b2b576f6",
   "metadata": {},
   "outputs": [
    {
     "data": {
      "text/plain": [
       "[LongTerm(enrich_embedding=None, raw_embedding=array([-0.01583992,  0.0286282 , -0.02951318, ..., -0.0033121 ,\n",
       "         0.00714771, -0.00320035], shape=(1024,), dtype=float32), combo=None, combo_embedding=None, enrich=None, id='9329fbb7-40b5-4abe-978e-1d51787cb610', raw='lt3', meta={'source': 'b'}, created_at=datetime.datetime(2025, 6, 23, 16, 32, 33, 774115), updated_at=datetime.datetime(2025, 6, 23, 16, 32, 57, 148317)),\n",
       " LongTerm(enrich_embedding=None, raw_embedding=array([-0.02778562,  0.06150023, -0.02956138, ..., -0.03680928,\n",
       "        -0.00058394, -0.0143111 ], shape=(1024,), dtype=float32), combo=None, combo_embedding=None, enrich=None, id='bae34b3f-7f52-4d7e-a480-2bff39b9f831', raw='lt1', meta={'source': 'a'}, created_at=datetime.datetime(2025, 6, 23, 16, 32, 33, 774115), updated_at=datetime.datetime(2025, 6, 23, 16, 32, 57, 148317)),\n",
       " LongTerm(enrich_embedding=None, raw_embedding=array([-0.03846592,  0.03602301, -0.01591731, ..., -0.03680482,\n",
       "         0.015809  , -0.00518122], shape=(1024,), dtype=float32), combo=None, combo_embedding=None, enrich=None, id='e11b2205-3891-4846-975f-07f0a40888e7', raw='lt2', meta={'source': 'a'}, created_at=datetime.datetime(2025, 6, 23, 16, 32, 33, 774115), updated_at=datetime.datetime(2025, 6, 23, 16, 32, 57, 148317))]"
      ]
     },
     "execution_count": 16,
     "metadata": {},
     "output_type": "execute_result"
    }
   ],
   "source": [
    "read_longterms()"
   ]
  },
  {
   "cell_type": "code",
   "execution_count": 9,
   "id": "d0fd64c8",
   "metadata": {},
   "outputs": [
    {
     "data": {
      "text/plain": [
       "[LongTerm(enrich_embedding=None, raw_embedding=array([-0.02778562,  0.06150023, -0.02956138, ..., -0.03680928,\n",
       "        -0.00058394, -0.0143111 ], shape=(1024,), dtype=float32), combo=None, combo_embedding=None, enrich=None, id='cb8c291a-e234-4b87-bbf9-5aaecd63b04b', raw='lt1', meta={'source': 'a'}, created_at=datetime.datetime(2025, 6, 23, 16, 19, 55, 815259), updated_at=datetime.datetime(2025, 6, 23, 16, 20, 1, 49932)),\n",
       " LongTerm(enrich_embedding=None, raw_embedding=array([-0.03846592,  0.03602301, -0.01591731, ..., -0.03680482,\n",
       "         0.015809  , -0.00518122], shape=(1024,), dtype=float32), combo=None, combo_embedding=None, enrich=None, id='e2f5f26b-b5b2-42bd-af6b-d984fd276d8c', raw='lt2', meta={'source': 'a'}, created_at=datetime.datetime(2025, 6, 23, 16, 19, 55, 815259), updated_at=datetime.datetime(2025, 6, 23, 16, 20, 1, 49932)),\n",
       " LongTerm(enrich_embedding=None, raw_embedding=array([-0.01583992,  0.0286282 , -0.02951318, ..., -0.0033121 ,\n",
       "         0.00714771, -0.00320035], shape=(1024,), dtype=float32), combo=None, combo_embedding=None, enrich=None, id='784203e6-3768-4f22-9804-7743b9d9ad34', raw='lt3', meta={'source': 'b'}, created_at=datetime.datetime(2025, 6, 23, 16, 19, 55, 815259), updated_at=datetime.datetime(2025, 6, 23, 16, 20, 1, 49932))]"
      ]
     },
     "execution_count": 9,
     "metadata": {},
     "output_type": "execute_result"
    }
   ],
   "source": [
    "def read_similar_longterms(vector:list[float], sources:list[str]|None=None, limit:int=5, session:Session=Depends(get_session)):\n",
    "    statement = select(LongTerm)\n",
    "    if sources:\n",
    "        statement.where(text(\"meta ->> 'source' = ANY(:sources)\"))\n",
    "    statement = statement.order_by(LongTerm.raw_embedding.l2_distance(vector)).limit(limit).params(sources=sources)\n",
    "    results = session.exec(statement).all()\n",
    "    session.close()\n",
    "    return results\n",
    "\n",
    "read_similar_longterms(vector=em.run(sentences=[\"lt1\"])[0])"
   ]
  },
  {
   "cell_type": "code",
   "execution_count": 29,
   "id": "77367334",
   "metadata": {},
   "outputs": [
    {
     "name": "stdout",
     "output_type": "stream",
     "text": [
      "✅ All tables dropped.\n"
     ]
    }
   ],
   "source": [
    "from package.databases.destroy import drop_all_tables\n",
    "\n",
    "drop_all_tables()"
   ]
  },
  {
   "cell_type": "code",
   "execution_count": null,
   "id": "c81661a6",
   "metadata": {},
   "outputs": [],
   "source": []
  }
 ],
 "metadata": {
  "kernelspec": {
   "display_name": "backend",
   "language": "python",
   "name": "python3"
  },
  "language_info": {
   "codemirror_mode": {
    "name": "ipython",
    "version": 3
   },
   "file_extension": ".py",
   "mimetype": "text/x-python",
   "name": "python",
   "nbconvert_exporter": "python",
   "pygments_lexer": "ipython3",
   "version": "3.11.11"
  }
 },
 "nbformat": 4,
 "nbformat_minor": 5
}
