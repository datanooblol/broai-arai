{
 "cells": [
  {
   "cell_type": "code",
   "execution_count": 24,
   "id": "48c951f1",
   "metadata": {},
   "outputs": [
    {
     "name": "stdout",
     "output_type": "stream",
     "text": [
      "The autoreload extension is already loaded. To reload it, use:\n",
      "  %reload_ext autoreload\n"
     ]
    }
   ],
   "source": [
    "%load_ext autoreload\n",
    "%autoreload 2"
   ]
  },
  {
   "cell_type": "code",
   "execution_count": 25,
   "id": "d7f93dd5",
   "metadata": {},
   "outputs": [],
   "source": [
    "from package.databases.initialize import initialize_memories\n",
    "initialize_memories()"
   ]
  },
  {
   "cell_type": "code",
   "execution_count": 26,
   "id": "0f608768",
   "metadata": {},
   "outputs": [],
   "source": [
    "from package.databases.models import User, Project, ProjectDocumentLink, Document, LongTerm, Jargon\n",
    "from package.databases.session import get_session, Depends\n",
    "from sqlmodel import Session, select, text\n",
    "from package.databases.management.user import UserManagement\n",
    "from package.databases.management.project import ProjectManagement\n",
    "from package.databases.management.document import DocumentManagement\n",
    "from package.databases.management.longterm import LongTermManagement\n",
    "from package.databases.management.jargon import JargonManagement"
   ]
  },
  {
   "cell_type": "markdown",
   "id": "c0fc94c4",
   "metadata": {},
   "source": [
    "# CRUD User"
   ]
  },
  {
   "cell_type": "code",
   "execution_count": 27,
   "id": "c0d2b993",
   "metadata": {},
   "outputs": [],
   "source": [
    "user = User(\n",
    "    username=\"bank\",\n",
    "    password=\"555\",\n",
    "    email=\"bank@bank.com\"\n",
    ")\n",
    "\n",
    "um = UserManagement()\n",
    "user = um.create_user(user, session=Depends(get_session))"
   ]
  },
  {
   "cell_type": "code",
   "execution_count": 28,
   "id": "3b07f95f",
   "metadata": {},
   "outputs": [
    {
     "data": {
      "text/plain": [
       "User(password='555', id='99d2f2de-024c-44a0-bd81-e50e259f5153', username='bank', email='bank@bank.com', created_at=datetime.datetime(2025, 6, 27, 17, 39, 7, 891182), role=<UserRole.USER: 'user'>, updated_at=datetime.datetime(2025, 6, 27, 17, 39, 7, 891182))"
      ]
     },
     "execution_count": 28,
     "metadata": {},
     "output_type": "execute_result"
    }
   ],
   "source": [
    "um.read_user(user.id, session=Depends(get_session))"
   ]
  },
  {
   "cell_type": "code",
   "execution_count": 29,
   "id": "d1cf13eb",
   "metadata": {},
   "outputs": [
    {
     "data": {
      "text/plain": [
       "'99d2f2de-024c-44a0-bd81-e50e259f5153'"
      ]
     },
     "execution_count": 29,
     "metadata": {},
     "output_type": "execute_result"
    }
   ],
   "source": [
    "user.id"
   ]
  },
  {
   "cell_type": "code",
   "execution_count": 30,
   "id": "1880fab4",
   "metadata": {},
   "outputs": [
    {
     "data": {
      "text/plain": [
       "[]"
      ]
     },
     "execution_count": 30,
     "metadata": {},
     "output_type": "execute_result"
    }
   ],
   "source": [
    "um.read_user_projects(user.id, session=Depends(get_session))"
   ]
  },
  {
   "cell_type": "markdown",
   "id": "1e98f923",
   "metadata": {},
   "source": [
    "# CRUD Project"
   ]
  },
  {
   "cell_type": "code",
   "execution_count": 31,
   "id": "f5c687ef",
   "metadata": {},
   "outputs": [],
   "source": [
    "project1 = Project(\n",
    "    name=\"Bank Project 1\",\n",
    "    description=\"A project for banking operations\",\n",
    "    user_id=user.id\n",
    ")\n",
    "\n",
    "project2 = Project(\n",
    "    name=\"Bank Project 2\",\n",
    "    description=\"A project for banking operations\",\n",
    "    user_id=user.id\n",
    ")\n",
    "\n",
    "pm = ProjectManagement()\n",
    "project1 = pm.create_project(project1, session=Depends(get_session))\n",
    "project2 = pm.create_project(project2, session=Depends(get_session))"
   ]
  },
  {
   "cell_type": "code",
   "execution_count": 32,
   "id": "904068be",
   "metadata": {},
   "outputs": [
    {
     "data": {
      "text/plain": [
       "Project(description='A project for banking operations', name='Bank Project 1', created_at=datetime.datetime(2025, 6, 27, 17, 39, 9, 660516), id='a16c9800-2ae8-4d4f-9b50-51977821c307', user_id='99d2f2de-024c-44a0-bd81-e50e259f5153', updated_at=datetime.datetime(2025, 6, 27, 17, 39, 9, 660516))"
      ]
     },
     "execution_count": 32,
     "metadata": {},
     "output_type": "execute_result"
    }
   ],
   "source": [
    "pm.read_project(project1.id, session=Depends(get_session))"
   ]
  },
  {
   "cell_type": "code",
   "execution_count": 33,
   "id": "b1f4886d",
   "metadata": {},
   "outputs": [
    {
     "data": {
      "text/plain": [
       "Project(description='A project for banking operations', name='Bank Project 2', created_at=datetime.datetime(2025, 6, 27, 17, 39, 9, 660516), id='ee0fb0c6-8b4c-4262-b860-6002d37550b3', user_id='99d2f2de-024c-44a0-bd81-e50e259f5153', updated_at=datetime.datetime(2025, 6, 27, 17, 39, 9, 660516))"
      ]
     },
     "execution_count": 33,
     "metadata": {},
     "output_type": "execute_result"
    }
   ],
   "source": [
    "pm.read_project(project2.id, session=Depends(get_session))"
   ]
  },
  {
   "cell_type": "markdown",
   "id": "e71fbbf5",
   "metadata": {},
   "source": [
    "# CRUD Document"
   ]
  },
  {
   "cell_type": "code",
   "execution_count": 34,
   "id": "55dd7a0a",
   "metadata": {},
   "outputs": [],
   "source": [
    "document1 = Document(source=\"Banking Document 1\", type=\"pdf\")\n",
    "document2 = Document(source=\"Banking Document 2\", type=\"pdf\")\n",
    "document3 = Document(source=\"Banking Document 3\", type=\"web\")\n",
    "document4 = Document(source=\"Banking Document 4\", type=\"audio\")\n",
    "document5 = Document(source=\"Banking Document 5\", type=\"image\")\n",
    "\n",
    "dm = DocumentManagement()\n",
    "document1 = dm.create_document(document1, session=Depends(get_session)) \n",
    "document2 = dm.create_document(document2, session=Depends(get_session))\n",
    "document3 = dm.create_document(document3, session=Depends(get_session))\n",
    "document4 = dm.create_document(document4, session=Depends(get_session))\n",
    "document5 = dm.create_document(document5, session=Depends(get_session))"
   ]
  },
  {
   "cell_type": "code",
   "execution_count": 35,
   "id": "a0583993",
   "metadata": {},
   "outputs": [
    {
     "data": {
      "text/plain": [
       "Document(source='Banking Document 1', type='pdf', created_at=datetime.datetime(2025, 6, 27, 17, 39, 10, 914014), id='ab16f6b1-517b-4ba3-b53e-1cec5f73dbea', status=<DocumentStatus.PENDING: 'pending'>, updated_at=datetime.datetime(2025, 6, 27, 17, 39, 10, 914014))"
      ]
     },
     "execution_count": 35,
     "metadata": {},
     "output_type": "execute_result"
    }
   ],
   "source": [
    "dm.read_document(document1.id, session=Depends(get_session))"
   ]
  },
  {
   "cell_type": "code",
   "execution_count": 36,
   "id": "25abb37e",
   "metadata": {},
   "outputs": [
    {
     "data": {
      "text/plain": [
       "'ab16f6b1-517b-4ba3-b53e-1cec5f73dbea'"
      ]
     },
     "execution_count": 36,
     "metadata": {},
     "output_type": "execute_result"
    }
   ],
   "source": [
    "document1.id"
   ]
  },
  {
   "cell_type": "code",
   "execution_count": 37,
   "id": "9bd8dcfd",
   "metadata": {},
   "outputs": [
    {
     "data": {
      "text/plain": [
       "'Banking Document 1'"
      ]
     },
     "execution_count": 37,
     "metadata": {},
     "output_type": "execute_result"
    }
   ],
   "source": [
    "document1.source"
   ]
  },
  {
   "cell_type": "code",
   "execution_count": 38,
   "id": "5b627dc6",
   "metadata": {},
   "outputs": [
    {
     "data": {
      "text/plain": [
       "[]"
      ]
     },
     "execution_count": 38,
     "metadata": {},
     "output_type": "execute_result"
    }
   ],
   "source": [
    "dm.read_document_longterms(document1.id, session=Depends(get_session))"
   ]
  },
  {
   "cell_type": "code",
   "execution_count": 39,
   "id": "0cfcb2f2",
   "metadata": {},
   "outputs": [
    {
     "data": {
      "text/plain": [
       "[]"
      ]
     },
     "execution_count": 39,
     "metadata": {},
     "output_type": "execute_result"
    }
   ],
   "source": [
    "dm.read_document_jargons(document1.id, session=Depends(get_session))"
   ]
  },
  {
   "cell_type": "markdown",
   "id": "3377eb6d",
   "metadata": {},
   "source": [
    "# CRUD LongTerm"
   ]
  },
  {
   "cell_type": "code",
   "execution_count": 40,
   "id": "9fcb7215",
   "metadata": {},
   "outputs": [],
   "source": [
    "longterm1 = LongTerm(\n",
    "    raw=\"Long-term banking strategy 1\",\n",
    "    meta={\"source\": document1.source},\n",
    "    document_id=document1.id,\n",
    ")\n",
    "\n",
    "longterm2 = LongTerm(\n",
    "    raw=\"Long-term banking strategy 2\", \n",
    "    meta={\"source\": document1.source},\n",
    "    document_id=document1.id,\n",
    ")\n",
    "\n",
    "longterm3 = LongTerm(\n",
    "    raw=\"Long-term banking strategy 3\",\n",
    "    meta={\"source\": document1.source},\n",
    "    document_id=document1.id\n",
    ")\n",
    "\n",
    "lonterms = [longterm1, longterm2, longterm3]\n",
    "\n",
    "ltm = LongTermManagement()\n",
    "\n",
    "ltm.create_raws(lonterms, session=Depends(get_session))"
   ]
  },
  {
   "cell_type": "code",
   "execution_count": 41,
   "id": "ad15e020",
   "metadata": {},
   "outputs": [
    {
     "name": "stderr",
     "output_type": "stream",
     "text": [
      "You're using a XLMRobertaTokenizerFast tokenizer. Please note that with a fast tokenizer, using the `__call__` method is faster than using a method to encode the text followed by a call to the `pad` method to get a padded encoding.\n"
     ]
    }
   ],
   "source": [
    "ltm.embed_texts(embed_method=\"raw\", session=Depends(get_session))"
   ]
  },
  {
   "cell_type": "code",
   "execution_count": 42,
   "id": "9aac10c9",
   "metadata": {},
   "outputs": [
    {
     "data": {
      "text/plain": [
       "[LongTerm(raw_embedding=array([-0.01825556,  0.01347161, -0.06758615, ...,  0.01332633,\n",
       "         0.00471091, -0.01106405], shape=(1024,), dtype=float32), raw='Long-term banking strategy 1', enrich_embedding=None, combo_embedding=None, document_id='ab16f6b1-517b-4ba3-b53e-1cec5f73dbea', updated_at=datetime.datetime(2025, 6, 27, 17, 39, 14, 743688), enrich=None, id='207b2c2a-2315-418a-9a9f-88f220a19566', combo=None, meta={'source': 'Banking Document 1'}, created_at=datetime.datetime(2025, 6, 27, 17, 39, 14, 69708)),\n",
       " LongTerm(raw_embedding=array([-0.03041709,  0.01349799, -0.04512875, ...,  0.01685308,\n",
       "         0.00597456, -0.00661175], shape=(1024,), dtype=float32), raw='Long-term banking strategy 2', enrich_embedding=None, combo_embedding=None, document_id='ab16f6b1-517b-4ba3-b53e-1cec5f73dbea', updated_at=datetime.datetime(2025, 6, 27, 17, 39, 14, 743688), enrich=None, id='331f3cab-4595-454e-8e58-61c63423b80b', combo=None, meta={'source': 'Banking Document 1'}, created_at=datetime.datetime(2025, 6, 27, 17, 39, 14, 69708)),\n",
       " LongTerm(raw_embedding=array([-0.02510237, -0.00119484, -0.05017876, ...,  0.02743   ,\n",
       "        -0.00031769, -0.00217168], shape=(1024,), dtype=float32), raw='Long-term banking strategy 3', enrich_embedding=None, combo_embedding=None, document_id='ab16f6b1-517b-4ba3-b53e-1cec5f73dbea', updated_at=datetime.datetime(2025, 6, 27, 17, 39, 14, 743688), enrich=None, id='192569fc-abc4-4ebf-801e-074246ec2a8e', combo=None, meta={'source': 'Banking Document 1'}, created_at=datetime.datetime(2025, 6, 27, 17, 39, 14, 69708))]"
      ]
     },
     "execution_count": 42,
     "metadata": {},
     "output_type": "execute_result"
    }
   ],
   "source": [
    "ltm.read_similar_text(\n",
    "    \"strategy 1\", \n",
    "    embed_method=\"raw\", \n",
    "    sources=[document1.source, document2.source],\n",
    "    session=Depends(get_session)\n",
    ")"
   ]
  },
  {
   "cell_type": "code",
   "execution_count": 43,
   "id": "1d42dc32",
   "metadata": {},
   "outputs": [
    {
     "data": {
      "text/plain": [
       "[LongTerm(raw_embedding=array([-0.02510237, -0.00119484, -0.05017876, ...,  0.02743   ,\n",
       "        -0.00031769, -0.00217168], shape=(1024,), dtype=float32), raw='Long-term banking strategy 3', enrich_embedding=None, combo_embedding=None, document_id='ab16f6b1-517b-4ba3-b53e-1cec5f73dbea', updated_at=datetime.datetime(2025, 6, 27, 17, 39, 14, 743688), enrich=None, id='192569fc-abc4-4ebf-801e-074246ec2a8e', combo=None, meta={'source': 'Banking Document 1'}, created_at=datetime.datetime(2025, 6, 27, 17, 39, 14, 69708)),\n",
       " LongTerm(raw_embedding=array([-0.01825556,  0.01347161, -0.06758615, ...,  0.01332633,\n",
       "         0.00471091, -0.01106405], shape=(1024,), dtype=float32), raw='Long-term banking strategy 1', enrich_embedding=None, combo_embedding=None, document_id='ab16f6b1-517b-4ba3-b53e-1cec5f73dbea', updated_at=datetime.datetime(2025, 6, 27, 17, 39, 14, 743688), enrich=None, id='207b2c2a-2315-418a-9a9f-88f220a19566', combo=None, meta={'source': 'Banking Document 1'}, created_at=datetime.datetime(2025, 6, 27, 17, 39, 14, 69708)),\n",
       " LongTerm(raw_embedding=array([-0.03041709,  0.01349799, -0.04512875, ...,  0.01685308,\n",
       "         0.00597456, -0.00661175], shape=(1024,), dtype=float32), raw='Long-term banking strategy 2', enrich_embedding=None, combo_embedding=None, document_id='ab16f6b1-517b-4ba3-b53e-1cec5f73dbea', updated_at=datetime.datetime(2025, 6, 27, 17, 39, 14, 743688), enrich=None, id='331f3cab-4595-454e-8e58-61c63423b80b', combo=None, meta={'source': 'Banking Document 1'}, created_at=datetime.datetime(2025, 6, 27, 17, 39, 14, 69708))]"
      ]
     },
     "execution_count": 43,
     "metadata": {},
     "output_type": "execute_result"
    }
   ],
   "source": [
    "dm.read_document_longterms(document1.id, session=Depends(get_session))"
   ]
  },
  {
   "cell_type": "markdown",
   "id": "f0e5879d",
   "metadata": {},
   "source": [
    "# CRUD Jargon"
   ]
  },
  {
   "cell_type": "code",
   "execution_count": 44,
   "id": "1058d27f",
   "metadata": {},
   "outputs": [],
   "source": [
    "jargon1 = Jargon(\n",
    "    term=\"Banking Jargon 1\",\n",
    "    definition=\"Definition of Banking Jargon 1\",\n",
    "    document_id=document1.id,\n",
    "    meta={\"source\": document1.source}\n",
    ")\n",
    "\n",
    "jargon2 = Jargon(\n",
    "    term=\"Banking Jargon 2\",\n",
    "    definition=\"Definition of Banking Jargon 2\",\n",
    "    document_id=document1.id,\n",
    "    meta={\"source\": document1.source}\n",
    ")\n",
    "\n",
    "jargon3 = Jargon(\n",
    "    term=\"Banking Jargon 3\",\n",
    "    definition=\"Definition of Banking Jargon 3\",\n",
    "    document_id=document1.id,\n",
    "    meta={\"source\": document1.source}\n",
    ")\n",
    "\n",
    "jargons = [jargon1, jargon2, jargon3]\n",
    "\n",
    "jm = JargonManagement()\n",
    "jm.create_jargons(jargons, session=Depends(get_session))"
   ]
  },
  {
   "cell_type": "code",
   "execution_count": 45,
   "id": "1b03e8ff",
   "metadata": {},
   "outputs": [
    {
     "data": {
      "text/plain": [
       "[Jargon(term='Banking Jargon 1', definition='Definition of Banking Jargon 1', meta={'source': 'Banking Document 1'}, updated_at=datetime.datetime(2025, 6, 27, 17, 39, 17, 126018), id='083d5420-595f-47a4-aa3b-f1a90414c088', document_id='ab16f6b1-517b-4ba3-b53e-1cec5f73dbea', created_at=datetime.datetime(2025, 6, 27, 17, 39, 17, 126018)),\n",
       " Jargon(term='Banking Jargon 2', definition='Definition of Banking Jargon 2', meta={'source': 'Banking Document 1'}, updated_at=datetime.datetime(2025, 6, 27, 17, 39, 17, 126018), id='22225a79-cb58-4684-ac36-b04432909535', document_id='ab16f6b1-517b-4ba3-b53e-1cec5f73dbea', created_at=datetime.datetime(2025, 6, 27, 17, 39, 17, 126018)),\n",
       " Jargon(term='Banking Jargon 3', definition='Definition of Banking Jargon 3', meta={'source': 'Banking Document 1'}, updated_at=datetime.datetime(2025, 6, 27, 17, 39, 17, 126018), id='cf93e20a-35da-4e0f-b57e-cc5031e2d465', document_id='ab16f6b1-517b-4ba3-b53e-1cec5f73dbea', created_at=datetime.datetime(2025, 6, 27, 17, 39, 17, 126018))]"
      ]
     },
     "execution_count": 45,
     "metadata": {},
     "output_type": "execute_result"
    }
   ],
   "source": [
    "dm.read_document_jargons(document1.id, session=Depends(get_session))"
   ]
  },
  {
   "cell_type": "markdown",
   "id": "c3fa277b",
   "metadata": {},
   "source": [
    "# Clean up"
   ]
  },
  {
   "cell_type": "code",
   "execution_count": 23,
   "id": "77367334",
   "metadata": {},
   "outputs": [
    {
     "name": "stdout",
     "output_type": "stream",
     "text": [
      "✅ All tables dropped.\n"
     ]
    }
   ],
   "source": [
    "from package.databases.destroy import drop_all_tables\n",
    "\n",
    "drop_all_tables()"
   ]
  },
  {
   "cell_type": "code",
   "execution_count": null,
   "id": "c81661a6",
   "metadata": {},
   "outputs": [],
   "source": []
  }
 ],
 "metadata": {
  "kernelspec": {
   "display_name": "backend",
   "language": "python",
   "name": "python3"
  },
  "language_info": {
   "codemirror_mode": {
    "name": "ipython",
    "version": 3
   },
   "file_extension": ".py",
   "mimetype": "text/x-python",
   "name": "python",
   "nbconvert_exporter": "python",
   "pygments_lexer": "ipython3",
   "version": "3.11.11"
  }
 },
 "nbformat": 4,
 "nbformat_minor": 5
}
